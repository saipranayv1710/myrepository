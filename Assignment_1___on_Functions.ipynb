{
  "nbformat": 4,
  "nbformat_minor": 0,
  "metadata": {
    "kernelspec": {
      "display_name": "Python 3 (Intel, 2019 update 2)",
      "language": "python",
      "name": "c009-intel_distribution_of_python_3_2019u2"
    },
    "language_info": {
      "codemirror_mode": {
        "name": "ipython",
        "version": 3
      },
      "file_extension": ".py",
      "mimetype": "text/x-python",
      "name": "python",
      "nbconvert_exporter": "python",
      "pygments_lexer": "ipython3",
      "version": "3.6.8"
    },
    "colab": {
      "name": "Assignment_1_--_on_Functions.ipynb",
      "provenance": [],
      "collapsed_sections": [],
      "toc_visible": true
    }
  },
  "cells": [
    {
      "cell_type": "markdown",
      "metadata": {
        "id": "knXPjXW1n_gC",
        "colab_type": "text"
      },
      "source": [
        "#######Prime number till N natural numbers"
      ]
    },
    {
      "cell_type": "code",
      "metadata": {
        "id": "q9VX3VXin_gF",
        "colab_type": "code",
        "colab": {}
      },
      "source": [
        "#Func to find prime numbers till N - natural numbers \n",
        "def prime_N(N):\n",
        "    \n",
        "    primelist_N = []\n",
        "    #N =56\n",
        "    for num in range(2,N+1):\n",
        "        flag=0\n",
        "        for x in range(2,int(num/2)+1):\n",
        "            if num%x == 0:\n",
        "                flag+=1\n",
        "                break\n",
        "        if flag ==0:\n",
        "            primelist_N.append(num)\n",
        "            #print(num)\n",
        "    return primelist_N"
      ],
      "execution_count": 0,
      "outputs": []
    },
    {
      "cell_type": "code",
      "metadata": {
        "id": "b2QXVuewn_gQ",
        "colab_type": "code",
        "outputId": "f823ef5f-ab64-4b18-8c16-fcc1fcb383fe",
        "colab": {
          "base_uri": "https://localhost:8080/",
          "height": 34
        }
      },
      "source": [
        "prime_N(50)"
      ],
      "execution_count": 2,
      "outputs": [
        {
          "output_type": "execute_result",
          "data": {
            "text/plain": [
              "[2, 3, 5, 7, 11, 13, 17, 19, 23, 29, 31, 37, 41, 43, 47]"
            ]
          },
          "metadata": {
            "tags": []
          },
          "execution_count": 2
        }
      ]
    },
    {
      "cell_type": "markdown",
      "metadata": {
        "id": "ldhJfp1Gn_gZ",
        "colab_type": "text"
      },
      "source": [
        "######### N - factorial function"
      ]
    },
    {
      "cell_type": "code",
      "metadata": {
        "id": "wLf22nxwn_ga",
        "colab_type": "code",
        "colab": {}
      },
      "source": [
        "#Factorial function\n",
        "def factorial(N):\n",
        "    fact =1\n",
        "    while N >=1:\n",
        "        fact = fact*N\n",
        "        N-=1\n",
        "    return fact"
      ],
      "execution_count": 0,
      "outputs": []
    },
    {
      "cell_type": "code",
      "metadata": {
        "id": "qbpwJHKln_gi",
        "colab_type": "code",
        "outputId": "b45b0ab0-9d42-456a-a25d-21074fb84eac",
        "colab": {
          "base_uri": "https://localhost:8080/",
          "height": 34
        }
      },
      "source": [
        "factorial(10)"
      ],
      "execution_count": 4,
      "outputs": [
        {
          "output_type": "execute_result",
          "data": {
            "text/plain": [
              "3628800"
            ]
          },
          "metadata": {
            "tags": []
          },
          "execution_count": 4
        }
      ]
    },
    {
      "cell_type": "code",
      "metadata": {
        "id": "T40qt_Pmn_gp",
        "colab_type": "code",
        "colab": {}
      },
      "source": [
        ""
      ],
      "execution_count": 0,
      "outputs": []
    },
    {
      "cell_type": "code",
      "metadata": {
        "id": "wGKpkcI6n_gy",
        "colab_type": "code",
        "colab": {}
      },
      "source": [
        ""
      ],
      "execution_count": 0,
      "outputs": []
    },
    {
      "cell_type": "markdown",
      "metadata": {
        "id": "7aJVHk2jn_g5",
        "colab_type": "text"
      },
      "source": [
        "# Assignment 1"
      ]
    },
    {
      "cell_type": "markdown",
      "metadata": {
        "id": "rluEtUwjn_g7",
        "colab_type": "text"
      },
      "source": [
        "##Problem 1: N -table"
      ]
    },
    {
      "cell_type": "code",
      "metadata": {
        "id": "iIdQM60Tn_g8",
        "colab_type": "code",
        "colab": {}
      },
      "source": [
        "#Question 1\n",
        "\n",
        "def table(num,start,end):\n",
        "    for i in range(start,end+1):\n",
        "        print('{n} * {i} = {res}'.format(n = num,i = i,res = num*i))"
      ],
      "execution_count": 0,
      "outputs": []
    },
    {
      "cell_type": "code",
      "metadata": {
        "id": "cWjuyGnTn_hE",
        "colab_type": "code",
        "outputId": "780a43a2-6c97-4de1-afa9-e4e444e1db60",
        "colab": {
          "base_uri": "https://localhost:8080/",
          "height": 269
        }
      },
      "source": [
        "#table(num,from_num,to_num)\n",
        "table(2,1,15)"
      ],
      "execution_count": 6,
      "outputs": [
        {
          "output_type": "stream",
          "text": [
            "2 * 1 = 2\n",
            "2 * 2 = 4\n",
            "2 * 3 = 6\n",
            "2 * 4 = 8\n",
            "2 * 5 = 10\n",
            "2 * 6 = 12\n",
            "2 * 7 = 14\n",
            "2 * 8 = 16\n",
            "2 * 9 = 18\n",
            "2 * 10 = 20\n",
            "2 * 11 = 22\n",
            "2 * 12 = 24\n",
            "2 * 13 = 26\n",
            "2 * 14 = 28\n",
            "2 * 15 = 30\n"
          ],
          "name": "stdout"
        }
      ]
    },
    {
      "cell_type": "code",
      "metadata": {
        "id": "0iwRdkgTn_hK",
        "colab_type": "code",
        "colab": {}
      },
      "source": [
        ""
      ],
      "execution_count": 0,
      "outputs": []
    },
    {
      "cell_type": "markdown",
      "metadata": {
        "id": "PMlJY-jgn_hT",
        "colab_type": "text"
      },
      "source": [
        "## Problem 2: Twin primes"
      ]
    },
    {
      "cell_type": "code",
      "metadata": {
        "id": "zU-Nutbcn_hU",
        "colab_type": "code",
        "colab": {}
      },
      "source": [
        "# step 1 Prime number Func\n",
        "\n",
        "#checking prime or not ; if prime return TRUE else FALSE\n",
        "def prime_check(num):\n",
        "    \n",
        "    flag = 0\n",
        "\n",
        "    if num ==1:\n",
        "      return False\n",
        "      \n",
        "    for x in range(2,round(num/2) + 1):\n",
        "        if num%x == 0:\n",
        "            flag+=1\n",
        "            break\n",
        "    if flag == 0:\n",
        "        return True\n",
        "    else:\n",
        "        return False\n"
      ],
      "execution_count": 0,
      "outputs": []
    },
    {
      "cell_type": "code",
      "metadata": {
        "id": "YVGQgWXaqv3j",
        "colab_type": "code",
        "outputId": "207bc7c5-106b-4503-faa8-b22cc25343f6",
        "colab": {
          "base_uri": "https://localhost:8080/",
          "height": 84
        }
      },
      "source": [
        "print(prime_check(12))\n",
        "print(prime_check(13))\n",
        "print(prime_check(2))  #even prime\n",
        "print(prime_check(1))  #1 is niether prime nor composite So, here we are treating 1 as composite so that it fails for twin primes"
      ],
      "execution_count": 8,
      "outputs": [
        {
          "output_type": "stream",
          "text": [
            "False\n",
            "True\n",
            "True\n",
            "False\n"
          ],
          "name": "stdout"
        }
      ]
    },
    {
      "cell_type": "code",
      "metadata": {
        "id": "uyUT9azAn_hb",
        "colab_type": "code",
        "outputId": "99442a49-3354-4d10-bf05-a03c3e140326",
        "colab": {
          "base_uri": "https://localhost:8080/",
          "height": 605
        }
      },
      "source": [
        "# step 2 for checking twin Primes\n",
        "number = 1000\n",
        "odd_list = [x for x in range(1,number,2)]\n",
        "num = int(number/2) \n",
        "\n",
        "for i in range(num - 1):\n",
        "    #num -1 for last index \n",
        "    if (prime_check(odd_list[i]) and prime_check(odd_list[i+1])):\n",
        "        print(odd_list[i] , odd_list[i+1])"
      ],
      "execution_count": 9,
      "outputs": [
        {
          "output_type": "stream",
          "text": [
            "3 5\n",
            "5 7\n",
            "11 13\n",
            "17 19\n",
            "29 31\n",
            "41 43\n",
            "59 61\n",
            "71 73\n",
            "101 103\n",
            "107 109\n",
            "137 139\n",
            "149 151\n",
            "179 181\n",
            "191 193\n",
            "197 199\n",
            "227 229\n",
            "239 241\n",
            "269 271\n",
            "281 283\n",
            "311 313\n",
            "347 349\n",
            "419 421\n",
            "431 433\n",
            "461 463\n",
            "521 523\n",
            "569 571\n",
            "599 601\n",
            "617 619\n",
            "641 643\n",
            "659 661\n",
            "809 811\n",
            "821 823\n",
            "827 829\n",
            "857 859\n",
            "881 883\n"
          ],
          "name": "stdout"
        }
      ]
    },
    {
      "cell_type": "code",
      "metadata": {
        "id": "oA_vLXngn_hn",
        "colab_type": "code",
        "colab": {}
      },
      "source": [
        ""
      ],
      "execution_count": 0,
      "outputs": []
    },
    {
      "cell_type": "markdown",
      "metadata": {
        "id": "X2FmXv-Un_hs",
        "colab_type": "text"
      },
      "source": [
        "##Problem 3: prime factorisation "
      ]
    },
    {
      "cell_type": "code",
      "metadata": {
        "id": "jNWtjRG5n_hu",
        "colab_type": "code",
        "colab": {}
      },
      "source": [
        "#Func to find prime numbers till N - natural numbers -- \n",
        "\n",
        "def prime_N(N):\n",
        "    \n",
        "    primelist_N = []\n",
        "    #N =56\n",
        "    for num in range(2,N+1):\n",
        "        flag=0\n",
        "        for x in range(2,int(num/2)+1):\n",
        "            if num%x == 0:\n",
        "                flag+=1\n",
        "                break\n",
        "        if flag ==0:\n",
        "            primelist_N.append(num)\n",
        "            #print(num)\n",
        "    return primelist_N"
      ],
      "execution_count": 0,
      "outputs": []
    },
    {
      "cell_type": "code",
      "metadata": {
        "id": "Qyq84X-nn_h1",
        "colab_type": "code",
        "outputId": "31d3fee8-99db-4136-9159-c2d14e3ce76c",
        "colab": {
          "base_uri": "https://localhost:8080/",
          "height": 34
        }
      },
      "source": [
        "prime_N(56)"
      ],
      "execution_count": 11,
      "outputs": [
        {
          "output_type": "execute_result",
          "data": {
            "text/plain": [
              "[2, 3, 5, 7, 11, 13, 17, 19, 23, 29, 31, 37, 41, 43, 47, 53]"
            ]
          },
          "metadata": {
            "tags": []
          },
          "execution_count": 11
        }
      ]
    },
    {
      "cell_type": "code",
      "metadata": {
        "id": "TnEIl5ezn_h6",
        "colab_type": "code",
        "colab": {}
      },
      "source": [
        "def all_prime_factors(numerator):\n",
        "    L=[]\n",
        "    prime_factors = [x for x in prime_N(numerator) if numerator%x == 0]\n",
        "    for x in prime_factors:\n",
        "\n",
        "        while numerator%x==0:\n",
        "            numerator = numerator/x\n",
        "            L.append(x)\n",
        "    return L"
      ],
      "execution_count": 0,
      "outputs": []
    },
    {
      "cell_type": "code",
      "metadata": {
        "id": "BjOj1cLbn_iA",
        "colab_type": "code",
        "outputId": "0a6f8e2d-f2dd-4962-f8fb-5126ff264228",
        "colab": {
          "base_uri": "https://localhost:8080/",
          "height": 34
        }
      },
      "source": [
        "all_prime_factors(56)"
      ],
      "execution_count": 13,
      "outputs": [
        {
          "output_type": "execute_result",
          "data": {
            "text/plain": [
              "[2, 2, 2, 7]"
            ]
          },
          "metadata": {
            "tags": []
          },
          "execution_count": 13
        }
      ]
    },
    {
      "cell_type": "code",
      "metadata": {
        "id": "9x6GmuBEn_iN",
        "colab_type": "code",
        "outputId": "62e623c6-4e7f-4f6c-f0c3-1f18bd8d41fc",
        "colab": {
          "base_uri": "https://localhost:8080/",
          "height": 34
        }
      },
      "source": [
        "all_prime_factors(100)"
      ],
      "execution_count": 14,
      "outputs": [
        {
          "output_type": "execute_result",
          "data": {
            "text/plain": [
              "[2, 2, 5, 5]"
            ]
          },
          "metadata": {
            "tags": []
          },
          "execution_count": 14
        }
      ]
    },
    {
      "cell_type": "code",
      "metadata": {
        "id": "Oz12TMG1n_iT",
        "colab_type": "code",
        "colab": {}
      },
      "source": [
        ""
      ],
      "execution_count": 0,
      "outputs": []
    },
    {
      "cell_type": "markdown",
      "metadata": {
        "id": "QWgoXZPOn_iZ",
        "colab_type": "text"
      },
      "source": [
        "## Problem 4: Permutations & Combinations"
      ]
    },
    {
      "cell_type": "code",
      "metadata": {
        "id": "6RmWQutBn_ia",
        "colab_type": "code",
        "colab": {}
      },
      "source": [
        "#Factorial function\n",
        "def factorial(N):\n",
        "    fact =1\n",
        "    while N >=1:\n",
        "        fact = fact*N\n",
        "        N-=1\n",
        "    return fact"
      ],
      "execution_count": 0,
      "outputs": []
    },
    {
      "cell_type": "code",
      "metadata": {
        "id": "iHtn0-onn_if",
        "colab_type": "code",
        "colab": {}
      },
      "source": [
        "# Type 1 ---> Permutation using the Factorial function\n",
        "def permuation(n,r):\n",
        "    res = int(factorial(n)/factorial(n-r))\n",
        "    return res\n",
        "    "
      ],
      "execution_count": 0,
      "outputs": []
    },
    {
      "cell_type": "code",
      "metadata": {
        "id": "LBKOguBon_ik",
        "colab_type": "code",
        "outputId": "e7d75aca-33dc-4f9a-ab0c-cc0381856ccf",
        "colab": {
          "base_uri": "https://localhost:8080/",
          "height": 34
        }
      },
      "source": [
        "permuation(7,3)"
      ],
      "execution_count": 17,
      "outputs": [
        {
          "output_type": "execute_result",
          "data": {
            "text/plain": [
              "210"
            ]
          },
          "metadata": {
            "tags": []
          },
          "execution_count": 17
        }
      ]
    },
    {
      "cell_type": "code",
      "metadata": {
        "id": "1YYTxyxjn_iq",
        "colab_type": "code",
        "colab": {}
      },
      "source": [
        "#Type 2 to calulate permuatatiom\n",
        "# 7p3 means 7*6*5\n",
        "def permutation_2(n,r):\n",
        "\n",
        "    res = 1\n",
        "    for x in range(r):\n",
        "        res = res*n\n",
        "        n-=1\n",
        "    return res"
      ],
      "execution_count": 0,
      "outputs": []
    },
    {
      "cell_type": "code",
      "metadata": {
        "id": "dKt_6zVTn_iz",
        "colab_type": "code",
        "outputId": "22fb833a-2c44-4432-b1c0-e40425e1d8e1",
        "colab": {
          "base_uri": "https://localhost:8080/",
          "height": 34
        }
      },
      "source": [
        "permutation_2(7,3)"
      ],
      "execution_count": 19,
      "outputs": [
        {
          "output_type": "execute_result",
          "data": {
            "text/plain": [
              "210"
            ]
          },
          "metadata": {
            "tags": []
          },
          "execution_count": 19
        }
      ]
    },
    {
      "cell_type": "code",
      "metadata": {
        "id": "BGl0feRqn_i_",
        "colab_type": "code",
        "colab": {}
      },
      "source": [
        ""
      ],
      "execution_count": 0,
      "outputs": []
    },
    {
      "cell_type": "code",
      "metadata": {
        "id": "lWYLJCtvn_jH",
        "colab_type": "code",
        "colab": {}
      },
      "source": [
        "#Combination nCr\n",
        "def combination(n,r):\n",
        "    res = int(factorial(n)/(factorial(r)*factorial(n-r)))\n",
        "    return res"
      ],
      "execution_count": 0,
      "outputs": []
    },
    {
      "cell_type": "code",
      "metadata": {
        "id": "B3POhRrwn_jL",
        "colab_type": "code",
        "outputId": "10d45382-f3e2-4234-9c16-d8f7af8d2c4a",
        "colab": {
          "base_uri": "https://localhost:8080/",
          "height": 34
        }
      },
      "source": [
        "combination(5,2)"
      ],
      "execution_count": 21,
      "outputs": [
        {
          "output_type": "execute_result",
          "data": {
            "text/plain": [
              "10"
            ]
          },
          "metadata": {
            "tags": []
          },
          "execution_count": 21
        }
      ]
    },
    {
      "cell_type": "code",
      "metadata": {
        "id": "JQJktHbRn_jQ",
        "colab_type": "code",
        "colab": {}
      },
      "source": [
        ""
      ],
      "execution_count": 0,
      "outputs": []
    },
    {
      "cell_type": "markdown",
      "metadata": {
        "id": "A1-FyJL7n_jV",
        "colab_type": "text"
      },
      "source": [
        "##Problem 5: Convert a number from decimal to binary \n"
      ]
    },
    {
      "cell_type": "code",
      "metadata": {
        "id": "B9AS9h4Yn_je",
        "colab_type": "code",
        "colab": {}
      },
      "source": [
        "def dec_to_binary(num):\n",
        "    \n",
        "    L =[]\n",
        "    while int(num/2) != 0:\n",
        "        L.append(num%2)\n",
        "        num  = int(num/2)\n",
        "\n",
        "    L.append(1)\n",
        "    L = L[::-1]\n",
        "    L = list(map(str, L))\n",
        "    return int(''.join(L))"
      ],
      "execution_count": 0,
      "outputs": []
    },
    {
      "cell_type": "code",
      "metadata": {
        "id": "asRPydiBn_ji",
        "colab_type": "code",
        "outputId": "debfc920-9d81-435a-be60-919330eb161f",
        "colab": {
          "base_uri": "https://localhost:8080/",
          "height": 34
        }
      },
      "source": [
        "dec_to_binary(14)"
      ],
      "execution_count": 23,
      "outputs": [
        {
          "output_type": "execute_result",
          "data": {
            "text/plain": [
              "1110"
            ]
          },
          "metadata": {
            "tags": []
          },
          "execution_count": 23
        }
      ]
    },
    {
      "cell_type": "code",
      "metadata": {
        "id": "005u71LDn_jq",
        "colab_type": "code",
        "outputId": "d8d162b0-b6f2-4dd5-f632-7e30f72d0cfd",
        "colab": {
          "base_uri": "https://localhost:8080/",
          "height": 34
        }
      },
      "source": [
        "dec_to_binary(20)"
      ],
      "execution_count": 24,
      "outputs": [
        {
          "output_type": "execute_result",
          "data": {
            "text/plain": [
              "10100"
            ]
          },
          "metadata": {
            "tags": []
          },
          "execution_count": 24
        }
      ]
    },
    {
      "cell_type": "markdown",
      "metadata": {
        "id": "2ioIcuY8n_jx",
        "colab_type": "text"
      },
      "source": [
        "##Problem 6.To check Armstrong number"
      ]
    },
    {
      "cell_type": "code",
      "metadata": {
        "id": "UcrEOTT7n_jy",
        "colab_type": "code",
        "colab": {}
      },
      "source": [
        "#Function to find cube of number\n",
        "def cubesum(num):\n",
        "    res =0\n",
        "    for ele in map(int,list(str(num))):\n",
        "        res = res + (ele**3) \n",
        "    return res"
      ],
      "execution_count": 0,
      "outputs": []
    },
    {
      "cell_type": "code",
      "metadata": {
        "id": "iC29ol99n_j5",
        "colab_type": "code",
        "colab": {}
      },
      "source": [
        "#Armstrong number function\n",
        "def isArmstrong(num):\n",
        "    if cubesum(num) == num:\n",
        "        return True\n",
        "    else:\n",
        "        return False"
      ],
      "execution_count": 0,
      "outputs": []
    },
    {
      "cell_type": "code",
      "metadata": {
        "id": "Ny-SrOdGn_j-",
        "colab_type": "code",
        "outputId": "d4b05403-c114-4ac3-d51a-8c75d852b1f4",
        "colab": {
          "base_uri": "https://localhost:8080/",
          "height": 34
        }
      },
      "source": [
        "isArmstrong(153)"
      ],
      "execution_count": 27,
      "outputs": [
        {
          "output_type": "execute_result",
          "data": {
            "text/plain": [
              "True"
            ]
          },
          "metadata": {
            "tags": []
          },
          "execution_count": 27
        }
      ]
    },
    {
      "cell_type": "code",
      "metadata": {
        "id": "2myxcybnn_kI",
        "colab_type": "code",
        "outputId": "5c1a6d01-3309-4bff-b2fb-627f7ea898d2",
        "colab": {
          "base_uri": "https://localhost:8080/",
          "height": 34
        }
      },
      "source": [
        "cubesum(111)"
      ],
      "execution_count": 28,
      "outputs": [
        {
          "output_type": "execute_result",
          "data": {
            "text/plain": [
              "3"
            ]
          },
          "metadata": {
            "tags": []
          },
          "execution_count": 28
        }
      ]
    },
    {
      "cell_type": "code",
      "metadata": {
        "id": "IcxAA_aen_kO",
        "colab_type": "code",
        "colab": {}
      },
      "source": [
        "# Pgm To print Armstong numbers below N natral numbers\n",
        "def armstrong_N(num):\n",
        "    L =[]\n",
        "    for x in range(num+1):\n",
        "        if isArmstrong(x):\n",
        "            L.append(x)\n",
        "    return L"
      ],
      "execution_count": 0,
      "outputs": []
    },
    {
      "cell_type": "code",
      "metadata": {
        "id": "jruB8ABrn_kV",
        "colab_type": "code",
        "outputId": "bb223575-fb44-4de1-d7e6-2d95ac4800ee",
        "colab": {
          "base_uri": "https://localhost:8080/",
          "height": 34
        }
      },
      "source": [
        "armstrong_N(1000)"
      ],
      "execution_count": 30,
      "outputs": [
        {
          "output_type": "execute_result",
          "data": {
            "text/plain": [
              "[0, 1, 153, 370, 371, 407]"
            ]
          },
          "metadata": {
            "tags": []
          },
          "execution_count": 30
        }
      ]
    },
    {
      "cell_type": "markdown",
      "metadata": {
        "id": "7aeCrrMmn_kk",
        "colab_type": "text"
      },
      "source": [
        "##Problem 7. product of digits of a number"
      ]
    },
    {
      "cell_type": "code",
      "metadata": {
        "id": "vXB1EpURn_kl",
        "colab_type": "code",
        "colab": {}
      },
      "source": [
        "def prodDigits(num):\n",
        "    res = 1\n",
        "    for ele in map(int,list(str(num))):\n",
        "        res = res * ele\n",
        "    return res"
      ],
      "execution_count": 0,
      "outputs": []
    },
    {
      "cell_type": "code",
      "metadata": {
        "id": "GCmv9ITLn_kv",
        "colab_type": "code",
        "outputId": "5803bccc-aae6-4145-9a57-e120664a9b1c",
        "colab": {
          "base_uri": "https://localhost:8080/",
          "height": 34
        }
      },
      "source": [
        "prodDigits(156)"
      ],
      "execution_count": 32,
      "outputs": [
        {
          "output_type": "execute_result",
          "data": {
            "text/plain": [
              "30"
            ]
          },
          "metadata": {
            "tags": []
          },
          "execution_count": 32
        }
      ]
    },
    {
      "cell_type": "code",
      "metadata": {
        "id": "ylh9LBpgn_lB",
        "colab_type": "code",
        "colab": {}
      },
      "source": [
        "\"\"\" 8. If all digits of a number n are multiplied by each other repeating with the product,\n",
        "the one digit number obtained at last is called the multiplicative digital root of n. \n",
        "The number of times digits need to be multiplied to reach one digit is called the multiplicative persistance of n. \n",
        "Example: 86 -> 48 -> 32 -> 6 (MDR 6, MPersistence 3)               \n",
        "        341 -> 12->2           (MDR 2, MPersistence 2) \n",
        "        Using the function prodDigits() of previous exercise write functions MDR() \n",
        "        and MPersistence() that input a number and \n",
        "        return its multiplicative digital root and multiplicative persistence respectively \"\"\""
      ],
      "execution_count": 0,
      "outputs": []
    },
    {
      "cell_type": "code",
      "metadata": {
        "id": "epmYqDSyn_lL",
        "colab_type": "code",
        "colab": {}
      },
      "source": [
        "def mdr_mPersistence(num):\n",
        "    i=0\n",
        "    while num >10:\n",
        "        num = prodDigits(num)\n",
        "        i+=1\n",
        "    return num,i"
      ],
      "execution_count": 0,
      "outputs": []
    },
    {
      "cell_type": "code",
      "metadata": {
        "id": "KzP8Aw3Hn_lQ",
        "colab_type": "code",
        "outputId": "23ef0c03-56cb-4487-9db7-b226034dcc46",
        "colab": {
          "base_uri": "https://localhost:8080/",
          "height": 34
        }
      },
      "source": [
        "mdr_mPersistence(86)"
      ],
      "execution_count": 35,
      "outputs": [
        {
          "output_type": "execute_result",
          "data": {
            "text/plain": [
              "(6, 3)"
            ]
          },
          "metadata": {
            "tags": []
          },
          "execution_count": 35
        }
      ]
    },
    {
      "cell_type": "code",
      "metadata": {
        "id": "Cs0HI91Cn_lY",
        "colab_type": "code",
        "outputId": "f7657804-7be7-40c2-b761-a4d4ec6846e8",
        "colab": {
          "base_uri": "https://localhost:8080/",
          "height": 34
        }
      },
      "source": [
        "mdr_mPersistence(341)"
      ],
      "execution_count": 36,
      "outputs": [
        {
          "output_type": "execute_result",
          "data": {
            "text/plain": [
              "(2, 2)"
            ]
          },
          "metadata": {
            "tags": []
          },
          "execution_count": 36
        }
      ]
    },
    {
      "cell_type": "code",
      "metadata": {
        "id": "60Zm1KMDn_le",
        "colab_type": "code",
        "colab": {}
      },
      "source": [
        ""
      ],
      "execution_count": 0,
      "outputs": []
    },
    {
      "cell_type": "markdown",
      "metadata": {
        "id": "NfcGys_tn_li",
        "colab_type": "text"
      },
      "source": [
        "## Problem 9"
      ]
    },
    {
      "cell_type": "code",
      "metadata": {
        "id": "l9Ccjjdbn_ll",
        "colab_type": "code",
        "colab": {}
      },
      "source": [
        "\"\"\"9. Write a function sumPdivisors() that finds the sum of proper divisors of a number. \n",
        "Proper divisors of a number are those numbers by which the number is divisible, except the number itself.\n",
        "For example proper divisors of 36 are 1, 2, 3, 4, 6, 9, 18 \"\"\""
      ],
      "execution_count": 0,
      "outputs": []
    },
    {
      "cell_type": "code",
      "metadata": {
        "id": "k7nol23hn_lr",
        "colab_type": "code",
        "colab": {}
      },
      "source": [
        "def sumPdivisors(num):\n",
        "    L = [x for x in range(1,int(num/2) + 1) if num%x == 0]\n",
        "    return sum(L)"
      ],
      "execution_count": 0,
      "outputs": []
    },
    {
      "cell_type": "code",
      "metadata": {
        "id": "pqLoV6lQn_lz",
        "colab_type": "code",
        "outputId": "5b826374-cac8-4234-f01f-88a936b4d22a",
        "colab": {
          "base_uri": "https://localhost:8080/",
          "height": 34
        }
      },
      "source": [
        "sumPdivisors(12)"
      ],
      "execution_count": 39,
      "outputs": [
        {
          "output_type": "execute_result",
          "data": {
            "text/plain": [
              "16"
            ]
          },
          "metadata": {
            "tags": []
          },
          "execution_count": 39
        }
      ]
    },
    {
      "cell_type": "markdown",
      "metadata": {
        "id": "U9mLoW0Jn_l6",
        "colab_type": "text"
      },
      "source": [
        "## Problem 10"
      ]
    },
    {
      "cell_type": "code",
      "metadata": {
        "id": "2PsbwJGLn_l8",
        "colab_type": "code",
        "colab": {}
      },
      "source": [
        "\"\"\"10.A number is called perfect if the sum of proper divisors of that number is equal to the number.\n",
        "For example 28 is perfect number, since 1+2+4+7+14=28. \n",
        "Write a program to print all the perfect numbers in a given range \"\"\""
      ],
      "execution_count": 0,
      "outputs": []
    },
    {
      "cell_type": "code",
      "metadata": {
        "id": "etlyE7F_n_mN",
        "colab_type": "code",
        "colab": {}
      },
      "source": [
        "def isPerfect(num):\n",
        "    if sumPdivisors(num) == num:\n",
        "        return True\n",
        "    else:\n",
        "        return False"
      ],
      "execution_count": 0,
      "outputs": []
    },
    {
      "cell_type": "code",
      "metadata": {
        "id": "E3IW2gIRn_mQ",
        "colab_type": "code",
        "outputId": "7bc977e5-903d-402d-ce86-c8751a08f61a",
        "colab": {
          "base_uri": "https://localhost:8080/",
          "height": 34
        }
      },
      "source": [
        "isPerfect(28)"
      ],
      "execution_count": 42,
      "outputs": [
        {
          "output_type": "execute_result",
          "data": {
            "text/plain": [
              "True"
            ]
          },
          "metadata": {
            "tags": []
          },
          "execution_count": 42
        }
      ]
    },
    {
      "cell_type": "code",
      "metadata": {
        "id": "XKXFgmNhn_mU",
        "colab_type": "code",
        "outputId": "9a187851-5a7d-4fbb-8433-b1881d65277c",
        "colab": {
          "base_uri": "https://localhost:8080/",
          "height": 34
        }
      },
      "source": [
        "isPerfect(26)"
      ],
      "execution_count": 43,
      "outputs": [
        {
          "output_type": "execute_result",
          "data": {
            "text/plain": [
              "False"
            ]
          },
          "metadata": {
            "tags": []
          },
          "execution_count": 43
        }
      ]
    },
    {
      "cell_type": "code",
      "metadata": {
        "id": "zLjySJXYn_mY",
        "colab_type": "code",
        "colab": {}
      },
      "source": [
        "#print perfect numbers of ceratin range from 0 - num \n",
        "\n",
        "def isPerfect_N(num):\n",
        "    L = []\n",
        "    for x in range(1,num+1):\n",
        "        #print(x)\n",
        "        if isPerfect(x):\n",
        "            L.append(x)\n",
        "    return L\n",
        "        "
      ],
      "execution_count": 0,
      "outputs": []
    },
    {
      "cell_type": "code",
      "metadata": {
        "id": "N8INtu7Fn_ma",
        "colab_type": "code",
        "outputId": "f21f0cf7-0bc7-4aaf-96c2-bed266690859",
        "colab": {
          "base_uri": "https://localhost:8080/",
          "height": 34
        }
      },
      "source": [
        "isPerfect_N(100)"
      ],
      "execution_count": 45,
      "outputs": [
        {
          "output_type": "execute_result",
          "data": {
            "text/plain": [
              "[6, 28]"
            ]
          },
          "metadata": {
            "tags": []
          },
          "execution_count": 45
        }
      ]
    },
    {
      "cell_type": "code",
      "metadata": {
        "id": "HZvLlU_9n_me",
        "colab_type": "code",
        "colab": {}
      },
      "source": [
        ""
      ],
      "execution_count": 0,
      "outputs": []
    },
    {
      "cell_type": "markdown",
      "metadata": {
        "id": "k40lAX7tn_mh",
        "colab_type": "text"
      },
      "source": [
        "## Problem 11"
      ]
    },
    {
      "cell_type": "code",
      "metadata": {
        "id": "1FdEsNtLn_mi",
        "colab_type": "code",
        "colab": {}
      },
      "source": [
        "\"\"\" \n",
        "Two different numbers are called amicable numbers if the sum of the proper divisors of each is equal to the other number. \n",
        "For example 220 and 284 are amicable numbers.\n",
        "Sum of proper divisors of 220 = 1+2+4+5+10+11+20+22+44+55+110 = 284 \n",
        "Sum of proper divisors of 284 = 1+2+4+71+142 = 220 \n",
        "Write a function to print pairs of amicable numbers in a range\n",
        "\"\"\""
      ],
      "execution_count": 0,
      "outputs": []
    },
    {
      "cell_type": "code",
      "metadata": {
        "id": "-XLSegxKn_mm",
        "colab_type": "code",
        "colab": {}
      },
      "source": [
        "def amicable_btw_p_and_q(p,q):\n",
        "    L =[]\n",
        "    L = [(x,sumPdivisors(x))  for x in range(p,q+1)]\n",
        "    for x,y in L:\n",
        "        if (y,x) in L:\n",
        "            print((x,y))"
      ],
      "execution_count": 0,
      "outputs": []
    },
    {
      "cell_type": "code",
      "metadata": {
        "id": "_ip1wd5Un_mr",
        "colab_type": "code",
        "outputId": "722f011b-437a-43c4-f8cb-53e7d848d96a",
        "colab": {
          "base_uri": "https://localhost:8080/",
          "height": 50
        }
      },
      "source": [
        "amicable_btw_p_and_q(200,300)"
      ],
      "execution_count": 48,
      "outputs": [
        {
          "output_type": "stream",
          "text": [
            "(220, 284)\n",
            "(284, 220)\n"
          ],
          "name": "stdout"
        }
      ]
    },
    {
      "cell_type": "code",
      "metadata": {
        "id": "xNfJNV9In_mw",
        "colab_type": "code",
        "colab": {}
      },
      "source": [
        ""
      ],
      "execution_count": 0,
      "outputs": []
    },
    {
      "cell_type": "markdown",
      "metadata": {
        "id": "p6S_iUmCn_m0",
        "colab_type": "text"
      },
      "source": [
        "## Problem 12"
      ]
    },
    {
      "cell_type": "code",
      "metadata": {
        "id": "eO1DH38zn_m0",
        "colab_type": "code",
        "colab": {
          "base_uri": "https://localhost:8080/",
          "height": 34
        },
        "outputId": "d35ab20e-eca9-40fc-96c3-93d1385e711a"
      },
      "source": [
        "\"\"\" Write a program which can filter odd numbers in a list by using filter function \"\"\""
      ],
      "execution_count": 49,
      "outputs": [
        {
          "output_type": "execute_result",
          "data": {
            "text/plain": [
              "' Write a program which can filter odd numbers in a list by using filter function '"
            ]
          },
          "metadata": {
            "tags": []
          },
          "execution_count": 49
        }
      ]
    },
    {
      "cell_type": "code",
      "metadata": {
        "id": "Moh5rKAQn_m1",
        "colab_type": "code",
        "colab": {}
      },
      "source": [
        "L = list(range(1,11))"
      ],
      "execution_count": 0,
      "outputs": []
    },
    {
      "cell_type": "code",
      "metadata": {
        "id": "5cwp5bcQn_m3",
        "colab_type": "code",
        "outputId": "116d22f3-b2d7-442d-82b6-d993a6a8b47f",
        "colab": {
          "base_uri": "https://localhost:8080/",
          "height": 34
        }
      },
      "source": [
        "L"
      ],
      "execution_count": 51,
      "outputs": [
        {
          "output_type": "execute_result",
          "data": {
            "text/plain": [
              "[1, 2, 3, 4, 5, 6, 7, 8, 9, 10]"
            ]
          },
          "metadata": {
            "tags": []
          },
          "execution_count": 51
        }
      ]
    },
    {
      "cell_type": "code",
      "metadata": {
        "id": "UtQEmAiLn_m5",
        "colab_type": "code",
        "colab": {}
      },
      "source": [
        "odd_L = filter(lambda x:x%2 != 0, L)"
      ],
      "execution_count": 0,
      "outputs": []
    },
    {
      "cell_type": "code",
      "metadata": {
        "id": "jQyokTAyn_m7",
        "colab_type": "code",
        "outputId": "24bd21ef-0813-47e7-83f9-f83fbdced7e0",
        "colab": {
          "base_uri": "https://localhost:8080/",
          "height": 34
        }
      },
      "source": [
        "list(odd_L)"
      ],
      "execution_count": 53,
      "outputs": [
        {
          "output_type": "execute_result",
          "data": {
            "text/plain": [
              "[1, 3, 5, 7, 9]"
            ]
          },
          "metadata": {
            "tags": []
          },
          "execution_count": 53
        }
      ]
    },
    {
      "cell_type": "code",
      "metadata": {
        "id": "ygGVwr7xn_m8",
        "colab_type": "code",
        "colab": {}
      },
      "source": [
        ""
      ],
      "execution_count": 0,
      "outputs": []
    },
    {
      "cell_type": "markdown",
      "metadata": {
        "id": "SHlSkPE6n_nC",
        "colab_type": "text"
      },
      "source": [
        "## Problem 13"
      ]
    },
    {
      "cell_type": "code",
      "metadata": {
        "id": "NEAJEYwMn_nD",
        "colab_type": "code",
        "colab": {
          "base_uri": "https://localhost:8080/",
          "height": 34
        },
        "outputId": "5980d39c-3bf6-45a7-9e7a-a911345c3472"
      },
      "source": [
        "\"\"\" 13. Write a program which can map() to make a list whose elements are cube of elements in a given list \"\"\""
      ],
      "execution_count": 54,
      "outputs": [
        {
          "output_type": "execute_result",
          "data": {
            "text/plain": [
              "' 13. Write a program which can map() to make a list whose elements are cube of elements in a given list '"
            ]
          },
          "metadata": {
            "tags": []
          },
          "execution_count": 54
        }
      ]
    },
    {
      "cell_type": "code",
      "metadata": {
        "id": "_YbGSdwkn_nF",
        "colab_type": "code",
        "colab": {}
      },
      "source": [
        "L = [1,2,3,4,5]"
      ],
      "execution_count": 0,
      "outputs": []
    },
    {
      "cell_type": "code",
      "metadata": {
        "id": "7MM2sjpun_nH",
        "colab_type": "code",
        "colab": {}
      },
      "source": [
        "cube_list = list(map(lambda x:x**3, L ))"
      ],
      "execution_count": 0,
      "outputs": []
    },
    {
      "cell_type": "code",
      "metadata": {
        "id": "YVX30D0pn_nJ",
        "colab_type": "code",
        "outputId": "6906b528-5fc5-4d1a-c24f-4281ebc72c2e",
        "colab": {
          "base_uri": "https://localhost:8080/",
          "height": 34
        }
      },
      "source": [
        "cube_list"
      ],
      "execution_count": 57,
      "outputs": [
        {
          "output_type": "execute_result",
          "data": {
            "text/plain": [
              "[1, 8, 27, 64, 125]"
            ]
          },
          "metadata": {
            "tags": []
          },
          "execution_count": 57
        }
      ]
    },
    {
      "cell_type": "code",
      "metadata": {
        "id": "uZzR5pbKn_nL",
        "colab_type": "code",
        "colab": {}
      },
      "source": [
        ""
      ],
      "execution_count": 0,
      "outputs": []
    },
    {
      "cell_type": "code",
      "metadata": {
        "id": "Vw4Nw4trn_nN",
        "colab_type": "code",
        "outputId": "40d8882e-f2d9-4dfd-9b8d-2ead4bb4794d",
        "colab": {
          "base_uri": "https://localhost:8080/",
          "height": 34
        }
      },
      "source": [
        "\"\"\"14.Write a program which can map() and filter() to make a list \n",
        "whose elements are cube of even number in a given list \"\"\""
      ],
      "execution_count": 58,
      "outputs": [
        {
          "output_type": "execute_result",
          "data": {
            "text/plain": [
              "'14.Write a program which can map() and filter() to make a list \\nwhose elements are cube of even number in a given list '"
            ]
          },
          "metadata": {
            "tags": []
          },
          "execution_count": 58
        }
      ]
    },
    {
      "cell_type": "code",
      "metadata": {
        "id": "D1vr4Na1n_nQ",
        "colab_type": "code",
        "colab": {}
      },
      "source": [
        "L = [x for x in range(1,11)]"
      ],
      "execution_count": 0,
      "outputs": []
    },
    {
      "cell_type": "code",
      "metadata": {
        "id": "luyqwLEwn_nU",
        "colab_type": "code",
        "outputId": "25941188-e158-4081-b3bf-502eb521a7eb",
        "colab": {
          "base_uri": "https://localhost:8080/",
          "height": 34
        }
      },
      "source": [
        "L"
      ],
      "execution_count": 60,
      "outputs": [
        {
          "output_type": "execute_result",
          "data": {
            "text/plain": [
              "[1, 2, 3, 4, 5, 6, 7, 8, 9, 10]"
            ]
          },
          "metadata": {
            "tags": []
          },
          "execution_count": 60
        }
      ]
    },
    {
      "cell_type": "code",
      "metadata": {
        "id": "jwbfJ3fWn_nX",
        "colab_type": "code",
        "outputId": "43a376eb-dcbf-4c88-b821-a5fb2bf63f28",
        "colab": {
          "base_uri": "https://localhost:8080/",
          "height": 34
        }
      },
      "source": [
        "Even_list = list(filter(lambda x: x%2==0 , L))\n",
        "Even_list"
      ],
      "execution_count": 61,
      "outputs": [
        {
          "output_type": "execute_result",
          "data": {
            "text/plain": [
              "[2, 4, 6, 8, 10]"
            ]
          },
          "metadata": {
            "tags": []
          },
          "execution_count": 61
        }
      ]
    },
    {
      "cell_type": "code",
      "metadata": {
        "id": "oh5KhlJCn_nb",
        "colab_type": "code",
        "outputId": "ae6e80ca-f897-46de-d225-2da1dcab8c0f",
        "colab": {
          "base_uri": "https://localhost:8080/",
          "height": 34
        }
      },
      "source": [
        "Even_cube_list = list(map(lambda x:x**3, Even_list))\n",
        "Even_cube_list"
      ],
      "execution_count": 62,
      "outputs": [
        {
          "output_type": "execute_result",
          "data": {
            "text/plain": [
              "[8, 64, 216, 512, 1000]"
            ]
          },
          "metadata": {
            "tags": []
          },
          "execution_count": 62
        }
      ]
    },
    {
      "cell_type": "code",
      "metadata": {
        "id": "WtcCYC3on_nd",
        "colab_type": "code",
        "colab": {}
      },
      "source": [
        "#      OR"
      ],
      "execution_count": 0,
      "outputs": []
    },
    {
      "cell_type": "code",
      "metadata": {
        "id": "IlBcKyt6n_ni",
        "colab_type": "code",
        "outputId": "cfe28073-b89d-40bf-befe-6e74413505d5",
        "colab": {
          "base_uri": "https://localhost:8080/",
          "height": 34
        }
      },
      "source": [
        "Even_cube_list = list(map(lambda x:x**3, list(filter(lambda x: x%2==0 , L)) ))\n",
        "Even_cube_list"
      ],
      "execution_count": 64,
      "outputs": [
        {
          "output_type": "execute_result",
          "data": {
            "text/plain": [
              "[8, 64, 216, 512, 1000]"
            ]
          },
          "metadata": {
            "tags": []
          },
          "execution_count": 64
        }
      ]
    },
    {
      "cell_type": "code",
      "metadata": {
        "id": "WNwa_e84n_nl",
        "colab_type": "code",
        "colab": {}
      },
      "source": [
        ""
      ],
      "execution_count": 0,
      "outputs": []
    }
  ]
}