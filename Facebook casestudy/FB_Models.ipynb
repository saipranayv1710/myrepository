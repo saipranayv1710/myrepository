{
 "cells": [
  {
   "cell_type": "markdown",
   "metadata": {
    "id": "naWvqMEMHglO"
   },
   "source": [
    "## <p style=\"font-size:32px;text-align:center\"> <b>Social network Graph Link Prediction - Facebook Challenge</b> </p>"
   ]
  },
  {
   "cell_type": "markdown",
   "metadata": {
    "id": "MDN8xH4SsTWT"
   },
   "source": [
    "<font color = 'red'>Note: Please consider the code from the heading Assignments. My Code is appended in the same notebook that is provided</font>"
   ]
  },
  {
   "cell_type": "code",
   "execution_count": 1,
   "metadata": {
    "executionInfo": {
     "elapsed": 1581,
     "status": "ok",
     "timestamp": 1605247499790,
     "user": {
      "displayName": "sai pranay",
      "photoUrl": "https://lh3.googleusercontent.com/a-/AOh14GjyB5JboSBGwlexnx3OL2bCYVbj8I1ql6iKg4_XtQ=s64",
      "userId": "17020403249068426867"
     },
     "user_tz": -330
    },
    "id": "9wb9N5RzHglP"
   },
   "outputs": [],
   "source": [
    "#Importing Libraries\n",
    "# please do go through this python notebook: \n",
    "import warnings\n",
    "warnings.filterwarnings(\"ignore\")\n",
    "\n",
    "import csv\n",
    "import pandas as pd#pandas to create small dataframes \n",
    "import datetime #Convert to unix time\n",
    "import time #Convert to unix time\n",
    "# if numpy is not installed already : pip3 install numpy\n",
    "import numpy as np#Do aritmetic operations on arrays\n",
    "# matplotlib: used to plot graphs\n",
    "import matplotlib\n",
    "import matplotlib.pylab as plt\n",
    "import seaborn as sns#Plots\n",
    "from matplotlib import rcParams#Size of plots  \n",
    "from sklearn.cluster import MiniBatchKMeans, KMeans#Clustering\n",
    "import math\n",
    "import pickle\n",
    "import os\n",
    "# to install xgboost: pip3 install xgboost\n",
    "import xgboost as xgb\n",
    "\n",
    "import warnings\n",
    "import networkx as nx\n",
    "import pdb\n",
    "import pickle\n",
    "from pandas import HDFStore,DataFrame\n",
    "from pandas import read_hdf\n",
    "from scipy.sparse.linalg import svds, eigs\n",
    "import gc\n",
    "from tqdm import tqdm\n",
    "from sklearn.ensemble import RandomForestClassifier\n",
    "from sklearn.metrics import f1_score \n",
    "\n",
    "from sklearn.model_selection import RandomizedSearchCV\n",
    "from datetime import datetime"
   ]
  },
  {
   "cell_type": "code",
   "execution_count": 2,
   "metadata": {
    "executionInfo": {
     "elapsed": 2242,
     "status": "ok",
     "timestamp": 1605247500457,
     "user": {
      "displayName": "sai pranay",
      "photoUrl": "https://lh3.googleusercontent.com/a-/AOh14GjyB5JboSBGwlexnx3OL2bCYVbj8I1ql6iKg4_XtQ=s64",
      "userId": "17020403249068426867"
     },
     "user_tz": -330
    },
    "id": "XC4OJFKkHglU"
   },
   "outputs": [],
   "source": [
    "# reading\n",
    "from pandas import read_hdf\n",
    "df_final_train = read_hdf('storage_sample_stage4.h5', 'train_df',mode='r')\n",
    "df_final_test = read_hdf('storage_sample_stage4.h5', 'test_df',mode='r')"
   ]
  },
  {
   "cell_type": "code",
   "execution_count": 3,
   "metadata": {
    "colab": {
     "base_uri": "https://localhost:8080/"
    },
    "executionInfo": {
     "elapsed": 1820,
     "status": "ok",
     "timestamp": 1605247500457,
     "user": {
      "displayName": "sai pranay",
      "photoUrl": "https://lh3.googleusercontent.com/a-/AOh14GjyB5JboSBGwlexnx3OL2bCYVbj8I1ql6iKg4_XtQ=s64",
      "userId": "17020403249068426867"
     },
     "user_tz": -330
    },
    "id": "5Gm-BHRkHglW",
    "outputId": "843e6af6-8c6b-4c15-94b1-6ec4eb557a2a"
   },
   "outputs": [
    {
     "data": {
      "text/plain": [
       "Index(['source_node', 'destination_node', 'indicator_link',\n",
       "       'jaccard_followers', 'jaccard_followees', 'cosine_followers',\n",
       "       'cosine_followees', 'num_followers_s', 'num_followees_s',\n",
       "       'num_followees_d', 'inter_followers', 'inter_followees', 'adar_index',\n",
       "       'follows_back', 'same_comp', 'shortest_path', 'weight_in', 'weight_out',\n",
       "       'weight_f1', 'weight_f2', 'weight_f3', 'weight_f4', 'page_rank_s',\n",
       "       'page_rank_d', 'katz_s', 'katz_d', 'hubs_s', 'hubs_d', 'authorities_s',\n",
       "       'authorities_d', 'svd_u_s_1', 'svd_u_s_2', 'svd_u_s_3', 'svd_u_s_4',\n",
       "       'svd_u_s_5', 'svd_u_s_6', 'svd_u_d_1', 'svd_u_d_2', 'svd_u_d_3',\n",
       "       'svd_u_d_4', 'svd_u_d_5', 'svd_u_d_6', 'svd_v_s_1', 'svd_v_s_2',\n",
       "       'svd_v_s_3', 'svd_v_s_4', 'svd_v_s_5', 'svd_v_s_6', 'svd_v_d_1',\n",
       "       'svd_v_d_2', 'svd_v_d_3', 'svd_v_d_4', 'svd_v_d_5', 'svd_v_d_6'],\n",
       "      dtype='object')"
      ]
     },
     "execution_count": 3,
     "metadata": {
      "tags": []
     },
     "output_type": "execute_result"
    }
   ],
   "source": [
    "df_final_train.columns "
   ]
  },
  {
   "cell_type": "code",
   "execution_count": null,
   "metadata": {
    "id": "XRW7VZ4AHglc"
   },
   "outputs": [],
   "source": [
    "y_train = df_final_train.indicator_link\n",
    "y_test = df_final_test.indicator_link"
   ]
  },
  {
   "cell_type": "code",
   "execution_count": null,
   "metadata": {
    "id": "4lj9M_qtHglf"
   },
   "outputs": [],
   "source": [
    "df_final_train.drop(['source_node', 'destination_node','indicator_link'],axis=1,inplace=True)\n",
    "df_final_test.drop(['source_node', 'destination_node','indicator_link'],axis=1,inplace=True)"
   ]
  },
  {
   "cell_type": "code",
   "execution_count": null,
   "metadata": {
    "id": "lIEc91uVHgli",
    "outputId": "31f04b72-ebe5-4b13-ccca-a5ae3bc4f09c"
   },
   "outputs": [
    {
     "name": "stdout",
     "output_type": "stream",
     "text": [
      "Estimators =  10 Train Score 0.9063252121775113 test Score 0.8745605278006858\n",
      "Estimators =  50 Train Score 0.9205725512208812 test Score 0.9125653355634538\n",
      "Estimators =  100 Train Score 0.9238690848446947 test Score 0.9141199714153599\n",
      "Estimators =  250 Train Score 0.9239789348046863 test Score 0.9188007232664732\n",
      "Estimators =  450 Train Score 0.9237190618658074 test Score 0.9161507685828595\n"
     ]
    },
    {
     "data": {
      "text/plain": [
       "Text(0.5,1,'Estimators vs score at depth of 5')"
      ]
     },
     "execution_count": 6,
     "metadata": {
      "tags": []
     },
     "output_type": "execute_result"
    },
    {
     "data": {
      "image/png": "[encoded data removed]",
      "text/plain": [
       "<Figure size 432x288 with 1 Axes>"
      ]
     },
     "metadata": {
      "tags": []
     },
     "output_type": "display_data"
    }
   ],
   "source": [
    "estimators = [10,50,100,250,450]\n",
    "train_scores = []\n",
    "test_scores = []\n",
    "for i in estimators:\n",
    "    clf = RandomForestClassifier(bootstrap=True, class_weight=None, criterion='gini',\n",
    "            max_depth=5, max_features='auto', max_leaf_nodes=None,\n",
    "            min_impurity_decrease=0.0, min_impurity_split=None,\n",
    "            min_samples_leaf=52, min_samples_split=120,\n",
    "            min_weight_fraction_leaf=0.0, n_estimators=i, n_jobs=-1,random_state=25,verbose=0,warm_start=False)\n",
    "    clf.fit(df_final_train,y_train)\n",
    "    train_sc = f1_score(y_train,clf.predict(df_final_train))\n",
    "    test_sc = f1_score(y_test,clf.predict(df_final_test))\n",
    "    test_scores.append(test_sc)\n",
    "    train_scores.append(train_sc)\n",
    "    print('Estimators = ',i,'Train Score',train_sc,'test Score',test_sc)\n",
    "plt.plot(estimators,train_scores,label='Train Score')\n",
    "plt.plot(estimators,test_scores,label='Test Score')\n",
    "plt.xlabel('Estimators')\n",
    "plt.ylabel('Score')\n",
    "plt.title('Estimators vs score at depth of 5')"
   ]
  },
  {
   "cell_type": "code",
   "execution_count": null,
   "metadata": {
    "id": "nZxhrTdQHglm",
    "outputId": "53382b8e-148d-4c22-8066-d9807fb27012"
   },
   "outputs": [
    {
     "name": "stdout",
     "output_type": "stream",
     "text": [
      "depth =  3 Train Score 0.8916120853581238 test Score 0.8687934859875491\n",
      "depth =  9 Train Score 0.9572226298198419 test Score 0.9222953031452904\n",
      "depth =  11 Train Score 0.9623451340902863 test Score 0.9252318758281279\n",
      "depth =  15 Train Score 0.9634267621927706 test Score 0.9231288356496615\n",
      "depth =  20 Train Score 0.9631629153051491 test Score 0.9235051024711141\n",
      "depth =  35 Train Score 0.9634333127085721 test Score 0.9235601652753184\n",
      "depth =  50 Train Score 0.9634333127085721 test Score 0.9235601652753184\n",
      "depth =  70 Train Score 0.9634333127085721 test Score 0.9235601652753184\n",
      "depth =  130 Train Score 0.9634333127085721 test Score 0.9235601652753184\n"
     ]
    },
    {
     "data": {
      "image/png": "[encoded data removed]",
      "text/plain": [
       "<Figure size 432x288 with 1 Axes>"
      ]
     },
     "metadata": {
      "tags": []
     },
     "output_type": "display_data"
    }
   ],
   "source": [
    "depths = [3,9,11,15,20,35,50,70,130]\n",
    "train_scores = []\n",
    "test_scores = []\n",
    "for i in depths:\n",
    "    clf = RandomForestClassifier(bootstrap=True, class_weight=None, criterion='gini',\n",
    "            max_depth=i, max_features='auto', max_leaf_nodes=None,\n",
    "            min_impurity_decrease=0.0, min_impurity_split=None,\n",
    "            min_samples_leaf=52, min_samples_split=120,\n",
    "            min_weight_fraction_leaf=0.0, n_estimators=115, n_jobs=-1,random_state=25,verbose=0,warm_start=False)\n",
    "    clf.fit(df_final_train,y_train)\n",
    "    train_sc = f1_score(y_train,clf.predict(df_final_train))\n",
    "    test_sc = f1_score(y_test,clf.predict(df_final_test))\n",
    "    test_scores.append(test_sc)\n",
    "    train_scores.append(train_sc)\n",
    "    print('depth = ',i,'Train Score',train_sc,'test Score',test_sc)\n",
    "plt.plot(depths,train_scores,label='Train Score')\n",
    "plt.plot(depths,test_scores,label='Test Score')\n",
    "plt.xlabel('Depth')\n",
    "plt.ylabel('Score')\n",
    "plt.title('Depth vs score at depth of 5 at estimators = 115')\n",
    "plt.show()"
   ]
  },
  {
   "cell_type": "code",
   "execution_count": null,
   "metadata": {
    "id": "MrG1Lfl3Hglq",
    "outputId": "7b6e3c97-8d66-455d-cd79-213f824719cc"
   },
   "outputs": [
    {
     "name": "stdout",
     "output_type": "stream",
     "text": [
      "mean test scores [0.96225043 0.96215493 0.96057081 0.96194015 0.96330005]\n",
      "mean train scores [0.96294922 0.96266735 0.96115674 0.96263457 0.96430539]\n"
     ]
    }
   ],
   "source": [
    "from sklearn.metrics import f1_score\n",
    "from sklearn.ensemble import RandomForestClassifier\n",
    "from sklearn.metrics import f1_score\n",
    "from sklearn.model_selection import RandomizedSearchCV\n",
    "from scipy.stats import randint as sp_randint\n",
    "from scipy.stats import uniform\n",
    "\n",
    "param_dist = {\"n_estimators\":sp_randint(105,125),\n",
    "              \"max_depth\": sp_randint(10,15),\n",
    "              \"min_samples_split\": sp_randint(110,190),\n",
    "              \"min_samples_leaf\": sp_randint(25,65)}\n",
    "\n",
    "clf = RandomForestClassifier(random_state=25,n_jobs=-1)\n",
    "\n",
    "rf_random = RandomizedSearchCV(clf, param_distributions=param_dist,\n",
    "                                   n_iter=5,cv=10,scoring='f1',random_state=25)\n",
    "\n",
    "rf_random.fit(df_final_train,y_train)\n",
    "print('mean test scores',rf_random.cv_results_['mean_test_score'])\n",
    "print('mean train scores',rf_random.cv_results_['mean_train_score'])"
   ]
  },
  {
   "cell_type": "code",
   "execution_count": null,
   "metadata": {
    "id": "hme3j_diHglu",
    "outputId": "581ccc02-7770-4a94-d003-257af4e81570"
   },
   "outputs": [
    {
     "name": "stdout",
     "output_type": "stream",
     "text": [
      "RandomForestClassifier(bootstrap=True, class_weight=None, criterion='gini',\n",
      "            max_depth=14, max_features='auto', max_leaf_nodes=None,\n",
      "            min_impurity_decrease=0.0, min_impurity_split=None,\n",
      "            min_samples_leaf=28, min_samples_split=111,\n",
      "            min_weight_fraction_leaf=0.0, n_estimators=121, n_jobs=-1,\n",
      "            oob_score=False, random_state=25, verbose=0, warm_start=False)\n"
     ]
    }
   ],
   "source": [
    "print(rf_random.best_estimator_)"
   ]
  },
  {
   "cell_type": "code",
   "execution_count": null,
   "metadata": {
    "id": "qu4KIEweHglx"
   },
   "outputs": [],
   "source": [
    "clf = RandomForestClassifier(bootstrap=True, class_weight=None, criterion='gini',\n",
    "            max_depth=14, max_features='auto', max_leaf_nodes=None,\n",
    "            min_impurity_decrease=0.0, min_impurity_split=None,\n",
    "            min_samples_leaf=28, min_samples_split=111,\n",
    "            min_weight_fraction_leaf=0.0, n_estimators=121, n_jobs=-1,\n",
    "            oob_score=False, random_state=25, verbose=0, warm_start=False)"
   ]
  },
  {
   "cell_type": "code",
   "execution_count": null,
   "metadata": {
    "id": "Dax83GfLHgl1"
   },
   "outputs": [],
   "source": [
    "clf.fit(df_final_train,y_train)\n",
    "y_train_pred = clf.predict(df_final_train)\n",
    "y_test_pred = clf.predict(df_final_test)"
   ]
  },
  {
   "cell_type": "code",
   "execution_count": null,
   "metadata": {
    "id": "PTtAp1iTHgl4",
    "outputId": "e2e3d725-3c4d-4374-d303-8f294b570977"
   },
   "outputs": [
    {
     "name": "stdout",
     "output_type": "stream",
     "text": [
      "Train f1 score 0.9652533106548414\n",
      "Test f1 score 0.9241678239279553\n"
     ]
    }
   ],
   "source": [
    "from sklearn.metrics import f1_score\n",
    "print('Train f1 score',f1_score(y_train,y_train_pred))\n",
    "print('Test f1 score',f1_score(y_test,y_test_pred))"
   ]
  },
  {
   "cell_type": "code",
   "execution_count": 32,
   "metadata": {
    "executionInfo": {
     "elapsed": 1151,
     "status": "ok",
     "timestamp": 1605248712913,
     "user": {
      "displayName": "sai pranay",
      "photoUrl": "https://lh3.googleusercontent.com/a-/AOh14GjyB5JboSBGwlexnx3OL2bCYVbj8I1ql6iKg4_XtQ=s64",
      "userId": "17020403249068426867"
     },
     "user_tz": -330
    },
    "id": "5XfUkZYQHgl7"
   },
   "outputs": [],
   "source": [
    "from sklearn.metrics import confusion_matrix\n",
    "def plot_confusion_matrix(test_y, predict_y):\n",
    "    C = confusion_matrix(test_y, predict_y)\n",
    "    \n",
    "    A =(((C.T)/(C.sum(axis=1))).T)\n",
    "    \n",
    "    B =(C/C.sum(axis=0))\n",
    "    plt.figure(figsize=(20,4))\n",
    "    \n",
    "    labels = [0,1]\n",
    "    # representing A in heatmap format\n",
    "    cmap=sns.light_palette(\"blue\")\n",
    "    plt.subplot(1, 3, 1)\n",
    "    sns.heatmap(C, annot=True, cmap=cmap, fmt=\".3f\", xticklabels=labels, yticklabels=labels)\n",
    "    plt.xlabel('Predicted Class')\n",
    "    plt.ylabel('Original Class')\n",
    "    plt.title(\"Confusion matrix\")\n",
    "    \n",
    "    plt.subplot(1, 3, 2)\n",
    "    sns.heatmap(B, annot=True, cmap=cmap, fmt=\".3f\", xticklabels=labels, yticklabels=labels)\n",
    "    plt.xlabel('Predicted Class')\n",
    "    plt.ylabel('Original Class')\n",
    "    plt.title(\"Precision matrix\")\n",
    "    \n",
    "    plt.subplot(1, 3, 3)\n",
    "    # representing B in heatmap format\n",
    "    sns.heatmap(A, annot=True, cmap=cmap, fmt=\".3f\", xticklabels=labels, yticklabels=labels)\n",
    "    plt.xlabel('Predicted Class')\n",
    "    plt.ylabel('Original Class')\n",
    "    plt.title(\"Recall matrix\")\n",
    "    plt.show()\n"
   ]
  },
  {
   "cell_type": "code",
   "execution_count": null,
   "metadata": {
    "id": "s6t11dhTHgl-",
    "outputId": "189de3be-1c99-4653-f56f-12b18b0f4db7"
   },
   "outputs": [
    {
     "name": "stdout",
     "output_type": "stream",
     "text": [
      "Train confusion_matrix\n"
     ]
    },
    {
     "data": {
      "image/png": "[encoded data removed]",
      "text/plain": [
       "<Figure size 1440x288 with 6 Axes>"
      ]
     },
     "metadata": {
      "tags": []
     },
     "output_type": "display_data"
    },
    {
     "name": "stdout",
     "output_type": "stream",
     "text": [
      "Test confusion_matrix\n"
     ]
    },
    {
     "data": {
      "image/png": "[encoded data removed]",
      "text/plain": [
       "<Figure size 1440x288 with 6 Axes>"
      ]
     },
     "metadata": {
      "tags": []
     },
     "output_type": "display_data"
    }
   ],
   "source": [
    "print('Train confusion_matrix')\n",
    "plot_confusion_matrix(y_train,y_train_pred)\n",
    "print('Test confusion_matrix')\n",
    "plot_confusion_matrix(y_test,y_test_pred)"
   ]
  },
  {
   "cell_type": "code",
   "execution_count": null,
   "metadata": {
    "id": "61TF-VLeHgmD",
    "outputId": "795f1b39-61c7-470f-e2d0-1fe6dc7ac5fd"
   },
   "outputs": [
    {
     "data": {
      "image/png": "[encoded data removed]",
      "text/plain": [
       "<Figure size 432x288 with 1 Axes>"
      ]
     },
     "metadata": {
      "tags": []
     },
     "output_type": "display_data"
    }
   ],
   "source": [
    "from sklearn.metrics import roc_curve, auc\n",
    "fpr,tpr,ths = roc_curve(y_test,y_test_pred)\n",
    "auc_sc = auc(fpr, tpr)\n",
    "plt.plot(fpr, tpr, color='navy',label='ROC curve (area = %0.2f)' % auc_sc)\n",
    "plt.xlabel('False Positive Rate')\n",
    "plt.ylabel('True Positive Rate')\n",
    "plt.title('Receiver operating characteristic with test data')\n",
    "plt.legend()\n",
    "plt.show()"
   ]
  },
  {
   "cell_type": "code",
   "execution_count": null,
   "metadata": {
    "id": "HEZ7uvN6HgmK",
    "outputId": "6f762256-54fc-4e2f-865b-22342033eb2c",
    "scrolled": false
   },
   "outputs": [
    {
     "data": {
      "image/png": "[encoded data removed]",
      "text/plain": [
       "<Figure size 720x864 with 1 Axes>"
      ]
     },
     "metadata": {
      "tags": []
     },
     "output_type": "display_data"
    }
   ],
   "source": [
    "features = df_final_train.columns\n",
    "importances = clf.feature_importances_\n",
    "indices = (np.argsort(importances))[-25:]\n",
    "plt.figure(figsize=(10,12))\n",
    "plt.title('Feature Importances')\n",
    "plt.barh(range(len(indices)), importances[indices], color='r', align='center')\n",
    "plt.yticks(range(len(indices)), [features[i] for i in indices])\n",
    "plt.xlabel('Relative Importance')\n",
    "plt.show()"
   ]
  },
  {
   "cell_type": "markdown",
   "metadata": {
    "id": "xdHW32hcHgmN"
   },
   "source": [
    "# Assignments:\n",
    "\n",
    "1. Add another feature called  Preferential Attachment  with followers and followees data of vertex. you can check about Preferential Attachment in below link\n",
    "http://be.amazd.com/link-prediction/ <br>\n",
    "2. Add  feature called svd_dot. you can calculate svd_dot as Dot product between source node svd and destination node svd features.  you can read about this in below pdf \n",
    "https://storage.googleapis.com/kaggle-forum-message-attachments/2594/supervised_link_prediction.pdf<br>\n",
    "3. Tune hyperparameters for XG boost with all these features and check the error metric."
   ]
  },
  {
   "cell_type": "markdown",
   "metadata": {
    "id": "wxVgC1NxWxpl"
   },
   "source": [
    "## Preferential Attachment:   [link](http://be.amazd.com/link-prediction/)\n",
    "\n",
    "Preferential Attachment One well-known concept in social networks is that users with many friends tend to create more connections in the future.\n",
    "This is due to the fact that in some social networks, like in finance, the rich get richer. We estimate how ”rich” our two vertices are by calculating \n",
    "the multiplication between the number of friends (|Γ(x)|) or followers each vertex has. It may be noted that the similarity index does not require any\n",
    "node neighbor information; therefore, this similarity index has the lowest computational complexity.\n",
    "\n",
    "\n",
    "\n",
    "```\n",
    "score(X,Y) = followers(X) * followers(Y)\n",
    "```\n",
    "\n"
   ]
  },
  {
   "cell_type": "code",
   "execution_count": 4,
   "metadata": {
    "executionInfo": {
     "elapsed": 1673,
     "status": "ok",
     "timestamp": 1605247519976,
     "user": {
      "displayName": "sai pranay",
      "photoUrl": "https://lh3.googleusercontent.com/a-/AOh14GjyB5JboSBGwlexnx3OL2bCYVbj8I1ql6iKg4_XtQ=s64",
      "userId": "17020403249068426867"
     },
     "user_tz": -330
    },
    "id": "sFvmPWkt9Cr5"
   },
   "outputs": [],
   "source": [
    "#reading\n",
    "from pandas import read_hdf\n",
    "df_final_train = read_hdf('storage_sample_stage4.h5', 'train_df',mode='r')\n",
    "df_final_test = read_hdf('storage_sample_stage4.h5', 'test_df',mode='r')"
   ]
  },
  {
   "cell_type": "code",
   "execution_count": 5,
   "metadata": {
    "colab": {
     "base_uri": "https://localhost:8080/"
    },
    "executionInfo": {
     "elapsed": 1453,
     "status": "ok",
     "timestamp": 1605247520681,
     "user": {
      "displayName": "sai pranay",
      "photoUrl": "https://lh3.googleusercontent.com/a-/AOh14GjyB5JboSBGwlexnx3OL2bCYVbj8I1ql6iKg4_XtQ=s64",
      "userId": "17020403249068426867"
     },
     "user_tz": -330
    },
    "id": "FgvGD_Yc9CsB",
    "outputId": "189f2627-399f-4701-a087-244b255e8460"
   },
   "outputs": [
    {
     "data": {
      "text/plain": [
       "Index(['source_node', 'destination_node', 'indicator_link',\n",
       "       'jaccard_followers', 'jaccard_followees', 'cosine_followers',\n",
       "       'cosine_followees', 'num_followers_s', 'num_followees_s',\n",
       "       'num_followees_d', 'inter_followers', 'inter_followees', 'adar_index',\n",
       "       'follows_back', 'same_comp', 'shortest_path', 'weight_in', 'weight_out',\n",
       "       'weight_f1', 'weight_f2', 'weight_f3', 'weight_f4', 'page_rank_s',\n",
       "       'page_rank_d', 'katz_s', 'katz_d', 'hubs_s', 'hubs_d', 'authorities_s',\n",
       "       'authorities_d', 'svd_u_s_1', 'svd_u_s_2', 'svd_u_s_3', 'svd_u_s_4',\n",
       "       'svd_u_s_5', 'svd_u_s_6', 'svd_u_d_1', 'svd_u_d_2', 'svd_u_d_3',\n",
       "       'svd_u_d_4', 'svd_u_d_5', 'svd_u_d_6', 'svd_v_s_1', 'svd_v_s_2',\n",
       "       'svd_v_s_3', 'svd_v_s_4', 'svd_v_s_5', 'svd_v_s_6', 'svd_v_d_1',\n",
       "       'svd_v_d_2', 'svd_v_d_3', 'svd_v_d_4', 'svd_v_d_5', 'svd_v_d_6'],\n",
       "      dtype='object')"
      ]
     },
     "execution_count": 5,
     "metadata": {
      "tags": []
     },
     "output_type": "execute_result"
    }
   ],
   "source": [
    "df_final_train.columns "
   ]
  },
  {
   "cell_type": "code",
   "execution_count": 6,
   "metadata": {
    "colab": {
     "base_uri": "https://localhost:8080/"
    },
    "executionInfo": {
     "elapsed": 60115,
     "status": "ok",
     "timestamp": 1605247582208,
     "user": {
      "displayName": "sai pranay",
      "photoUrl": "https://lh3.googleusercontent.com/a-/AOh14GjyB5JboSBGwlexnx3OL2bCYVbj8I1ql6iKg4_XtQ=s64",
      "userId": "17020403249068426867"
     },
     "user_tz": -330
    },
    "id": "tWRJSALs7adE",
    "outputId": "1840016f-4d8e-40c1-db41-2a0402d30136"
   },
   "outputs": [
    {
     "name": "stdout",
     "output_type": "stream",
     "text": [
      "Name: \n",
      "Type: DiGraph\n",
      "Number of nodes: 1780722\n",
      "Number of edges: 7550015\n",
      "Average in degree:   4.2399\n",
      "Average out degree:   4.2399\n"
     ]
    }
   ],
   "source": [
    "# Getting train graph data\n",
    "if os.path.isfile('train_pos_after_eda.csv'):\n",
    "    train_graph=nx.read_edgelist('train_pos_after_eda.csv',delimiter=',',create_using=nx.DiGraph(),nodetype=int)\n",
    "    print(nx.info(train_graph))\n",
    "else:\n",
    "    print(\"please run the FB_EDA.ipynb or download the files from drive\")"
   ]
  },
  {
   "cell_type": "code",
   "execution_count": 7,
   "metadata": {
    "executionInfo": {
     "elapsed": 21442,
     "status": "ok",
     "timestamp": 1605247582209,
     "user": {
      "displayName": "sai pranay",
      "photoUrl": "https://lh3.googleusercontent.com/a-/AOh14GjyB5JboSBGwlexnx3OL2bCYVbj8I1ql6iKg4_XtQ=s64",
      "userId": "17020403249068426867"
     },
     "user_tz": -330
    },
    "id": "9A12RWVy4hd7"
   },
   "outputs": [],
   "source": [
    "def preferential_attachment_followers(a,b):\n",
    "    try:\n",
    "        if len(set(train_graph.predecessors(a))) == 0  | len(set(train_graph.predecessors(b))) == 0:\n",
    "            return 0\n",
    "        score =  len(set(train_graph.predecessors(a))) * len(set(train_graph.predecessors(b)))\n",
    "        return score\n",
    "    except:\n",
    "        return 0 "
   ]
  },
  {
   "cell_type": "code",
   "execution_count": 8,
   "metadata": {
    "executionInfo": {
     "elapsed": 21130,
     "status": "ok",
     "timestamp": 1605247582210,
     "user": {
      "displayName": "sai pranay",
      "photoUrl": "https://lh3.googleusercontent.com/a-/AOh14GjyB5JboSBGwlexnx3OL2bCYVbj8I1ql6iKg4_XtQ=s64",
      "userId": "17020403249068426867"
     },
     "user_tz": -330
    },
    "id": "Z0lOmr3wDN-H"
   },
   "outputs": [],
   "source": [
    "def preferential_attachment_followees(a,b):\n",
    "    try:\n",
    "        if len(set(train_graph.successors(a))) == 0  | len(set(train_graph.successors(b))) == 0:\n",
    "            return 0\n",
    "        score =  len(set(train_graph.successors(a))) * len(set(train_graph.successors(b)))\n",
    "        return score\n",
    "    except:\n",
    "        return 0 "
   ]
  },
  {
   "cell_type": "code",
   "execution_count": 9,
   "metadata": {
    "executionInfo": {
     "elapsed": 8884,
     "status": "ok",
     "timestamp": 1605247591107,
     "user": {
      "displayName": "sai pranay",
      "photoUrl": "https://lh3.googleusercontent.com/a-/AOh14GjyB5JboSBGwlexnx3OL2bCYVbj8I1ql6iKg4_XtQ=s64",
      "userId": "17020403249068426867"
     },
     "user_tz": -330
    },
    "id": "5dKVXRkpDW-Y"
   },
   "outputs": [],
   "source": [
    "#mapping preferential_attachment followers and followees score on train\n",
    "df_final_train['pref_attach_followers'] = df_final_train.apply(lambda row:\\\n",
    "                                        preferential_attachment_followers(row['source_node'],row['destination_node']),axis=1)\n",
    "\n",
    "df_final_train['pref_attach_followees'] = df_final_train.apply(lambda row:\\\n",
    "                                        preferential_attachment_followees(row['source_node'],row['destination_node']),axis=1)\n",
    "\n",
    "\n",
    "#mapping preferential_attachment followers and followees score on test\n",
    "df_final_test['pref_attach_followers'] = df_final_test.apply(lambda row:\\\n",
    "                                        preferential_attachment_followers(row['source_node'],row['destination_node']),axis=1)\n",
    "\n",
    "df_final_test['pref_attach_followees'] = df_final_test.apply(lambda row:\\\n",
    "                                        preferential_attachment_followees(row['source_node'],row['destination_node']),axis=1)"
   ]
  },
  {
   "cell_type": "code",
   "execution_count": 10,
   "metadata": {
    "executionInfo": {
     "elapsed": 8872,
     "status": "ok",
     "timestamp": 1605247591109,
     "user": {
      "displayName": "sai pranay",
      "photoUrl": "https://lh3.googleusercontent.com/a-/AOh14GjyB5JboSBGwlexnx3OL2bCYVbj8I1ql6iKg4_XtQ=s64",
      "userId": "17020403249068426867"
     },
     "user_tz": -330
    },
    "id": "Rf_jE4FQV_71"
   },
   "outputs": [],
   "source": [
    "# print(df_final_train.columns)\n",
    "# print(df_final_test.columns)"
   ]
  },
  {
   "cell_type": "markdown",
   "metadata": {
    "id": "HjDzz_w9Ecxy"
   },
   "source": [
    "## SVD dot"
   ]
  },
  {
   "cell_type": "markdown",
   "metadata": {
    "id": "p6xkDfD-VFIb"
   },
   "source": [
    "\n",
    "__we will create these each of these features for both train and test data points__\n",
    "<ol>\n",
    "<li>SVD dot value for each (source,destination) pair</li>\n",
    "</ol>"
   ]
  },
  {
   "cell_type": "code",
   "execution_count": 11,
   "metadata": {
    "executionInfo": {
     "elapsed": 1191,
     "status": "ok",
     "timestamp": 1605247591966,
     "user": {
      "displayName": "sai pranay",
      "photoUrl": "https://lh3.googleusercontent.com/a-/AOh14GjyB5JboSBGwlexnx3OL2bCYVbj8I1ql6iKg4_XtQ=s64",
      "userId": "17020403249068426867"
     },
     "user_tz": -330
    },
    "id": "WQO6E65eVFIc"
   },
   "outputs": [],
   "source": [
    "def svd(x, S):\n",
    "    try:\n",
    "        z = sadj_dict[x]\n",
    "        return S[z]\n",
    "    except:\n",
    "        return [0,0,0,0,0,0]"
   ]
  },
  {
   "cell_type": "code",
   "execution_count": 12,
   "metadata": {
    "executionInfo": {
     "elapsed": 3757,
     "status": "ok",
     "timestamp": 1605247594830,
     "user": {
      "displayName": "sai pranay",
      "photoUrl": "https://lh3.googleusercontent.com/a-/AOh14GjyB5JboSBGwlexnx3OL2bCYVbj8I1ql6iKg4_XtQ=s64",
      "userId": "17020403249068426867"
     },
     "user_tz": -330
    },
    "id": "9sOyLwvNVFId"
   },
   "outputs": [],
   "source": [
    "#for svd features to get feature vector creating a dict node val and inedx in svd vector\n",
    "sadj_col = sorted(train_graph.nodes())\n",
    "sadj_dict = { val:idx for idx,val in enumerate(sadj_col)}"
   ]
  },
  {
   "cell_type": "code",
   "execution_count": 13,
   "metadata": {
    "executionInfo": {
     "elapsed": 80820,
     "status": "ok",
     "timestamp": 1605247672273,
     "user": {
      "displayName": "sai pranay",
      "photoUrl": "https://lh3.googleusercontent.com/a-/AOh14GjyB5JboSBGwlexnx3OL2bCYVbj8I1ql6iKg4_XtQ=s64",
      "userId": "17020403249068426867"
     },
     "user_tz": -330
    },
    "id": "zLSt8fGVVFIg"
   },
   "outputs": [],
   "source": [
    "Adj = nx.adjacency_matrix(train_graph,nodelist=sorted(train_graph.nodes())).asfptype()"
   ]
  },
  {
   "cell_type": "code",
   "execution_count": 14,
   "metadata": {
    "colab": {
     "base_uri": "https://localhost:8080/"
    },
    "executionInfo": {
     "elapsed": 101005,
     "status": "ok",
     "timestamp": 1605247693153,
     "user": {
      "displayName": "sai pranay",
      "photoUrl": "https://lh3.googleusercontent.com/a-/AOh14GjyB5JboSBGwlexnx3OL2bCYVbj8I1ql6iKg4_XtQ=s64",
      "userId": "17020403249068426867"
     },
     "user_tz": -330
    },
    "id": "soq-VAHlVFIh",
    "outputId": "97060d95-819f-4d47-8370-49f6b0b1853f"
   },
   "outputs": [
    {
     "name": "stdout",
     "output_type": "stream",
     "text": [
      "Adjacency matrix Shape (1780722, 1780722)\n",
      "U Shape (1780722, 6)\n",
      "VT Shape (6, 1780722)\n",
      "s Shape (6,)\n"
     ]
    }
   ],
   "source": [
    "U, s, VT = svds(Adj, k = 6)\n",
    "print('Adjacency matrix Shape',Adj.shape)\n",
    "print('U Shape',U.shape)\n",
    "print('VT Shape',VT.shape)\n",
    "print('s Shape',s.shape)"
   ]
  },
  {
   "cell_type": "markdown",
   "metadata": {
    "id": "FqhNey8RLIzf"
   },
   "source": [
    "**Logic:**\n",
    "\n",
    "svd_dot_u = (svd_u_s_1 * svd_u_d_1) + (svd_u_s_2 * svd_u_d_2) + . . . . + (svd_u_s_6 * svd_u_d_6)\n",
    "\n",
    "svd_dot_v = (svd_v_s_1 * svd_v_d_1) + (svd_v_s_2 * svd_v_d_2) + . . . . + (svd_v_s_6 * svd_v_d_6)"
   ]
  },
  {
   "cell_type": "code",
   "execution_count": 15,
   "metadata": {
    "executionInfo": {
     "elapsed": 91615,
     "status": "ok",
     "timestamp": 1605247696600,
     "user": {
      "displayName": "sai pranay",
      "photoUrl": "https://lh3.googleusercontent.com/a-/AOh14GjyB5JboSBGwlexnx3OL2bCYVbj8I1ql6iKg4_XtQ=s64",
      "userId": "17020403249068426867"
     },
     "user_tz": -330
    },
    "id": "JGS6VWixJsms"
   },
   "outputs": [],
   "source": [
    "# Mapping svd_dot score to train\n",
    "df_final_train['svd_source_u'] = df_final_train.source_node.apply(lambda x: svd(x, U))\n",
    "df_final_train['svd_destination_u'] = df_final_train.destination_node.apply(lambda x: svd(x, U))\n",
    "\n",
    "df_final_train['svd_source_v'] = df_final_train.source_node.apply(lambda x: svd(x, VT.T))\n",
    "df_final_train['svd_destination_v'] = df_final_train.destination_node.apply(lambda x: svd(x, VT.T))\n",
    "\n",
    "# computing dotproduct for U vectors and V vectors for train set\n",
    "df_final_train['svd_dot_u'] = df_final_train.apply(lambda row: np.dot( row['svd_source_u'],row['svd_destination_u']) , axis =1)\n",
    "df_final_train['svd_dot_v'] = df_final_train.apply(lambda row: np.dot( row['svd_source_v'],row['svd_destination_v']) , axis =1)\n"
   ]
  },
  {
   "cell_type": "code",
   "execution_count": 16,
   "metadata": {
    "executionInfo": {
     "elapsed": 92544,
     "status": "ok",
     "timestamp": 1605247698519,
     "user": {
      "displayName": "sai pranay",
      "photoUrl": "https://lh3.googleusercontent.com/a-/AOh14GjyB5JboSBGwlexnx3OL2bCYVbj8I1ql6iKg4_XtQ=s64",
      "userId": "17020403249068426867"
     },
     "user_tz": -330
    },
    "id": "WLOOCKimLqtP"
   },
   "outputs": [],
   "source": [
    "# Mapping svd_dot score to test\n",
    "df_final_test['svd_source_u'] = df_final_test.source_node.apply(lambda x: svd(x, U))\n",
    "df_final_test['svd_destination_u'] = df_final_test.destination_node.apply(lambda x: svd(x, U))\n",
    "\n",
    "df_final_test['svd_source_v'] = df_final_test.source_node.apply(lambda x: svd(x, VT.T))\n",
    "df_final_test['svd_destination_v'] = df_final_test.destination_node.apply(lambda x: svd(x, VT.T))\n",
    "\n",
    "# computing dotproduct for U vectors and V vectors for test set\n",
    "df_final_test['svd_dot_u'] = df_final_test.apply(lambda row: np.dot( row['svd_source_u'],row['svd_destination_u']) , axis =1)\n",
    "df_final_test['svd_dot_v'] = df_final_test.apply(lambda row: np.dot( row['svd_source_v'],row['svd_destination_v']) , axis =1)\n"
   ]
  },
  {
   "cell_type": "code",
   "execution_count": 18,
   "metadata": {
    "colab": {
     "base_uri": "https://localhost:8080/"
    },
    "executionInfo": {
     "elapsed": 1496,
     "status": "ok",
     "timestamp": 1605247722515,
     "user": {
      "displayName": "sai pranay",
      "photoUrl": "https://lh3.googleusercontent.com/a-/AOh14GjyB5JboSBGwlexnx3OL2bCYVbj8I1ql6iKg4_XtQ=s64",
      "userId": "17020403249068426867"
     },
     "user_tz": -330
    },
    "id": "oeSAxG-mNzEz",
    "outputId": "dda00869-0dde-445b-8956-4d4e8a0df687"
   },
   "outputs": [
    {
     "name": "stdout",
     "output_type": "stream",
     "text": [
      "Index(['source_node', 'destination_node', 'indicator_link',\n",
      "       'jaccard_followers', 'jaccard_followees', 'cosine_followers',\n",
      "       'cosine_followees', 'num_followers_s', 'num_followees_s',\n",
      "       'num_followees_d', 'inter_followers', 'inter_followees', 'adar_index',\n",
      "       'follows_back', 'same_comp', 'shortest_path', 'weight_in', 'weight_out',\n",
      "       'weight_f1', 'weight_f2', 'weight_f3', 'weight_f4', 'page_rank_s',\n",
      "       'page_rank_d', 'katz_s', 'katz_d', 'hubs_s', 'hubs_d', 'authorities_s',\n",
      "       'authorities_d', 'svd_u_s_1', 'svd_u_s_2', 'svd_u_s_3', 'svd_u_s_4',\n",
      "       'svd_u_s_5', 'svd_u_s_6', 'svd_u_d_1', 'svd_u_d_2', 'svd_u_d_3',\n",
      "       'svd_u_d_4', 'svd_u_d_5', 'svd_u_d_6', 'svd_v_s_1', 'svd_v_s_2',\n",
      "       'svd_v_s_3', 'svd_v_s_4', 'svd_v_s_5', 'svd_v_s_6', 'svd_v_d_1',\n",
      "       'svd_v_d_2', 'svd_v_d_3', 'svd_v_d_4', 'svd_v_d_5', 'svd_v_d_6',\n",
      "       'pref_attach_followers', 'pref_attach_followees', 'svd_dot_u',\n",
      "       'svd_dot_v'],\n",
      "      dtype='object')\n"
     ]
    }
   ],
   "source": [
    "#Dropping all the unneccesary columns from train and test dataframes\n",
    "columns_list = ['svd_source_u','svd_destination_u', 'svd_source_v', 'svd_destination_v']\n",
    "\n",
    "df_final_train.drop( labels = columns_list, axis =1, inplace = True)\n",
    "df_final_test.drop( labels = columns_list, axis =1, inplace = True)\n",
    "\n",
    "print(df_final_train.columns)"
   ]
  },
  {
   "cell_type": "code",
   "execution_count": 38,
   "metadata": {
    "colab": {
     "base_uri": "https://localhost:8080/"
    },
    "executionInfo": {
     "elapsed": 907,
     "status": "ok",
     "timestamp": 1605249044754,
     "user": {
      "displayName": "sai pranay",
      "photoUrl": "https://lh3.googleusercontent.com/a-/AOh14GjyB5JboSBGwlexnx3OL2bCYVbj8I1ql6iKg4_XtQ=s64",
      "userId": "17020403249068426867"
     },
     "user_tz": -330
    },
    "id": "YJq3RNluTGyG",
    "outputId": "44f5eeba-3aa0-453f-f124-1b5c347cab87"
   },
   "outputs": [
    {
     "name": "stdout",
     "output_type": "stream",
     "text": [
      "Index(['jaccard_followers', 'jaccard_followees', 'cosine_followers',\n",
      "       'cosine_followees', 'num_followers_s', 'num_followees_s',\n",
      "       'num_followees_d', 'inter_followers', 'inter_followees', 'adar_index',\n",
      "       'follows_back', 'same_comp', 'shortest_path', 'weight_in', 'weight_out',\n",
      "       'weight_f1', 'weight_f2', 'weight_f3', 'weight_f4', 'page_rank_s',\n",
      "       'page_rank_d', 'katz_s', 'katz_d', 'hubs_s', 'hubs_d', 'authorities_s',\n",
      "       'authorities_d', 'svd_u_s_1', 'svd_u_s_2', 'svd_u_s_3', 'svd_u_s_4',\n",
      "       'svd_u_s_5', 'svd_u_s_6', 'svd_u_d_1', 'svd_u_d_2', 'svd_u_d_3',\n",
      "       'svd_u_d_4', 'svd_u_d_5', 'svd_u_d_6', 'svd_v_s_1', 'svd_v_s_2',\n",
      "       'svd_v_s_3', 'svd_v_s_4', 'svd_v_s_5', 'svd_v_s_6', 'svd_v_d_1',\n",
      "       'svd_v_d_2', 'svd_v_d_3', 'svd_v_d_4', 'svd_v_d_5', 'svd_v_d_6',\n",
      "       'pref_attach_followers', 'pref_attach_followees', 'svd_dot_u',\n",
      "       'svd_dot_v'],\n",
      "      dtype='object')\n"
     ]
    }
   ],
   "source": [
    "print(df_final_test.columns)"
   ]
  },
  {
   "cell_type": "code",
   "execution_count": 19,
   "metadata": {
    "executionInfo": {
     "elapsed": 1236,
     "status": "ok",
     "timestamp": 1605247739475,
     "user": {
      "displayName": "sai pranay",
      "photoUrl": "https://lh3.googleusercontent.com/a-/AOh14GjyB5JboSBGwlexnx3OL2bCYVbj8I1ql6iKg4_XtQ=s64",
      "userId": "17020403249068426867"
     },
     "user_tz": -330
    },
    "id": "VY0GfdV9k0sz"
   },
   "outputs": [],
   "source": [
    "y_train = df_final_train.indicator_link\n",
    "y_test = df_final_test.indicator_link "
   ]
  },
  {
   "cell_type": "code",
   "execution_count": 20,
   "metadata": {
    "executionInfo": {
     "elapsed": 1472,
     "status": "ok",
     "timestamp": 1605247743021,
     "user": {
      "displayName": "sai pranay",
      "photoUrl": "https://lh3.googleusercontent.com/a-/AOh14GjyB5JboSBGwlexnx3OL2bCYVbj8I1ql6iKg4_XtQ=s64",
      "userId": "17020403249068426867"
     },
     "user_tz": -330
    },
    "id": "jYHrWBNrk0s8"
   },
   "outputs": [],
   "source": [
    "df_final_train.drop(['source_node', 'destination_node','indicator_link'],axis=1,inplace=True)\n",
    "df_final_test.drop(['source_node', 'destination_node','indicator_link'],axis=1,inplace=True)"
   ]
  },
  {
   "cell_type": "markdown",
   "metadata": {
    "id": "8FlR0AZ1k27b"
   },
   "source": [
    "## Modeling"
   ]
  },
  {
   "cell_type": "markdown",
   "metadata": {
    "id": "kAUxuIVnPv1k"
   },
   "source": [
    "## xgb.XGBClassifier -- 2"
   ]
  },
  {
   "cell_type": "code",
   "execution_count": 21,
   "metadata": {
    "executionInfo": {
     "elapsed": 1109,
     "status": "ok",
     "timestamp": 1605247763161,
     "user": {
      "displayName": "sai pranay",
      "photoUrl": "https://lh3.googleusercontent.com/a-/AOh14GjyB5JboSBGwlexnx3OL2bCYVbj8I1ql6iKg4_XtQ=s64",
      "userId": "17020403249068426867"
     },
     "user_tz": -330
    },
    "id": "AMQgCGtqQEOi"
   },
   "outputs": [],
   "source": [
    "import xgboost as xgb\n",
    "from sklearn.model_selection import RandomizedSearchCV\n",
    "from sklearn.metrics import accuracy_score"
   ]
  },
  {
   "cell_type": "code",
   "execution_count": 22,
   "metadata": {
    "colab": {
     "base_uri": "https://localhost:8080/"
    },
    "executionInfo": {
     "elapsed": 852977,
     "status": "ok",
     "timestamp": 1605248649923,
     "user": {
      "displayName": "sai pranay",
      "photoUrl": "https://lh3.googleusercontent.com/a-/AOh14GjyB5JboSBGwlexnx3OL2bCYVbj8I1ql6iKg4_XtQ=s64",
      "userId": "17020403249068426867"
     },
     "user_tz": -330
    },
    "id": "NS2SlGLkPv1l",
    "outputId": "133d9c7e-b2fa-49a4-94b8-35547f831697"
   },
   "outputs": [
    {
     "name": "stdout",
     "output_type": "stream",
     "text": [
      "time consumed to train this model:  0:14:11.509025\n"
     ]
    }
   ],
   "source": [
    "start = datetime.now()\n",
    "bst = xgb.XGBClassifier(objective='binary:logistic')\n",
    "# https://gist.github.com/wrwr/3f6b66bf4ee01bf48be965f60d14454d\n",
    "\n",
    "params = {\n",
    "          'max_depth': [6, 10, 15, 20],\n",
    "          'learning_rate': [0.001, 0.01, 0.1, 0.2, 0,3],\n",
    "          'subsample': [0.5, 0.6, 0.7, 0.8, 0.9, 1.0],\n",
    "          'colsample_bytree': [0.4, 0.5, 0.6, 0.7, 0.8, 0.9, 1.0],\n",
    "          'colsample_bylevel': [0.4, 0.5, 0.6, 0.7, 0.8, 0.9, 1.0],\n",
    "          'min_child_weight': [0.5, 1.0, 3.0, 5.0, 7.0, 10.0],\n",
    "          'gamma': [0, 0.25, 0.5, 1.0],\n",
    "          'reg_lambda': [0.1, 1.0, 5.0, 10.0, 50.0, 100.0],\n",
    "          'n_estimators': [x for x in range(5,50+1,5)]\n",
    "        }\n",
    "\n",
    "clf  = RandomizedSearchCV(bst, params, n_iter=15 ,cv=5, scoring='roc_auc' )  #bst is important here don't write clf\n",
    "\n",
    "clf.fit(df_final_train,y_train)\n",
    "\n",
    "print('time consumed to train this model: ',datetime.now()- start)"
   ]
  },
  {
   "cell_type": "code",
   "execution_count": 23,
   "metadata": {
    "colab": {
     "base_uri": "https://localhost:8080/",
     "height": 551
    },
    "executionInfo": {
     "elapsed": 852456,
     "status": "ok",
     "timestamp": 1605248649927,
     "user": {
      "displayName": "sai pranay",
      "photoUrl": "https://lh3.googleusercontent.com/a-/AOh14GjyB5JboSBGwlexnx3OL2bCYVbj8I1ql6iKg4_XtQ=s64",
      "userId": "17020403249068426867"
     },
     "user_tz": -330
    },
    "id": "L6Go0yDyPv1o",
    "outputId": "d59ffb4c-f329-4767-e01e-5185f6b61671"
   },
   "outputs": [
    {
     "data": {
      "text/html": [
       "<div>\n",
       "<style scoped>\n",
       "    .dataframe tbody tr th:only-of-type {\n",
       "        vertical-align: middle;\n",
       "    }\n",
       "\n",
       "    .dataframe tbody tr th {\n",
       "        vertical-align: top;\n",
       "    }\n",
       "\n",
       "    .dataframe thead th {\n",
       "        text-align: right;\n",
       "    }\n",
       "</style>\n",
       "<table border=\"1\" class=\"dataframe\">\n",
       "  <thead>\n",
       "    <tr style=\"text-align: right;\">\n",
       "      <th></th>\n",
       "      <th>mean_fit_time</th>\n",
       "      <th>std_fit_time</th>\n",
       "      <th>mean_score_time</th>\n",
       "      <th>std_score_time</th>\n",
       "      <th>param_subsample</th>\n",
       "      <th>param_reg_lambda</th>\n",
       "      <th>param_n_estimators</th>\n",
       "      <th>param_min_child_weight</th>\n",
       "      <th>param_max_depth</th>\n",
       "      <th>param_learning_rate</th>\n",
       "      <th>param_gamma</th>\n",
       "      <th>param_colsample_bytree</th>\n",
       "      <th>param_colsample_bylevel</th>\n",
       "      <th>params</th>\n",
       "      <th>split0_test_score</th>\n",
       "      <th>split1_test_score</th>\n",
       "      <th>split2_test_score</th>\n",
       "      <th>split3_test_score</th>\n",
       "      <th>split4_test_score</th>\n",
       "      <th>mean_test_score</th>\n",
       "      <th>std_test_score</th>\n",
       "      <th>rank_test_score</th>\n",
       "    </tr>\n",
       "  </thead>\n",
       "  <tbody>\n",
       "    <tr>\n",
       "      <th>0</th>\n",
       "      <td>4.466244</td>\n",
       "      <td>0.041583</td>\n",
       "      <td>0.040670</td>\n",
       "      <td>0.000321</td>\n",
       "      <td>0.9</td>\n",
       "      <td>0.1</td>\n",
       "      <td>20</td>\n",
       "      <td>3</td>\n",
       "      <td>6</td>\n",
       "      <td>0.01</td>\n",
       "      <td>0.5</td>\n",
       "      <td>1</td>\n",
       "      <td>0.4</td>\n",
       "      <td>{'subsample': 0.9, 'reg_lambda': 0.1, 'n_estim...</td>\n",
       "      <td>0.988980</td>\n",
       "      <td>0.990042</td>\n",
       "      <td>0.988929</td>\n",
       "      <td>0.989775</td>\n",
       "      <td>0.990338</td>\n",
       "      <td>0.989613</td>\n",
       "      <td>0.000566</td>\n",
       "      <td>12</td>\n",
       "    </tr>\n",
       "    <tr>\n",
       "      <th>1</th>\n",
       "      <td>2.776852</td>\n",
       "      <td>0.026580</td>\n",
       "      <td>0.034208</td>\n",
       "      <td>0.000239</td>\n",
       "      <td>0.8</td>\n",
       "      <td>1</td>\n",
       "      <td>10</td>\n",
       "      <td>1</td>\n",
       "      <td>6</td>\n",
       "      <td>0.1</td>\n",
       "      <td>0</td>\n",
       "      <td>0.7</td>\n",
       "      <td>0.7</td>\n",
       "      <td>{'subsample': 0.8, 'reg_lambda': 1.0, 'n_estim...</td>\n",
       "      <td>0.991647</td>\n",
       "      <td>0.993014</td>\n",
       "      <td>0.992778</td>\n",
       "      <td>0.992739</td>\n",
       "      <td>0.992489</td>\n",
       "      <td>0.992534</td>\n",
       "      <td>0.000473</td>\n",
       "      <td>10</td>\n",
       "    </tr>\n",
       "    <tr>\n",
       "      <th>2</th>\n",
       "      <td>13.033150</td>\n",
       "      <td>0.438723</td>\n",
       "      <td>0.072909</td>\n",
       "      <td>0.001925</td>\n",
       "      <td>0.6</td>\n",
       "      <td>50</td>\n",
       "      <td>30</td>\n",
       "      <td>3</td>\n",
       "      <td>20</td>\n",
       "      <td>0.1</td>\n",
       "      <td>0</td>\n",
       "      <td>0.4</td>\n",
       "      <td>1</td>\n",
       "      <td>{'subsample': 0.6, 'reg_lambda': 50.0, 'n_esti...</td>\n",
       "      <td>0.996952</td>\n",
       "      <td>0.997325</td>\n",
       "      <td>0.996014</td>\n",
       "      <td>0.996358</td>\n",
       "      <td>0.996134</td>\n",
       "      <td>0.996557</td>\n",
       "      <td>0.000502</td>\n",
       "      <td>6</td>\n",
       "    </tr>\n",
       "    <tr>\n",
       "      <th>3</th>\n",
       "      <td>2.820912</td>\n",
       "      <td>0.056684</td>\n",
       "      <td>0.030692</td>\n",
       "      <td>0.000385</td>\n",
       "      <td>0.8</td>\n",
       "      <td>50</td>\n",
       "      <td>5</td>\n",
       "      <td>10</td>\n",
       "      <td>15</td>\n",
       "      <td>0</td>\n",
       "      <td>1</td>\n",
       "      <td>0.8</td>\n",
       "      <td>0.8</td>\n",
       "      <td>{'subsample': 0.8, 'reg_lambda': 50.0, 'n_esti...</td>\n",
       "      <td>0.500000</td>\n",
       "      <td>0.500000</td>\n",
       "      <td>0.500000</td>\n",
       "      <td>0.500000</td>\n",
       "      <td>0.500000</td>\n",
       "      <td>0.500000</td>\n",
       "      <td>0.000000</td>\n",
       "      <td>13</td>\n",
       "    </tr>\n",
       "    <tr>\n",
       "      <th>4</th>\n",
       "      <td>28.036910</td>\n",
       "      <td>0.173467</td>\n",
       "      <td>0.077949</td>\n",
       "      <td>0.001404</td>\n",
       "      <td>1</td>\n",
       "      <td>50</td>\n",
       "      <td>45</td>\n",
       "      <td>7</td>\n",
       "      <td>20</td>\n",
       "      <td>0.1</td>\n",
       "      <td>0.5</td>\n",
       "      <td>0.9</td>\n",
       "      <td>0.8</td>\n",
       "      <td>{'subsample': 1.0, 'reg_lambda': 50.0, 'n_esti...</td>\n",
       "      <td>0.997809</td>\n",
       "      <td>0.998214</td>\n",
       "      <td>0.997596</td>\n",
       "      <td>0.997677</td>\n",
       "      <td>0.997644</td>\n",
       "      <td>0.997788</td>\n",
       "      <td>0.000224</td>\n",
       "      <td>3</td>\n",
       "    </tr>\n",
       "  </tbody>\n",
       "</table>\n",
       "</div>"
      ],
      "text/plain": [
       "   mean_fit_time  std_fit_time  ...  std_test_score  rank_test_score\n",
       "0       4.466244      0.041583  ...        0.000566               12\n",
       "1       2.776852      0.026580  ...        0.000473               10\n",
       "2      13.033150      0.438723  ...        0.000502                6\n",
       "3       2.820912      0.056684  ...        0.000000               13\n",
       "4      28.036910      0.173467  ...        0.000224                3\n",
       "\n",
       "[5 rows x 22 columns]"
      ]
     },
     "execution_count": 23,
     "metadata": {
      "tags": []
     },
     "output_type": "execute_result"
    }
   ],
   "source": [
    "results = pd.DataFrame(clf.cv_results_)\n",
    "results.head()"
   ]
  },
  {
   "cell_type": "code",
   "execution_count": 25,
   "metadata": {
    "colab": {
     "base_uri": "https://localhost:8080/"
    },
    "executionInfo": {
     "elapsed": 844266,
     "status": "ok",
     "timestamp": 1605248649930,
     "user": {
      "displayName": "sai pranay",
      "photoUrl": "https://lh3.googleusercontent.com/a-/AOh14GjyB5JboSBGwlexnx3OL2bCYVbj8I1ql6iKg4_XtQ=s64",
      "userId": "17020403249068426867"
     },
     "user_tz": -330
    },
    "id": "X5IBlE6iPv1u",
    "outputId": "d9997f48-612c-4acd-a547-9399c0539308"
   },
   "outputs": [
    {
     "data": {
      "text/plain": [
       "{'colsample_bylevel': 0.4,\n",
       " 'colsample_bytree': 0.7,\n",
       " 'gamma': 0,\n",
       " 'learning_rate': 0.2,\n",
       " 'max_depth': 15,\n",
       " 'min_child_weight': 7.0,\n",
       " 'n_estimators': 50,\n",
       " 'reg_lambda': 1.0,\n",
       " 'subsample': 0.8}"
      ]
     },
     "execution_count": 25,
     "metadata": {
      "tags": []
     },
     "output_type": "execute_result"
    }
   ],
   "source": [
    "clf.best_params_"
   ]
  },
  {
   "cell_type": "code",
   "execution_count": 26,
   "metadata": {
    "colab": {
     "base_uri": "https://localhost:8080/"
    },
    "executionInfo": {
     "elapsed": 842682,
     "status": "ok",
     "timestamp": 1605248649931,
     "user": {
      "displayName": "sai pranay",
      "photoUrl": "https://lh3.googleusercontent.com/a-/AOh14GjyB5JboSBGwlexnx3OL2bCYVbj8I1ql6iKg4_XtQ=s64",
      "userId": "17020403249068426867"
     },
     "user_tz": -330
    },
    "id": "q6kAsw8_VvhE",
    "outputId": "ac040570-4075-47c0-b93e-9850f6423cb3"
   },
   "outputs": [
    {
     "data": {
      "text/plain": [
       "0.9985255674872331"
      ]
     },
     "execution_count": 26,
     "metadata": {
      "tags": []
     },
     "output_type": "execute_result"
    }
   ],
   "source": [
    "clf.best_score_"
   ]
  },
  {
   "cell_type": "code",
   "execution_count": 24,
   "metadata": {
    "colab": {
     "base_uri": "https://localhost:8080/"
    },
    "executionInfo": {
     "elapsed": 844667,
     "status": "ok",
     "timestamp": 1605248649928,
     "user": {
      "displayName": "sai pranay",
      "photoUrl": "https://lh3.googleusercontent.com/a-/AOh14GjyB5JboSBGwlexnx3OL2bCYVbj8I1ql6iKg4_XtQ=s64",
      "userId": "17020403249068426867"
     },
     "user_tz": -330
    },
    "id": "uEdPyw2sPv1r",
    "outputId": "a9e37035-b38a-4e24-a11e-2b071cc9a24e"
   },
   "outputs": [
    {
     "data": {
      "text/plain": [
       "XGBClassifier(base_score=0.5, booster='gbtree', colsample_bylevel=0.4,\n",
       "              colsample_bynode=1, colsample_bytree=0.7, gamma=0,\n",
       "              learning_rate=0.2, max_delta_step=0, max_depth=15,\n",
       "              min_child_weight=7.0, missing=None, n_estimators=50, n_jobs=1,\n",
       "              nthread=None, objective='binary:logistic', random_state=0,\n",
       "              reg_alpha=0, reg_lambda=1.0, scale_pos_weight=1, seed=None,\n",
       "              silent=None, subsample=0.8, verbosity=1)"
      ]
     },
     "execution_count": 24,
     "metadata": {
      "tags": []
     },
     "output_type": "execute_result"
    }
   ],
   "source": [
    "clf.best_estimator_"
   ]
  },
  {
   "cell_type": "code",
   "execution_count": 27,
   "metadata": {
    "colab": {
     "base_uri": "https://localhost:8080/"
    },
    "executionInfo": {
     "elapsed": 22281,
     "status": "ok",
     "timestamp": 1605248695138,
     "user": {
      "displayName": "sai pranay",
      "photoUrl": "https://lh3.googleusercontent.com/a-/AOh14GjyB5JboSBGwlexnx3OL2bCYVbj8I1ql6iKg4_XtQ=s64",
      "userId": "17020403249068426867"
     },
     "user_tz": -330
    },
    "id": "LI1zLuw0Pv1w",
    "outputId": "38addc6d-65e0-44c4-e017-bc616971f547"
   },
   "outputs": [
    {
     "name": "stdout",
     "output_type": "stream",
     "text": [
      "time consumed to train this model:  0:00:21.105843\n"
     ]
    }
   ],
   "source": [
    "start = datetime.now()\n",
    "final_clf = xgb.XGBClassifier(base_score=0.5, booster='gbtree', colsample_bylevel=0.4,\n",
    "              colsample_bynode=1, colsample_bytree=0.7, gamma=0,\n",
    "              learning_rate=0.2, max_delta_step=0, max_depth=15,\n",
    "              min_child_weight=7.0, missing=None, n_estimators=50, n_jobs=1,\n",
    "              nthread=None, objective='binary:logistic', random_state=0,\n",
    "              reg_alpha=0, reg_lambda=1.0, scale_pos_weight=1, seed=None,\n",
    "              silent=None, subsample=0.8, verbosity=1)  #Copy the best estimator here\n",
    "              \n",
    "final_clf.fit(df_final_train,y_train)\n",
    "print('time consumed to train this model: ',datetime.now()- start)"
   ]
  },
  {
   "cell_type": "code",
   "execution_count": 28,
   "metadata": {
    "executionInfo": {
     "elapsed": 19631,
     "status": "ok",
     "timestamp": 1605248695597,
     "user": {
      "displayName": "sai pranay",
      "photoUrl": "https://lh3.googleusercontent.com/a-/AOh14GjyB5JboSBGwlexnx3OL2bCYVbj8I1ql6iKg4_XtQ=s64",
      "userId": "17020403249068426867"
     },
     "user_tz": -330
    },
    "id": "IYqlA4l_Pv1y"
   },
   "outputs": [],
   "source": [
    "# predicting using the best model\n",
    "y_train_pred = final_clf.predict(df_final_train)\n",
    "y_test_pred = final_clf.predict(df_final_test)"
   ]
  },
  {
   "cell_type": "code",
   "execution_count": 29,
   "metadata": {
    "colab": {
     "base_uri": "https://localhost:8080/"
    },
    "executionInfo": {
     "elapsed": 18950,
     "status": "ok",
     "timestamp": 1605248695598,
     "user": {
      "displayName": "sai pranay",
      "photoUrl": "https://lh3.googleusercontent.com/a-/AOh14GjyB5JboSBGwlexnx3OL2bCYVbj8I1ql6iKg4_XtQ=s64",
      "userId": "17020403249068426867"
     },
     "user_tz": -330
    },
    "id": "5Tq1zFWMPv10",
    "outputId": "d2a65190-d643-4579-dfcd-763e2f0c4bba"
   },
   "outputs": [
    {
     "name": "stdout",
     "output_type": "stream",
     "text": [
      "Train accuracy score:  0.993260134797304\n",
      "Test accuracy score:  0.9357425702971881\n"
     ]
    }
   ],
   "source": [
    "print('Train accuracy score: ',accuracy_score(y_train, y_train_pred ))\n",
    "print('Test accuracy score: ',accuracy_score(y_test, y_test_pred ))"
   ]
  },
  {
   "cell_type": "code",
   "execution_count": 30,
   "metadata": {
    "colab": {
     "base_uri": "https://localhost:8080/"
    },
    "executionInfo": {
     "elapsed": 18244,
     "status": "ok",
     "timestamp": 1605248695599,
     "user": {
      "displayName": "sai pranay",
      "photoUrl": "https://lh3.googleusercontent.com/a-/AOh14GjyB5JboSBGwlexnx3OL2bCYVbj8I1ql6iKg4_XtQ=s64",
      "userId": "17020403249068426867"
     },
     "user_tz": -330
    },
    "id": "zUEkvW05ZwnQ",
    "outputId": "1f40bd81-da25-483f-dc04-1dde949e2c0a"
   },
   "outputs": [
    {
     "name": "stdout",
     "output_type": "stream",
     "text": [
      "Train f1-score:  0.9932429722901712\n",
      "Test f1-score:  0.9321937321937322\n"
     ]
    }
   ],
   "source": [
    "from sklearn.metrics import f1_score\n",
    "print('Train f1-score: ',f1_score(y_train, y_train_pred ))\n",
    "print('Test f1-score: ',f1_score(y_test, y_test_pred ))"
   ]
  },
  {
   "cell_type": "code",
   "execution_count": 33,
   "metadata": {
    "colab": {
     "base_uri": "https://localhost:8080/",
     "height": 606
    },
    "executionInfo": {
     "elapsed": 2329,
     "status": "ok",
     "timestamp": 1605248720677,
     "user": {
      "displayName": "sai pranay",
      "photoUrl": "https://lh3.googleusercontent.com/a-/AOh14GjyB5JboSBGwlexnx3OL2bCYVbj8I1ql6iKg4_XtQ=s64",
      "userId": "17020403249068426867"
     },
     "user_tz": -330
    },
    "id": "fo_FkTGbPv12",
    "outputId": "411c0394-cc7a-438e-d98c-fcd44bcfaa9d"
   },
   "outputs": [
    {
     "name": "stdout",
     "output_type": "stream",
     "text": [
      "Train confusion_matrix\n"
     ]
    },
    {
     "data": {
      "image/png": "[encoded data removed]",
      "text/plain": [
       "<Figure size 1440x288 with 6 Axes>"
      ]
     },
     "metadata": {
      "needs_background": "light",
      "tags": []
     },
     "output_type": "display_data"
    },
    {
     "name": "stdout",
     "output_type": "stream",
     "text": [
      "Test confusion_matrix\n"
     ]
    },
    {
     "data": {
      "image/png": "[encoded data removed]",
      "text/plain": [
       "<Figure size 1440x288 with 6 Axes>"
      ]
     },
     "metadata": {
      "needs_background": "light",
      "tags": []
     },
     "output_type": "display_data"
    }
   ],
   "source": [
    "print('Train confusion_matrix')\n",
    "plot_confusion_matrix(y_train,y_train_pred)\n",
    "print('Test confusion_matrix')\n",
    "plot_confusion_matrix(y_test,y_test_pred)"
   ]
  },
  {
   "cell_type": "code",
   "execution_count": 34,
   "metadata": {
    "colab": {
     "base_uri": "https://localhost:8080/",
     "height": 730
    },
    "executionInfo": {
     "elapsed": 1529,
     "status": "ok",
     "timestamp": 1605248728987,
     "user": {
      "displayName": "sai pranay",
      "photoUrl": "https://lh3.googleusercontent.com/a-/AOh14GjyB5JboSBGwlexnx3OL2bCYVbj8I1ql6iKg4_XtQ=s64",
      "userId": "17020403249068426867"
     },
     "user_tz": -330
    },
    "id": "hTFaSwIgPv15",
    "outputId": "77b3d430-04d9-46df-b0d7-88a6b4dc8d08"
   },
   "outputs": [
    {
     "data": {
      "image/png": "[encoded data removed]",
      "text/plain": [
       "<Figure size 720x864 with 1 Axes>"
      ]
     },
     "metadata": {
      "needs_background": "light",
      "tags": []
     },
     "output_type": "display_data"
    }
   ],
   "source": [
    "features = df_final_train.columns\n",
    "importances = final_clf.feature_importances_\n",
    "indices = (np.argsort(importances))[-25:]\n",
    "plt.figure(figsize=(10,12))\n",
    "plt.title('Feature Importances')\n",
    "plt.barh(range(len(indices)), importances[indices], color='orange', align='center')\n",
    "plt.yticks(range(len(indices)), [features[i] for i in indices])\n",
    "plt.xlabel('Relative Importance')\n",
    "plt.show()"
   ]
  },
  {
   "cell_type": "markdown",
   "metadata": {
    "id": "lU5fgv38W7BP"
   },
   "source": [
    "## Summary"
   ]
  },
  {
   "cell_type": "markdown",
   "metadata": {
    "id": "NfwS-PnRpbPO"
   },
   "source": [
    "### step-by-step approach to solve this problem"
   ]
  },
  {
   "cell_type": "code",
   "execution_count": null,
   "metadata": {
    "id": "yKdF-FHaXuwy"
   },
   "outputs": [],
   "source": [
    "# step-by-step approach to solve this problem\n",
    "\n",
    "Probelm definition:\n",
    "        Given Social Network (Facebook) dataset with the 2 columns as (user_i, user_j) and stated that all u_i and u_j are friends as per the\n",
    "        snapshot data that has been given to us. Note: Timestamp is not provided here.\n",
    "\n",
    "Mapping given problem to ML problem:\n",
    "        We have to predict the link betwen the users (u_i and u_j). Whether we should recommend u_i to u_j\n",
    "        Sample data : u_i , u_j = 1 means u_i is following u_j\n",
    "        Here u_i is called Source and u_j is called Destination\n",
    "        So, Here we are solving a classification problem here \n",
    "        Link Prediction --> Supevised Learning --> Binary classification problem\n",
    "\n",
    "Approach: \n",
    "        Considering the given train.csv and converting it into graph data structure to solve the problem by generating the features using \n",
    "        graph theory based concepts like pagerank, Adamic/Adar index, Kartz centrality, preferential attachment etc.,\n",
    "        Here each user will be a node and if the presence of link between them indicates the friendship yes/node\n",
    "        u_i,u_j = Source_node,Destination_node\n",
    "\n",
    "Data prepartion:\n",
    "        All the given pairs has links between them so their response label would be 1 (Link : Yes)\n",
    "        If the link link is not present btw the two nodes then that pair opf nodes are provided label 0  (Link : No )\n",
    "\n",
    "        Observations:\n",
    "                As we see there is u_i,u_j and u_j,u_i pair in the dataset, that means we have Directed graph here\n",
    "                So assuming the Follower and Followee concept to solve it further.\n",
    "\n",
    "Choosing performance metric:\n",
    "        We have to predict the link between the users more precisely. Our metric would precision and Recall. So we are chosing F1_score as \n",
    "        our metric as it is large only when both precision and recall are high\n",
    "\n",
    "Exploratory Data analysis:\n",
    "        Performed thorough data analysis to understand the data that is provided. As not much features are provided to us we could not\n",
    "        get more insights from the features which can help us to classify the data\n",
    "        directly to separate the data.\n",
    "\n",
    "Splitting data:\n",
    "        We know that the data provided to us is not temporal in nature. So the data is splitted randomly and No of samples are reduced \n",
    "        taking computational power and time into consideration.\n",
    "\n",
    "Major Task (Feature Engineering):\n",
    "        Our main goal here is to extract the features with the help of data that is in x_train which has only 2 columns in it(Source and Destination). \n",
    "        We have to come up with graph based feature engineering techniques to the given user nodes.\n",
    "\n",
    "Feature Engineering:\n",
    "        Node based topological similarity (local):\n",
    "                Cosine Simalrity \n",
    "                Jaccard’s Coefficient\n",
    "                Adamic/Adar\n",
    "                Preferential Attachment\n",
    "        Path based topological similarity (global)\n",
    "                Katz\n",
    "                Hits score\n",
    "                PageRank\n",
    "                Connected_components\n",
    "        SVD features using Adjacency Matrix A\n",
    "                in which each element A_ij in A is a binary value\n",
    "                A_ij = 1 : if u_i is following u_j are friends else: 0\n",
    "                Each node will have feature vector now. With the K-dimension.\n",
    "        Weight features:\n",
    "                All These features are gathered from the refrences from a paper which helps us to solve the link prediction problem easily.\n",
    "                http://be.amazd.com/link-prediction/    \n",
    "                https://storage.googleapis.com/kaggle-forum-message-attachments/2594/supervised_link_prediction.pdf\n",
    "\n",
    "Modeling:\n",
    "        Applying proper MachineLearning algorithms like XGBoost , RandomForest etc.., to solve this classification pblm\n",
    "        Hyperparam tuning is done accordingly.\n",
    "\n",
    "Model evaluation:\n",
    "        Train and Test consfusion matrices are plotted along with their precision and recall matrices which helps us to evaluate the performace\n",
    "        of our model efficiently and F1 Scores are also computed for both train and test datasets. \n",
    "        There is no Overfitting of the data as there is not significant change in the train and test metric scores.\n"
   ]
  }
 ],
 "metadata": {
  "colab": {
   "collapsed_sections": [],
   "machine_shape": "hm",
   "name": "FB_Models.ipynb",
   "provenance": [
    {
     "file_id": "1IzPbxNFQmmSYk9s14L4YjBfUgACn9mW2",
     "timestamp": 1603214664032
    },
    {
     "file_id": "1G7NKeneJNyRtcRxLVbbF9jYtRyuTOa-R",
     "timestamp": 1592749700622
    },
    {
     "file_id": "https://github.com/satyajitghana/TSAI-DeepVision-EVA4.0/blob/master/Utils/Colab_25GBRAM_GPU.ipynb",
     "timestamp": 1592043804148
    }
   ],
   "toc_visible": true
  },
  "kernelspec": {
   "display_name": "Python 3",
   "language": "python",
   "name": "python3"
  },
  "language_info": {
   "codemirror_mode": {
    "name": "ipython",
    "version": 3
   },
   "file_extension": ".py",
   "mimetype": "text/x-python",
   "name": "python",
   "nbconvert_exporter": "python",
   "pygments_lexer": "ipython3",
   "version": "3.7.6"
  }
 },
 "nbformat": 4,
 "nbformat_minor": 1
}
