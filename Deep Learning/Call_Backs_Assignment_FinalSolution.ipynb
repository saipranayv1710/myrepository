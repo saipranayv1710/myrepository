{
  "nbformat": 4,
  "nbformat_minor": 0,
  "metadata": {
    "colab": {
      "name": "Call_Backs_Assignment.ipynb",
      "provenance": [],
      "collapsed_sections": [],
      "toc_visible": true,
      "machine_shape": "hm"
    },
    "kernelspec": {
      "name": "python3",
      "display_name": "Python 3"
    },
    "accelerator": "GPU"
  },
  "cells": [
    {
      "cell_type": "markdown",
      "metadata": {
        "id": "V6u_FjHTg4vD"
      },
      "source": [
        "#Callbacks"
      ]
    },
    {
      "cell_type": "markdown",
      "metadata": {
        "id": "AQDRNrY2NCXf"
      },
      "source": [
        "<pre>\n",
        "1. Download the data from <a href='https://drive.google.com/file/d/15dCNcmKskcFVjs7R0ElQkR61Ex53uJpM/view?usp=sharing'>here</a>\n",
        "\n",
        "2. Code the model to classify data like below image\n",
        "\n",
        "<img src='https://i.imgur.com/33ptOFy.png'>\n",
        "\n",
        "3. Write your own callback function, that has to print the micro F1 score and AUC score after each epoch.\n",
        "\n",
        "4. Save your model at every epoch if your validation accuracy is improved from previous epoch. \n",
        "\n",
        "5. you have to decay learning based on below conditions \n",
        "        Cond1. If your validation accuracy at that epoch is less than previous epoch accuracy, you have to decrese the\n",
        "               learning rate by 10%. \n",
        "        Cond2. For every 3rd epoch, decay your learning rate by 5%.\n",
        "        \n",
        "6. If you are getting any NaN values(either weigths or loss) while training, you have to terminate your training. \n",
        "\n",
        "7. You have to stop the training if your validation accuracy is not increased in last 2 epochs.\n",
        "\n",
        "8. Use tensorboard for every model and analyse your gradients. (you need to upload the screenshots for each model for evaluation)\n",
        "\n",
        "9. use cross entropy as loss function\n",
        "\n",
        "10. Try the architecture params as given below. \n",
        "</pre>"
      ]
    },
    {
      "cell_type": "markdown",
      "metadata": {
        "id": "w41Y3TFENCXk"
      },
      "source": [
        "<pre>\n",
        "<b>Model-1</b>\n",
        "<pre>\n",
        "1. Use tanh as an activation for every layer except output layer.\n",
        "2. use SGD with momentum as optimizer.\n",
        "3. use RandomUniform(0,1) as initilizer.\n",
        "3. Analyze your output and training process. \n",
        "</pre>\n",
        "</pre>\n",
        "<pre>\n",
        "<b>Model-2</b>\n",
        "<pre>\n",
        "1. Use relu as an activation for every layer except output layer.\n",
        "2. use SGD with momentum as optimizer.\n",
        "3. use RandomUniform(0,1) as initilizer.\n",
        "3. Analyze your output and training process. \n",
        "</pre>\n",
        "</pre>\n",
        "<pre>\n",
        "<b>Model-3</b>\n",
        "<pre>\n",
        "1. Use relu as an activation for every layer except output layer.\n",
        "2. use SGD with momentum as optimizer.\n",
        "3. use he_uniform() as initilizer.\n",
        "3. Analyze your output and training process. \n",
        "</pre>\n",
        "</pre>\n",
        "<pre>\n",
        "<b>Model-4</b>\n",
        "<pre>\n",
        "1. Try with any values to get better accuracy/f1 score.  \n",
        "</pre>\n",
        "</pre>"
      ]
    },
    {
      "cell_type": "markdown",
      "metadata": {
        "id": "q9ILHClAOwie"
      },
      "source": [
        "### 1.Import data"
      ]
    },
    {
      "cell_type": "code",
      "metadata": {
        "id": "c4q8ZHMHXs5A"
      },
      "source": [
        "import tensorflow as tf\r\n",
        "from tensorflow import keras\r\n",
        "from tensorflow.keras import layers,metrics\r\n",
        "from tensorflow.keras.callbacks import LearningRateScheduler\r\n",
        "from tensorflow.keras.callbacks import TerminateOnNaN\r\n",
        "from tensorflow.keras.callbacks import EarlyStopping\r\n",
        "\r\n",
        "import pandas as pd\r\n",
        "import numpy as np\r\n",
        "import sklearn\r\n",
        "import datetime\r\n",
        "# !pip install -q pyyaml h5py"
      ],
      "execution_count": null,
      "outputs": []
    },
    {
      "cell_type": "code",
      "metadata": {
        "colab": {
          "base_uri": "https://localhost:8080/"
        },
        "id": "VlIhtBwJK903",
        "outputId": "bfc0c160-6fac-4784-dfe9-4cf2f9b8a47c"
      },
      "source": [
        "from google.colab import drive\n",
        "drive.mount('/content/drive')"
      ],
      "execution_count": null,
      "outputs": [
        {
          "output_type": "stream",
          "text": [
            "Drive already mounted at /content/drive; to attempt to forcibly remount, call drive.mount(\"/content/drive\", force_remount=True).\n"
          ],
          "name": "stdout"
        }
      ]
    },
    {
      "cell_type": "code",
      "metadata": {
        "colab": {
          "base_uri": "https://localhost:8080/",
          "height": 212
        },
        "id": "MwZQ5rtjKeso",
        "outputId": "747d9613-c53a-4dd7-b178-588c2c6f6b91"
      },
      "source": [
        "df = pd.read_csv('/content/drive/MyDrive/Colab Notebooks/20 Working with Callbacks/data.csv')\r\n",
        "print(df.shape)\r\n",
        "df.head()"
      ],
      "execution_count": null,
      "outputs": [
        {
          "output_type": "stream",
          "text": [
            "(20000, 3)\n"
          ],
          "name": "stdout"
        },
        {
          "output_type": "execute_result",
          "data": {
            "text/html": [
              "<div>\n",
              "<style scoped>\n",
              "    .dataframe tbody tr th:only-of-type {\n",
              "        vertical-align: middle;\n",
              "    }\n",
              "\n",
              "    .dataframe tbody tr th {\n",
              "        vertical-align: top;\n",
              "    }\n",
              "\n",
              "    .dataframe thead th {\n",
              "        text-align: right;\n",
              "    }\n",
              "</style>\n",
              "<table border=\"1\" class=\"dataframe\">\n",
              "  <thead>\n",
              "    <tr style=\"text-align: right;\">\n",
              "      <th></th>\n",
              "      <th>f1</th>\n",
              "      <th>f2</th>\n",
              "      <th>label</th>\n",
              "    </tr>\n",
              "  </thead>\n",
              "  <tbody>\n",
              "    <tr>\n",
              "      <th>0</th>\n",
              "      <td>0.450564</td>\n",
              "      <td>1.074305</td>\n",
              "      <td>0.0</td>\n",
              "    </tr>\n",
              "    <tr>\n",
              "      <th>1</th>\n",
              "      <td>0.085632</td>\n",
              "      <td>0.967682</td>\n",
              "      <td>0.0</td>\n",
              "    </tr>\n",
              "    <tr>\n",
              "      <th>2</th>\n",
              "      <td>0.117326</td>\n",
              "      <td>0.971521</td>\n",
              "      <td>1.0</td>\n",
              "    </tr>\n",
              "    <tr>\n",
              "      <th>3</th>\n",
              "      <td>0.982179</td>\n",
              "      <td>-0.380408</td>\n",
              "      <td>0.0</td>\n",
              "    </tr>\n",
              "    <tr>\n",
              "      <th>4</th>\n",
              "      <td>-0.720352</td>\n",
              "      <td>0.955850</td>\n",
              "      <td>0.0</td>\n",
              "    </tr>\n",
              "  </tbody>\n",
              "</table>\n",
              "</div>"
            ],
            "text/plain": [
              "         f1        f2  label\n",
              "0  0.450564  1.074305    0.0\n",
              "1  0.085632  0.967682    0.0\n",
              "2  0.117326  0.971521    1.0\n",
              "3  0.982179 -0.380408    0.0\n",
              "4 -0.720352  0.955850    0.0"
            ]
          },
          "metadata": {
            "tags": []
          },
          "execution_count": 3
        }
      ]
    },
    {
      "cell_type": "code",
      "metadata": {
        "colab": {
          "base_uri": "https://localhost:8080/"
        },
        "id": "DQu3qo3HJkwP",
        "outputId": "671d550f-3b95-411c-fe75-6f4b59340519"
      },
      "source": [
        "df['label'].value_counts()"
      ],
      "execution_count": null,
      "outputs": [
        {
          "output_type": "execute_result",
          "data": {
            "text/plain": [
              "1.0    10000\n",
              "0.0    10000\n",
              "Name: label, dtype: int64"
            ]
          },
          "metadata": {
            "tags": []
          },
          "execution_count": 4
        }
      ]
    },
    {
      "cell_type": "code",
      "metadata": {
        "colab": {
          "base_uri": "https://localhost:8080/"
        },
        "id": "3P5YfDmKLhKO",
        "outputId": "f23eda90-1f4e-4e7f-d72c-cdf564a947d3"
      },
      "source": [
        "A = df['label'].unique()\r\n",
        "print(A)\r\n",
        "print( \"It's a {} class classification problem\".format(len(A)))"
      ],
      "execution_count": null,
      "outputs": [
        {
          "output_type": "stream",
          "text": [
            "[0. 1.]\n",
            "It's a 2 class classification problem\n"
          ],
          "name": "stdout"
        }
      ]
    },
    {
      "cell_type": "code",
      "metadata": {
        "colab": {
          "base_uri": "https://localhost:8080/"
        },
        "id": "vT5kq_xiPebd",
        "outputId": "becbaaad-f46c-43ab-cd91-8bb813b4ac18"
      },
      "source": [
        "from sklearn.model_selection import train_test_split \r\n",
        "\r\n",
        "X = df[['f1','f2']].values\r\n",
        "y = df['label'].values\r\n",
        "\r\n",
        "print(X.shape, y.shape )\r\n",
        "X_train, X_test, y_train, y_test = train_test_split(X, y, test_size=0.3, stratify = y , random_state =42)\r\n",
        "print(X_train.shape, y_train.shape )\r\n",
        "print(X_test.shape, y_test.shape )"
      ],
      "execution_count": null,
      "outputs": [
        {
          "output_type": "stream",
          "text": [
            "(20000, 2) (20000,)\n",
            "(14000, 2) (14000,)\n",
            "(6000, 2) (6000,)\n"
          ],
          "name": "stdout"
        }
      ]
    },
    {
      "cell_type": "code",
      "metadata": {
        "id": "ADmh098fPeY9"
      },
      "source": [
        "# print(X_train[0])\r\n",
        "# from sklearn.preprocessing import StandardScaler\r\n",
        "# scaler = StandardScaler()\r\n",
        "# X_train = scaler.fit_transform(X_train)\r\n",
        "# X_test =  scaler.transform(X_test)\r\n",
        "# print(X_train[0])"
      ],
      "execution_count": null,
      "outputs": []
    },
    {
      "cell_type": "markdown",
      "metadata": {
        "id": "TGUWS-WQLmR3"
      },
      "source": [
        "### 2.Model"
      ]
    },
    {
      "cell_type": "code",
      "metadata": {
        "id": "uEXOUNvxT_Lx"
      },
      "source": [
        "input_dim = 2\r\n",
        "nb_epochs = 5\r\n",
        "batch_size = 32"
      ],
      "execution_count": null,
      "outputs": []
    },
    {
      "cell_type": "code",
      "metadata": {
        "id": "8Nv2e1UKvVZ8"
      },
      "source": [
        "def create_model():\r\n",
        "  model = tf.keras.models.Sequential([\r\n",
        "      keras.layers.Dense(512 , activation='relu', input_shape = (input_dim,)),\r\n",
        "      keras.layers.Dense(256 , activation='relu'),\r\n",
        "      keras.layers.Dense(128 , activation='relu'),\r\n",
        "      keras.layers.Dense(64 , activation='relu'),\r\n",
        "      keras.layers.Dense(32 , activation='relu'),\r\n",
        "      keras.layers.Dense(1, activation='sigmoid')\r\n",
        "      ])\r\n",
        "  model.compile(optimizer = 'adam',loss = 'binary_crossentropy', metrics = ['accuracy'] )\r\n",
        "  return model "
      ],
      "execution_count": null,
      "outputs": []
    },
    {
      "cell_type": "markdown",
      "metadata": {
        "id": "HGCDN7qOQyz_"
      },
      "source": [
        "### 3.Micro f1-score and AUC using callbacks"
      ]
    },
    {
      "cell_type": "markdown",
      "metadata": {
        "id": "xYkvfNN_4QyD"
      },
      "source": [
        "https://towardsdatascience.com/implementing-macro-f1-score-in-keras-what-not-to-do-e9f1aa04029d\r\n",
        "\r\n",
        "https://www.tensorflow.org/guide/keras/custom_callback"
      ]
    },
    {
      "cell_type": "code",
      "metadata": {
        "id": "f0VhO6dbFYeQ"
      },
      "source": [
        "#UNDERSTANDING the code written below\r\n",
        "# For Neural Networks with last layer as sigmoid\r\n",
        "# output will not be the class labels , output will be probabilities \r\n",
        "# So, model.predict() and model.predict_proba both are equal. From 2021 model.predict_proba will be depricated from TensorFlow\r\n",
        "# output will be like \r\n",
        "# A = model.predict(y_test[:5])\r\n",
        "# A is like array([[0.7062829 ], [0.42575204],[0.51447964],[0.46250603],[0.29193988]]\r\n",
        "\r\n",
        "# Note:\r\n",
        "# to convert prob scores to class labels we are using round\r\n",
        "# if prob_val<=0.5: then label =0 else label = 1\r\n",
        "# now if we do A.round()  then we will get [1 , 0 , 1, 0 , 0]\r\n",
        "\r\n",
        "####----------------------------------------------------------------------------------------------------------------------\r\n",
        "\r\n",
        "# https://stackoverflow.com/questions/59635474/whats-difference-between-using-metrics-acc-and-tf-keras-metrics-accuracy\r\n",
        "# Difference between metrics = ['accuracy'] and metrics = [tf.keras.metrics.Accuracy()] in TensorFlow which writing custom callbacks on_epoch_end()"
      ],
      "execution_count": null,
      "outputs": []
    },
    {
      "cell_type": "code",
      "metadata": {
        "id": "1jTM_InEXAZT"
      },
      "source": [
        "class f1_auc_callback(tf.keras.callbacks.Callback):\r\n",
        "    \"\"\"Callback that computes the micro f1-score amd AUC score at end of each epoch\r\n",
        "    \"\"\"\r\n",
        "    def __init__(self, validation):   \r\n",
        "        super(f1_auc_callback, self).__init__()\r\n",
        "        self.validation = validation        \r\n",
        "\r\n",
        "    def on_epoch_end(self, epoch, logs=None):\r\n",
        "          keys = list(logs.keys())\r\n",
        "          # Data pipeline\r\n",
        "          (X_val,y_val) = self.validation\r\n",
        "\r\n",
        "          # Please read the above cell comments for clear explaination\r\n",
        "          y_pred = (np.asarray(self.model.predict(X_val))).round()\r\n",
        "          y_pred_probas = self.model.predict(X_val)  # will get prob scores as explained above\r\n",
        "\r\n",
        "          # Computing micro f1_score\r\n",
        "          micro_f1_score = sklearn.metrics.f1_score(y_val, y_pred ,average = 'micro')\r\n",
        "          micro_f1_score = round(micro_f1_score,6)\r\n",
        "\r\n",
        "          # Computing AUC score\r\n",
        "          AUC = sklearn.metrics.roc_auc_score(y_val,y_pred_probas)\r\n",
        "          AUC = round(AUC,6)\r\n",
        "          print(\"End epoch {} of training; micro f1-score : {}, AUC_score : {}\".format(epoch,micro_f1_score,AUC))"
      ],
      "execution_count": null,
      "outputs": []
    },
    {
      "cell_type": "code",
      "metadata": {
        "colab": {
          "base_uri": "https://localhost:8080/"
        },
        "id": "58mSyCjWWVBo",
        "outputId": "5f38680d-7e8b-40a9-b7ee-2da2e59d7bfc"
      },
      "source": [
        "#https://machinelearningmastery.com/binary-classification-tutorial-with-the-keras-deep-learning-library/\r\n",
        "\r\n",
        "model = create_model()\r\n",
        "model.compile(optimizer = 'adam',loss = 'binary_crossentropy', metrics = ['accuracy'] )\r\n",
        "\r\n",
        "callbacks_list = [f1_auc_callback(validation = (X_test,y_test))]\r\n",
        "History = model.fit(X_train,y_train, batch_size = batch_size ,epochs = nb_epochs, verbose =1,\\\r\n",
        "                    validation_data = (X_test,y_test), callbacks= callbacks_list)"
      ],
      "execution_count": null,
      "outputs": [
        {
          "output_type": "stream",
          "text": [
            "Epoch 1/5\n",
            "438/438 [==============================] - 2s 4ms/step - loss: 0.6569 - accuracy: 0.6022 - val_loss: 0.6091 - val_accuracy: 0.6698\n",
            "End epoch 0 of training; micro f1-score : 0.669833, AUC_score : 0.730552\n",
            "Epoch 2/5\n",
            "438/438 [==============================] - 2s 4ms/step - loss: 0.6056 - accuracy: 0.6729 - val_loss: 0.6066 - val_accuracy: 0.6678\n",
            "End epoch 1 of training; micro f1-score : 0.667833, AUC_score : 0.732438\n",
            "Epoch 3/5\n",
            "438/438 [==============================] - 2s 4ms/step - loss: 0.6006 - accuracy: 0.6728 - val_loss: 0.6167 - val_accuracy: 0.6595\n",
            "End epoch 2 of training; micro f1-score : 0.6595, AUC_score : 0.729553\n",
            "Epoch 4/5\n",
            "438/438 [==============================] - 2s 4ms/step - loss: 0.6108 - accuracy: 0.6608 - val_loss: 0.6066 - val_accuracy: 0.6685\n",
            "End epoch 3 of training; micro f1-score : 0.6685, AUC_score : 0.733525\n",
            "Epoch 5/5\n",
            "438/438 [==============================] - 2s 4ms/step - loss: 0.5989 - accuracy: 0.6729 - val_loss: 0.6114 - val_accuracy: 0.6660\n",
            "End epoch 4 of training; micro f1-score : 0.666, AUC_score : 0.729586\n"
          ],
          "name": "stdout"
        }
      ]
    },
    {
      "cell_type": "markdown",
      "metadata": {
        "id": "R_yIyiRiE6JL"
      },
      "source": [
        "### 4.Saving model based on prev epoch val_acc"
      ]
    },
    {
      "cell_type": "code",
      "metadata": {
        "id": "7omUbc8fPy2N"
      },
      "source": [
        "class savemodel_callback(tf.keras.callbacks.Callback):\r\n",
        "    \"\"\"Callback that saves the model if performance os improved from previos epoch\r\n",
        "    \"\"\"\r\n",
        "\r\n",
        "    def __init__(self):\r\n",
        "      super(savemodel_callback,self).__init__()\r\n",
        "    \r\n",
        "    def on_train_begin(self, logs=None):\r\n",
        "      self.history = {'loss':[] , 'accuracy':[] , 'val_loss':[], 'val_accuracy':[]}\r\n",
        "\r\n",
        "    def on_epoch_end(self, epoch ,logs=None):\r\n",
        "      # Note: Here we will get epoch from 0 - n epochs\r\n",
        "      self.history['loss'].append(logs.get('loss'))\r\n",
        "      self.history['accuracy'].append(logs.get('accuracy'))\r\n",
        "      if logs.get('val_loss', -1) != -1:\r\n",
        "          self.history['val_loss'].append(logs.get('val_loss'))\r\n",
        "      if logs.get('val_accuracy', -1) != -1:\r\n",
        "          self.history['val_accuracy'].append(logs.get('val_accuracy'))\r\n",
        "\r\n",
        "      # as epoch starts from epoch>=1 means min 2 epochs\r\n",
        "      if epoch>=1 and (self.history['val_accuracy'][-1] > self.history['val_accuracy'][-2]):\r\n",
        "          filepath=\"weights-{:02d}-{:.4f}.hdf5\".format(epoch+1 , self.history['val_accuracy'][-1])\r\n",
        "          print('saving model.....as val_acc improved from previous epoch - ',filepath)\r\n",
        "          self.model.save(filepath) "
      ],
      "execution_count": null,
      "outputs": []
    },
    {
      "cell_type": "code",
      "metadata": {
        "colab": {
          "base_uri": "https://localhost:8080/"
        },
        "id": "L1-Yyqom87uE",
        "outputId": "c2343734-af4b-423d-f639-e4ae172f61b9"
      },
      "source": [
        "model = create_model()\r\n",
        "callbacks_list = [savemodel_callback()]\r\n",
        "model.fit(X_train,y_train, batch_size = batch_size ,epochs = 5, verbose =1,\\\r\n",
        "                    validation_data = (X_test,y_test), callbacks= callbacks_list)"
      ],
      "execution_count": null,
      "outputs": [
        {
          "output_type": "stream",
          "text": [
            "Epoch 1/5\n",
            "438/438 [==============================] - 2s 4ms/step - loss: 0.6569 - accuracy: 0.5888 - val_loss: 0.6140 - val_accuracy: 0.6605\n",
            "Epoch 2/5\n",
            "438/438 [==============================] - 2s 4ms/step - loss: 0.6036 - accuracy: 0.6673 - val_loss: 0.6147 - val_accuracy: 0.6648\n",
            "saving model.....as val_acc improved from previous epoch -  weights-02-0.6648.hdf5\n",
            "Epoch 3/5\n",
            "438/438 [==============================] - 2s 4ms/step - loss: 0.5975 - accuracy: 0.6756 - val_loss: 0.6127 - val_accuracy: 0.6600\n",
            "Epoch 4/5\n",
            "438/438 [==============================] - 2s 4ms/step - loss: 0.6058 - accuracy: 0.6649 - val_loss: 0.6129 - val_accuracy: 0.6650\n",
            "saving model.....as val_acc improved from previous epoch -  weights-04-0.6650.hdf5\n",
            "Epoch 5/5\n",
            "438/438 [==============================] - 2s 4ms/step - loss: 0.6074 - accuracy: 0.6696 - val_loss: 0.6125 - val_accuracy: 0.6605\n"
          ],
          "name": "stdout"
        },
        {
          "output_type": "execute_result",
          "data": {
            "text/plain": [
              "<tensorflow.python.keras.callbacks.History at 0x7f42100ec390>"
            ]
          },
          "metadata": {
            "tags": []
          },
          "execution_count": 16
        }
      ]
    },
    {
      "cell_type": "code",
      "metadata": {
        "id": "p-bmx0x_J3aF"
      },
      "source": [
        "# import os \r\n",
        "# print(os.getcwd())\r\n",
        "# for x in os.listdir(path = '/content/'):\r\n",
        "#   if 'weights' in x:\r\n",
        "#     os.remove(x)"
      ],
      "execution_count": null,
      "outputs": []
    },
    {
      "cell_type": "markdown",
      "metadata": {
        "id": "ae5UNYOjHrEu"
      },
      "source": [
        "### 5.Decay LR"
      ]
    },
    {
      "cell_type": "code",
      "metadata": {
        "id": "2PQDZsAxdZnF"
      },
      "source": [
        "# Note:\r\n",
        "#UNDERSTANDING the code written below\r\n",
        "# To check the val_acc is changing from previous epochs are not we need atleast 2 epochs first \r\n",
        "# when we have epoch1_acc and epoch2_acc then if epoch2_acc < epoch1_acc then we decay learning rate for epoch3 by 5%"
      ],
      "execution_count": null,
      "outputs": []
    },
    {
      "cell_type": "code",
      "metadata": {
        "id": "hbsLLMaidZkK"
      },
      "source": [
        "# https://www.kaggle.com/fergusoci/keras-loss-based-learning-rate-scheduler\r\n",
        "# https://www.tensorflow.org/api_docs/python/tf/keras/callbacks/LearningRateScheduler\r\n",
        "# https://stackoverflow.com/questions/39779710/setting-up-a-learningratescheduler-in-keras\r\n",
        "# https://stackoverflow.com/questions/64710596/custom-learningratescheduler-in-keras/64712211\r\n",
        "\r\n",
        "class AccuracyHistory(tf.keras.callbacks.Callback):\r\n",
        "      \"\"\"Decaying Learningrate based on the given 2 conditions\r\n",
        "      \"\"\"\r\n",
        "      def __init__(self):\r\n",
        "        super(AccuracyHistory,self).__init__()\r\n",
        "\r\n",
        "      def on_train_begin(self, logs=None):\r\n",
        "        self.history = {'loss':[] , 'accuracy':[] , 'val_loss':[], 'val_accuracy':[]}\r\n",
        "\r\n",
        "\r\n",
        "      def on_epoch_end(self, epoch ,logs=None):\r\n",
        "        # Note: Here we will get epoch from 0 - n epochs\r\n",
        "        self.history['loss'].append(logs.get('loss'))\r\n",
        "        self.history['accuracy'].append(logs.get('accuracy'))\r\n",
        "        if logs.get('val_loss', -1) != -1:\r\n",
        "            self.history['val_loss'].append(logs.get('val_loss'))\r\n",
        "        if logs.get('val_accuracy', -1) != -1:\r\n",
        "            self.history['val_accuracy'].append(logs.get('val_accuracy'))\r\n",
        "\r\n",
        "        # print('before LR',self.model.optimizer.lr)\r\n",
        "        # epoch indexed from 0"
      ],
      "execution_count": null,
      "outputs": []
    },
    {
      "cell_type": "code",
      "metadata": {
        "id": "QWEFMv42mGaB"
      },
      "source": [
        "def scheduler(epoch,lr):\r\n",
        "  # Note epoch is indexed from 0-n epochs\r\n",
        "  if epoch>=1 and len(AccHist.history['val_accuracy'])>1:\r\n",
        "    #condition1\r\n",
        "    if (AccHist.history['val_accuracy'][-2] > AccHist.history['val_accuracy'][-1]):\r\n",
        "      print('As val_accuracy of epoch_{} is less than epoch_{}'.format(epoch,epoch-1))\r\n",
        "      lr = lr*(1-0.10)\r\n",
        "      print('LearningRate is decayed by 10% ... new LR for epoch_{} is {}'.format(epoch+1,lr))\r\n",
        "    #condition2\r\n",
        "    if (epoch+1)%3 == 0:\r\n",
        "      print('epoch is multiple of 3')\r\n",
        "      lr = lr*(1-0.05)\r\n",
        "      print('LearningRate is decayed by 5% ... new LR for epoch_{} is {}'.format(epoch+1,lr))\r\n",
        "  return lr"
      ],
      "execution_count": null,
      "outputs": []
    },
    {
      "cell_type": "code",
      "metadata": {
        "colab": {
          "base_uri": "https://localhost:8080/"
        },
        "id": "_1dtwQDq1495",
        "outputId": "ffbe7cf9-ae77-4120-ccb7-5bed88a0f791"
      },
      "source": [
        "model = create_model()\r\n",
        "AccHist = AccuracyHistory()\r\n",
        "Lrate = LearningRateScheduler(scheduler)\r\n",
        "# Note: We have to pass AccHist (which is object of AccuracyHistory callback) because scheduler uses AccHist internally to comapre accuracy from previous epochs\r\n",
        "callbacks_list = [AccHist, Lrate]\r\n",
        "model.fit(X_train,y_train, batch_size = batch_size ,epochs = 10, verbose =1,\\\r\n",
        "                    validation_data = (X_test,y_test), callbacks= callbacks_list )"
      ],
      "execution_count": null,
      "outputs": [
        {
          "output_type": "stream",
          "text": [
            "Epoch 1/10\n",
            "438/438 [==============================] - 2s 4ms/step - loss: 0.6570 - accuracy: 0.5964 - val_loss: 0.6101 - val_accuracy: 0.6688\n",
            "Epoch 2/10\n",
            "438/438 [==============================] - 2s 4ms/step - loss: 0.6139 - accuracy: 0.6660 - val_loss: 0.6048 - val_accuracy: 0.6713\n",
            "Epoch 3/10\n",
            "epoch is multiple of 3\n",
            "LearningRate is decayed by 5% ... new LR for epoch_3 is 0.0009500000451225787\n",
            "438/438 [==============================] - 2s 4ms/step - loss: 0.6046 - accuracy: 0.6680 - val_loss: 0.6085 - val_accuracy: 0.6643\n",
            "Epoch 4/10\n",
            "As val_accuracy of epoch_3 is less than epoch_2\n",
            "LearningRate is decayed by 10% ... new LR for epoch_4 is 0.0008550000144168735\n",
            "438/438 [==============================] - 2s 4ms/step - loss: 0.6013 - accuracy: 0.6726 - val_loss: 0.6069 - val_accuracy: 0.6655\n",
            "Epoch 5/10\n",
            "438/438 [==============================] - 2s 4ms/step - loss: 0.6044 - accuracy: 0.6668 - val_loss: 0.6047 - val_accuracy: 0.6672\n",
            "Epoch 6/10\n",
            "epoch is multiple of 3\n",
            "LearningRate is decayed by 5% ... new LR for epoch_6 is 0.0008122499915771186\n",
            "438/438 [==============================] - 2s 4ms/step - loss: 0.6045 - accuracy: 0.6639 - val_loss: 0.6102 - val_accuracy: 0.6733\n",
            "Epoch 7/10\n",
            "438/438 [==============================] - 2s 4ms/step - loss: 0.5991 - accuracy: 0.6739 - val_loss: 0.6063 - val_accuracy: 0.6650\n",
            "Epoch 8/10\n",
            "As val_accuracy of epoch_7 is less than epoch_6\n",
            "LearningRate is decayed by 10% ... new LR for epoch_8 is 0.0007310250133741647\n",
            "438/438 [==============================] - 2s 4ms/step - loss: 0.5985 - accuracy: 0.6759 - val_loss: 0.6079 - val_accuracy: 0.6627\n",
            "Epoch 9/10\n",
            "As val_accuracy of epoch_8 is less than epoch_7\n",
            "LearningRate is decayed by 10% ... new LR for epoch_9 is 0.0006579225067980587\n",
            "epoch is multiple of 3\n",
            "LearningRate is decayed by 5% ... new LR for epoch_9 is 0.0006250263814581557\n",
            "438/438 [==============================] - 2s 4ms/step - loss: 0.6018 - accuracy: 0.6678 - val_loss: 0.6044 - val_accuracy: 0.6695\n",
            "Epoch 10/10\n",
            "438/438 [==============================] - 2s 4ms/step - loss: 0.5952 - accuracy: 0.6786 - val_loss: 0.6078 - val_accuracy: 0.6720\n"
          ],
          "name": "stdout"
        },
        {
          "output_type": "execute_result",
          "data": {
            "text/plain": [
              "<tensorflow.python.keras.callbacks.History at 0x7f41affd46a0>"
            ]
          },
          "metadata": {
            "tags": []
          },
          "execution_count": 21
        }
      ]
    },
    {
      "cell_type": "markdown",
      "metadata": {
        "id": "hZESbYV8rB0k"
      },
      "source": [
        "### 6.TerminateOnNaN (loss and weights)"
      ]
    },
    {
      "cell_type": "markdown",
      "metadata": {
        "id": "vkagaXel_AaO"
      },
      "source": [
        "#### Builiding logic to code"
      ]
    },
    {
      "cell_type": "code",
      "metadata": {
        "id": "Ja9sQPd98PDL"
      },
      "source": [
        "# Idea here is to check \r\n",
        "# condition 1: if any loss or val_loss = NaN then stop training training\r\n",
        "# condition 2: if any of the weights = NaN then stop training\r\n",
        "# to check condition 2 we are layer.get_weights() which return a list of len 2*k for k layers neural network\r\n",
        "# Example: for a 3 layer model we will get 6 arrays in layer.get_weights()\r\n",
        "# For each layer you will get weights and biases\r\n",
        "# weights are initialsed default to glorot_uniform and biases to zerso\r\n",
        "# https://www.tensorflow.org/api_docs/python/tf/keras/layers/Dense\r\n",
        "\r\n",
        "# To check conidition 1: https://github.com/tensorflow/tensorflow/blob/v2.4.0/tensorflow/python/keras/callbacks.py#L633-L634\r\n",
        "# Refer to TerminateOnNaN class code\r\n",
        "\r\n",
        "# To check condition 2 refer to below code"
      ],
      "execution_count": null,
      "outputs": []
    },
    {
      "cell_type": "code",
      "metadata": {
        "colab": {
          "base_uri": "https://localhost:8080/"
        },
        "id": "1wwtknScuAvL",
        "outputId": "3ce73534-7964-4be2-cb53-04c0abf52cde"
      },
      "source": [
        "model = keras.Sequential()\r\n",
        "model.add(keras.Input(shape =(2,)))\r\n",
        "model.add(layers.Dense(4, activation='sigmoid'))\r\n",
        "model.add(layers.Dense(2, activation='sigmoid'))\r\n",
        "model.add(layers.Dense(1, activation='sigmoid'))\r\n",
        "model.compile(optimizer='sgd' , loss='binary_crossentropy' , metrics = 'accuracy')\r\n",
        "# model.summary()\r\n",
        "model.get_weights() "
      ],
      "execution_count": null,
      "outputs": [
        {
          "output_type": "execute_result",
          "data": {
            "text/plain": [
              "[array([[-0.1425004 ,  0.44619012, -0.5725608 ,  0.29499054],\n",
              "        [ 0.967155  , -0.56112695, -0.78197336, -0.38576746]],\n",
              "       dtype=float32),\n",
              " array([0., 0., 0., 0.], dtype=float32),\n",
              " array([[ 0.24885535,  0.42119646],\n",
              "        [ 0.43094492,  0.29006553],\n",
              "        [ 0.22550678, -0.6739111 ],\n",
              "        [-0.32754135, -0.65934587]], dtype=float32),\n",
              " array([0., 0.], dtype=float32),\n",
              " array([[0.27867866],\n",
              "        [0.21334326]], dtype=float32),\n",
              " array([0.], dtype=float32)]"
            ]
          },
          "metadata": {
            "tags": []
          },
          "execution_count": 23
        }
      ]
    },
    {
      "cell_type": "code",
      "metadata": {
        "colab": {
          "base_uri": "https://localhost:8080/"
        },
        "id": "op0c9CAq0_wx",
        "outputId": "b29ff3f4-ff10-4212-9328-17519e588770"
      },
      "source": [
        "print('len of get_weights() list is ',len(model.get_weights()) )\r\n",
        "print('total layers in the model: ',len(model.layers) )"
      ],
      "execution_count": null,
      "outputs": [
        {
          "output_type": "stream",
          "text": [
            "len of get_weights() list is  6\n",
            "total layers in the model:  3\n"
          ],
          "name": "stdout"
        }
      ]
    },
    {
      "cell_type": "code",
      "metadata": {
        "colab": {
          "base_uri": "https://localhost:8080/"
        },
        "id": "-xw6M1i-1J8c",
        "outputId": "f6a28380-de3b-46fd-acad-df8b1f6765c7"
      },
      "source": [
        "# Code to if an array has NaN value\r\n",
        "# https://stackoverflow.com/questions/6736590/fast-check-for-nan-in-numpy\r\n",
        "A = np.array([[1,2],[3,np.nan]])\r\n",
        "print(A)\r\n",
        "print(np.isnan(A))\r\n",
        "print(np.sum(A))"
      ],
      "execution_count": null,
      "outputs": [
        {
          "output_type": "stream",
          "text": [
            "[[ 1.  2.]\n",
            " [ 3. nan]]\n",
            "[[False False]\n",
            " [False  True]]\n",
            "nan\n"
          ],
          "name": "stdout"
        }
      ]
    },
    {
      "cell_type": "markdown",
      "metadata": {
        "id": "Wc6bhktL99_t"
      },
      "source": [
        "#### Terminate Callback"
      ]
    },
    {
      "cell_type": "code",
      "metadata": {
        "id": "Z-ap7MNW999Q"
      },
      "source": [
        "# https://github.com/tensorflow/tensorflow/blob/v2.4.0/tensorflow/python/keras/callbacks.py#L633-L634\r\n",
        "\r\n",
        "class TerminateOnNaN(tf.keras.callbacks.Callback):\r\n",
        "  \"\"\"Callback that terminates training when a NaN loss is encountered.\r\n",
        "  \"\"\"\r\n",
        "  \r\n",
        "  def __init__(self):\r\n",
        "    super(TerminateOnNaN, self).__init__()\r\n",
        "    self._supports_tf_logs = True\r\n",
        "\r\n",
        "  def on_epoch_end(self, epoch, logs=None):\r\n",
        "    #Note : epoch is indexed from 0\r\n",
        "    logs = logs or {}\r\n",
        "    \r\n",
        "    loss = logs.get('loss')\r\n",
        "    if loss is not None:\r\n",
        "      if np.isnan(loss) or np.isinf(loss):\r\n",
        "        print('Epoch {}: Invalid loss, terminating training'.format(epoch+1))\r\n",
        "        self.model.stop_training = True\r\n",
        "\r\n",
        "    val_loss = logs.get('val_loss')\r\n",
        "    if val_loss is not None:\r\n",
        "      if np.isnan(val_loss) or np.isinf(val_loss):\r\n",
        "        print('Epoch {}: Invalid val_loss, terminating training'.format(epoch+1))\r\n",
        "        self.model.stop_training = True\r\n",
        "\r\n",
        "    # Checking if any of weights is NaN\r\n",
        "    all_weights  = self.model.get_weights()\r\n",
        "    for wgt_arr in all_weights:\r\n",
        "      if np.isnan(np.sum(wgt_arr)) == np.nan:\r\n",
        "        print('Epoch {}: Invalid weights, terminating training'.format(epoch+1))\r\n",
        "        self.model.stop_training = True\r\n",
        "        break\r\n",
        "      else:\r\n",
        "        continue"
      ],
      "execution_count": null,
      "outputs": []
    },
    {
      "cell_type": "code",
      "metadata": {
        "colab": {
          "base_uri": "https://localhost:8080/"
        },
        "id": "5j_WqtLu996w",
        "outputId": "feb61287-a167-417a-cc5d-66644c6da2e1"
      },
      "source": [
        "model = create_model()\r\n",
        "nan_callback = TerminateOnNaN()\r\n",
        "callbacks_list = [nan_callback]\r\n",
        "model.fit(X_train,y_train, batch_size = batch_size ,epochs = 10, verbose =1,\\\r\n",
        "                    validation_data = (X_test,y_test), callbacks= callbacks_list )"
      ],
      "execution_count": null,
      "outputs": [
        {
          "output_type": "stream",
          "text": [
            "Epoch 1/10\n",
            "438/438 [==============================] - 3s 4ms/step - loss: 0.6566 - accuracy: 0.5974 - val_loss: 0.6148 - val_accuracy: 0.6540\n",
            "Epoch 2/10\n",
            "438/438 [==============================] - 2s 4ms/step - loss: 0.6110 - accuracy: 0.6679 - val_loss: 0.6172 - val_accuracy: 0.6653\n",
            "Epoch 3/10\n",
            "438/438 [==============================] - 2s 4ms/step - loss: 0.6126 - accuracy: 0.6656 - val_loss: 0.6099 - val_accuracy: 0.6675\n",
            "Epoch 4/10\n",
            "438/438 [==============================] - 2s 4ms/step - loss: 0.6066 - accuracy: 0.6632 - val_loss: 0.6079 - val_accuracy: 0.6683\n",
            "Epoch 5/10\n",
            "438/438 [==============================] - 2s 4ms/step - loss: 0.6013 - accuracy: 0.6725 - val_loss: 0.6119 - val_accuracy: 0.6600\n",
            "Epoch 6/10\n",
            "438/438 [==============================] - 2s 4ms/step - loss: 0.6008 - accuracy: 0.6686 - val_loss: 0.6064 - val_accuracy: 0.6680\n",
            "Epoch 7/10\n",
            "438/438 [==============================] - 2s 4ms/step - loss: 0.6021 - accuracy: 0.6697 - val_loss: 0.6169 - val_accuracy: 0.6617\n",
            "Epoch 8/10\n",
            "438/438 [==============================] - 2s 4ms/step - loss: 0.6048 - accuracy: 0.6684 - val_loss: 0.6068 - val_accuracy: 0.6693\n",
            "Epoch 9/10\n",
            "438/438 [==============================] - 2s 4ms/step - loss: 0.6030 - accuracy: 0.6708 - val_loss: 0.6085 - val_accuracy: 0.6703\n",
            "Epoch 10/10\n",
            "438/438 [==============================] - 2s 4ms/step - loss: 0.5978 - accuracy: 0.6755 - val_loss: 0.6063 - val_accuracy: 0.6657\n"
          ],
          "name": "stdout"
        },
        {
          "output_type": "execute_result",
          "data": {
            "text/plain": [
              "<tensorflow.python.keras.callbacks.History at 0x7f41af5bf6d8>"
            ]
          },
          "metadata": {
            "tags": []
          },
          "execution_count": 27
        }
      ]
    },
    {
      "cell_type": "markdown",
      "metadata": {
        "id": "xPBAXumz_GUH"
      },
      "source": [
        "### 7.EarlyStopping Callback"
      ]
    },
    {
      "cell_type": "code",
      "metadata": {
        "colab": {
          "base_uri": "https://localhost:8080/"
        },
        "id": "GeWXs2_SDNWW",
        "outputId": "19287a30-2691-4433-9a36-1566b28c68ad"
      },
      "source": [
        "# https://github.com/tensorflow/tensorflow/blob/v2.4.0/tensorflow/python/keras/callbacks.py#L1784-L1791\r\n",
        "# https://www.tensorflow.org/api_docs/python/tf/keras/callbacks/EarlyStopping\r\n",
        "\r\n",
        "# Stop the training if your validation accuracy is not improved in last 2 epochs.\r\n",
        "\r\n",
        "model = create_model()\r\n",
        "earlystop = tf.keras.callbacks.EarlyStopping(\r\n",
        "                      monitor='val_accuracy', min_delta=0, patience=2, verbose=1,\r\n",
        "                      mode='auto')    \r\n",
        "callbacks_list = [earlystop]\r\n",
        "model.fit(X_train,y_train, batch_size = batch_size ,epochs = 10, verbose =1,\r\n",
        "                    validation_data = (X_test,y_test), callbacks= callbacks_list )"
      ],
      "execution_count": null,
      "outputs": [
        {
          "output_type": "stream",
          "text": [
            "Epoch 1/10\n",
            "438/438 [==============================] - 2s 4ms/step - loss: 0.6662 - accuracy: 0.5684 - val_loss: 0.6134 - val_accuracy: 0.6623\n",
            "Epoch 2/10\n",
            "438/438 [==============================] - 2s 4ms/step - loss: 0.6068 - accuracy: 0.6694 - val_loss: 0.6143 - val_accuracy: 0.6613\n",
            "Epoch 3/10\n",
            "438/438 [==============================] - 2s 4ms/step - loss: 0.6101 - accuracy: 0.6628 - val_loss: 0.6116 - val_accuracy: 0.6602\n",
            "Epoch 00003: early stopping\n"
          ],
          "name": "stdout"
        },
        {
          "output_type": "execute_result",
          "data": {
            "text/plain": [
              "<tensorflow.python.keras.callbacks.History at 0x7f42106b88d0>"
            ]
          },
          "metadata": {
            "tags": []
          },
          "execution_count": 28
        }
      ]
    },
    {
      "cell_type": "markdown",
      "metadata": {
        "id": "1k8eAU1nYHu2"
      },
      "source": [
        "### 8.TensorBoard Callback"
      ]
    },
    {
      "cell_type": "markdown",
      "metadata": {
        "id": "2LLbvjFri5kh"
      },
      "source": [
        "\r\n",
        " https://www.tensorflow.org/tensorboard\r\n",
        "\r\n",
        " https://tensorboard.dev/\r\n",
        "\r\n",
        " Watch videos in above mentioned pages"
      ]
    },
    {
      "cell_type": "code",
      "metadata": {
        "id": "3XFGPneKjolz"
      },
      "source": [
        "%load_ext tensorboard"
      ],
      "execution_count": null,
      "outputs": []
    },
    {
      "cell_type": "code",
      "metadata": {
        "id": "SBylq0UtQVKb"
      },
      "source": [
        "model = create_model()\r\n",
        "log_dir=\"logs/fit/\" + datetime.datetime.now().strftime(\"%Y%m%d-%H%M%S\")\r\n",
        "tensorboard_callback = tf.keras.callbacks.TensorBoard(log_dir = log_dir , histogram_freq=1, write_graph = True)\r\n",
        "callbacks_list = [tensorboard_callback]\r\n",
        "model.fit(X_train,y_train, batch_size = batch_size ,epochs = 10, verbose =1,\r\n",
        "                    validation_data = (X_test,y_test), callbacks= callbacks_list )"
      ],
      "execution_count": null,
      "outputs": []
    },
    {
      "cell_type": "code",
      "metadata": {
        "id": "ybsWzEgcVzX8"
      },
      "source": [
        "# Clear any logs from previous runs\r\n",
        "!rm -rf ./logs/ "
      ],
      "execution_count": null,
      "outputs": []
    },
    {
      "cell_type": "code",
      "metadata": {
        "id": "YWddzTmjjblS"
      },
      "source": [
        "%tensorboard --logdir logs/fit"
      ],
      "execution_count": null,
      "outputs": []
    },
    {
      "cell_type": "markdown",
      "metadata": {
        "id": "JSvMzbY2y1EY"
      },
      "source": [
        "### 9.Cross entropy\r\n",
        "Yes, it implemented in model.compile"
      ]
    },
    {
      "cell_type": "markdown",
      "metadata": {
        "id": "kY_jEGzCy-RD"
      },
      "source": [
        "### 10.All models"
      ]
    },
    {
      "cell_type": "markdown",
      "metadata": {
        "id": "TIo8ruBJzFEl"
      },
      "source": [
        "#### Model-1"
      ]
    },
    {
      "cell_type": "code",
      "metadata": {
        "id": "feWNu5vz4kLg"
      },
      "source": [
        "# https://ruder.io/optimizing-gradient-descent/index.html#momentum\r\n",
        "# https://machinelearningmastery.com/using-learning-rate-schedules-deep-learning-models-python-keras/\r\n",
        "# https://www.tensorflow.org/api_docs/python/tf/keras/initializers"
      ],
      "execution_count": null,
      "outputs": []
    },
    {
      "cell_type": "code",
      "metadata": {
        "id": "skjs5x_QC-Eo"
      },
      "source": [
        "def create_model(activ, initializer, opt):\r\n",
        "  model = tf.keras.models.Sequential([\r\n",
        "      keras.Input(shape = (input_dim, )),\r\n",
        "      keras.layers.Dense(512 , activation = activ, kernel_initializer = initializer),\r\n",
        "      keras.layers.Dense(512 , activation = activ, kernel_initializer = initializer),\r\n",
        "      keras.layers.Dense(256 , activation = activ, kernel_initializer = initializer),\r\n",
        "      keras.layers.Dense(128 , activation = activ, kernel_initializer = initializer),\r\n",
        "      keras.layers.Dense(64 , activation = activ, kernel_initializer = initializer),\r\n",
        "      keras.layers.Dense(1, activation='sigmoid')\r\n",
        "      ])\r\n",
        "  model.compile(optimizer = opt ,loss = 'binary_crossentropy', metrics = ['accuracy'] )\r\n",
        "  return model "
      ],
      "execution_count": null,
      "outputs": []
    },
    {
      "cell_type": "code",
      "metadata": {
        "id": "C5_t_UUCzKFt"
      },
      "source": [
        "activ = 'tanh'\r\n",
        "opt = tf.keras.optimizers.SGD(learning_rate=0.01, momentum=0.9)\r\n",
        "initializer = tf.keras.initializers.RandomUniform(minval=0., maxval=1.)\r\n",
        "\r\n",
        "nb_epochs = 15\r\n",
        "batch_size = 32\r\n",
        "model = create_model(activ,initializer,opt)\r\n",
        "# model.summary()"
      ],
      "execution_count": null,
      "outputs": []
    },
    {
      "cell_type": "code",
      "metadata": {
        "colab": {
          "base_uri": "https://localhost:8080/"
        },
        "id": "n92gPsRzUSbM",
        "outputId": "57137fa8-00ed-483e-9ba7-73a1ede3d6b8"
      },
      "source": [
        "log_dir=\"logs/fit/model1_\" + datetime.datetime.now().strftime(\"%Y%m%d-%H%M%S\")\r\n",
        "tensorboard_callback = tf.keras.callbacks.TensorBoard(log_dir = log_dir , histogram_freq=1, write_graph = True)\r\n",
        "callbacks_list = [tensorboard_callback]\r\n",
        "\r\n",
        "model.fit(X_train,y_train, batch_size = batch_size ,epochs = nb_epochs, verbose =0,\r\n",
        "                    validation_data = (X_test,y_test), callbacks= callbacks_list )"
      ],
      "execution_count": null,
      "outputs": [
        {
          "output_type": "execute_result",
          "data": {
            "text/plain": [
              "<tensorflow.python.keras.callbacks.History at 0x7fe04668c1d0>"
            ]
          },
          "metadata": {
            "tags": []
          },
          "execution_count": 33
        }
      ]
    },
    {
      "cell_type": "code",
      "metadata": {
        "id": "QUnjKxVfVr26"
      },
      "source": [
        "# Clear any logs from previous runs\r\n",
        "# !rm -rf ./logs/ "
      ],
      "execution_count": null,
      "outputs": []
    },
    {
      "cell_type": "code",
      "metadata": {
        "id": "L-KIv4RnU9yC"
      },
      "source": [
        "%tensorboard --logdir logs/fit"
      ],
      "execution_count": null,
      "outputs": []
    },
    {
      "cell_type": "code",
      "metadata": {
        "colab": {
          "base_uri": "https://localhost:8080/",
          "height": 296
        },
        "id": "_qXICe7G9dK2",
        "outputId": "a05c1faf-cf96-4d4f-f823-62e177743860"
      },
      "source": [
        "import matplotlib.pyplot as plt\r\n",
        "acc_list = model.history.history['val_accuracy']\r\n",
        "plt.plot(acc_list)\r\n",
        "plt.xlabel('epoch')  #Note: Epoch here starts from 0 simliar to tensorboard graph\r\n",
        "plt.ylabel('val_accuracy')\r\n",
        "plt.grid()\r\n",
        "plt.show()\r\n",
        "\r\n",
        "max_epoch = np.argmax(acc_list)\r\n",
        "max_accuracy = acc_list[max_epoch]\r\n",
        "print('Maximum val_accuracy observed at epoch_{} is {}'.format(max_epoch,max_accuracy) )"
      ],
      "execution_count": null,
      "outputs": [
        {
          "output_type": "display_data",
          "data": {
            "image/png": "[encoded data removed]",
            "text/plain": [
              "<Figure size 432x288 with 1 Axes>"
            ]
          },
          "metadata": {
            "tags": [],
            "needs_background": "light"
          }
        },
        {
          "output_type": "stream",
          "text": [
            "Maximum val_accuracy observed at epoch_1 is 0.5023333430290222\n"
          ],
          "name": "stdout"
        }
      ]
    },
    {
      "cell_type": "markdown",
      "metadata": {
        "id": "x7xDnixFNOom"
      },
      "source": [
        "#### Model-2"
      ]
    },
    {
      "cell_type": "code",
      "metadata": {
        "id": "bvwxSn_scDgp"
      },
      "source": [
        "# Clear any logs from previous runs\r\n",
        "!rm -rf ./logs/ "
      ],
      "execution_count": null,
      "outputs": []
    },
    {
      "cell_type": "code",
      "metadata": {
        "id": "IsdcFVprNOo6"
      },
      "source": [
        "activ = 'relu'\r\n",
        "opt = tf.keras.optimizers.SGD(learning_rate=0.01, momentum=0.9)\r\n",
        "initializer = tf.keras.initializers.RandomUniform(minval=0., maxval=1.)\r\n",
        "\r\n",
        "nb_epochs = 15\r\n",
        "batch_size = 32\r\n",
        "model = create_model(activ,initializer,opt)\r\n",
        "# model.summary()"
      ],
      "execution_count": null,
      "outputs": []
    },
    {
      "cell_type": "code",
      "metadata": {
        "colab": {
          "base_uri": "https://localhost:8080/"
        },
        "id": "AEg34Jqea8tb",
        "outputId": "24826aa1-b29a-4810-f9f4-4bec05f11f12"
      },
      "source": [
        "log_dir=\"logs/fit/model2_\" + datetime.datetime.now().strftime(\"%Y%m%d-%H%M%S\")\r\n",
        "tensorboard_callback = tf.keras.callbacks.TensorBoard(log_dir = log_dir , histogram_freq=1, write_graph = True)\r\n",
        "callbacks_list = [tensorboard_callback]\r\n",
        "\r\n",
        "model.fit(X_train,y_train, batch_size = batch_size ,epochs = nb_epochs, verbose =0,\r\n",
        "                    validation_data = (X_test,y_test), callbacks= callbacks_list )"
      ],
      "execution_count": null,
      "outputs": [
        {
          "output_type": "execute_result",
          "data": {
            "text/plain": [
              "<tensorflow.python.keras.callbacks.History at 0x7fe04a10ba20>"
            ]
          },
          "metadata": {
            "tags": []
          },
          "execution_count": 52
        }
      ]
    },
    {
      "cell_type": "code",
      "metadata": {
        "id": "esRmj38LbGCc"
      },
      "source": [
        "%tensorboard --logdir logs/fit"
      ],
      "execution_count": null,
      "outputs": []
    },
    {
      "cell_type": "code",
      "metadata": {
        "colab": {
          "base_uri": "https://localhost:8080/",
          "height": 296
        },
        "id": "_ZRqZfFMNOo9",
        "outputId": "0a2c54ef-9270-44d1-d016-2d0fbfea97b8"
      },
      "source": [
        "import matplotlib.pyplot as plt\r\n",
        "acc_list = model.history.history['val_accuracy']\r\n",
        "plt.plot(acc_list)\r\n",
        "plt.xlabel('epoch')  #Note: Epoch here starts from 0 simliar to tensorboard graph\r\n",
        "plt.ylabel('val_accuracy')\r\n",
        "plt.grid()\r\n",
        "plt.show()\r\n",
        "\r\n",
        "max_epoch = np.argmax(acc_list)\r\n",
        "max_accuracy = acc_list[max_epoch]\r\n",
        "print('Maximum val_accuracy observed at epoch_{} is {}'.format(max_epoch,max_accuracy) )"
      ],
      "execution_count": null,
      "outputs": [
        {
          "output_type": "display_data",
          "data": {
            "image/png": "[encoded data removed]",
            "text/plain": [
              "<Figure size 432x288 with 1 Axes>"
            ]
          },
          "metadata": {
            "tags": [],
            "needs_background": "light"
          }
        },
        {
          "output_type": "stream",
          "text": [
            "Maximum val_accuracy observed at epoch_0 is 0.5\n"
          ],
          "name": "stdout"
        }
      ]
    },
    {
      "cell_type": "markdown",
      "metadata": {
        "id": "YcGkx8fyOWO-"
      },
      "source": [
        "#### Model-3"
      ]
    },
    {
      "cell_type": "code",
      "metadata": {
        "id": "zZEWdD5oezTo"
      },
      "source": [
        "# Clear any logs from previous runs\r\n",
        "!rm -rf ./logs/ "
      ],
      "execution_count": null,
      "outputs": []
    },
    {
      "cell_type": "code",
      "metadata": {
        "id": "LMmwIuVxOWPN"
      },
      "source": [
        "activ = 'relu'\r\n",
        "opt = tf.keras.optimizers.SGD(learning_rate=0.01, momentum=0.9)\r\n",
        "initializer = 'he_uniform'\r\n",
        "\r\n",
        "nb_epochs = 15\r\n",
        "batch_size = 32\r\n",
        "model = create_model(activ,initializer,opt)\r\n",
        "# model.summary()"
      ],
      "execution_count": null,
      "outputs": []
    },
    {
      "cell_type": "code",
      "metadata": {
        "colab": {
          "base_uri": "https://localhost:8080/"
        },
        "id": "cMHsnHDYerXb",
        "outputId": "00a65ee4-54a8-41ba-fc86-5d56d8304a4c"
      },
      "source": [
        "log_dir=\"logs/fit/model3_\" + datetime.datetime.now().strftime(\"%Y%m%d-%H%M%S\")\r\n",
        "tensorboard_callback = tf.keras.callbacks.TensorBoard(log_dir = log_dir , histogram_freq=1, write_graph = True)\r\n",
        "callbacks_list = [tensorboard_callback]\r\n",
        "\r\n",
        "model.fit(X_train,y_train, batch_size = batch_size ,epochs = nb_epochs, verbose =0,\r\n",
        "                    validation_data = (X_test,y_test), callbacks= callbacks_list )"
      ],
      "execution_count": null,
      "outputs": [
        {
          "output_type": "execute_result",
          "data": {
            "text/plain": [
              "<tensorflow.python.keras.callbacks.History at 0x7fe044c4ef60>"
            ]
          },
          "metadata": {
            "tags": []
          },
          "execution_count": 62
        }
      ]
    },
    {
      "cell_type": "code",
      "metadata": {
        "id": "DpqACIDSe4fR"
      },
      "source": [
        "%tensorboard --logdir logs/fit"
      ],
      "execution_count": null,
      "outputs": []
    },
    {
      "cell_type": "code",
      "metadata": {
        "colab": {
          "base_uri": "https://localhost:8080/",
          "height": 296
        },
        "id": "swQ6Q9y0OWPN",
        "outputId": "f1575a12-6714-42aa-e78f-6582d3bcc58d"
      },
      "source": [
        "import matplotlib.pyplot as plt\r\n",
        "acc_list = model.history.history['val_accuracy']\r\n",
        "plt.plot(acc_list)\r\n",
        "plt.xlabel('epoch')  #Note: Epoch here starts from 0 simliar to tensorboard graph\r\n",
        "plt.ylabel('val_accuracy')\r\n",
        "plt.grid()\r\n",
        "plt.show()\r\n",
        "\r\n",
        "max_epoch = np.argmax(acc_list)\r\n",
        "max_accuracy = acc_list[max_epoch]\r\n",
        "print('Maximum val_accuracy observed at epoch_{} is {}'.format(max_epoch,max_accuracy) )"
      ],
      "execution_count": null,
      "outputs": [
        {
          "output_type": "display_data",
          "data": {
            "image/png": "[encoded data removed]",
            "text/plain": [
              "<Figure size 432x288 with 1 Axes>"
            ]
          },
          "metadata": {
            "tags": [],
            "needs_background": "light"
          }
        },
        {
          "output_type": "stream",
          "text": [
            "Maximum val_accuracy observed at epoch_12 is 0.6726666688919067\n"
          ],
          "name": "stdout"
        }
      ]
    },
    {
      "cell_type": "markdown",
      "metadata": {
        "id": "JFF2OZ0MhM8l"
      },
      "source": [
        "#### Model-4"
      ]
    },
    {
      "cell_type": "code",
      "metadata": {
        "id": "GPt0LY1XhM8n"
      },
      "source": [
        "# Clear any logs from previous runs\r\n",
        "!rm -rf ./logs/ "
      ],
      "execution_count": null,
      "outputs": []
    },
    {
      "cell_type": "code",
      "metadata": {
        "id": "Ppfk4IxahM8o"
      },
      "source": [
        "activ = 'relu'\r\n",
        "opt = 'adam'\r\n",
        "initializer = 'he_normal'\r\n",
        "\r\n",
        "nb_epochs = 15\r\n",
        "batch_size = 32\r\n",
        "model = create_model(activ,initializer,opt)\r\n",
        "# model.summary()"
      ],
      "execution_count": null,
      "outputs": []
    },
    {
      "cell_type": "code",
      "metadata": {
        "colab": {
          "base_uri": "https://localhost:8080/"
        },
        "id": "Quw3u-3dhM8o",
        "outputId": "677d2ab1-a8c5-4569-c2ea-ad43828f356d"
      },
      "source": [
        "log_dir=\"logs/fit/model4_\" + datetime.datetime.now().strftime(\"%Y%m%d-%H%M%S\")\r\n",
        "tensorboard_callback = tf.keras.callbacks.TensorBoard(log_dir = log_dir , histogram_freq=1, write_graph = True)\r\n",
        "callbacks_list = [tensorboard_callback]\r\n",
        "\r\n",
        "model.fit(X_train,y_train, batch_size = batch_size ,epochs = nb_epochs, verbose =0,\r\n",
        "                    validation_data = (X_test,y_test), callbacks= callbacks_list )"
      ],
      "execution_count": null,
      "outputs": [
        {
          "output_type": "execute_result",
          "data": {
            "text/plain": [
              "<tensorflow.python.keras.callbacks.History at 0x7fe0449ceda0>"
            ]
          },
          "metadata": {
            "tags": []
          },
          "execution_count": 73
        }
      ]
    },
    {
      "cell_type": "code",
      "metadata": {
        "id": "bFUs6CvuhM8p"
      },
      "source": [
        "# !kill 2914"
      ],
      "execution_count": null,
      "outputs": []
    },
    {
      "cell_type": "code",
      "metadata": {
        "id": "T_ssOnPIhM8p"
      },
      "source": [
        "%tensorboard --logdir logs/fit"
      ],
      "execution_count": null,
      "outputs": []
    },
    {
      "cell_type": "code",
      "metadata": {
        "colab": {
          "base_uri": "https://localhost:8080/",
          "height": 296
        },
        "id": "ruI0Q0xIhM8q",
        "outputId": "bc9f6a2e-7d3b-4d28-9acc-7da292b5755e"
      },
      "source": [
        "import matplotlib.pyplot as plt\r\n",
        "acc_list = model.history.history['val_accuracy']\r\n",
        "plt.plot(acc_list)\r\n",
        "plt.xlabel('epoch')  #Note: Epoch here starts from 0 simliar to tensorboard graph\r\n",
        "plt.ylabel('val_accuracy')\r\n",
        "plt.grid()\r\n",
        "plt.show()\r\n",
        "\r\n",
        "max_epoch = np.argmax(acc_list)\r\n",
        "max_accuracy = acc_list[max_epoch]\r\n",
        "print('Maximum val_accuracy observed at epoch_{} is {}'.format(max_epoch,max_accuracy) )"
      ],
      "execution_count": null,
      "outputs": [
        {
          "output_type": "display_data",
          "data": {
            "image/png": "[encoded data removed]",
            "text/plain": [
              "<Figure size 432x288 with 1 Axes>"
            ]
          },
          "metadata": {
            "tags": [],
            "needs_background": "light"
          }
        },
        {
          "output_type": "stream",
          "text": [
            "Maximum val_accuracy observed at epoch_8 is 0.6713333129882812\n"
          ],
          "name": "stdout"
        }
      ]
    }
  ]
}