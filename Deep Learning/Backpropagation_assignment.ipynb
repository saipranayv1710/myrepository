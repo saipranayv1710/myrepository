{
 "cells": [
  {
   "cell_type": "markdown",
   "metadata": {
    "id": "y871RZtRhCEH"
   },
   "source": [
    "# <font color='red'>BackPropagation</font>"
   ]
  },
  {
   "cell_type": "markdown",
   "metadata": {
    "id": "LqePYi-4mFvK"
   },
   "source": [
    "**There will be some functions that start with the word \"grader\" ex: grader_sigmoid(), grader_forwardprop(), grader_backprop() etc, you should not change those function definition.<br><br>Every Grader function has to return True.**"
   ]
  },
  {
   "cell_type": "markdown",
   "metadata": {
    "id": "0huUQ0byiI0I"
   },
   "source": [
    "## <font color='red'>Loading data </font>"
   ]
  },
  {
   "cell_type": "code",
   "execution_count": 1,
   "metadata": {
    "colab": {
     "base_uri": "https://localhost:8080/"
    },
    "id": "3KoG97vArpb6",
    "outputId": "bb040498-70ef-44ea-bce4-a963cb7612c4"
   },
   "outputs": [
    {
     "name": "stdout",
     "output_type": "stream",
     "text": [
      "Mounted at /content/drive\n"
     ]
    }
   ],
   "source": [
    "from google.colab import drive\n",
    "drive.mount('/content/drive')"
   ]
  },
  {
   "cell_type": "code",
   "execution_count": 2,
   "metadata": {
    "colab": {
     "base_uri": "https://localhost:8080/"
    },
    "id": "1hSje5CBgcUb",
    "outputId": "a796d541-5530-40e1-bf4a-20eee7595f15"
   },
   "outputs": [
    {
     "name": "stdout",
     "output_type": "stream",
     "text": [
      "(506, 6)\n",
      "(506, 5) (506,)\n"
     ]
    }
   ],
   "source": [
    "import pickle\n",
    "import numpy as np\n",
    "from tqdm import tqdm\n",
    "import matplotlib.pyplot as plt\n",
    "\n",
    "with open('/content/drive/MyDrive/Colab Notebooks/19 BackProp and Gradient checking/data.pkl', 'rb') as f:\n",
    "    data = pickle.load(f)\n",
    "print(data.shape)\n",
    "X = data[:, :5]\n",
    "y = data[:, -1]\n",
    "print(X.shape, y.shape)"
   ]
  },
  {
   "cell_type": "markdown",
   "metadata": {
    "id": "5JL-0soQistC"
   },
   "source": [
    "# <font color='red'>Computational graph</font>"
   ]
  },
  {
   "cell_type": "markdown",
   "metadata": {
    "id": "nREnTTJ3i0Vd"
   },
   "source": [
    "<img src='https://i.imgur.com/seSGbNS.png'>"
   ]
  },
  {
   "cell_type": "markdown",
   "metadata": {
    "id": "DSPX_H_4i_HT"
   },
   "source": [
    "\n",
    "*  **If you observe the graph, we are having input features [f1, f2, f3, f4, f5] and 9 weights [w1, w2, w3, w4, w5, w6,    w7, w8, w9]**.<br><br>\n",
    "*  **The final output of this graph is a value L which is computed as (Y-Y')^2** "
   ]
  },
  {
   "cell_type": "markdown",
   "metadata": {
    "id": "D54eDEv6jkO4"
   },
   "source": [
    "# <font color='red'>Task 1: Implementing backpropagation and Gradient checking </font>"
   ]
  },
  {
   "cell_type": "markdown",
   "metadata": {
    "id": "qocI1Vzqkod9"
   },
   "source": [
    "<font color='blue'><b>Check this video for better understanding of the computational graphs and back propagation</font>"
   ]
  },
  {
   "cell_type": "code",
   "execution_count": null,
   "metadata": {
    "colab": {
     "base_uri": "https://localhost:8080/",
     "height": 521
    },
    "id": "Wb5WMdwJinlX",
    "outputId": "b10489ec-890a-445a-c6a4-a3e0ea2a66be"
   },
   "outputs": [
    {
     "data": {
      "image/jpeg": "[encoded data removed]",
      "text/html": [
       "\n",
       "        <iframe\n",
       "            width=\"1000\"\n",
       "            height=\"500\"\n",
       "            src=\"https://www.youtube.com/embed/i94OvYb6noo\"\n",
       "            frameborder=\"0\"\n",
       "            allowfullscreen\n",
       "        ></iframe>\n",
       "        "
      ],
      "text/plain": [
       "<IPython.lib.display.YouTubeVideo at 0x7f676b82acf8>"
      ]
     },
     "execution_count": 11,
     "metadata": {
      "tags": []
     },
     "output_type": "execute_result"
    }
   ],
   "source": [
    "from IPython.display import YouTubeVideo\n",
    "YouTubeVideo('i94OvYb6noo',width=\"1000\",height=\"500\")"
   ]
  },
  {
   "cell_type": "markdown",
   "metadata": {
    "id": "2jecTyVRlh-6"
   },
   "source": [
    "\n",
    "*  <b>Write two functions<br>\n",
    "    *  Forward propagation</b>(Write your code in<font color='blue'> def forward_propagation()</b></font>)<br><br>\n",
    "    For easy debugging, we will break the computational graph into 3 parts.\n",
    "\n",
    "    <font color='green'><b>Part 1</b></font></b>\n",
    "    <img src='https://i.imgur.com/0xUaxy6.png'><br><br>\n",
    "    <font color='green'><b>Part 2</b></font></b><br>\n",
    "    <img src='https://i.imgur.com/J29pAJL.png'><br><br>\n",
    "    <font color='green'><b>Part 3</b></font></b>\n",
    "    <img src='https://i.imgur.com/vMyCsd9.png'>\n",
    "\n",
    "    <pre>\n",
    "    <font color='green'>\n",
    "def forward_propagation(X, y, W):\n",
    "        <font color='grey'>\n",
    "        # X: input data point, note that in this assignment you are having 5-d data points\n",
    "        # y: output varible\n",
    "        # W: weight array, its of length 9, W[0] corresponds to w1 in graph, W[1] corresponds to w2 in graph, <br>         ..., W[8] corresponds to w9 in graph.  \n",
    "        # you have to return the following variables\n",
    "        # exp= part1 (compute the forward propagation until exp and then store the values in exp)\n",
    "        # tanh =part2(compute the forward propagation until tanh and then store the values in tanh)\n",
    "        # sig = part3(compute the forward propagation until sigmoid and then store the values in sig)\n",
    "        # now compute remaining values from computional graph and get y'\n",
    "        # write code to compute the value of L=(y-y')^2\n",
    "        # compute derivative of L  w.r.to Y' and store it in dl\n",
    "        # Create a dictionary to store all the intermediate values\n",
    "        # store L, exp,tanh,sig,dl variables\n",
    "        </font>\n",
    "        return (dictionary, which you might need to use for back propagation)\n",
    "        <font color='grey'>\n",
    "        </font>\n",
    "</font>\n",
    "</pre>\n",
    "    *  <b>Backward propagation</b>(Write your code in<font color='blue'> def backward_propagation()</b></font>)\n",
    "    </b>\n",
    "    <pre>\n",
    "    <font color='green'>\n",
    "    def backward_propagation(L, W,dictionary):\n",
    "        <font color='grey'>\n",
    "        # L: the loss we calculated for the current point\n",
    "        # dictionary: the outputs of the forward_propagation() function\n",
    "        # write code to compute the gradients of each weight [w1,w2,w3,...,w9]\n",
    "        # Hint: you can use dict type to store the required variables \n",
    "        # return dW, dW is a dictionary with gradients of all the weights\n",
    "        </font>\n",
    "        return dW\n",
    "        </font>\n",
    "</font>\n",
    "</pre>"
   ]
  },
  {
   "cell_type": "markdown",
   "metadata": {
    "id": "STS4NrQQc6OH"
   },
   "source": [
    " ## <font color='red'>Gradient clipping</font>"
   ]
  },
  {
   "cell_type": "markdown",
   "metadata": {
    "id": "XY7ivRNzdPok"
   },
   "source": [
    "<b> Check this  <a href='https://towardsdatascience.com/how-to-debug-a-neural-network-with-gradient-checking-41deec0357a9'>blog link</a> for more details on Gradient clipping"
   ]
  },
  {
   "cell_type": "markdown",
   "metadata": {
    "id": "BrsfpDoidtZ5"
   },
   "source": [
    " we know that the derivative of any function is\n",
    " \n",
    " $$\\lim_{\\epsilon\\to0}\\frac{f(x+\\epsilon)-f(x-\\epsilon)}{2\\epsilon}$$\n"
   ]
  },
  {
   "cell_type": "markdown",
   "metadata": {
    "id": "vUcmt0kPd02f"
   },
   "source": [
    "*  The definition above can be used as a numerical approximation of the derivative. Taking an epsilon small enough, the calculated approximation will have an error in the range of epsilon squared. \n",
    "\n",
    "*  In other words, if epsilon is 0.001, the approximation will be off by 0.00001.\n",
    "\n",
    "Therefore, we can use this to approximate the gradient, and in turn make sure that backpropagation is implemented properly. This forms the basis of <b>gradient checking!</b>"
   ]
  },
  {
   "cell_type": "markdown",
   "metadata": {
    "id": "pFSu16KCeU0x"
   },
   "source": [
    "## <Font color='blue'>Gradient checking example</font>"
   ]
  },
  {
   "cell_type": "markdown",
   "metadata": {
    "id": "Gz0mmT_xecfC"
   },
   "source": [
    "<font >\n",
    "lets understand the concept with a simple example:\n",
    "$f(w1,w2,x1,x2)=w_{1}^{2} . x_{1} + w_{2} . x_{2}$ \n",
    "\n",
    "from the above function , lets assume $w_{1}=1$, $w_{2}=2$, $x_{1}=3$, $x_{2}=4$ the gradient of $f$ w.r.t $w_{1}$ is\n",
    "\n",
    "\\begin{array} {lcl}\n",
    "\\frac{df}{dw_{1}} = dw_{1} &=&2.w_{1}.x_{1} \\\\& = &2.1.3\\\\& = &6\n",
    "\\end{array}\n",
    "\n",
    "\n",
    "let calculate the aproximate gradient of $w_{1}$ as mentinoned in the above formula and considering $\\epsilon=0.0001$\n",
    "\n",
    "\\begin{array} {lcl}\n",
    "dw_1^{approx} & = & \\frac{f(w1+\\epsilon,w2,x1,x2)-f(w1-\\epsilon,w2,x1,x2)}{2\\epsilon} \\\\ & = & \\frac{((1+0.0001)^{2} . 3 + 2 . 4) - ((1-0.0001)^{2} . 3 + 2 . 4)}{2\\epsilon} \\\\ & = & \\frac{(1.00020001 . 3 + 2 . 4) - (0.99980001. 3 + 2 . 4)}{2*0.0001} \\\\ & = & \\frac{(11.00060003) - (10.99940003)}{0.0002}\\\\ & = & 5.99999999999\n",
    "\\end{array}\n",
    "\n",
    "Then, we apply the following formula for gradient check: <i>gradient_check</i> = \n",
    "$\\frac{\\left\\Vert\\left (dW-dW^{approx}\\rm\\right) \\right\\Vert_2}{\\left\\Vert\\left (dW\\rm\\right) \\right\\Vert_2+\\left\\Vert\\left (dW^{approx}\\rm\\right) \\right\\Vert_2}$\n",
    "\n",
    "The equation above is basically the Euclidean distance normalized by the sum of the norm of the vectors. We use normalization in case that one of the vectors is very small.\n",
    "As a value for epsilon, we usually opt for 1e-7. Therefore, if gradient check return a value less than 1e-7, then it means that backpropagation was implemented correctly. Otherwise, there is potentially a mistake in your implementation. If the value exceeds 1e-3, then you are sure that the code is not correct.\n",
    "\n",
    "in our example: <i>gradient_check</i> $ = \\frac{(6 - 5.999999999994898)}{(6 + 5.999999999994898)} = 4.2514140356330737e^{-13}$\n",
    "\n",
    "you can mathamatically derive the same thing like this\n",
    "\n",
    "\\begin{array} {lcl}\n",
    "dw_1^{approx} & = & \\frac{f(w1+\\epsilon,w2,x1,x2)-f(w1-\\epsilon,w2,x1,x2)}{2\\epsilon} \\\\ & = & \\frac{((w_{1}+\\epsilon)^{2} . x_{1} + w_{2} . x_{2}) - ((w_{1}-\\epsilon)^{2} . x_{1} + w_{2} . x_{2})}{2\\epsilon} \\\\ & = & \\frac{4. \\epsilon.w_{1}. x_{1}}{2\\epsilon} \\\\ & = &  2.w_{1}.x_{1}\n",
    "\\end{array}\n"
   ]
  },
  {
   "cell_type": "markdown",
   "metadata": {
    "id": "f1BFQQaCermK"
   },
   "source": [
    "## <font color='red'> Implement Gradient checking </font> <br>\n",
    " (Write your code in <font color='blue'> def gradient_checking()</font>)"
   ]
  },
  {
   "cell_type": "markdown",
   "metadata": {
    "id": "GqpfA3AqfJba"
   },
   "source": [
    "**Algorithm** \n",
    "\n"
   ]
  },
  {
   "cell_type": "markdown",
   "metadata": {
    "id": "FL39KeRFfNoD"
   },
   "source": [
    "<pre>\n",
    "<font color='darkblue'>\n",
    "W = initilize_randomly\n",
    "def gradient_checking(data_point, W):<font color='grey'>\n",
    "    # compute the L value using forward_propagation()\n",
    "    # compute the gradients of W using backword_propagation()</font>\n",
    "    approx_gradients = []\n",
    "    for each wi weight value in W:<font color='grey'>\n",
    "        # add a small value to weight wi, and then find the values of L with the updated weights\n",
    "        # subtract a small value to weight wi, and then find the values of L with the updated weights\n",
    "        # compute the approximation gradients of weight wi</font>\n",
    "        approx_gradients.append(approximation gradients of weight wi)<font color='grey'>\n",
    "    # compare the gradient of weights W from backword_propagation() with the aproximation gradients of weights with <br>  gradient_check formula</font>\n",
    "    return gradient_check</font>\n",
    "<b>NOTE: you can do sanity check by checking all the return values of gradient_checking(),<br> they have to be zero. if not you have bug in your code\n",
    "</pre></b>"
   ]
  },
  {
   "cell_type": "markdown",
   "metadata": {
    "id": "0ufbFBFfhgL0"
   },
   "source": [
    "# <font color='red'> Task 2 : Optimizers </font>"
   ]
  },
  {
   "cell_type": "markdown",
   "metadata": {
    "id": "7zt05soYh1RM"
   },
   "source": [
    "* As a part of this task, you will be implementing 3 type of optimizers(methods to update weight)\n",
    "* Use the same computational graph that was mentioned above to do this task\n",
    "* Initilze the 9 weights from normal distribution with mean=0 and std=0.01"
   ]
  },
  {
   "cell_type": "markdown",
   "metadata": {
    "id": "CAyi7aSAicbr"
   },
   "source": [
    "**Check below video and <a href='https://cs231n.github.io/neural-networks-3/'>this</a> blog**\n",
    "\n",
    "https://cs231n.github.io/neural-networks-3/"
   ]
  },
  {
   "cell_type": "code",
   "execution_count": null,
   "metadata": {
    "colab": {
     "base_uri": "https://localhost:8080/",
     "height": 521
    },
    "id": "ZogcxiegkQpz",
    "outputId": "9b4e0235-e638-4f20-d9c1-ac3ca4fb3ce8"
   },
   "outputs": [
    {
     "data": {
      "image/jpeg": "[encoded data removed]",
      "text/html": [
       "\n",
       "        <iframe\n",
       "            width=\"1000\"\n",
       "            height=\"500\"\n",
       "            src=\"https://www.youtube.com/embed/gYpoJMlgyXA\"\n",
       "            frameborder=\"0\"\n",
       "            allowfullscreen\n",
       "        ></iframe>\n",
       "        "
      ],
      "text/plain": [
       "<IPython.lib.display.YouTubeVideo at 0x7f676043e208>"
      ]
     },
     "execution_count": 56,
     "metadata": {
      "tags": []
     },
     "output_type": "execute_result"
    }
   ],
   "source": [
    "from IPython.display import YouTubeVideo\n",
    "YouTubeVideo('gYpoJMlgyXA',width=\"1000\",height=\"500\")"
   ]
  },
  {
   "cell_type": "markdown",
   "metadata": {
    "id": "jmefh7ktjbaR"
   },
   "source": [
    "<font color='blue'><b>Algorithm</b>"
   ]
  },
  {
   "cell_type": "markdown",
   "metadata": {
    "id": "nAc4NudkjdNa"
   },
   "source": [
    "<pre>\n",
    "    for each epoch(1-100):\n",
    "        for each data point in your data:\n",
    "            using the functions forward_propagation() and backword_propagation() compute the gradients of weights\n",
    "            update the weigts with help of gradients  ex: w1 = w1-learning_rate*dw1\n",
    "</pre>"
   ]
  },
  {
   "cell_type": "markdown",
   "metadata": {
    "id": "_fdmPNqtjm3X"
   },
   "source": [
    "## <font color='red'> Implement below tasks</b>"
   ]
  },
  {
   "cell_type": "markdown",
   "metadata": {
    "id": "Ll9-CRsLjx_D"
   },
   "source": [
    "\n",
    "*  <b>Task 2.1</b>: you will be implementing the above algorithm with <b>Vanilla update</b> of weights<br><br>\n",
    "*  <b>Task 2.2</b>: you will be implementing the above algorithm with <b>Momentum update</b> of weights<br><br>\n",
    "*  <b>Task 2.3</b>: you will be implementing the above algorithm with <b>Adam update</b> of weights\n"
   ]
  },
  {
   "cell_type": "markdown",
   "metadata": {
    "id": "atp082demrUR"
   },
   "source": [
    "**Note : If you get any assertion error while running grader functions, please print the variables in grader functions and check which variable is returning False .Recheck your logic for that variable .**"
   ]
  },
  {
   "cell_type": "markdown",
   "metadata": {
    "id": "phG2WDkjkuIL"
   },
   "source": [
    "<br>\n",
    "<br>\n",
    "<br>"
   ]
  },
  {
   "cell_type": "markdown",
   "metadata": {
    "id": "CBaPzHP63grG"
   },
   "source": [
    "# <font color='red'>Task 1 </font>"
   ]
  },
  {
   "cell_type": "markdown",
   "metadata": {
    "id": "QfmV3FUgSrBo"
   },
   "source": [
    "## <font color='blue'>Forward propagation </font>"
   ]
  },
  {
   "cell_type": "code",
   "execution_count": 3,
   "metadata": {
    "id": "EXpaK16ariYt"
   },
   "outputs": [],
   "source": [
    "def sigmoid(z):\n",
    "    '''In this function, we will compute the sigmoid(z)'''\n",
    "    # we can use this function in forward and backward propagation\n",
    "    sig = 1/(1+np.exp(-z))\n",
    "    return sig"
   ]
  },
  {
   "cell_type": "code",
   "execution_count": 4,
   "metadata": {
    "colab": {
     "base_uri": "https://localhost:8080/",
     "height": 137
    },
    "id": "5_pBivcY30qf",
    "outputId": "de85c608-5727-42ea-92c4-87be5ca243df"
   },
   "outputs": [
    {
     "data": {
      "application/vnd.google.colaboratory.intrinsic+json": {
       "type": "string"
      },
      "text/plain": [
       "\"\\ndef forward_propagation(x, y, w):\\n        '''In this function, we will compute the forward propagation '''\\n        # X: input data point, note that in this assignment you are having 5-d data points\\n        # y: output varible\\n        # W: weight array, its of length 9, W[0] corresponds to w1 in graph, W[1] corresponds to w2 in graph,...,  W[8] corresponds to w9 in graph.  \\n        # you have to return the following variables\\n        # exp= part1 (compute the forward propagation until exp and then store the values in exp)\\n        # tanh =part2(compute the forward propagation until tanh and then store the values in tanh)\\n        # sig = part3(compute the forward propagation until sigmoid and then store the values in sig)\\n        # now compute remaining values from computional graph and get y'\\n        # write code to compute the value of L=(y-y')^2\\n        # compute derivative of L  w.r.to Y' and store it in dl\\n        # Create a dictionary to store all the intermediate values\\n        # store L, exp,tanh,sig variables\\n        return (dictionary, which you might need to use for back propagation)\\n\""
      ]
     },
     "execution_count": 4,
     "metadata": {
      "tags": []
     },
     "output_type": "execute_result"
    }
   ],
   "source": [
    "\"\"\"\n",
    "def forward_propagation(x, y, w):\n",
    "        '''In this function, we will compute the forward propagation '''\n",
    "        # X: input data point, note that in this assignment you are having 5-d data points\n",
    "        # y: output varible\n",
    "        # W: weight array, its of length 9, W[0] corresponds to w1 in graph, W[1] corresponds to w2 in graph,...,  W[8] corresponds to w9 in graph.  \n",
    "        # you have to return the following variables\n",
    "        # exp= part1 (compute the forward propagation until exp and then store the values in exp)\n",
    "        # tanh =part2(compute the forward propagation until tanh and then store the values in tanh)\n",
    "        # sig = part3(compute the forward propagation until sigmoid and then store the values in sig)\n",
    "        # now compute remaining values from computional graph and get y'\n",
    "        # write code to compute the value of L=(y-y')^2\n",
    "        # compute derivative of L  w.r.to Y' and store it in dl\n",
    "        # Create a dictionary to store all the intermediate values\n",
    "        # store L, exp,tanh,sig variables\n",
    "        return (dictionary, which you might need to use for back propagation)\n",
    "\"\"\""
   ]
  },
  {
   "cell_type": "code",
   "execution_count": 5,
   "metadata": {
    "id": "EdVhD9CScFMe"
   },
   "outputs": [],
   "source": [
    "def forward_propagation(x, y, w):\n",
    "    '''In this function, we will compute the forward propagation '''\n",
    "    # X: input data point, note that in this assignment you are having 5-d data points\n",
    "    # y: output varible\n",
    "    # W: weight array, its of length 9, W[0] corresponds to w1 in graph, W[1] corresponds to w2 in graph,...,  W[8] corresponds to w9 in graph.  \n",
    "    # you have to return the following variables\n",
    "\n",
    "    x1,x2,x3,x4,x5 = x               # Just to write code clear same as computational graph\n",
    "    w1,w2,w3,w4,w5,w6,w7,w8,w9 = w   # Just to write code clear same as computational graph\n",
    "\n",
    "    # exp= part1 (compute the forward propagation until exp and then store the values in exp)\n",
    "    exp = np.exp( np.square(w1*x1 + w2*x2) + w6 )\n",
    "    \n",
    "    # tanh =part2(compute the forward propagation until tanh and then store the values in tanh)\n",
    "    tanh = np.tanh(exp+w7)\n",
    "\n",
    "    # sig = part3(compute the forward propagation until sigmoid and then store the values in sig)\n",
    "    sig = sigmoid( np.sin(w3*x3) *  (w4*x4 + w5*x5)  + w8 )\n",
    "\n",
    "    # now compute remaining values from computional graph and get y'\n",
    "    y_dash = w9*sig + tanh\n",
    "    # write code to compute the value of L=(y-y')^2\n",
    "    L = (y-y_dash)**2\n",
    "    # compute derivative of L  w.r.to Y' and store it in dl\n",
    "    dl = -2 * (y - y_dash)\n",
    "\n",
    "    # Create a dictionary to store all the intermediate values\n",
    "    # store L, exp,tanh,sig variables\n",
    "    inter_values = {'dy_pr': dl , 'loss': L , 'exp': exp , 'tanh':tanh , 'sigmoid':sig , 'x':x, 'y_dash':y_dash}\n",
    "    return inter_values #(dictionary, which you might need to use for back propagation)"
   ]
  },
  {
   "cell_type": "markdown",
   "metadata": {
    "id": "z-z1rGKqCHNN"
   },
   "source": [
    "<font color='cyan'>Grader function - 1</font>"
   ]
  },
  {
   "cell_type": "code",
   "execution_count": 6,
   "metadata": {
    "colab": {
     "base_uri": "https://localhost:8080/"
    },
    "id": "6ZxFF00zBmx1",
    "outputId": "9647c8ba-86d5-4747-c211-16c217ceb359"
   },
   "outputs": [
    {
     "data": {
      "text/plain": [
       "True"
      ]
     },
     "execution_count": 6,
     "metadata": {
      "tags": []
     },
     "output_type": "execute_result"
    }
   ],
   "source": [
    "def grader_sigmoid(z):\n",
    "  val=sigmoid(z)\n",
    "  assert(val==0.8807970779778823)\n",
    "  return True\n",
    "grader_sigmoid(2)"
   ]
  },
  {
   "cell_type": "markdown",
   "metadata": {
    "id": "KgAUXq_aChey"
   },
   "source": [
    "<font color='cyan'>Grader function - 2 </font>"
   ]
  },
  {
   "cell_type": "code",
   "execution_count": 7,
   "metadata": {
    "colab": {
     "base_uri": "https://localhost:8080/"
    },
    "id": "3uzsUqcjCorN",
    "outputId": "3064b6e3-ef67-4e57-8a64-e73b1ab4827e"
   },
   "outputs": [
    {
     "data": {
      "text/plain": [
       "True"
      ]
     },
     "execution_count": 7,
     "metadata": {
      "tags": []
     },
     "output_type": "execute_result"
    }
   ],
   "source": [
    "def grader_forwardprop(data):\n",
    "    dl = (data['dy_pr']==-1.9285278284819143)\n",
    "    loss=(data['loss']==0.9298048963072919)\n",
    "    part1=(data['exp']==1.1272967040973583)\n",
    "    part2=(data['tanh']==0.8417934192562146)\n",
    "    part3=(data['sigmoid']==0.5279179387419721)\n",
    "    assert(dl and loss and part1 and part2 and part3)\n",
    "    return True\n",
    "w=np.ones(9)*0.1\n",
    "d1=forward_propagation(X[0],y[0],w)\n",
    "grader_forwardprop(d1)"
   ]
  },
  {
   "cell_type": "markdown",
   "metadata": {
    "id": "obOaAqj3Sxvb"
   },
   "source": [
    "## <font color='blue'>Backward propagation</font>"
   ]
  },
  {
   "cell_type": "markdown",
   "metadata": {
    "id": "1-DcsmitvUJa"
   },
   "source": [
    "**My Notes:**\n",
    "\n",
    "https://drive.google.com/file/d/1RIH1ZYCiHDGyPHJyteEaiUiWf3xeQgHu/view?usp=sharing\n",
    "\n",
    "https://drive.google.com/file/d/1LElgJPOJvyv5dF7tGez_M0vvi5IjEWXS/view?usp=sharing\n",
    "\n",
    "https://drive.google.com/file/d/1eFLEnQDTlf2-wJZBpHnSie4Yx1u3x0cW/view?usp=sharing\n",
    "\n",
    "https://drive.google.com/file/d/1ZhiWZAHl-lwdD5P9Io5RHiDzadqoc2-9/view?usp=sharing"
   ]
  },
  {
   "cell_type": "code",
   "execution_count": 8,
   "metadata": {
    "colab": {
     "base_uri": "https://localhost:8080/",
     "height": 137
    },
    "id": "JQeYGztgEKND",
    "outputId": "1095bfac-ff23-4283-b5df-daa53b6f1c3a"
   },
   "outputs": [
    {
     "data": {
      "application/vnd.google.colaboratory.intrinsic+json": {
       "type": "string"
      },
      "text/plain": [
       "\"\\ndef backward_propagation(x,W,dict):\\n    '''In this function, we will compute the backward propagation '''\\n    # x: datapoint for the we are going to backpropagate using Loss(L)\\n    # L: the loss we calculated for the current point\\n    # dictionary: the outputs of the forward_propagation() function\\n    # write code to compute the gradients of each weight [w1,w2,w3,...,w9]\\n    # Hint: you can use dict type to store the required variables \\n    # dw1 = # in dw1 compute derivative of L w.r.to w1\\n    # dw2 = # in dw2 compute derivative of L w.r.to w2\\n    # dw3 = # in dw3 compute derivative of L w.r.to w3\\n    # dw4 = # in dw4 compute derivative of L w.r.to w4\\n    # dw5 = # in dw5 compute derivative of L w.r.to w5\\n    # dw6 = # in dw6 compute derivative of L w.r.to w6\\n    # dw7 = # in dw7 compute derivative of L w.r.to w7\\n    # dw8 = # in dw8 compute derivative of L w.r.to w8\\n    # dw9 = # in dw9 compute derivative of L w.r.to w9\\n\\n    # return dW, dW is a dictionary with gradients of all the weights\\n\""
      ]
     },
     "execution_count": 8,
     "metadata": {
      "tags": []
     },
     "output_type": "execute_result"
    }
   ],
   "source": [
    "\"\"\"\n",
    "def backward_propagation(x,W,dict):\n",
    "    '''In this function, we will compute the backward propagation '''\n",
    "    # x: datapoint for the we are going to backpropagate using Loss(L)\n",
    "    # L: the loss we calculated for the current point\n",
    "    # dictionary: the outputs of the forward_propagation() function\n",
    "    # write code to compute the gradients of each weight [w1,w2,w3,...,w9]\n",
    "    # Hint: you can use dict type to store the required variables \n",
    "    # dw1 = # in dw1 compute derivative of L w.r.to w1\n",
    "    # dw2 = # in dw2 compute derivative of L w.r.to w2\n",
    "    # dw3 = # in dw3 compute derivative of L w.r.to w3\n",
    "    # dw4 = # in dw4 compute derivative of L w.r.to w4\n",
    "    # dw5 = # in dw5 compute derivative of L w.r.to w5\n",
    "    # dw6 = # in dw6 compute derivative of L w.r.to w6\n",
    "    # dw7 = # in dw7 compute derivative of L w.r.to w7\n",
    "    # dw8 = # in dw8 compute derivative of L w.r.to w8\n",
    "    # dw9 = # in dw9 compute derivative of L w.r.to w9\n",
    "\n",
    "    # return dW, dW is a dictionary with gradients of all the weights\n",
    "\"\"\""
   ]
  },
  {
   "cell_type": "code",
   "execution_count": 9,
   "metadata": {
    "id": "dS49ykcOGhIv"
   },
   "outputs": [],
   "source": [
    "def backward_propagation(x,w,d1):\n",
    "      # We are computing the gradients from right to left \n",
    "      # Branch1 + Brach2 = Y_dash ||  A+B = Y_dash\n",
    "      # Please look at below paper in which all these gradients are solved \n",
    "\n",
    "      dy_pr = d1['dy_pr']  # this is dL/dy_dash\n",
    "      exp = d1['exp']\n",
    "      tanh = d1['tanh']\n",
    "      sig = d1['sigmoid']\n",
    "      x1,x2,x3,x4,x5 = d1['x']         # Just to write code clear same as computational graph\n",
    "      w1,w2,w3,w4,w5,w6,w7,w8,w9 = w   # Just to write code clear same as computational graph\n",
    "\n",
    "      # Branch A : gradients of weights of Branch 1\n",
    "      dw7 = dy_pr * (1- np.square(tanh))\n",
    "      dw6 = dy_pr * (1- np.square(tanh)) * exp\n",
    "      dw1 = dy_pr * (1- np.square(tanh)) * exp *\\\n",
    "            x1*(w1*x1+w2*x2)*2.0\n",
    "\n",
    "      dw2 = dy_pr * (1- np.square(tanh)) * exp *\\\n",
    "            x2*(w1*x1+w2*x2)*2.0\n",
    "            \n",
    "      # Branch B : gradients of weights of Branch 2\n",
    "      # dw9 : compute derivative of L w.r.to w9\n",
    "      dw9 = dy_pr * sig\n",
    "\n",
    "      dw8 = dy_pr * (w9) * sig * (1-sig)\n",
    "      \n",
    "      dw3 = dy_pr * (w9) * sig * (1-sig)*\\\n",
    "                    (np.cos(w3*x3) * x3) *\\\n",
    "                    (w4*x4 + w5*x5)\n",
    "\n",
    "      dw4 = dy_pr * (w9) * sig * (1-sig)*\\\n",
    "                          np.sin(w3*x3) * x4\n",
    "\n",
    "      dw5 = dy_pr * (w9) * sig * (1-sig)*\\\n",
    "                          np.sin(w3*x3) * x5\n",
    "\n",
    "      grad_weights = {'dw1':dw1 , 'dw2':dw2 , 'dw3':dw3 , 'dw4':dw4 , 'dw5':dw5,\\\n",
    "                      'dw6':dw6 , 'dw7':dw7 , 'dw8':dw8 , 'dw9':dw9 }\n",
    "      return grad_weights"
   ]
  },
  {
   "cell_type": "markdown",
   "metadata": {
    "id": "2NpZWAVlS4jb"
   },
   "source": [
    "<font color='cyan'>Grader function - 3 </font>"
   ]
  },
  {
   "cell_type": "code",
   "execution_count": 10,
   "metadata": {
    "colab": {
     "base_uri": "https://localhost:8080/"
    },
    "id": "1a8Kll2xGhMJ",
    "outputId": "bb91496f-3b3c-4ca2-d7ec-420785c816ac"
   },
   "outputs": [
    {
     "data": {
      "text/plain": [
       "True"
      ]
     },
     "execution_count": 10,
     "metadata": {
      "tags": []
     },
     "output_type": "execute_result"
    }
   ],
   "source": [
    "def grader_backprop(data):\n",
    "    dw1=(data['dw1']==-0.22973323498702003)\n",
    "    dw2=(data['dw2']==-0.02140761471775293)\n",
    "    dw3=(data['dw3']==-0.005625405580266319)\n",
    "    dw4=(data['dw4']==-0.004657941222712423)\n",
    "    dw5=(data['dw5']==-0.0010077228498574246)\n",
    "    dw6=(data['dw6']==-0.6334751873437471)\n",
    "    dw7=(data['dw7']==-0.561941842854033)\n",
    "    dw8=(data['dw8']==-0.04806288407316516)\n",
    "    dw9=(data['dw9']==-1.0181044360187037)\n",
    "    assert(dw1 and dw2 and dw3 and dw4 and dw5 and dw6 and dw7 and dw8 and dw9)\n",
    "    return True \n",
    "w=np.ones(9)*0.1\n",
    "d1=forward_propagation(X[0],y[0],w)\n",
    "d1=backward_propagation(X[0],w,d1)\n",
    "grader_backprop(d1)"
   ]
  },
  {
   "cell_type": "markdown",
   "metadata": {
    "id": "1rfHHXZwgwo6"
   },
   "source": [
    "## <font color='blue'> Implement gradient checking</font>"
   ]
  },
  {
   "cell_type": "code",
   "execution_count": 11,
   "metadata": {
    "colab": {
     "base_uri": "https://localhost:8080/",
     "height": 119
    },
    "id": "oh8wj1yjGhOi",
    "outputId": "48612594-065d-483e-ddc1-23b1f0ad8b4c"
   },
   "outputs": [
    {
     "data": {
      "application/vnd.google.colaboratory.intrinsic+json": {
       "type": "string"
      },
      "text/plain": [
       "'\\nW = initilize_randomly\\ndef gradient_checking(data_point, W):\\n    # compute the L value using forward_propagation()\\n    # compute the gradients of W using backword_propagation()\\n    approx_gradients = []\\n    for each wi weight value in W:\\n        # add a small value to weight wi, and then find the values of L with the updated weights\\n        # subtract a small value to weight wi, and then find the values of L with the updated weights\\n        # compute the approximation gradients of weight wi\\n        approx_gradients.append(approximation gradients of weight wi)\\n    # compare the gradient of weights W from backword_propagation() with the aproximation gradients of weights with gradient_check formula\\n    return gradient_check \\n'"
      ]
     },
     "execution_count": 11,
     "metadata": {
      "tags": []
     },
     "output_type": "execute_result"
    }
   ],
   "source": [
    "\"\"\"\n",
    "W = initilize_randomly\n",
    "def gradient_checking(data_point, W):\n",
    "    # compute the L value using forward_propagation()\n",
    "    # compute the gradients of W using backword_propagation()\n",
    "    approx_gradients = []\n",
    "    for each wi weight value in W:\n",
    "        # add a small value to weight wi, and then find the values of L with the updated weights\n",
    "        # subtract a small value to weight wi, and then find the values of L with the updated weights\n",
    "        # compute the approximation gradients of weight wi\n",
    "        approx_gradients.append(approximation gradients of weight wi)\n",
    "    # compare the gradient of weights W from backword_propagation() with the aproximation gradients of weights with gradient_check formula\n",
    "    return gradient_check \n",
    "\"\"\""
   ]
  },
  {
   "cell_type": "markdown",
   "metadata": {
    "id": "ZABnMB9Jpn8I"
   },
   "source": [
    "**Code**"
   ]
  },
  {
   "cell_type": "code",
   "execution_count": 12,
   "metadata": {
    "id": "G111wQe0pssF"
   },
   "outputs": [],
   "source": [
    "# This function used to compute whole function of computational graph\n",
    "def f(w,x):\n",
    "    x1,x2,x3,x4,x5 = x                # Just to write code clear same as computational graph\n",
    "    w1,w2,w3,w4,w5,w6,w7,w8,w9 = w    # Just to write code clear same as computational graph\n",
    "\n",
    "    #Branch A\n",
    "    exp = np.exp( np.square(w1*x1 + w2*x2) + w6 )\n",
    "    tanh = np.tanh(exp+w7)\n",
    "\n",
    "    #Branch B\n",
    "    sig = sigmoid( np.sin(w3*x3) *  (w4*x4 + w5*x5)  + w8 )\n",
    "\n",
    "    # A+B\n",
    "    y_dash = w9*sig + tanh\n",
    "\n",
    "    return y_dash  #which is same as forward_propagation y_dash"
   ]
  },
  {
   "cell_type": "code",
   "execution_count": 13,
   "metadata": {
    "id": "QkpbjtBqrT6I"
   },
   "outputs": [],
   "source": [
    "# To understand this implementation uncomment all print statements\n",
    "\n",
    "def f_approx(w,x,y,eps,i):\n",
    "\n",
    "    # Taking seperate weight vectors for f(w+eps) and f(w-eps)\n",
    "    # understanding this whole from dw9 perspective \n",
    "    w_plus = w.copy()\n",
    "    w_minus = w.copy()\n",
    "    print('changing w{} weights'.format(i+1))\n",
    "\n",
    "    w_plus[i] = w_plus[i]+eps   # w9 = w9+eps  # add a small value to weight wi, and then find the values of L with the updated weights\n",
    "    print(w_plus)\n",
    "    L_plus = (y-f(w_plus,x))**2 \n",
    "    print(L_plus)\n",
    "\n",
    "    w_minus[i]= w_minus[i]-eps # w9 = w9-eps # subtract a small value to weight wi, and then find the values of L with the updated weights\n",
    "    print(w_minus)\n",
    "    L_minus = (y-f(w_minus,x))**2 \n",
    "    print(L_minus)\n",
    "    print('\\n')\n",
    "\n",
    "    f_app = (L_plus-L_minus)/(2*eps)\n",
    "    # print(f_app)\n",
    "    return f_app"
   ]
  },
  {
   "cell_type": "code",
   "execution_count": 14,
   "metadata": {
    "id": "8mMxYY3hpsog"
   },
   "outputs": [],
   "source": [
    "def grad_check(dw,dw_app):\n",
    "  num = np.sqrt(np.square(dw-dw_app))\n",
    "  den = np.sqrt(np.square(dw))+ np.sqrt(np.square(dw_app))\n",
    "  return num/den"
   ]
  },
  {
   "cell_type": "code",
   "execution_count": 15,
   "metadata": {
    "colab": {
     "base_uri": "https://localhost:8080/"
    },
    "id": "-GMjgzj8yb56",
    "outputId": "3390c1f9-3cd6-474b-ad99-3f684eebefca"
   },
   "outputs": [
    {
     "data": {
      "text/plain": [
       "4.2514140356330737e-13"
      ]
     },
     "execution_count": 15,
     "metadata": {
      "tags": []
     },
     "output_type": "execute_result"
    }
   ],
   "source": [
    "# Checking with above example provided\n",
    "grad_check(6,5.999999999994898)\n",
    "# print(round(grad_check(6,5.999999999994898),12)) "
   ]
  },
  {
   "cell_type": "markdown",
   "metadata": {
    "id": "9bHW9Vl1BvqF"
   },
   "source": [
    "**Initializing weights randomly**"
   ]
  },
  {
   "cell_type": "code",
   "execution_count": 16,
   "metadata": {
    "id": "Qe49A2IHE-CP"
   },
   "outputs": [],
   "source": [
    "np.random.seed(42)\n",
    "w = np.random.rand(9)\n",
    "# w=np.ones(9)*0.1\n",
    "\n",
    "def gradient_checking(x,y,w):\n",
    "    # temp = w.copy()\n",
    "    # compute the L value using forward_propagation()\n",
    "    d1 = forward_propagation(x,y,w)\n",
    "    dy_pr = d1['dy_pr']\n",
    "    # compute the gradients of W using backword_propagation()\n",
    "    d1 = backward_propagation(x,w,d1)  #dict\n",
    "\n",
    "    # getting all the actual gradient values in sorted from w1-w9\n",
    "    actual_gradients = [d1['dw'+str(i)] for i in range(1,10)] \n",
    "     \n",
    "    approx_gradients = []  #compute all approx gradients from w1-w9 and append in this list\n",
    "    eps = 0.0001\n",
    "    print('weights initialized: ', w , '\\n')\n",
    "    for i in range(len(w)):\n",
    "        dw_i_approx = f_approx(w,x,y,eps,i)\n",
    "        approx_gradients.append(dw_i_approx)\n",
    "\n",
    "    print('Actual gradients:\\n',actual_gradients)\n",
    "    print('\\n')\n",
    "    print('Approximated gradients:\\n',approx_gradients)\n",
    "    print('\\n')\n",
    "\n",
    "    print('-'*80)\n",
    "\n",
    "    # compare the gradient of weights W from backword_propagation() with the aproximation gradients of weights with gradient_check formula\n",
    "    gradient_checks= []\n",
    "    for dw,dw_approx in zip(actual_gradients,approx_gradients):\n",
    "      gradient_checks.append(  grad_check(dw,dw_approx) )\n",
    "\n",
    "    if all([round(val,7)==0.0 for val in gradient_checks]):\n",
    "      print('\\nAll gradients are almost equal till 1e-7 order')\n",
    "      print('Back-propagation is implemented correctly'.upper())\n",
    "    else:\n",
    "      print('Gradients difference is less than 1e-7')\n",
    "\n",
    "    print('\\n')\n",
    "    return None"
   ]
  },
  {
   "cell_type": "code",
   "execution_count": 17,
   "metadata": {
    "colab": {
     "base_uri": "https://localhost:8080/"
    },
    "id": "WpUPUNADMC8h",
    "outputId": "ddcccbff-6e3a-49b0-8905-698ef07a6313"
   },
   "outputs": [
    {
     "name": "stdout",
     "output_type": "stream",
     "text": [
      "weights initialized:  [0.37454012 0.95071431 0.73199394 0.59865848 0.15601864 0.15599452\n",
      " 0.05808361 0.86617615 0.60111501] \n",
      "\n",
      "changing w1 weights\n",
      "[0.37464012 0.95071431 0.73199394 0.59865848 0.15601864 0.15599452\n",
      " 0.05808361 0.86617615 0.60111501]\n",
      "0.2065327928279406\n",
      "[0.37444012 0.95071431 0.73199394 0.59865848 0.15601864 0.15599452\n",
      " 0.05808361 0.86617615 0.60111501]\n",
      "0.20658823794733222\n",
      "\n",
      "\n",
      "changing w2 weights\n",
      "[0.37454012 0.95081431 0.73199394 0.59865848 0.15601864 0.15599452\n",
      " 0.05808361 0.86617615 0.60111501]\n",
      "0.20655792961460145\n",
      "[0.37454012 0.95061431 0.73199394 0.59865848 0.15601864 0.15599452\n",
      " 0.05808361 0.86617615 0.60111501]\n",
      "0.2065630962496673\n",
      "\n",
      "\n",
      "changing w3 weights\n",
      "[0.37454012 0.95071431 0.73209394 0.59865848 0.15601864 0.15599452\n",
      " 0.05808361 0.86617615 0.60111501]\n",
      "0.20655768739787916\n",
      "[0.37454012 0.95071431 0.73189394 0.59865848 0.15601864 0.15599452\n",
      " 0.05808361 0.86617615 0.60111501]\n",
      "0.2065633392384223\n",
      "\n",
      "\n",
      "changing w4 weights\n",
      "[0.37454012 0.95071431 0.73199394 0.59875848 0.15601864 0.15599452\n",
      " 0.05808361 0.86617615 0.60111501]\n",
      "0.20655494414884343\n",
      "[0.37454012 0.95071431 0.73199394 0.59855848 0.15601864 0.15599452\n",
      " 0.05808361 0.86617615 0.60111501]\n",
      "0.2065660819262448\n",
      "\n",
      "\n",
      "changing w5 weights\n",
      "[0.37454012 0.95071431 0.73199394 0.59865848 0.15611864 0.15599452\n",
      " 0.05808361 0.86617615 0.60111501]\n",
      "0.20655930811467543\n",
      "[0.37454012 0.95071431 0.73199394 0.59865848 0.15591864 0.15599452\n",
      " 0.05808361 0.86617615 0.60111501]\n",
      "0.20656171771845658\n",
      "\n",
      "\n",
      "changing w6 weights\n",
      "[0.37454012 0.95071431 0.73199394 0.59865848 0.15601864 0.15609452\n",
      " 0.05808361 0.86617615 0.60111501]\n",
      "0.20654247143812904\n",
      "[0.37454012 0.95071431 0.73199394 0.59865848 0.15601864 0.15589452\n",
      " 0.05808361 0.86617615 0.60111501]\n",
      "0.20657855901761787\n",
      "\n",
      "\n",
      "changing w7 weights\n",
      "[0.37454012 0.95071431 0.73199394 0.59865848 0.15601864 0.15599452\n",
      " 0.05818361 0.86617615 0.60111501]\n",
      "0.20654969805243426\n",
      "[0.37454012 0.95071431 0.73199394 0.59865848 0.15601864 0.15599452\n",
      " 0.05798361 0.86617615 0.60111501]\n",
      "0.20657133008242076\n",
      "\n",
      "\n",
      "changing w8 weights\n",
      "[0.37454012 0.95071431 0.73199394 0.59865848 0.15601864 0.15599452\n",
      " 0.05808361 0.86627615 0.60111501]\n",
      "0.20655097916602247\n",
      "[0.37454012 0.95071431 0.73199394 0.59865848 0.15601864 0.15599452\n",
      " 0.05808361 0.86607615 0.60111501]\n",
      "0.20657004739923884\n",
      "\n",
      "\n",
      "changing w9 weights\n",
      "[0.37454012 0.95071431 0.73199394 0.59865848 0.15601864 0.15599452\n",
      " 0.05808361 0.86617615 0.60121501]\n",
      "0.20649009200045468\n",
      "[0.37454012 0.95071431 0.73199394 0.59865848 0.15601864 0.15599452\n",
      " 0.05808361 0.86617615 0.60101501]\n",
      "0.20663094582684263\n",
      "\n",
      "\n",
      "Actual gradients:\n",
      " [-0.27722560490458503, -0.025833175334986542, -0.028259202727405314, -0.05568888699650373, -0.012048018904975682, -0.1804378963790198, -0.10816014907400062, -0.0953411660291326, -0.704269131940563]\n",
      "\n",
      "\n",
      "Approximated gradients:\n",
      " [-0.2772255969581139, -0.025833175329170732, -0.02825920271565252, -0.055688887006799526, -0.012048018905724822, -0.18043789744418004, -0.10816014993253464, -0.09534116608186927, -0.704269131939772]\n",
      "\n",
      "\n",
      "--------------------------------------------------------------------------------\n",
      "\n",
      "All gradients are almost equal till 1e-7 order\n",
      "BACK-PROPAGATION IS IMPLEMENTED CORRECTLY\n",
      "\n",
      "\n"
     ]
    }
   ],
   "source": [
    "gradient_checking(X[0],y[0],w)"
   ]
  },
  {
   "cell_type": "markdown",
   "metadata": {
    "id": "h-bRY2bFkbEX"
   },
   "source": [
    "**BACK-PROPAGATION is implemented correctly**"
   ]
  },
  {
   "cell_type": "markdown",
   "metadata": {
    "id": "MhwDSe99kJ32"
   },
   "source": [
    "# <font color='red'>Task 2: Optimizers"
   ]
  },
  {
   "cell_type": "markdown",
   "metadata": {
    "id": "jJzI-vnPk1dB"
   },
   "source": [
    "###<font color='blue'>Algorithm with SGD - Vanilla update of weights</font>"
   ]
  },
  {
   "cell_type": "code",
   "execution_count": 18,
   "metadata": {
    "colab": {
     "base_uri": "https://localhost:8080/"
    },
    "id": "xJspU6ZuGhRQ",
    "outputId": "a7c39cc6-4961-49fb-e870-5dd103d50db7"
   },
   "outputs": [
    {
     "name": "stdout",
     "output_type": "stream",
     "text": [
      "[ 0.00496714 -0.00138264  0.00647689  0.0152303  -0.00234153 -0.00234137\n",
      "  0.01579213  0.00767435 -0.00469474]\n"
     ]
    }
   ],
   "source": [
    "# https://numpy.org/doc/stable/reference/random/generated/numpy.random.normal.html\n",
    "\n",
    "np.random.seed(42)\n",
    "w = np.random.normal(0,0.01, size = 9)\n",
    "print(w)"
   ]
  },
  {
   "cell_type": "code",
   "execution_count": 32,
   "metadata": {
    "colab": {
     "base_uri": "https://localhost:8080/"
    },
    "id": "b4p4hD_dG2V9",
    "outputId": "2572111f-a0cf-49af-f5a9-bd668c2502c8"
   },
   "outputs": [
    {
     "name": "stdout",
     "output_type": "stream",
     "text": [
      "[ 0.00496714 -0.00138264  0.00647689  0.0152303  -0.00234153 -0.00234137\n",
      "  0.01579213  0.00767435 -0.00469474]\n"
     ]
    }
   ],
   "source": [
    "np.random.seed(42)\n",
    "w = np.random.normal(0,0.01, size = 9)\n",
    "print(w)\n",
    "\n",
    "epochs = 100\n",
    "eta = 0.001\n",
    "epoch_lst , loss = [],[]\n",
    "for epoch in range(1,epochs+1):\n",
    "  for xi,yi in zip(X,y):\n",
    "    d1 = forward_propagation(xi,yi,w)\n",
    "    dw = backward_propagation(xi,w,d1)\n",
    "    dw = np.array(list(dw.values()))\n",
    "    #updating weights using matrices  \n",
    "    w = w - eta * dw  \n",
    "  loss.append(d1['loss'])\n",
    "  epoch_lst.append(epoch)\n",
    "  # print(w)"
   ]
  },
  {
   "cell_type": "markdown",
   "metadata": {
    "id": "UlTLXrvmlR26"
   },
   "source": [
    "<font color='blue'>Plot between epochs and loss</font>"
   ]
  },
  {
   "cell_type": "code",
   "execution_count": 33,
   "metadata": {
    "colab": {
     "base_uri": "https://localhost:8080/",
     "height": 295
    },
    "id": "dAxEJT0fJ8Yj",
    "outputId": "849e8d05-c344-41c1-9fc2-a05192c75885"
   },
   "outputs": [
    {
     "data": {
      "image/png": "[encoded data removed]",
      "text/plain": [
       "<Figure size 432x288 with 1 Axes>"
      ]
     },
     "metadata": {
      "needs_background": "light",
      "tags": []
     },
     "output_type": "display_data"
    }
   ],
   "source": [
    "import matplotlib.pyplot as plt\n",
    "plt.plot(epoch_lst,loss, label='SGD')\n",
    "plt.xlabel('Epoch')\n",
    "plt.ylabel('Loss')\n",
    "plt.title('Epoch vs Loss')\n",
    "plt.legend()\n",
    "plt.show() "
   ]
  },
  {
   "cell_type": "markdown",
   "metadata": {
    "id": "cv_hZFWalS2z"
   },
   "source": [
    "###<font color='blue'>Algorithm with SGD+Momentum update of weights</font>"
   ]
  },
  {
   "cell_type": "markdown",
   "metadata": {
    "id": "lvrcogxHXgGm"
   },
   "source": [
    "Resources:\n",
    "\n",
    "http://sebastianruder.com/optimizing-gradient-descent/\n",
    "\n",
    "https://wiseodd.github.io/techblog/2016/06/22/nn-optimization/\n",
    "\n",
    "https://cs231n.github.io/neural-networks-3/#ratio"
   ]
  },
  {
   "cell_type": "code",
   "execution_count": 34,
   "metadata": {
    "colab": {
     "base_uri": "https://localhost:8080/"
    },
    "id": "uucCdyQrGhZt",
    "outputId": "3bced321-0b5c-4410-9385-b5c9441d6e32"
   },
   "outputs": [
    {
     "name": "stdout",
     "output_type": "stream",
     "text": [
      "[ 0.00496714 -0.00138264  0.00647689  0.0152303  -0.00234153 -0.00234137\n",
      "  0.01579213  0.00767435 -0.00469474]\n"
     ]
    }
   ],
   "source": [
    "np.random.seed(42)\n",
    "w = np.random.normal(0,0.01, size = 9)\n",
    "print(w)\n",
    "\n",
    "epochs = 100\n",
    "eta = 0.001\n",
    "gamma = 0.9\n",
    "vt = 0      #initially \n",
    "epoch_lst , momentum_loss = [],[]\n",
    "for epoch in range(1,epochs+1):\n",
    "  for xi,yi in zip(X,y):\n",
    "    d1 = forward_propagation(xi,yi,w)\n",
    "    dw = backward_propagation(xi,w,d1)\n",
    "    dw = np.array(list(dw.values()))\n",
    "    #updating weights using matrices\n",
    "    vt =  gamma*vt + eta*dw\n",
    "    w = w - vt  \n",
    "  momentum_loss.append(d1['loss'])\n",
    "  epoch_lst.append(epoch)\n",
    "  # print(w)"
   ]
  },
  {
   "cell_type": "markdown",
   "metadata": {
    "id": "Ow20azfKlVhn"
   },
   "source": [
    "<font color='blue'>Plot between epochs and loss</font>"
   ]
  },
  {
   "cell_type": "code",
   "execution_count": 35,
   "metadata": {
    "colab": {
     "base_uri": "https://localhost:8080/",
     "height": 295
    },
    "id": "u-m90Sq_Ghce",
    "outputId": "0a1bfd66-49ed-4cba-8f6a-797acdea461d"
   },
   "outputs": [
    {
     "data": {
      "image/png": "[encoded data removed]",
      "text/plain": [
       "<Figure size 432x288 with 1 Axes>"
      ]
     },
     "metadata": {
      "needs_background": "light",
      "tags": []
     },
     "output_type": "display_data"
    }
   ],
   "source": [
    "import matplotlib.pyplot as plt\n",
    "plt.plot(epoch_lst,momentum_loss, label='SGD+momentum')\n",
    "plt.xlabel('Epoch')\n",
    "plt.ylabel('Loss')\n",
    "plt.title('Epoch vs Loss')\n",
    "plt.legend()\n",
    "plt.show() "
   ]
  },
  {
   "cell_type": "markdown",
   "metadata": {
    "id": "V4RWWrZ7lWap"
   },
   "source": [
    "###<font color='blue'>Algorithm with ADAM update of weights</font>"
   ]
  },
  {
   "cell_type": "code",
   "execution_count": 41,
   "metadata": {
    "colab": {
     "base_uri": "https://localhost:8080/"
    },
    "id": "72rRC8rJGhf5",
    "outputId": "452684d5-4a5a-4a9a-b4e5-8cd242b7871f"
   },
   "outputs": [
    {
     "name": "stdout",
     "output_type": "stream",
     "text": [
      "[ 0.00496714 -0.00138264  0.00647689  0.0152303  -0.00234153 -0.00234137\n",
      "  0.01579213  0.00767435 -0.00469474]\n"
     ]
    }
   ],
   "source": [
    "np.random.seed(42)\n",
    "w = np.random.normal(0,0.01, size = 9)\n",
    "print(w)\n",
    "\n",
    "epochs = 100\n",
    "eta = 0.001\n",
    "beta1 = 0.9\n",
    "beta2 = 0.999   \n",
    "eps = 1e-8    \n",
    "epoch_lst , adam_loss = [],[]\n",
    "\n",
    "mt = np.zeros(len(w))\n",
    "vt = np.zeros(len(w))\n",
    "\n",
    "for epoch in range(1,epochs+1):\n",
    "  t = epoch\n",
    "  for xi,yi in zip(X,y):\n",
    "    d1 = forward_propagation(xi,yi,w)\n",
    "    dw = backward_propagation(xi,w,d1)\n",
    "    dw = np.array(list(dw.values()))\n",
    "    #updating weights using matrices\n",
    "    # Computing moments mean mt, variance vt for gradients\n",
    "    mt = beta1*mt + (1-beta1)*dw\n",
    "    vt = beta2*vt + (1-beta2)*(dw**2)\n",
    "\n",
    "    mt_hat = mt/(1-beta1**(t))\n",
    "    vt_hat = vt/(1-beta2**(t))\n",
    "\n",
    "    grad = (eta*mt_hat)/(np.sqrt(vt_hat) + eps)\n",
    "    w = w - grad  \n",
    "  adam_loss.append(d1['loss'])\n",
    "  epoch_lst.append(epoch)\n",
    "  # print(w)"
   ]
  },
  {
   "cell_type": "markdown",
   "metadata": {
    "id": "MMy0nBw-lXml"
   },
   "source": [
    "<font color='blue'>Plot between epochs and loss</font>"
   ]
  },
  {
   "cell_type": "code",
   "execution_count": 42,
   "metadata": {
    "colab": {
     "base_uri": "https://localhost:8080/",
     "height": 295
    },
    "id": "tNqdNTSfey59",
    "outputId": "423a5f5c-49dd-42bd-9cc2-5591307744ca"
   },
   "outputs": [
    {
     "data": {
      "image/png": "[encoded data removed]",
      "text/plain": [
       "<Figure size 432x288 with 1 Axes>"
      ]
     },
     "metadata": {
      "needs_background": "light",
      "tags": []
     },
     "output_type": "display_data"
    }
   ],
   "source": [
    "import matplotlib.pyplot as plt\n",
    "plt.plot(epoch_lst,adam_loss, label='Adam')\n",
    "plt.xlabel('Epoch')\n",
    "plt.ylabel('Loss')\n",
    "plt.title('Epoch vs Loss')\n",
    "plt.legend()\n",
    "plt.show() "
   ]
  },
  {
   "cell_type": "markdown",
   "metadata": {
    "id": "7627cy8YlnYO"
   },
   "source": [
    "<font color='blue'>Comparision plot between epochs and loss with different optimizers</font>"
   ]
  },
  {
   "cell_type": "code",
   "execution_count": 48,
   "metadata": {
    "colab": {
     "base_uri": "https://localhost:8080/",
     "height": 404
    },
    "id": "WwZ8b5-ZbWfe",
    "outputId": "10c3f708-899c-4220-bf27-0c8439e67a2b"
   },
   "outputs": [
    {
     "data": {
      "image/png": "[encoded data removed]",
      "text/plain": [
       "<Figure size 576x432 with 1 Axes>"
      ]
     },
     "metadata": {
      "needs_background": "light",
      "tags": []
     },
     "output_type": "display_data"
    }
   ],
   "source": [
    "import matplotlib.pyplot as plt\n",
    "plt.figure(figsize=(8,6))\n",
    "plt.plot(epoch_lst,loss, marker='.', linestyle='-', label='SGD')\n",
    "plt.plot(epoch_lst,momentum_loss, marker='.',label = 'SGD+momentum')\n",
    "plt.plot(epoch_lst,adam_loss, marker='.',label = 'adam')\n",
    "\n",
    "plt.xlabel('Epoch')\n",
    "plt.ylabel('Loss')\n",
    "plt.title('Epoch vs Loss')\n",
    "plt.legend()\n",
    "plt.show() "
   ]
  },
  {
   "cell_type": "code",
   "execution_count": null,
   "metadata": {
    "id": "jnK7kI5tfv6x"
   },
   "outputs": [],
   "source": [
    "# Observations\n",
    "# Clearly convergence order is Adam > SGD+momentum > SGD\n",
    "# Vanilla SGD curve is not stable and loss first decreased and then incredsed drastically \n",
    "# SGD+momentum curve is stable and converges faster than vanilla SGD\n",
    "# Clearly Adam outran other optimizers in convergence as well as statbility."
   ]
  }
 ],
 "metadata": {
  "colab": {
   "collapsed_sections": [],
   "machine_shape": "hm",
   "name": "Backpropagation_assignment.ipynb",
   "provenance": [],
   "toc_visible": true
  },
  "kernelspec": {
   "display_name": "Python 3",
   "language": "python",
   "name": "python3"
  },
  "language_info": {
   "codemirror_mode": {
    "name": "ipython",
    "version": 3
   },
   "file_extension": ".py",
   "mimetype": "text/x-python",
   "name": "python",
   "nbconvert_exporter": "python",
   "pygments_lexer": "ipython3",
   "version": "3.7.6"
  }
 },
 "nbformat": 4,
 "nbformat_minor": 1
}
