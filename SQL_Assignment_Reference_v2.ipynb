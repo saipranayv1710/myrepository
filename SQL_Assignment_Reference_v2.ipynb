{
  "nbformat": 4,
  "nbformat_minor": 0,
  "metadata": {
    "kernelspec": {
      "display_name": "Python 3",
      "language": "python",
      "name": "python3"
    },
    "language_info": {
      "codemirror_mode": {
        "name": "ipython",
        "version": 3
      },
      "file_extension": ".py",
      "mimetype": "text/x-python",
      "name": "python",
      "nbconvert_exporter": "python",
      "pygments_lexer": "ipython3",
      "version": "3.7.4"
    },
    "colab": {
      "name": "SQL_Assignment_Reference.ipynb",
      "provenance": [],
      "collapsed_sections": []
    }
  },
  "cells": [
    {
      "cell_type": "markdown",
      "metadata": {
        "id": "o0mdFosUwPYE",
        "colab_type": "text"
      },
      "source": [
        "# SQL Assignment"
      ]
    },
    {
      "cell_type": "code",
      "metadata": {
        "id": "eDpno64uwPYG",
        "colab_type": "code",
        "colab": {}
      },
      "source": [
        "import pandas as pd\n",
        "import sqlite3"
      ],
      "execution_count": 1,
      "outputs": []
    },
    {
      "cell_type": "code",
      "metadata": {
        "id": "9rL1FR9jJLGe",
        "colab_type": "code",
        "colab": {
          "base_uri": "https://localhost:8080/",
          "height": 121
        },
        "outputId": "45eebb4c-f9c3-47f9-ff68-5cd8395b2811"
      },
      "source": [
        "from google.colab import drive\n",
        "drive.mount('/content/drive')"
      ],
      "execution_count": 2,
      "outputs": [
        {
          "output_type": "stream",
          "text": [
            "Go to this URL in a browser: https://accounts.google.com/o/oauth2/auth?client_id=947318989803-6bn6qk8qdgf4n4g3pfee6491hc0brc4i.apps.googleusercontent.com&redirect_uri=urn%3aietf%3awg%3aoauth%3a2.0%3aoob&response_type=code&scope=email%20https%3a%2f%2fwww.googleapis.com%2fauth%2fdocs.test%20https%3a%2f%2fwww.googleapis.com%2fauth%2fdrive%20https%3a%2f%2fwww.googleapis.com%2fauth%2fdrive.photos.readonly%20https%3a%2f%2fwww.googleapis.com%2fauth%2fpeopleapi.readonly\n",
            "\n",
            "Enter your authorization code:\n",
            "··········\n",
            "Mounted at /content/drive\n"
          ],
          "name": "stdout"
        }
      ]
    },
    {
      "cell_type": "code",
      "metadata": {
        "id": "pEDC9eiswPYL",
        "colab_type": "code",
        "colab": {}
      },
      "source": [
        "# conn = sqlite3.connect(\"Db-IMDB-Assignment.db\")\n",
        "conn = sqlite3.connect(\"/content/drive/My Drive/Colab Notebooks/SQL Assignment/Db-IMDB-Assignment.db\")"
      ],
      "execution_count": 3,
      "outputs": []
    },
    {
      "cell_type": "markdown",
      "metadata": {
        "id": "SS-BfC1JwPYP",
        "colab_type": "text"
      },
      "source": [
        "## Sample Code"
      ]
    },
    {
      "cell_type": "code",
      "metadata": {
        "id": "xr0Cbm5XwPYQ",
        "colab_type": "code",
        "colab": {
          "base_uri": "https://localhost:8080/",
          "height": 67
        },
        "outputId": "2b9ee0f6-479b-4525-c21b-601a9b2d5274"
      },
      "source": [
        "%%time\n",
        "# Write your sql query below\n",
        "\n",
        "query = \"\"\"\n",
        "        SELECT TRIM(Movie.title) AS 'Movie_Name'\n",
        "        FROM Movie\n",
        "        WHERE Movie.rating < 3\n",
        "        \n",
        "        \"\"\"\n",
        "\n",
        "q = pd.read_sql_query(query, conn)    \n",
        "print(q.shape)\n",
        "q.head()"
      ],
      "execution_count": 4,
      "outputs": [
        {
          "output_type": "stream",
          "text": [
            "(85, 1)\n",
            "CPU times: user 66.9 ms, sys: 19.2 ms, total: 86.1 ms\n",
            "Wall time: 156 ms\n"
          ],
          "name": "stdout"
        }
      ]
    },
    {
      "cell_type": "code",
      "metadata": {
        "id": "FED8LBJHJwRo",
        "colab_type": "code",
        "colab": {
          "base_uri": "https://localhost:8080/",
          "height": 195
        },
        "outputId": "e38b8be1-0e42-4811-fb36-c9eff1aebb1e"
      },
      "source": [
        "q.head()"
      ],
      "execution_count": 5,
      "outputs": [
        {
          "output_type": "execute_result",
          "data": {
            "text/html": [
              "<div>\n",
              "<style scoped>\n",
              "    .dataframe tbody tr th:only-of-type {\n",
              "        vertical-align: middle;\n",
              "    }\n",
              "\n",
              "    .dataframe tbody tr th {\n",
              "        vertical-align: top;\n",
              "    }\n",
              "\n",
              "    .dataframe thead th {\n",
              "        text-align: right;\n",
              "    }\n",
              "</style>\n",
              "<table border=\"1\" class=\"dataframe\">\n",
              "  <thead>\n",
              "    <tr style=\"text-align: right;\">\n",
              "      <th></th>\n",
              "      <th>Movie_Name</th>\n",
              "    </tr>\n",
              "  </thead>\n",
              "  <tbody>\n",
              "    <tr>\n",
              "      <th>0</th>\n",
              "      <td>Mastizaade</td>\n",
              "    </tr>\n",
              "    <tr>\n",
              "      <th>1</th>\n",
              "      <td>Dragonball Evolution</td>\n",
              "    </tr>\n",
              "    <tr>\n",
              "      <th>2</th>\n",
              "      <td>Loveyatri</td>\n",
              "    </tr>\n",
              "    <tr>\n",
              "      <th>3</th>\n",
              "      <td>Race 3</td>\n",
              "    </tr>\n",
              "    <tr>\n",
              "      <th>4</th>\n",
              "      <td>Gunday</td>\n",
              "    </tr>\n",
              "  </tbody>\n",
              "</table>\n",
              "</div>"
            ],
            "text/plain": [
              "             Movie_Name\n",
              "0            Mastizaade\n",
              "1  Dragonball Evolution\n",
              "2             Loveyatri\n",
              "3                Race 3\n",
              "4                Gunday"
            ]
          },
          "metadata": {
            "tags": []
          },
          "execution_count": 5
        }
      ]
    },
    {
      "cell_type": "markdown",
      "metadata": {
        "id": "as_uSvIZ2x4X",
        "colab_type": "text"
      },
      "source": [
        "##Columns identified to be Cleansed for Querying"
      ]
    },
    {
      "cell_type": "markdown",
      "metadata": {
        "id": "b0kutw0QCTUt",
        "colab_type": "text"
      },
      "source": [
        "SQLlite is case-sensitive\n",
        "\n",
        "Ex:\n",
        "\n",
        "select * from Person \n",
        "where gender ='Male'\n",
        "\n",
        "select * from Person \n",
        "where gender = 'MALE'    \n",
        "\n",
        "are different\n",
        "\n",
        "1.   PID in M_Cast table mainly\n",
        "2.   Year in Movie table\n",
        "3.   Note: Gender has 3 values (Male, Female, **None**)\n",
        "\n"
      ]
    },
    {
      "cell_type": "code",
      "metadata": {
        "id": "E03RPbAy227g",
        "colab_type": "code",
        "colab": {
          "base_uri": "https://localhost:8080/",
          "height": 67
        },
        "outputId": "4e842640-445b-4094-fc25-70322e2d34db"
      },
      "source": [
        "%%time\n",
        "# Write your sql query below\n",
        "\n",
        "query = \"\"\"\n",
        "        SELECT TRIM(Movie.title) AS 'Movie_Name'\n",
        "        FROM Movie\n",
        "        WHERE Movie.rating < 3\n",
        "        \n",
        "        \"\"\"\n",
        "\n",
        "q = pd.read_sql_query(query, conn)    \n",
        "print(q.shape)\n",
        "q.head()"
      ],
      "execution_count": 6,
      "outputs": [
        {
          "output_type": "stream",
          "text": [
            "(85, 1)\n",
            "CPU times: user 1.98 ms, sys: 781 µs, total: 2.76 ms\n",
            "Wall time: 2.84 ms\n"
          ],
          "name": "stdout"
        }
      ]
    },
    {
      "cell_type": "code",
      "metadata": {
        "id": "FDazDwq5225G",
        "colab_type": "code",
        "colab": {
          "base_uri": "https://localhost:8080/",
          "height": 195
        },
        "outputId": "71752941-fece-4999-ea96-fe96acbeaa88"
      },
      "source": [
        "q.head()"
      ],
      "execution_count": 7,
      "outputs": [
        {
          "output_type": "execute_result",
          "data": {
            "text/html": [
              "<div>\n",
              "<style scoped>\n",
              "    .dataframe tbody tr th:only-of-type {\n",
              "        vertical-align: middle;\n",
              "    }\n",
              "\n",
              "    .dataframe tbody tr th {\n",
              "        vertical-align: top;\n",
              "    }\n",
              "\n",
              "    .dataframe thead th {\n",
              "        text-align: right;\n",
              "    }\n",
              "</style>\n",
              "<table border=\"1\" class=\"dataframe\">\n",
              "  <thead>\n",
              "    <tr style=\"text-align: right;\">\n",
              "      <th></th>\n",
              "      <th>Movie_Name</th>\n",
              "    </tr>\n",
              "  </thead>\n",
              "  <tbody>\n",
              "    <tr>\n",
              "      <th>0</th>\n",
              "      <td>Mastizaade</td>\n",
              "    </tr>\n",
              "    <tr>\n",
              "      <th>1</th>\n",
              "      <td>Dragonball Evolution</td>\n",
              "    </tr>\n",
              "    <tr>\n",
              "      <th>2</th>\n",
              "      <td>Loveyatri</td>\n",
              "    </tr>\n",
              "    <tr>\n",
              "      <th>3</th>\n",
              "      <td>Race 3</td>\n",
              "    </tr>\n",
              "    <tr>\n",
              "      <th>4</th>\n",
              "      <td>Gunday</td>\n",
              "    </tr>\n",
              "  </tbody>\n",
              "</table>\n",
              "</div>"
            ],
            "text/plain": [
              "             Movie_Name\n",
              "0            Mastizaade\n",
              "1  Dragonball Evolution\n",
              "2             Loveyatri\n",
              "3                Race 3\n",
              "4                Gunday"
            ]
          },
          "metadata": {
            "tags": []
          },
          "execution_count": 7
        }
      ]
    },
    {
      "cell_type": "markdown",
      "metadata": {
        "id": "4C-s72v8wPYT",
        "colab_type": "text"
      },
      "source": [
        "## Q1 --- List all the directors who directed a 'Comedy' movie in a leap year. (You need to check that the genre is 'Comedy’ and year is a leap year) Your query should return director name, the movie name, and the year."
      ]
    },
    {
      "cell_type": "code",
      "metadata": {
        "id": "fWeazz7bwPYT",
        "colab_type": "code",
        "colab": {
          "base_uri": "https://localhost:8080/",
          "height": 67
        },
        "outputId": "bbf3f46d-8ace-410f-ae2c-d877364c0499"
      },
      "source": [
        "%%time\n",
        "# Write your sql query below\n",
        "#https://www.w3resource.com/sqlite/core-functions-substr.php\n",
        "\n",
        "\n",
        "query = \"\"\"\n",
        "          SELECT p.name AS director, \n",
        "                m.title, \n",
        "                cast(Substr(Trim(m.year), -4) as int) as year \n",
        "          FROM   movie m \n",
        "                INNER JOIN m_director md \n",
        "                        ON m.mid = md.mid \n",
        "                INNER JOIN Person p \n",
        "                        ON md.pid = p.pid \n",
        "                INNER JOIN m_genre mg \n",
        "                        ON m.mid = mg.mid \n",
        "                INNER JOIN genre g \n",
        "                        ON mg.gid = g.gid \n",
        "          WHERE  cast(Substr(Trim(m.year), -4) as int)%4 = 0 \n",
        "                AND g.name LIKE '%Comedy%'\n",
        "          \"\"\" \n",
        "        \n",
        "q1 = pd.read_sql_query(query, conn)    \n",
        "print(q1.shape)"
      ],
      "execution_count": 8,
      "outputs": [
        {
          "output_type": "stream",
          "text": [
            "(232, 3)\n",
            "CPU times: user 57.9 ms, sys: 5.37 ms, total: 63.3 ms\n",
            "Wall time: 68 ms\n"
          ],
          "name": "stdout"
        }
      ]
    },
    {
      "cell_type": "code",
      "metadata": {
        "id": "JXb_Ghp9zC1W",
        "colab_type": "code",
        "colab": {
          "base_uri": "https://localhost:8080/",
          "height": 195
        },
        "outputId": "dacae3db-861e-4f0d-ac9d-637c0a8c62a4"
      },
      "source": [
        "q1.head()"
      ],
      "execution_count": 9,
      "outputs": [
        {
          "output_type": "execute_result",
          "data": {
            "text/html": [
              "<div>\n",
              "<style scoped>\n",
              "    .dataframe tbody tr th:only-of-type {\n",
              "        vertical-align: middle;\n",
              "    }\n",
              "\n",
              "    .dataframe tbody tr th {\n",
              "        vertical-align: top;\n",
              "    }\n",
              "\n",
              "    .dataframe thead th {\n",
              "        text-align: right;\n",
              "    }\n",
              "</style>\n",
              "<table border=\"1\" class=\"dataframe\">\n",
              "  <thead>\n",
              "    <tr style=\"text-align: right;\">\n",
              "      <th></th>\n",
              "      <th>director</th>\n",
              "      <th>title</th>\n",
              "      <th>year</th>\n",
              "    </tr>\n",
              "  </thead>\n",
              "  <tbody>\n",
              "    <tr>\n",
              "      <th>0</th>\n",
              "      <td>Milap Zaveri</td>\n",
              "      <td>Mastizaade</td>\n",
              "      <td>2016</td>\n",
              "    </tr>\n",
              "    <tr>\n",
              "      <th>1</th>\n",
              "      <td>Danny Leiner</td>\n",
              "      <td>Harold &amp; Kumar Go to White Castle</td>\n",
              "      <td>2004</td>\n",
              "    </tr>\n",
              "    <tr>\n",
              "      <th>2</th>\n",
              "      <td>Anurag Kashyap</td>\n",
              "      <td>Gangs of Wasseypur</td>\n",
              "      <td>2012</td>\n",
              "    </tr>\n",
              "    <tr>\n",
              "      <th>3</th>\n",
              "      <td>Frank Coraci</td>\n",
              "      <td>Around the World in 80 Days</td>\n",
              "      <td>2004</td>\n",
              "    </tr>\n",
              "    <tr>\n",
              "      <th>4</th>\n",
              "      <td>Griffin Dunne</td>\n",
              "      <td>The Accidental Husband</td>\n",
              "      <td>2008</td>\n",
              "    </tr>\n",
              "  </tbody>\n",
              "</table>\n",
              "</div>"
            ],
            "text/plain": [
              "          director                              title  year\n",
              "0     Milap Zaveri                         Mastizaade  2016\n",
              "1     Danny Leiner  Harold & Kumar Go to White Castle  2004\n",
              "2   Anurag Kashyap                 Gangs of Wasseypur  2012\n",
              "3     Frank Coraci        Around the World in 80 Days  2004\n",
              "4    Griffin Dunne             The Accidental Husband  2008"
            ]
          },
          "metadata": {
            "tags": []
          },
          "execution_count": 9
        }
      ]
    },
    {
      "cell_type": "markdown",
      "metadata": {
        "id": "mZbcECy0wPYX",
        "colab_type": "text"
      },
      "source": [
        "## Q2 --- List the names of all the actors who played in the movie 'Anand' (1971)"
      ]
    },
    {
      "cell_type": "code",
      "metadata": {
        "id": "SX9Z9kuuwPYY",
        "colab_type": "code",
        "colab": {
          "base_uri": "https://localhost:8080/",
          "height": 67
        },
        "outputId": "0af24ca0-c516-42f3-c662-0f0acc99b53d"
      },
      "source": [
        "%%time\n",
        "# Write your sql query below\n",
        "\n",
        "query = \"\"\"\n",
        "        SELECT p.NAME \n",
        "        FROM   movie m \n",
        "              INNER JOIN m_cast mc \n",
        "                      ON m.mid = mc.mid \n",
        "              INNER JOIN Person p \n",
        "                      ON Trim(mc.pid) = p.pid\n",
        "        WHERE  title = 'Anand' \n",
        "        \"\"\"\n",
        "\n",
        "q2 = pd.read_sql_query(query, conn)    \n",
        "print(q2.shape)"
      ],
      "execution_count": 10,
      "outputs": [
        {
          "output_type": "stream",
          "text": [
            "(17, 1)\n",
            "CPU times: user 158 ms, sys: 2.83 ms, total: 161 ms\n",
            "Wall time: 168 ms\n"
          ],
          "name": "stdout"
        }
      ]
    },
    {
      "cell_type": "code",
      "metadata": {
        "id": "WgfgaPpk79Ib",
        "colab_type": "code",
        "colab": {
          "base_uri": "https://localhost:8080/",
          "height": 195
        },
        "outputId": "29c54133-fb22-4654-d8be-9d4d4181c96d"
      },
      "source": [
        "q2.head()"
      ],
      "execution_count": 11,
      "outputs": [
        {
          "output_type": "execute_result",
          "data": {
            "text/html": [
              "<div>\n",
              "<style scoped>\n",
              "    .dataframe tbody tr th:only-of-type {\n",
              "        vertical-align: middle;\n",
              "    }\n",
              "\n",
              "    .dataframe tbody tr th {\n",
              "        vertical-align: top;\n",
              "    }\n",
              "\n",
              "    .dataframe thead th {\n",
              "        text-align: right;\n",
              "    }\n",
              "</style>\n",
              "<table border=\"1\" class=\"dataframe\">\n",
              "  <thead>\n",
              "    <tr style=\"text-align: right;\">\n",
              "      <th></th>\n",
              "      <th>Name</th>\n",
              "    </tr>\n",
              "  </thead>\n",
              "  <tbody>\n",
              "    <tr>\n",
              "      <th>0</th>\n",
              "      <td>Amitabh Bachchan</td>\n",
              "    </tr>\n",
              "    <tr>\n",
              "      <th>1</th>\n",
              "      <td>Rajesh Khanna</td>\n",
              "    </tr>\n",
              "    <tr>\n",
              "      <th>2</th>\n",
              "      <td>Brahm Bhardwaj</td>\n",
              "    </tr>\n",
              "    <tr>\n",
              "      <th>3</th>\n",
              "      <td>Ramesh Deo</td>\n",
              "    </tr>\n",
              "    <tr>\n",
              "      <th>4</th>\n",
              "      <td>Seema Deo</td>\n",
              "    </tr>\n",
              "  </tbody>\n",
              "</table>\n",
              "</div>"
            ],
            "text/plain": [
              "                Name\n",
              "0   Amitabh Bachchan\n",
              "1      Rajesh Khanna\n",
              "2     Brahm Bhardwaj\n",
              "3         Ramesh Deo\n",
              "4          Seema Deo"
            ]
          },
          "metadata": {
            "tags": []
          },
          "execution_count": 11
        }
      ]
    },
    {
      "cell_type": "markdown",
      "metadata": {
        "id": "D3kOTBcIwPYb",
        "colab_type": "text"
      },
      "source": [
        "## Q3 --- List all the actors who acted in a film before 1970 and in a film after 1990. (That is: < 1970 and > 1990.)"
      ]
    },
    {
      "cell_type": "code",
      "metadata": {
        "id": "O7JlogL7ewaj",
        "colab_type": "code",
        "colab": {
          "base_uri": "https://localhost:8080/",
          "height": 67
        },
        "outputId": "976d918f-63eb-447d-8aae-77ed86084705"
      },
      "source": [
        "%%time\n",
        "# Write your sql query below\n",
        "\n",
        "query = \"\"\"\n",
        "        SELECT Name from Person p\n",
        "        WHERE trim(pid) in   \n",
        "        (SELECT distinct trim(PID) from Movie m\n",
        "        INNER JOIN M_Cast mc\n",
        "        ON m.mid = mc.mid\n",
        "        WHERE cast(Substr(Trim(m.year), -4) as int)  < 1970\n",
        "        INTERSECT\n",
        "        SELECT distinct trim(PID) from Movie m\n",
        "        INNER JOIN M_Cast mc\n",
        "        ON m.mid = mc.mid\n",
        "        WHERE cast(Substr(Trim(m.year), -4) as int)  > 1990 ) \n",
        "        \"\"\"\n",
        "\n",
        "q3 = pd.read_sql_query(query, conn)    \n",
        "print(q3.shape)"
      ],
      "execution_count": 12,
      "outputs": [
        {
          "output_type": "stream",
          "text": [
            "(300, 1)\n",
            "CPU times: user 266 ms, sys: 5.42 ms, total: 271 ms\n",
            "Wall time: 272 ms\n"
          ],
          "name": "stdout"
        }
      ]
    },
    {
      "cell_type": "code",
      "metadata": {
        "id": "IG97hE-efDjO",
        "colab_type": "code",
        "colab": {
          "base_uri": "https://localhost:8080/",
          "height": 195
        },
        "outputId": "ebbe86af-8a05-4b2a-d16b-ae9c4ec4113c"
      },
      "source": [
        "q3.head()"
      ],
      "execution_count": 13,
      "outputs": [
        {
          "output_type": "execute_result",
          "data": {
            "text/html": [
              "<div>\n",
              "<style scoped>\n",
              "    .dataframe tbody tr th:only-of-type {\n",
              "        vertical-align: middle;\n",
              "    }\n",
              "\n",
              "    .dataframe tbody tr th {\n",
              "        vertical-align: top;\n",
              "    }\n",
              "\n",
              "    .dataframe thead th {\n",
              "        text-align: right;\n",
              "    }\n",
              "</style>\n",
              "<table border=\"1\" class=\"dataframe\">\n",
              "  <thead>\n",
              "    <tr style=\"text-align: right;\">\n",
              "      <th></th>\n",
              "      <th>Name</th>\n",
              "    </tr>\n",
              "  </thead>\n",
              "  <tbody>\n",
              "    <tr>\n",
              "      <th>0</th>\n",
              "      <td>Rishi Kapoor</td>\n",
              "    </tr>\n",
              "    <tr>\n",
              "      <th>1</th>\n",
              "      <td>Amitabh Bachchan</td>\n",
              "    </tr>\n",
              "    <tr>\n",
              "      <th>2</th>\n",
              "      <td>Asrani</td>\n",
              "    </tr>\n",
              "    <tr>\n",
              "      <th>3</th>\n",
              "      <td>Zohra Sehgal</td>\n",
              "    </tr>\n",
              "    <tr>\n",
              "      <th>4</th>\n",
              "      <td>Parikshat Sahni</td>\n",
              "    </tr>\n",
              "  </tbody>\n",
              "</table>\n",
              "</div>"
            ],
            "text/plain": [
              "                Name\n",
              "0       Rishi Kapoor\n",
              "1   Amitabh Bachchan\n",
              "2             Asrani\n",
              "3       Zohra Sehgal\n",
              "4    Parikshat Sahni"
            ]
          },
          "metadata": {
            "tags": []
          },
          "execution_count": 13
        }
      ]
    },
    {
      "cell_type": "markdown",
      "metadata": {
        "id": "Rl2XCXPfwPYf",
        "colab_type": "text"
      },
      "source": [
        "## Q4 --- List all directors who directed 10 movies or more, in descending order of the number of movies they directed. Return the directors' names and the number of movies each of them directed."
      ]
    },
    {
      "cell_type": "code",
      "metadata": {
        "id": "UzraMTSvwPYg",
        "colab_type": "code",
        "colab": {
          "base_uri": "https://localhost:8080/",
          "height": 67
        },
        "outputId": "3c5f2ee8-3444-4789-945f-f420b5d7f00e"
      },
      "source": [
        "\n",
        "%%time\n",
        "# Write your sql query below\n",
        "\n",
        "query = \"\"\"\n",
        "        SELECT Name as Director, Count(Name) as Movies_directed from \n",
        "        (SELECT m.mid, md.pid, p.Name from Movie m\n",
        "        INNER JOIN M_Director md\n",
        "        ON m.mid = md.mid\n",
        "        INNER JOIN Person p\n",
        "        ON md.pid = p.pid)  A\n",
        "        GROUP BY Director\n",
        "        ORDER BY Movies_directed DESC\n",
        "        \n",
        "        \"\"\"\n",
        "\n",
        "q4 = pd.read_sql_query(query, conn)    \n",
        "print(q4.shape)"
      ],
      "execution_count": 14,
      "outputs": [
        {
          "output_type": "stream",
          "text": [
            "(1459, 2)\n",
            "CPU times: user 60 ms, sys: 0 ns, total: 60 ms\n",
            "Wall time: 62.2 ms\n"
          ],
          "name": "stdout"
        }
      ]
    },
    {
      "cell_type": "code",
      "metadata": {
        "id": "HnZXm-XiC_GM",
        "colab_type": "code",
        "colab": {
          "base_uri": "https://localhost:8080/",
          "height": 195
        },
        "outputId": "5a3ac36b-bb7a-465a-d729-21434068a772"
      },
      "source": [
        "q4.head()"
      ],
      "execution_count": 15,
      "outputs": [
        {
          "output_type": "execute_result",
          "data": {
            "text/html": [
              "<div>\n",
              "<style scoped>\n",
              "    .dataframe tbody tr th:only-of-type {\n",
              "        vertical-align: middle;\n",
              "    }\n",
              "\n",
              "    .dataframe tbody tr th {\n",
              "        vertical-align: top;\n",
              "    }\n",
              "\n",
              "    .dataframe thead th {\n",
              "        text-align: right;\n",
              "    }\n",
              "</style>\n",
              "<table border=\"1\" class=\"dataframe\">\n",
              "  <thead>\n",
              "    <tr style=\"text-align: right;\">\n",
              "      <th></th>\n",
              "      <th>Director</th>\n",
              "      <th>Movies_directed</th>\n",
              "    </tr>\n",
              "  </thead>\n",
              "  <tbody>\n",
              "    <tr>\n",
              "      <th>0</th>\n",
              "      <td>David Dhawan</td>\n",
              "      <td>39</td>\n",
              "    </tr>\n",
              "    <tr>\n",
              "      <th>1</th>\n",
              "      <td>Mahesh Bhatt</td>\n",
              "      <td>36</td>\n",
              "    </tr>\n",
              "    <tr>\n",
              "      <th>2</th>\n",
              "      <td>Ram Gopal Varma</td>\n",
              "      <td>30</td>\n",
              "    </tr>\n",
              "    <tr>\n",
              "      <th>3</th>\n",
              "      <td>Priyadarshan</td>\n",
              "      <td>30</td>\n",
              "    </tr>\n",
              "    <tr>\n",
              "      <th>4</th>\n",
              "      <td>Vikram Bhatt</td>\n",
              "      <td>29</td>\n",
              "    </tr>\n",
              "  </tbody>\n",
              "</table>\n",
              "</div>"
            ],
            "text/plain": [
              "           Director  Movies_directed\n",
              "0      David Dhawan               39\n",
              "1      Mahesh Bhatt               36\n",
              "2   Ram Gopal Varma               30\n",
              "3      Priyadarshan               30\n",
              "4      Vikram Bhatt               29"
            ]
          },
          "metadata": {
            "tags": []
          },
          "execution_count": 15
        }
      ]
    },
    {
      "cell_type": "markdown",
      "metadata": {
        "id": "4pDhalc1wPYj",
        "colab_type": "text"
      },
      "source": [
        "## Q5.a --- For each year, count the number of movies in that year that had only female actors."
      ]
    },
    {
      "cell_type": "code",
      "metadata": {
        "id": "bDNfau86wPYk",
        "colab_type": "code",
        "colab": {}
      },
      "source": [
        "# Step1: Find the Movies list which male actors had their role\n",
        "# Step2: Remove this list from entire list of Movies then you will get movies which has only female actors (OR) no male actors in it\n",
        "# Step 3: use this MID's to populate the reuired data"
      ],
      "execution_count": 16,
      "outputs": []
    },
    {
      "cell_type": "code",
      "metadata": {
        "id": "yVRMtq0CzCnl",
        "colab_type": "code",
        "colab": {
          "base_uri": "https://localhost:8080/",
          "height": 67
        },
        "outputId": "b73faa6c-4690-44e4-86d5-dcfe93af9ee0"
      },
      "source": [
        "\n",
        "%%time\n",
        "# Write your sql query below\n",
        "\n",
        "\n",
        "query = \"\"\"\n",
        "          SELECT substr(Year,-4) as Year,count(*) as Movies from Person p\n",
        "          INNER JOIN M_cast mc\n",
        "          ON p.pid = trim(mc.pid)\n",
        "          INNER JOIN Movie m \n",
        "          ON mc.mid = m.mid\n",
        "          WHERE m.mid not in (\n",
        "            SELECT distinct m.mid from Movie m\n",
        "            INNER JOIN M_Cast mc\n",
        "            ON m.mid = mc.mid\n",
        "            INNER JOIN Person p\n",
        "            ON trim(mc.pid) = p.pid\n",
        "            WHERE gender <> 'Female' )\n",
        "\n",
        "          and gender = 'Female'\n",
        "          GROUP BY cast(Substr(Trim(m.year), -4) as int) \n",
        "\n",
        "\n",
        "        \"\"\"\n",
        "\n",
        "q5a = pd.read_sql_query(query, conn)    \n",
        "print(q5a.shape)"
      ],
      "execution_count": 17,
      "outputs": [
        {
          "output_type": "stream",
          "text": [
            "(4, 2)\n",
            "CPU times: user 455 ms, sys: 6.07 ms, total: 461 ms\n",
            "Wall time: 471 ms\n"
          ],
          "name": "stdout"
        }
      ]
    },
    {
      "cell_type": "code",
      "metadata": {
        "id": "b9KYtVfU0VW1",
        "colab_type": "code",
        "colab": {
          "base_uri": "https://localhost:8080/",
          "height": 166
        },
        "outputId": "b3fef703-6a21-46bc-af8b-938a5713f6ea"
      },
      "source": [
        "q5a.head()"
      ],
      "execution_count": 18,
      "outputs": [
        {
          "output_type": "execute_result",
          "data": {
            "text/html": [
              "<div>\n",
              "<style scoped>\n",
              "    .dataframe tbody tr th:only-of-type {\n",
              "        vertical-align: middle;\n",
              "    }\n",
              "\n",
              "    .dataframe tbody tr th {\n",
              "        vertical-align: top;\n",
              "    }\n",
              "\n",
              "    .dataframe thead th {\n",
              "        text-align: right;\n",
              "    }\n",
              "</style>\n",
              "<table border=\"1\" class=\"dataframe\">\n",
              "  <thead>\n",
              "    <tr style=\"text-align: right;\">\n",
              "      <th></th>\n",
              "      <th>Year</th>\n",
              "      <th>Movies</th>\n",
              "    </tr>\n",
              "  </thead>\n",
              "  <tbody>\n",
              "    <tr>\n",
              "      <th>0</th>\n",
              "      <td>1939</td>\n",
              "      <td>1</td>\n",
              "    </tr>\n",
              "    <tr>\n",
              "      <th>1</th>\n",
              "      <td>1999</td>\n",
              "      <td>11</td>\n",
              "    </tr>\n",
              "    <tr>\n",
              "      <th>2</th>\n",
              "      <td>2000</td>\n",
              "      <td>10</td>\n",
              "    </tr>\n",
              "    <tr>\n",
              "      <th>3</th>\n",
              "      <td>2018</td>\n",
              "      <td>2</td>\n",
              "    </tr>\n",
              "  </tbody>\n",
              "</table>\n",
              "</div>"
            ],
            "text/plain": [
              "   Year  Movies\n",
              "0  1939       1\n",
              "1  1999      11\n",
              "2  2000      10\n",
              "3  2018       2"
            ]
          },
          "metadata": {
            "tags": []
          },
          "execution_count": 18
        }
      ]
    },
    {
      "cell_type": "markdown",
      "metadata": {
        "id": "eQSc5YsrwPYm",
        "colab_type": "text"
      },
      "source": [
        "## Q5.b --- Now include a small change: report for each year the percentage of movies in that year with only female actors, and the total number of movies made that year. For example, one answer will be: 1990 31.81 13522 meaning that in 1990 there were 13,522 movies, and 31.81% had only female actors. You do not need to round your answer."
      ]
    },
    {
      "cell_type": "code",
      "metadata": {
        "id": "LuhsuZ3mJayY",
        "colab_type": "code",
        "colab": {
          "base_uri": "https://localhost:8080/",
          "height": 67
        },
        "outputId": "781e8b1d-f25b-4bd3-d84a-74420f502597"
      },
      "source": [
        "\n",
        "%%time\n",
        "# Write your sql query below\n",
        "# https://stackoverflow.com/questiONs/8305613/cONverting-int-to-real-in-sqlite\n",
        "# https://stackoverflow.com/questiONs/41427207/using-with-clause-in-sqlite3-are-the-results-of-with-clause-saved-and-reused\n",
        "\n",
        "# A is Ans for 5A query\n",
        "# B total movies per year\n",
        "\n",
        "query = \"\"\"\n",
        "          WITH \n",
        "\n",
        "          A as (SELECT cast(substr(Year,-4) as int) as Year,count(*) as Female_Movies from Person p\n",
        "                INNER JOIN M_cast mc\n",
        "                ON p.pid = trim(mc.pid)\n",
        "                INNER JOIN Movie m \n",
        "                ON mc.mid = m.mid\n",
        "                WHERE m.mid not in (\n",
        "                  SELECT distinct m.mid from Movie m\n",
        "                  INNER JOIN M_Cast mc\n",
        "                  ON m.mid = mc.mid\n",
        "                  INNER JOIN Person p\n",
        "                  ON trim(mc.pid) = p.pid\n",
        "                  WHERE gender <> 'Female' ) \n",
        "\n",
        "                and gender = 'Female'\n",
        "                GROUP BY cast(substr(Year,-4) as int) ) ,\n",
        "\n",
        "          B as (SELECT cast(substr(Year,-4) as int) as Year,count(*) as Movies from Person p\n",
        "                  INNER JOIN M_cast mc\n",
        "                  ON p.pid = trim(mc.pid)\n",
        "                  INNER JOIN Movie m \n",
        "                  ON mc.mid = m.mid\n",
        "                  GROUP BY cast(substr(Year,-4) as int))\n",
        "\n",
        "\n",
        "          SELECT A.Year as Year, A.Female_Movies ,B.Movies,\n",
        "          (A.Female_Movies*100.00/B.Movies) as 'Fem_Movies%'\n",
        "          from A INNER JOIN B\n",
        "          ON A.year = B.year\n",
        "\n",
        "\n",
        "        \"\"\"\n",
        "\n",
        "q5b = pd.read_sql_query(query, conn)    \n",
        "print(q5b.shape)"
      ],
      "execution_count": 19,
      "outputs": [
        {
          "output_type": "stream",
          "text": [
            "(4, 4)\n",
            "CPU times: user 609 ms, sys: 15.2 ms, total: 624 ms\n",
            "Wall time: 633 ms\n"
          ],
          "name": "stdout"
        }
      ]
    },
    {
      "cell_type": "code",
      "metadata": {
        "id": "sgefYrPc4uxk",
        "colab_type": "code",
        "colab": {
          "base_uri": "https://localhost:8080/",
          "height": 166
        },
        "outputId": "b3970879-49e0-4a4a-8dc5-1ec774d3c436"
      },
      "source": [
        "q5b.head()"
      ],
      "execution_count": 20,
      "outputs": [
        {
          "output_type": "execute_result",
          "data": {
            "text/html": [
              "<div>\n",
              "<style scoped>\n",
              "    .dataframe tbody tr th:only-of-type {\n",
              "        vertical-align: middle;\n",
              "    }\n",
              "\n",
              "    .dataframe tbody tr th {\n",
              "        vertical-align: top;\n",
              "    }\n",
              "\n",
              "    .dataframe thead th {\n",
              "        text-align: right;\n",
              "    }\n",
              "</style>\n",
              "<table border=\"1\" class=\"dataframe\">\n",
              "  <thead>\n",
              "    <tr style=\"text-align: right;\">\n",
              "      <th></th>\n",
              "      <th>Year</th>\n",
              "      <th>Female_Movies</th>\n",
              "      <th>Movies</th>\n",
              "      <th>Fem_Movies%</th>\n",
              "    </tr>\n",
              "  </thead>\n",
              "  <tbody>\n",
              "    <tr>\n",
              "      <th>0</th>\n",
              "      <td>1939</td>\n",
              "      <td>1</td>\n",
              "      <td>45</td>\n",
              "      <td>2.222222</td>\n",
              "    </tr>\n",
              "    <tr>\n",
              "      <th>1</th>\n",
              "      <td>1999</td>\n",
              "      <td>11</td>\n",
              "      <td>1628</td>\n",
              "      <td>0.675676</td>\n",
              "    </tr>\n",
              "    <tr>\n",
              "      <th>2</th>\n",
              "      <td>2000</td>\n",
              "      <td>10</td>\n",
              "      <td>1480</td>\n",
              "      <td>0.675676</td>\n",
              "    </tr>\n",
              "    <tr>\n",
              "      <th>3</th>\n",
              "      <td>2018</td>\n",
              "      <td>2</td>\n",
              "      <td>2942</td>\n",
              "      <td>0.067981</td>\n",
              "    </tr>\n",
              "  </tbody>\n",
              "</table>\n",
              "</div>"
            ],
            "text/plain": [
              "   Year  Female_Movies  Movies  Fem_Movies%\n",
              "0  1939              1      45     2.222222\n",
              "1  1999             11    1628     0.675676\n",
              "2  2000             10    1480     0.675676\n",
              "3  2018              2    2942     0.067981"
            ]
          },
          "metadata": {
            "tags": []
          },
          "execution_count": 20
        }
      ]
    },
    {
      "cell_type": "markdown",
      "metadata": {
        "id": "ZXjFWW3CwPYs",
        "colab_type": "text"
      },
      "source": [
        "## Q6 --- Find the film(s) with the largest cast. Return the movie title and the size of the cast. By \"cast size\" we mean the number of distinct actors that played in that movie: if an actor played multiple roles, or if it simply occurs multiple times in casts, we still count her/him only once."
      ]
    },
    {
      "cell_type": "code",
      "metadata": {
        "id": "uee_HwRoWyBb",
        "colab_type": "code",
        "colab": {
          "base_uri": "https://localhost:8080/",
          "height": 67
        },
        "outputId": "3f26401e-afc7-438c-c15e-5ade55623d66"
      },
      "source": [
        "\n",
        "%%time\n",
        "# Write your sql query below\n",
        "# Movie_cast table will cONsists of unique combinatiON of MovieID,ActorID\n",
        "#like   tt123,Actor123\n",
        "# Note: Movie Names may be duplicate in Movie table\n",
        "\n",
        "query = \"\"\"\n",
        "        WITH \n",
        "\n",
        "        Movie_Cast as\n",
        "          (SELECT m.mid as mid ,trim(mc.pid) as pid  from Movie m\n",
        "            INNER JOIN M_cast mc\n",
        "            ON m.mid = mc.mid\n",
        "            GROUP BY m.mid,trim(mc.pid) ) ,\n",
        "        A as (SELECT Movie_Cast.mid, count(*) as Cast_cnt from Movie_Cast \n",
        "            GROUP BY mid)\n",
        "        \n",
        "        SELECT m.title, Cast_cnt from A\n",
        "        INNER JOIN \n",
        "            Movie m \n",
        "        ON A.mid = m.mid\n",
        "        WHERE Cast_cnt = ( SELECT max(Cast_cnt) from A ) \n",
        "        \"\"\"\n",
        "\n",
        "q6 = pd.read_sql_query(query, conn)    \n",
        "print(q6.shape)"
      ],
      "execution_count": 21,
      "outputs": [
        {
          "output_type": "stream",
          "text": [
            "(1, 2)\n",
            "CPU times: user 457 ms, sys: 40.1 ms, total: 497 ms\n",
            "Wall time: 509 ms\n"
          ],
          "name": "stdout"
        }
      ]
    },
    {
      "cell_type": "code",
      "metadata": {
        "id": "vHr85rumCmgy",
        "colab_type": "code",
        "colab": {
          "base_uri": "https://localhost:8080/",
          "height": 77
        },
        "outputId": "a151baa1-e33d-45cc-98c9-ead5996c9f3d"
      },
      "source": [
        "q6.head()"
      ],
      "execution_count": 22,
      "outputs": [
        {
          "output_type": "execute_result",
          "data": {
            "text/html": [
              "<div>\n",
              "<style scoped>\n",
              "    .dataframe tbody tr th:only-of-type {\n",
              "        vertical-align: middle;\n",
              "    }\n",
              "\n",
              "    .dataframe tbody tr th {\n",
              "        vertical-align: top;\n",
              "    }\n",
              "\n",
              "    .dataframe thead th {\n",
              "        text-align: right;\n",
              "    }\n",
              "</style>\n",
              "<table border=\"1\" class=\"dataframe\">\n",
              "  <thead>\n",
              "    <tr style=\"text-align: right;\">\n",
              "      <th></th>\n",
              "      <th>title</th>\n",
              "      <th>Cast_cnt</th>\n",
              "    </tr>\n",
              "  </thead>\n",
              "  <tbody>\n",
              "    <tr>\n",
              "      <th>0</th>\n",
              "      <td>Ocean's Eight</td>\n",
              "      <td>238</td>\n",
              "    </tr>\n",
              "  </tbody>\n",
              "</table>\n",
              "</div>"
            ],
            "text/plain": [
              "           title  Cast_cnt\n",
              "0  Ocean's Eight       238"
            ]
          },
          "metadata": {
            "tags": []
          },
          "execution_count": 22
        }
      ]
    },
    {
      "cell_type": "markdown",
      "metadata": {
        "id": "adRD5xZvwPYz",
        "colab_type": "text"
      },
      "source": [
        "## Q7 --- A decade is a sequence of 10 consecutive years. For example, say in your database you have movie information starting from 1965. Then the first decade is 1965, 1966, ..., 1974; the second one is 1967, 1968, ..., 1976 and so on. Find the decade D with the largest number of films and the total number of films in D."
      ]
    },
    {
      "cell_type": "code",
      "metadata": {
        "id": "dCQFSZoDgLAc",
        "colab_type": "code",
        "colab": {
          "base_uri": "https://localhost:8080/",
          "height": 67
        },
        "outputId": "7dec43a3-26e1-4a6d-cef7-c16f3a99352a"
      },
      "source": [
        "%%time\n",
        "# Write your sql query below\n",
        "# https://stackoverflow.com/questions/32953639/how-to-type-cast-in-sqlite3\n",
        "# https://www.w3resource.com/sqlite/core-functions-substr.php\n",
        "# https://www.techonthenet.com/sqlite/between.php\n",
        "# First get the decades table - Year column has to cleansed\n",
        "# group by cast(substr(Year,-4) as int))  this is important else you will get the wrng counts\n",
        "\n",
        "query = \"\"\"\n",
        "        WITH\n",
        "        Year_decade as (\n",
        "          SELECT DISTINCT cast(Substr(Trim(m.year), -4) as int) as Year,\n",
        "          (cast(Substr(Trim(m.year), -4) as int)+0) ||'-'|| (cast(Substr(Trim(m.year), -4) as int)+9) as decade,\n",
        "          cast(Substr(Trim(m.year), -4) as int)+0 as decade_start,\n",
        "          cast(Substr(Trim(m.year), -4) as int)+9 as decade_end\n",
        "          from Movie m ),\n",
        "\n",
        "        Year_Movie_cnt as\n",
        "        (SELECT cast(Substr(Trim(m.year), -4) as int) as year, count(*) as movie_cnt\n",
        "        from Movie m \n",
        "        GROUP BY cast(substr(Year,-4) as int)),\n",
        "\n",
        "        Decade_movieCnt as\n",
        "        (SELECT yd.decade,sum(movie_cnt) as total_cnt from Year_decade yd\n",
        "        INNER JOIN Year_Movie_cnt ymc\n",
        "        ON ymc.year >= yd.decade_start\n",
        "        and ymc.year <= yd.decade_end\n",
        "        GROUP BY decade\n",
        "        order by yd.decade,ymc.year)\n",
        "\n",
        "        SELECT * from Decade_movieCnt\n",
        "        WHERE total_cnt = (SELECT max(total_cnt) from Decade_movieCnt)\n",
        "\n",
        "        \"\"\"\n",
        "\n",
        "q7 = pd.read_sql_query(query, conn)    \n",
        "print(q7.shape)\n"
      ],
      "execution_count": 23,
      "outputs": [
        {
          "output_type": "stream",
          "text": [
            "(1, 2)\n",
            "CPU times: user 19.3 ms, sys: 852 µs, total: 20.2 ms\n",
            "Wall time: 21.5 ms\n"
          ],
          "name": "stdout"
        }
      ]
    },
    {
      "cell_type": "code",
      "metadata": {
        "id": "CFSilJekfzTC",
        "colab_type": "code",
        "colab": {
          "base_uri": "https://localhost:8080/",
          "height": 77
        },
        "outputId": "047a1c2d-ce30-4900-9886-0622cfedd6c1"
      },
      "source": [
        "q7"
      ],
      "execution_count": 24,
      "outputs": [
        {
          "output_type": "execute_result",
          "data": {
            "text/html": [
              "<div>\n",
              "<style scoped>\n",
              "    .dataframe tbody tr th:only-of-type {\n",
              "        vertical-align: middle;\n",
              "    }\n",
              "\n",
              "    .dataframe tbody tr th {\n",
              "        vertical-align: top;\n",
              "    }\n",
              "\n",
              "    .dataframe thead th {\n",
              "        text-align: right;\n",
              "    }\n",
              "</style>\n",
              "<table border=\"1\" class=\"dataframe\">\n",
              "  <thead>\n",
              "    <tr style=\"text-align: right;\">\n",
              "      <th></th>\n",
              "      <th>decade</th>\n",
              "      <th>total_cnt</th>\n",
              "    </tr>\n",
              "  </thead>\n",
              "  <tbody>\n",
              "    <tr>\n",
              "      <th>0</th>\n",
              "      <td>2008-2017</td>\n",
              "      <td>1205</td>\n",
              "    </tr>\n",
              "  </tbody>\n",
              "</table>\n",
              "</div>"
            ],
            "text/plain": [
              "      decade  total_cnt\n",
              "0  2008-2017       1205"
            ]
          },
          "metadata": {
            "tags": []
          },
          "execution_count": 24
        }
      ]
    },
    {
      "cell_type": "markdown",
      "metadata": {
        "id": "_h0c5UJgwPY5",
        "colab_type": "text"
      },
      "source": [
        "## Q8 --- Find all the actors that made more movies with Yash Chopra than any other director."
      ]
    },
    {
      "cell_type": "code",
      "metadata": {
        "id": "63xYpA9PPCgU",
        "colab_type": "code",
        "colab": {
          "base_uri": "https://localhost:8080/",
          "height": 67
        },
        "outputId": "58156c77-0ef9-49b1-bc0c-c7b00977b8c9"
      },
      "source": [
        "%%time\n",
        "# Write your sql query below\n",
        "# Trim Yash Chopra as it has sapces in db\n",
        "\n",
        "query = \"\"\"\n",
        "        WITH\n",
        "        Actor_movie_dir as\n",
        "        (SELECT TRIM(mc.pid) as actor_id,m.mid,m.title,md.pid as dir_id  from M_cast mc\n",
        "        INNER JOIN Movie m\n",
        "        ON mc.mid = m.mid\n",
        "        INNER JOIN M_Director md\n",
        "        ON m.mid = md.mid\n",
        "        INNER JOIN Person P\n",
        "        ON trim(mc.pid) = p.pid),\n",
        "\n",
        "        Actor_dir_MovCount as\n",
        "        (SELECT actor_id,dir_id,count(*) cnt from Actor_movie_dir\n",
        "        group by actor_id,dir_id\n",
        "        order by cnt desc),\n",
        "\n",
        "        Actor_maxMovies as\n",
        "        (SELECT actor_id,max(cnt) as max_cnt from Actor_dir_MovCount\n",
        "        group by actor_id)\n",
        "\n",
        "        SELECT adm.actor_id,\n",
        "        p.name as Actor_name,adm.dir_id,\n",
        "        (SELECT Name from Person WHERE pid = adm.dir_id) as Director_name,\n",
        "        adm.cnt \n",
        "        from Actor_dir_MovCount adm\n",
        "        INNER JOIN Actor_maxMovies am\n",
        "        ON adm.actor_id = am.actor_id\n",
        "        and adm.cnt = am.max_cnt\n",
        "        INNER JOIN Person p\n",
        "        ON am.actor_id = p.pid\n",
        "        \n",
        "        WHERE adm.dir_id = (SELECT p.pid from Person p\n",
        "                            WHERE trim(p.name) ='Yash Chopra')\n",
        "\n",
        "        \"\"\"\n",
        "\n",
        "q8 = pd.read_sql_query(query, conn)    \n",
        "print(q8.shape)"
      ],
      "execution_count": 25,
      "outputs": [
        {
          "output_type": "stream",
          "text": [
            "(245, 5)\n",
            "CPU times: user 896 ms, sys: 21.2 ms, total: 917 ms\n",
            "Wall time: 921 ms\n"
          ],
          "name": "stdout"
        }
      ]
    },
    {
      "cell_type": "code",
      "metadata": {
        "id": "Yrm4OhfoNN_T",
        "colab_type": "code",
        "colab": {
          "base_uri": "https://localhost:8080/",
          "height": 195
        },
        "outputId": "e5a9e1c4-e535-4137-a408-73101aea2a46"
      },
      "source": [
        "q8.head()"
      ],
      "execution_count": 26,
      "outputs": [
        {
          "output_type": "execute_result",
          "data": {
            "text/html": [
              "<div>\n",
              "<style scoped>\n",
              "    .dataframe tbody tr th:only-of-type {\n",
              "        vertical-align: middle;\n",
              "    }\n",
              "\n",
              "    .dataframe tbody tr th {\n",
              "        vertical-align: top;\n",
              "    }\n",
              "\n",
              "    .dataframe thead th {\n",
              "        text-align: right;\n",
              "    }\n",
              "</style>\n",
              "<table border=\"1\" class=\"dataframe\">\n",
              "  <thead>\n",
              "    <tr style=\"text-align: right;\">\n",
              "      <th></th>\n",
              "      <th>actor_id</th>\n",
              "      <th>Actor_name</th>\n",
              "      <th>dir_id</th>\n",
              "      <th>Director_name</th>\n",
              "      <th>cnt</th>\n",
              "    </tr>\n",
              "  </thead>\n",
              "  <tbody>\n",
              "    <tr>\n",
              "      <th>0</th>\n",
              "      <td>nm0707271</td>\n",
              "      <td>Jagdish Raj</td>\n",
              "      <td>nm0007181</td>\n",
              "      <td>Yash Chopra</td>\n",
              "      <td>11</td>\n",
              "    </tr>\n",
              "    <tr>\n",
              "      <th>1</th>\n",
              "      <td>nm0471443</td>\n",
              "      <td>Manmohan Krishna</td>\n",
              "      <td>nm0007181</td>\n",
              "      <td>Yash Chopra</td>\n",
              "      <td>10</td>\n",
              "    </tr>\n",
              "    <tr>\n",
              "      <th>2</th>\n",
              "      <td>nm0407002</td>\n",
              "      <td>Iftekhar</td>\n",
              "      <td>nm0007181</td>\n",
              "      <td>Yash Chopra</td>\n",
              "      <td>9</td>\n",
              "    </tr>\n",
              "    <tr>\n",
              "      <th>3</th>\n",
              "      <td>nm0004434</td>\n",
              "      <td>Shashi Kapoor</td>\n",
              "      <td>nm0007181</td>\n",
              "      <td>Yash Chopra</td>\n",
              "      <td>7</td>\n",
              "    </tr>\n",
              "    <tr>\n",
              "      <th>4</th>\n",
              "      <td>nm0347901</td>\n",
              "      <td>Rakhee Gulzar</td>\n",
              "      <td>nm0007181</td>\n",
              "      <td>Yash Chopra</td>\n",
              "      <td>5</td>\n",
              "    </tr>\n",
              "  </tbody>\n",
              "</table>\n",
              "</div>"
            ],
            "text/plain": [
              "    actor_id         Actor_name     dir_id Director_name  cnt\n",
              "0  nm0707271        Jagdish Raj  nm0007181   Yash Chopra   11\n",
              "1  nm0471443   Manmohan Krishna  nm0007181   Yash Chopra   10\n",
              "2  nm0407002           Iftekhar  nm0007181   Yash Chopra    9\n",
              "3  nm0004434      Shashi Kapoor  nm0007181   Yash Chopra    7\n",
              "4  nm0347901      Rakhee Gulzar  nm0007181   Yash Chopra    5"
            ]
          },
          "metadata": {
            "tags": []
          },
          "execution_count": 26
        }
      ]
    },
    {
      "cell_type": "markdown",
      "metadata": {
        "id": "dF10kOAnwPY_",
        "colab_type": "text"
      },
      "source": [
        "## Q9 --- The Shahrukh number of an actor is the length of the shortest path between the actor and Shahrukh Khan in the \"co-acting\" graph. That is, Shahrukh Khan has Shahrukh number 0; all actors who acted in the same film as Shahrukh have Shahrukh number 1; all actors who acted in the same film as some actor with Shahrukh number 1 have Shahrukh number 2, etc. Return all actors whose Shahrukh number is 2."
      ]
    },
    {
      "cell_type": "code",
      "metadata": {
        "id": "qe7SPVhwCfOG",
        "colab_type": "code",
        "colab": {
          "base_uri": "https://localhost:8080/",
          "height": 67
        },
        "outputId": "e4452383-6713-4f93-9c07-12efa64eb2c9"
      },
      "source": [
        "\n",
        "%%time\n",
        "# Write your sql query below\n",
        "\n",
        "query = \"\"\"\n",
        "        WITH \n",
        "        SRK_1 as \n",
        "        (SELECT  DISTINCT trim(mc.pid) as pid from M_Cast mc\n",
        "        INNER JOIN Person p\n",
        "        ON p.pid = trim(mc.pid)\n",
        "        WHERE mid in (\n",
        "                SELECT distinct mc.mid from M_cast mc\n",
        "                INNER JOIN Person p\n",
        "                ON trim(mc.pid) = p.pid\n",
        "                WHERE trim(p.name) = 'Shah Rukh Khan')            \n",
        "        and trim(p.name) != 'Shah Rukh Khan')\n",
        "\n",
        "        SELECT  DISTINCT trim(mc.pid) as pid,p.name as name from M_Cast mc\n",
        "        INNER JOIN Person p\n",
        "        ON p.pid = trim(mc.pid)\n",
        "        WHERE mc.mid in (\n",
        "                      SELECT mid from M_cast mc\n",
        "                      WHERE trim(mc.pid) in (\n",
        "                                            SELECT pid from SRK_1 ))\n",
        "        and trim(p.name) != 'Shah Rukh Khan'\n",
        "        and trim(mc.pid) not in (select PID from SRK_1)\n",
        "\n",
        "        \n",
        "        \"\"\"\n",
        "\n",
        "q9 = pd.read_sql_query(query, conn)    \n",
        "print(q9.shape)"
      ],
      "execution_count": 29,
      "outputs": [
        {
          "output_type": "stream",
          "text": [
            "(25698, 2)\n",
            "CPU times: user 749 ms, sys: 11.5 ms, total: 760 ms\n",
            "Wall time: 763 ms\n"
          ],
          "name": "stdout"
        }
      ]
    },
    {
      "cell_type": "code",
      "metadata": {
        "id": "8Ts_IrC4o0E1",
        "colab_type": "code",
        "colab": {
          "base_uri": "https://localhost:8080/",
          "height": 195
        },
        "outputId": "3361b91a-3177-4c4a-b79d-27c3dc098844"
      },
      "source": [
        "q9.head()"
      ],
      "execution_count": 30,
      "outputs": [
        {
          "output_type": "execute_result",
          "data": {
            "text/html": [
              "<div>\n",
              "<style scoped>\n",
              "    .dataframe tbody tr th:only-of-type {\n",
              "        vertical-align: middle;\n",
              "    }\n",
              "\n",
              "    .dataframe tbody tr th {\n",
              "        vertical-align: top;\n",
              "    }\n",
              "\n",
              "    .dataframe thead th {\n",
              "        text-align: right;\n",
              "    }\n",
              "</style>\n",
              "<table border=\"1\" class=\"dataframe\">\n",
              "  <thead>\n",
              "    <tr style=\"text-align: right;\">\n",
              "      <th></th>\n",
              "      <th>pid</th>\n",
              "      <th>name</th>\n",
              "    </tr>\n",
              "  </thead>\n",
              "  <tbody>\n",
              "    <tr>\n",
              "      <th>0</th>\n",
              "      <td>nm2539953</td>\n",
              "      <td>Alicia Vikander</td>\n",
              "    </tr>\n",
              "    <tr>\n",
              "      <th>1</th>\n",
              "      <td>nm0922035</td>\n",
              "      <td>Dominic West</td>\n",
              "    </tr>\n",
              "    <tr>\n",
              "      <th>2</th>\n",
              "      <td>nm0324658</td>\n",
              "      <td>Walton Goggins</td>\n",
              "    </tr>\n",
              "    <tr>\n",
              "      <th>3</th>\n",
              "      <td>nm0943079</td>\n",
              "      <td>Daniel Wu</td>\n",
              "    </tr>\n",
              "    <tr>\n",
              "      <th>4</th>\n",
              "      <td>nm0000218</td>\n",
              "      <td>Kristin Scott Thomas</td>\n",
              "    </tr>\n",
              "  </tbody>\n",
              "</table>\n",
              "</div>"
            ],
            "text/plain": [
              "         pid                   name\n",
              "0  nm2539953        Alicia Vikander\n",
              "1  nm0922035           Dominic West\n",
              "2  nm0324658         Walton Goggins\n",
              "3  nm0943079              Daniel Wu\n",
              "4  nm0000218   Kristin Scott Thomas"
            ]
          },
          "metadata": {
            "tags": []
          },
          "execution_count": 30
        }
      ]
    }
  ]
}