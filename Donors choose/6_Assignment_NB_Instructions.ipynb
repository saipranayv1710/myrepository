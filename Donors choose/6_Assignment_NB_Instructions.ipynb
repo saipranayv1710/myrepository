{
  "nbformat": 4,
  "nbformat_minor": 0,
  "metadata": {
    "colab": {
      "name": "6_Assignment_NB_Instructions.ipynb",
      "provenance": [],
      "collapsed_sections": [],
      "toc_visible": true
    },
    "language_info": {
      "codemirror_mode": {
        "name": "ipython",
        "version": 3
      },
      "file_extension": ".py",
      "mimetype": "text/x-python",
      "name": "python",
      "nbconvert_exporter": "python",
      "pygments_lexer": "ipython3",
      "version": "3.6.8"
    },
    "kernelspec": {
      "display_name": "Python 3",
      "language": "python",
      "name": "python3"
    }
  },
  "cells": [
    {
      "cell_type": "markdown",
      "metadata": {
        "id": "Dnubs-Nnb3cw",
        "colab_type": "text"
      },
      "source": [
        "# Assignment 6: Apply NB"
      ]
    },
    {
      "cell_type": "markdown",
      "metadata": {
        "id": "P_jnxqq2ddVc",
        "colab_type": "text"
      },
      "source": [
        "##**<font color= 'red'> Considering  60K points for Assignment </font>**"
      ]
    },
    {
      "cell_type": "markdown",
      "metadata": {
        "id": "12krXa2pb3c1",
        "colab_type": "text"
      },
      "source": [
        "<ol>\n",
        "    <li><strong>Apply Multinomial NB on these feature sets</strong>\n",
        "        <ul>\n",
        "            <li><font color='red'>Set 1</font>: categorical, numerical features + preprocessed_eassay (BOW)</li>\n",
        "            <li><font color='red'>Set 2</font>: categorical, numerical features + preprocessed_eassay (TFIDF)</li>\n",
        "        </ul>\n",
        "    </li>\n",
        "    <li><strong>The hyper parameter tuning(find best alpha:smoothing parameter)</strong>\n",
        "        <ul>\n",
        "    <li>Find the best hyper parameter which will give the maximum <a href='https://www.appliedaicourse.com/course/applied-ai-course-online/lessons/receiver-operating-characteristic-curve-roc-curve-and-auc-1/'>AUC</a> value</li>\n",
        "    <li>find the best hyper paramter using k-fold cross validation(use GridsearchCV or RandomsearchCV)/simple cross validation data (write for loop to iterate over hyper parameter values)</li>\n",
        "    <li></li>\n",
        "        </ul>\n",
        "    </li>\n",
        "    <li>\n",
        "    <strong>Representation of results</strong>\n",
        "        <ul>\n",
        "    <li>You need to plot the performance of model both on train data and cross validation data for each hyper parameter, like shown in the figure\n",
        "    <img src='https://i.imgur.com/hUv6aEy.jpg' width=300px></li>\n",
        "    <li>Once after you found the best hyper parameter, you need to train your model with it, and find the AUC on test data and plot the ROC curve on both train and test.\n",
        "    <img src='https://i.imgur.com/wMQDTFe.jpg' width=300px></li>\n",
        "    <li>Along with plotting ROC curve, you need to print the <a href='https://www.appliedaicourse.com/course/applied-ai-course-online/lessons/confusion-matrix-tpr-fpr-fnr-tnr-1/'>confusion matrix</a> with predicted and original labels of test data points\n",
        "    <img src='https://i.imgur.com/IdN5Ctv.png' width=300px></li>\n",
        "        </ul>\n",
        "    </li>\n",
        "    <li>\n",
        "fine the top 20 features from either from feature <font color='red'>Set 1</font> or feature <font color='red'>Set 2</font> using absolute values of `feature_log_prob_ ` parameter of `MultinomialNB` \n",
        "(https://scikit-learn.org/stable/modules/generated/sklearn.naive_bayes.MultinomialNB.html) and print their corresponding feature names\n",
        "    </li>\n",
        "    <li>You need to summarize the results at the end of the notebook, summarize it in the table format\n",
        "        <img src='http://i.imgur.com/YVpIGGE.jpg' width=400px>\n",
        "    </li>\n",
        "</ol>"
      ]
    },
    {
      "cell_type": "markdown",
      "metadata": {
        "id": "inzYCIaib3c3",
        "colab_type": "text"
      },
      "source": [
        "<h1>2. Naive Bayes </h1>"
      ]
    },
    {
      "cell_type": "code",
      "metadata": {
        "id": "HZVxOC2wgWLA",
        "colab_type": "code",
        "colab": {}
      },
      "source": [
        "#importing all the required packages and modules\n",
        "import numpy as np\n",
        "import pandas as pd\n",
        "from sklearn.feature_extraction.text import CountVectorizer\n",
        "from sklearn.feature_extraction.text  import TfidfVectorizer\n",
        "\n",
        "from sklearn.model_selection import GridSearchCV\n",
        "from sklearn.utils.fixes import loguniform\n",
        "from sklearn.model_selection import RandomizedSearchCV\n",
        "\n",
        "import matplotlib.pyplot as plt"
      ],
      "execution_count": 0,
      "outputs": []
    },
    {
      "cell_type": "markdown",
      "metadata": {
        "id": "FYqCIxzFb3c5",
        "colab_type": "text"
      },
      "source": [
        "## 1.1 Loading Data"
      ]
    },
    {
      "cell_type": "code",
      "metadata": {
        "id": "oeLZ8bmfdGvW",
        "colab_type": "code",
        "outputId": "65d313af-e757-434e-f82f-a3fce862baaf",
        "colab": {
          "base_uri": "https://localhost:8080/",
          "height": 34
        }
      },
      "source": [
        "from google.colab import drive\n",
        "drive.mount('/content/drive')"
      ],
      "execution_count": 2,
      "outputs": [
        {
          "output_type": "stream",
          "text": [
            "Drive already mounted at /content/drive; to attempt to forcibly remount, call drive.mount(\"/content/drive\", force_remount=True).\n"
          ],
          "name": "stdout"
        }
      ]
    },
    {
      "cell_type": "code",
      "metadata": {
        "id": "dA1jknyqb3c_",
        "colab_type": "code",
        "outputId": "25ebefde-eb0c-4efb-9fbf-b378cf7b56fd",
        "colab": {
          "base_uri": "https://localhost:8080/",
          "height": 134
        }
      },
      "source": [
        "import pandas as pd\n",
        "#my_preprocessed_data is preprocessed by me which has project_title , project_resource_summary columns in it \n",
        "#where as preprocessed_data provided does not contain them\n",
        "\n",
        "data  = pd.read_csv('/content/drive/My Drive/Colab Notebooks/my_preprocessed_data.csv',nrows= 60000)\n",
        "data.columns"
      ],
      "execution_count": 3,
      "outputs": [
        {
          "output_type": "execute_result",
          "data": {
            "text/plain": [
              "Index(['Unnamed: 0', 'id', 'teacher_prefix', 'school_state',\n",
              "       'project_grade_category', 'project_subject_categories',\n",
              "       'project_subject_subcategories', 'project_title',\n",
              "       'project_resource_summary',\n",
              "       'teacher_number_of_previously_posted_projects', 'project_is_approved',\n",
              "       'essay', 'price', 'quantity'],\n",
              "      dtype='object')"
            ]
          },
          "metadata": {
            "tags": []
          },
          "execution_count": 3
        }
      ]
    },
    {
      "cell_type": "code",
      "metadata": {
        "id": "1KAVS4O2qAqn",
        "colab_type": "code",
        "outputId": "c383cf48-dd8c-4c4d-e248-69b447a2144e",
        "colab": {
          "base_uri": "https://localhost:8080/",
          "height": 101
        }
      },
      "source": [
        "#dropping off the columns we don't need for this assignment \n",
        "#they are 'Unnamed: 0', 'id' , 'project_resource_summary',\n",
        "data.drop(columns = ['Unnamed: 0', 'id' , 'project_resource_summary'] , inplace = True)\n",
        "data.columns"
      ],
      "execution_count": 4,
      "outputs": [
        {
          "output_type": "execute_result",
          "data": {
            "text/plain": [
              "Index(['teacher_prefix', 'school_state', 'project_grade_category',\n",
              "       'project_subject_categories', 'project_subject_subcategories',\n",
              "       'project_title', 'teacher_number_of_previously_posted_projects',\n",
              "       'project_is_approved', 'essay', 'price', 'quantity'],\n",
              "      dtype='object')"
            ]
          },
          "metadata": {
            "tags": []
          },
          "execution_count": 4
        }
      ]
    },
    {
      "cell_type": "code",
      "metadata": {
        "id": "rLj09xmeeTVe",
        "colab_type": "code",
        "outputId": "043d8db0-0710-4920-a868-75c20b91aa2e",
        "colab": {
          "base_uri": "https://localhost:8080/",
          "height": 181
        }
      },
      "source": [
        "y = data['project_is_approved'].values\n",
        "X = data.drop(['project_is_approved'], axis=1)\n",
        "X.head(1)"
      ],
      "execution_count": 5,
      "outputs": [
        {
          "output_type": "execute_result",
          "data": {
            "text/html": [
              "<div>\n",
              "<style scoped>\n",
              "    .dataframe tbody tr th:only-of-type {\n",
              "        vertical-align: middle;\n",
              "    }\n",
              "\n",
              "    .dataframe tbody tr th {\n",
              "        vertical-align: top;\n",
              "    }\n",
              "\n",
              "    .dataframe thead th {\n",
              "        text-align: right;\n",
              "    }\n",
              "</style>\n",
              "<table border=\"1\" class=\"dataframe\">\n",
              "  <thead>\n",
              "    <tr style=\"text-align: right;\">\n",
              "      <th></th>\n",
              "      <th>teacher_prefix</th>\n",
              "      <th>school_state</th>\n",
              "      <th>project_grade_category</th>\n",
              "      <th>project_subject_categories</th>\n",
              "      <th>project_subject_subcategories</th>\n",
              "      <th>project_title</th>\n",
              "      <th>teacher_number_of_previously_posted_projects</th>\n",
              "      <th>essay</th>\n",
              "      <th>price</th>\n",
              "      <th>quantity</th>\n",
              "    </tr>\n",
              "  </thead>\n",
              "  <tbody>\n",
              "    <tr>\n",
              "      <th>0</th>\n",
              "      <td>mrs</td>\n",
              "      <td>in</td>\n",
              "      <td>grades_prek_2</td>\n",
              "      <td>literacy_language</td>\n",
              "      <td>esl literacy</td>\n",
              "      <td>educational support english learners home</td>\n",
              "      <td>0</td>\n",
              "      <td>students english learners working english seco...</td>\n",
              "      <td>154.6</td>\n",
              "      <td>23</td>\n",
              "    </tr>\n",
              "  </tbody>\n",
              "</table>\n",
              "</div>"
            ],
            "text/plain": [
              "  teacher_prefix school_state  ...  price quantity\n",
              "0            mrs           in  ...  154.6       23\n",
              "\n",
              "[1 rows x 10 columns]"
            ]
          },
          "metadata": {
            "tags": []
          },
          "execution_count": 5
        }
      ]
    },
    {
      "cell_type": "code",
      "metadata": {
        "id": "EKABVnMa1AXV",
        "colab_type": "code",
        "outputId": "444f1c1e-3e34-45c8-f0bd-ad681c3ad0e2",
        "colab": {
          "base_uri": "https://localhost:8080/",
          "height": 67
        }
      },
      "source": [
        "pd.Series(y).value_counts()"
      ],
      "execution_count": 6,
      "outputs": [
        {
          "output_type": "execute_result",
          "data": {
            "text/plain": [
              "1    50856\n",
              "0     9144\n",
              "dtype: int64"
            ]
          },
          "metadata": {
            "tags": []
          },
          "execution_count": 6
        }
      ]
    },
    {
      "cell_type": "markdown",
      "metadata": {
        "id": "WtVV13Fyb3dH",
        "colab_type": "text"
      },
      "source": [
        "<h2>1.2 Splitting data into Train and cross validation(or test): Stratified Sampling</h2>"
      ]
    },
    {
      "cell_type": "code",
      "metadata": {
        "id": "ru3c_cKxeWuV",
        "colab_type": "code",
        "colab": {}
      },
      "source": [
        "# train test split\n",
        "from sklearn.model_selection import train_test_split\n",
        "X_train, X_test, y_train, y_test = train_test_split(X, y, test_size=0.33, stratify=y , random_state =42)\n",
        "X_train, X_cv, y_train, y_cv = train_test_split(X_train, y_train, test_size=0.33, stratify=y_train, random_state =42)"
      ],
      "execution_count": 0,
      "outputs": []
    },
    {
      "cell_type": "markdown",
      "metadata": {
        "colab_type": "text",
        "id": "KRoLsRDsFAW9"
      },
      "source": [
        "###**<font color = 'dark brown'>Types of features</font>**\n",
        "\n",
        "**Text features:** -->  Bow & Avg w2v\n",
        "\n",
        "1. essay (Project Essay)\n",
        "2. project_title\n",
        "3. project_resource_summary (not needed for NB assignment)\n",
        "\n",
        "**Categorical features** --> One hot encoding -- Can use BoW\n",
        "\n",
        "1. school_state \n",
        "2. teacher_prefix\n",
        "3. project_grade_category \n",
        "4. project_subject_categories\n",
        "5. project_subject_subcategories\n",
        "\n",
        "\n",
        "**Numerical features** --> should be feature scaled or Normalized or standaradized\n",
        "\n",
        "1. price \n",
        "2. teacher_number_of_previously_posted_projects\n",
        "\n",
        "\n",
        "\n"
      ]
    },
    {
      "cell_type": "markdown",
      "metadata": {
        "id": "EnZwVNULb3dO",
        "colab_type": "text"
      },
      "source": [
        "<h2>1.3 Make Data Model Ready: encoding essay, and project_title</h2>"
      ]
    },
    {
      "cell_type": "markdown",
      "metadata": {
        "id": "ofLCmy-fN3AP",
        "colab_type": "text"
      },
      "source": [
        "1.3.1 Encoding project essay"
      ]
    },
    {
      "cell_type": "code",
      "metadata": {
        "id": "-SczZKiab3dR",
        "colab_type": "code",
        "outputId": "28f2e6fc-3db0-4a70-b4db-9443c1f31617",
        "colab": {
          "base_uri": "https://localhost:8080/",
          "height": 168
        }
      },
      "source": [
        "#encoding essay using BoW\n",
        "\n",
        "print(X_train.shape, y_train.shape)\n",
        "print(X_cv.shape, y_cv.shape)\n",
        "print(X_test.shape, y_test.shape)\n",
        "\n",
        "print(\"=\"*100)\n",
        "\n",
        "vectorizer = CountVectorizer(min_df=10,ngram_range=(1,4), max_features=5000)\n",
        "vectorizer.fit(X_train['essay'].values) # fit has to happen only on train data\n",
        "\n",
        "# we use the fitted CountVectorizer to convert the text to vector\n",
        "X_train_essay_bow = vectorizer.transform(X_train['essay'].values)\n",
        "X_cv_essay_bow = vectorizer.transform(X_cv['essay'].values)\n",
        "X_test_essay_bow = vectorizer.transform(X_test['essay'].values)\n",
        "\n",
        "print(\"After vectorizations\")\n",
        "print(X_train_essay_bow.shape, y_train.shape)\n",
        "print(X_cv_essay_bow.shape, y_cv.shape)\n",
        "print(X_test_essay_bow.shape, y_test.shape)\n",
        "print(\"=\"*100)\n"
      ],
      "execution_count": 8,
      "outputs": [
        {
          "output_type": "stream",
          "text": [
            "(26934, 10) (26934,)\n",
            "(13266, 10) (13266,)\n",
            "(19800, 10) (19800,)\n",
            "====================================================================================================\n",
            "After vectorizations\n",
            "(26934, 5000) (26934,)\n",
            "(13266, 5000) (13266,)\n",
            "(19800, 5000) (19800,)\n",
            "====================================================================================================\n"
          ],
          "name": "stdout"
        }
      ]
    },
    {
      "cell_type": "code",
      "metadata": {
        "id": "HW1nJd9oiui4",
        "colab_type": "code",
        "colab": {
          "base_uri": "https://localhost:8080/",
          "height": 34
        },
        "outputId": "8038d70e-0a56-4ed7-d3ed-b5a5dc8d1b20"
      },
      "source": [
        "#getting the features_list to calculate top 20 features using feature_log_probabilities\n",
        "essay_bow_features = vectorizer.get_feature_names()\n",
        "print(len(essay_bow_features))"
      ],
      "execution_count": 9,
      "outputs": [
        {
          "output_type": "stream",
          "text": [
            "5000\n"
          ],
          "name": "stdout"
        }
      ]
    },
    {
      "cell_type": "markdown",
      "metadata": {
        "id": "2-Fgd1U4N6LP",
        "colab_type": "text"
      },
      "source": [
        "1.3.2 Encoding project title"
      ]
    },
    {
      "cell_type": "code",
      "metadata": {
        "id": "x_GpDOIiEc9V",
        "colab_type": "code",
        "outputId": "dbe47c36-4059-42db-80fd-39c183ab7e18",
        "colab": {
          "base_uri": "https://localhost:8080/",
          "height": 50
        }
      },
      "source": [
        "# check if we have any nan values are there\n",
        "print(data['project_title'].isnull().values.any())\n",
        "print(\"number of nan values\",data['project_title'].isnull().values.sum())"
      ],
      "execution_count": 10,
      "outputs": [
        {
          "output_type": "stream",
          "text": [
            "True\n",
            "number of nan values 30\n"
          ],
          "name": "stdout"
        }
      ]
    },
    {
      "cell_type": "code",
      "metadata": {
        "id": "ruqEnkAVfB1q",
        "colab_type": "code",
        "outputId": "4ebdfd25-5bfa-4a5d-bbba-ce3121212734",
        "colab": {
          "base_uri": "https://localhost:8080/",
          "height": 168
        }
      },
      "source": [
        "#encoding project_tilte using BoW\n",
        "\n",
        "print(X_train.shape, y_train.shape)\n",
        "print(X_cv.shape, y_cv.shape)\n",
        "print(X_test.shape, y_test.shape)\n",
        "\n",
        "print(\"=\"*100)\n",
        "\n",
        "\n",
        "#As we have 2 null titles in project_title columns after preprocessing using astype('U') as susggested by the error traceback\n",
        "#check the link  https://stackoverflow.com/questions/39303912/tfidfvectorizer-in-scikit-learn-valueerror-np-nan-is-an-invalid-document\n",
        "\n",
        "vectorizer = CountVectorizer(min_df=10,ngram_range=(1,4), max_features=5000)\n",
        "vectorizer.fit(X_train['project_title'].values.astype('U')) # fit has to happen only on train data\n",
        "\n",
        "# we use the fitted CountVectorizer to convert the text to vector\n",
        "X_train_title_bow = vectorizer.transform(X_train['project_title'].values.astype('U'))\n",
        "X_cv_title_bow = vectorizer.transform(X_cv['project_title'].values.astype('U'))\n",
        "X_test_title_bow = vectorizer.transform(X_test['project_title'].values.astype('U'))\n",
        "\n",
        "print(\"After vectorizations\")\n",
        "print(X_train_title_bow.shape, y_train.shape)\n",
        "print(X_cv_title_bow.shape, y_cv.shape)\n",
        "print(X_test_title_bow.shape, y_test.shape)\n",
        "print(\"=\"*100)"
      ],
      "execution_count": 11,
      "outputs": [
        {
          "output_type": "stream",
          "text": [
            "(26934, 10) (26934,)\n",
            "(13266, 10) (13266,)\n",
            "(19800, 10) (19800,)\n",
            "====================================================================================================\n",
            "After vectorizations\n",
            "(26934, 1978) (26934,)\n",
            "(13266, 1978) (13266,)\n",
            "(19800, 1978) (19800,)\n",
            "====================================================================================================\n"
          ],
          "name": "stdout"
        }
      ]
    },
    {
      "cell_type": "code",
      "metadata": {
        "id": "DEF_cBkmjUlJ",
        "colab_type": "code",
        "colab": {
          "base_uri": "https://localhost:8080/",
          "height": 34
        },
        "outputId": "21b2e516-61bf-48cd-d401-4f64beb84cc1"
      },
      "source": [
        "#getting the features_list to calculate top 20 features using feature_log_probabilities\n",
        "title_bow_features = vectorizer.get_feature_names()\n",
        "print(len(title_bow_features))"
      ],
      "execution_count": 12,
      "outputs": [
        {
          "output_type": "stream",
          "text": [
            "1978\n"
          ],
          "name": "stdout"
        }
      ]
    },
    {
      "cell_type": "markdown",
      "metadata": {
        "id": "bGy86kgHb3dX",
        "colab_type": "text"
      },
      "source": [
        "<h2>1.4 Make Data Model Ready: encoding categorical features</h2>"
      ]
    },
    {
      "cell_type": "markdown",
      "metadata": {
        "id": "0t7UBBcmkoEu",
        "colab_type": "text"
      },
      "source": [
        "1.4.1 encoding categorical features: School State"
      ]
    },
    {
      "cell_type": "code",
      "metadata": {
        "id": "Jya4CxBAkoBB",
        "colab_type": "code",
        "outputId": "b3d29bd2-d297-4084-c8d2-b2677ec5b360",
        "colab": {
          "base_uri": "https://localhost:8080/",
          "height": 138
        }
      },
      "source": [
        "vectorizer = CountVectorizer()\n",
        "vectorizer.fit(X_train['school_state'].values) # fit has to happen only on train data\n",
        "\n",
        "# we use the fitted CountVectorizer to convert the text to vector\n",
        "X_train_state_ohe = vectorizer.transform(X_train['school_state'].values)\n",
        "X_cv_state_ohe = vectorizer.transform(X_cv['school_state'].values)\n",
        "X_test_state_ohe = vectorizer.transform(X_test['school_state'].values)\n",
        "\n",
        "print(\"After vectorizations\")\n",
        "print(X_train_state_ohe.shape, y_train.shape)\n",
        "print(X_cv_state_ohe.shape, y_cv.shape)\n",
        "print(X_test_state_ohe.shape, y_test.shape)\n",
        "print(vectorizer.get_feature_names())\n",
        "print(\"=\"*100)"
      ],
      "execution_count": 13,
      "outputs": [
        {
          "output_type": "stream",
          "text": [
            "After vectorizations\n",
            "(26934, 51) (26934,)\n",
            "(13266, 51) (13266,)\n",
            "(19800, 51) (19800,)\n",
            "['ak', 'al', 'ar', 'az', 'ca', 'co', 'ct', 'dc', 'de', 'fl', 'ga', 'hi', 'ia', 'id', 'il', 'in', 'ks', 'ky', 'la', 'ma', 'md', 'me', 'mi', 'mn', 'mo', 'ms', 'mt', 'nc', 'nd', 'ne', 'nh', 'nj', 'nm', 'nv', 'ny', 'oh', 'ok', 'or', 'pa', 'ri', 'sc', 'sd', 'tn', 'tx', 'ut', 'va', 'vt', 'wa', 'wi', 'wv', 'wy']\n",
            "====================================================================================================\n"
          ],
          "name": "stdout"
        }
      ]
    },
    {
      "cell_type": "code",
      "metadata": {
        "id": "m04fl8PAkJuj",
        "colab_type": "code",
        "colab": {
          "base_uri": "https://localhost:8080/",
          "height": 34
        },
        "outputId": "15e5c89b-73c2-44c0-e219-a0c1e183a81c"
      },
      "source": [
        "#getting the features_list to calculate top 20 features using feature_log_probabilities\n",
        "state_ohe_features = vectorizer.get_feature_names()\n",
        "print(len(state_ohe_features))"
      ],
      "execution_count": 14,
      "outputs": [
        {
          "output_type": "stream",
          "text": [
            "51\n"
          ],
          "name": "stdout"
        }
      ]
    },
    {
      "cell_type": "markdown",
      "metadata": {
        "id": "1G-HBVM77lHr",
        "colab_type": "text"
      },
      "source": [
        "1.4.2 encoding categorical features: teacher_prefix"
      ]
    },
    {
      "cell_type": "code",
      "metadata": {
        "id": "iIjBJWVZlbdZ",
        "colab_type": "code",
        "outputId": "a5e17f60-041e-4435-fe0c-de7dcfe8f8cb",
        "colab": {
          "base_uri": "https://localhost:8080/",
          "height": 118
        }
      },
      "source": [
        "vectorizer = CountVectorizer()\n",
        "vectorizer.fit(X_train['teacher_prefix'].values) # fit has to happen only on train data\n",
        "\n",
        "# we use the fitted CountVectorizer to convert the text to vector\n",
        "X_train_teacher_ohe = vectorizer.transform(X_train['teacher_prefix'].values)\n",
        "X_cv_teacher_ohe = vectorizer.transform(X_cv['teacher_prefix'].values)\n",
        "X_test_teacher_ohe = vectorizer.transform(X_test['teacher_prefix'].values)\n",
        "\n",
        "print(\"After vectorizations\")\n",
        "print(X_train_teacher_ohe.shape, y_train.shape)\n",
        "print(X_cv_teacher_ohe.shape, y_cv.shape)\n",
        "print(X_test_teacher_ohe.shape, y_test.shape)\n",
        "print(vectorizer.get_feature_names())\n",
        "print(\"=\"*100)"
      ],
      "execution_count": 15,
      "outputs": [
        {
          "output_type": "stream",
          "text": [
            "After vectorizations\n",
            "(26934, 5) (26934,)\n",
            "(13266, 5) (13266,)\n",
            "(19800, 5) (19800,)\n",
            "['dr', 'mr', 'mrs', 'ms', 'teacher']\n",
            "====================================================================================================\n"
          ],
          "name": "stdout"
        }
      ]
    },
    {
      "cell_type": "code",
      "metadata": {
        "id": "5IX4qHipnbhf",
        "colab_type": "code",
        "colab": {
          "base_uri": "https://localhost:8080/",
          "height": 34
        },
        "outputId": "f8d77235-a373-41c6-8672-344d4e6c845c"
      },
      "source": [
        "#getting the features_list to calculate top 20 features using feature_log_probabilities\n",
        "teacher_ohe_features = vectorizer.get_feature_names()\n",
        "print(len(teacher_ohe_features))"
      ],
      "execution_count": 16,
      "outputs": [
        {
          "output_type": "stream",
          "text": [
            "5\n"
          ],
          "name": "stdout"
        }
      ]
    },
    {
      "cell_type": "markdown",
      "metadata": {
        "colab_type": "text",
        "id": "qVIHoT_LJUuV"
      },
      "source": [
        "1.4.3 encoding categorical features: project_grade_category"
      ]
    },
    {
      "cell_type": "code",
      "metadata": {
        "id": "-AYmt4AxJQWf",
        "colab_type": "code",
        "outputId": "aecf44e2-06cc-4c80-e46c-7df341f78bf6",
        "colab": {
          "base_uri": "https://localhost:8080/",
          "height": 118
        }
      },
      "source": [
        "vectorizer = CountVectorizer()\n",
        "vectorizer.fit(X_train['project_grade_category'].values) # fit has to happen only on train data\n",
        "\n",
        "# we use the fitted CountVectorizer to convert the text to vector\n",
        "X_train_grade_ohe = vectorizer.transform(X_train['project_grade_category'].values)\n",
        "X_cv_grade_ohe = vectorizer.transform(X_cv['project_grade_category'].values)\n",
        "X_test_grade_ohe = vectorizer.transform(X_test['project_grade_category'].values)\n",
        "\n",
        "print(\"After vectorizations\")\n",
        "print(X_train_grade_ohe.shape, y_train.shape)\n",
        "print(X_cv_grade_ohe.shape, y_cv.shape)\n",
        "print(X_test_grade_ohe.shape, y_test.shape)\n",
        "print(vectorizer.get_feature_names())\n",
        "print(\"=\"*100)"
      ],
      "execution_count": 17,
      "outputs": [
        {
          "output_type": "stream",
          "text": [
            "After vectorizations\n",
            "(26934, 4) (26934,)\n",
            "(13266, 4) (13266,)\n",
            "(19800, 4) (19800,)\n",
            "['grades_3_5', 'grades_6_8', 'grades_9_12', 'grades_prek_2']\n",
            "====================================================================================================\n"
          ],
          "name": "stdout"
        }
      ]
    },
    {
      "cell_type": "code",
      "metadata": {
        "id": "z5srl0grnmn3",
        "colab_type": "code",
        "colab": {
          "base_uri": "https://localhost:8080/",
          "height": 34
        },
        "outputId": "d774da14-535e-4d2e-dcc0-276a798a7e92"
      },
      "source": [
        "#getting the features_list to calculate top 20 features using feature_log_probabilities\n",
        "grade_ohe_features = vectorizer.get_feature_names()\n",
        "print(len(grade_ohe_features))"
      ],
      "execution_count": 18,
      "outputs": [
        {
          "output_type": "stream",
          "text": [
            "4\n"
          ],
          "name": "stdout"
        }
      ]
    },
    {
      "cell_type": "markdown",
      "metadata": {
        "colab_type": "text",
        "id": "6p-IaZnyJZTM"
      },
      "source": [
        "1.4.4 encoding categorical features: project_subject_categories"
      ]
    },
    {
      "cell_type": "code",
      "metadata": {
        "id": "IYWTbYg-KDMx",
        "colab_type": "code",
        "outputId": "82a40c83-deab-492d-bf74-5e635e69aab7",
        "colab": {
          "base_uri": "https://localhost:8080/",
          "height": 118
        }
      },
      "source": [
        "vectorizer = CountVectorizer()\n",
        "vectorizer.fit(X_train['project_subject_categories'].values) # fit has to happen only on train data\n",
        "\n",
        "# we use the fitted CountVectorizer to convert the text to vector\n",
        "X_train_cat_ohe = vectorizer.transform(X_train['project_subject_categories'].values)\n",
        "X_cv_cat_ohe = vectorizer.transform(X_cv['project_subject_categories'].values)\n",
        "X_test_cat_ohe = vectorizer.transform(X_test['project_subject_categories'].values)  \n",
        "\n",
        "print(\"After vectorizations\")\n",
        "print(X_train_cat_ohe.shape, y_train.shape)\n",
        "print(X_cv_cat_ohe.shape, y_cv.shape)\n",
        "print(X_test_cat_ohe.shape, y_test.shape)\n",
        "print(vectorizer.get_feature_names())\n",
        "print(\"=\"*100)"
      ],
      "execution_count": 19,
      "outputs": [
        {
          "output_type": "stream",
          "text": [
            "After vectorizations\n",
            "(26934, 9) (26934,)\n",
            "(13266, 9) (13266,)\n",
            "(19800, 9) (19800,)\n",
            "['appliedlearning', 'care_hunger', 'health_sports', 'history_civics', 'literacy_language', 'math_science', 'music_arts', 'specialneeds', 'warmth']\n",
            "====================================================================================================\n"
          ],
          "name": "stdout"
        }
      ]
    },
    {
      "cell_type": "code",
      "metadata": {
        "id": "H4tXrRGdnsNi",
        "colab_type": "code",
        "colab": {
          "base_uri": "https://localhost:8080/",
          "height": 34
        },
        "outputId": "8f8aff80-90e7-4e40-bbfb-60b522f52704"
      },
      "source": [
        "#getting the features_list to calculate top 20 features using feature_log_probabilities\n",
        "cat_ohe_features = vectorizer.get_feature_names()\n",
        "print(len(cat_ohe_features))"
      ],
      "execution_count": 20,
      "outputs": [
        {
          "output_type": "stream",
          "text": [
            "9\n"
          ],
          "name": "stdout"
        }
      ]
    },
    {
      "cell_type": "markdown",
      "metadata": {
        "colab_type": "text",
        "id": "eM-dy0y-JZZE"
      },
      "source": [
        "1.4.5 encoding categorical features: project_subject_subcategories\n"
      ]
    },
    {
      "cell_type": "code",
      "metadata": {
        "id": "bZbWNpO4JQUp",
        "colab_type": "code",
        "outputId": "d4b5f392-8c86-483f-c73b-e28045f43874",
        "colab": {
          "base_uri": "https://localhost:8080/",
          "height": 138
        }
      },
      "source": [
        "vectorizer = CountVectorizer()\n",
        "vectorizer.fit(X_train['project_subject_subcategories'].values) # fit has to happen only on train data\n",
        "\n",
        "# we use the fitted CountVectorizer to convert the text to vector\n",
        "X_train_subcat_ohe = vectorizer.transform(X_train['project_subject_subcategories'].values)\n",
        "X_cv_subcat_ohe = vectorizer.transform(X_cv['project_subject_subcategories'].values)\n",
        "X_test_subcat_ohe = vectorizer.transform(X_test['project_subject_subcategories'].values)  \n",
        "\n",
        "print(\"After vectorizations\")\n",
        "print(X_train_subcat_ohe.shape, y_train.shape)\n",
        "print(X_cv_subcat_ohe.shape, y_cv.shape)\n",
        "print(X_test_subcat_ohe.shape, y_test.shape)\n",
        "print(vectorizer.get_feature_names())\n",
        "print(\"=\"*100)"
      ],
      "execution_count": 21,
      "outputs": [
        {
          "output_type": "stream",
          "text": [
            "After vectorizations\n",
            "(26934, 30) (26934,)\n",
            "(13266, 30) (13266,)\n",
            "(19800, 30) (19800,)\n",
            "['appliedsciences', 'care_hunger', 'charactereducation', 'civics_government', 'college_careerprep', 'communityservice', 'earlydevelopment', 'economics', 'environmentalscience', 'esl', 'extracurricular', 'financialliteracy', 'foreignlanguages', 'gym_fitness', 'health_lifescience', 'health_wellness', 'history_geography', 'literacy', 'literature_writing', 'mathematics', 'music', 'nutritioneducation', 'other', 'parentinvolvement', 'performingarts', 'socialsciences', 'specialneeds', 'teamsports', 'visualarts', 'warmth']\n",
            "====================================================================================================\n"
          ],
          "name": "stdout"
        }
      ]
    },
    {
      "cell_type": "code",
      "metadata": {
        "id": "wJnYEXFiny-k",
        "colab_type": "code",
        "colab": {
          "base_uri": "https://localhost:8080/",
          "height": 34
        },
        "outputId": "76590a01-4fa6-48d8-e303-0aabcb345791"
      },
      "source": [
        "#getting the features_list to calculate top 20 features using feature_log_probabilities\n",
        "subcat_ohe_features = vectorizer.get_feature_names()\n",
        "print(len(subcat_ohe_features))"
      ],
      "execution_count": 22,
      "outputs": [
        {
          "output_type": "stream",
          "text": [
            "30\n"
          ],
          "name": "stdout"
        }
      ]
    },
    {
      "cell_type": "markdown",
      "metadata": {
        "id": "jj8BiCYtLGvg",
        "colab_type": "text"
      },
      "source": [
        "<h2>1.4.6 Make Data Model Ready: encoding numerical features</h2>"
      ]
    },
    {
      "cell_type": "markdown",
      "metadata": {
        "id": "dxh7y9u3LXLJ",
        "colab_type": "text"
      },
      "source": [
        "1.4.6.1 encoding numerical features: Price "
      ]
    },
    {
      "cell_type": "code",
      "metadata": {
        "id": "PKjVhNuPWcB4",
        "colab_type": "code",
        "outputId": "881de749-7227-45f2-e738-26db5da0d06d",
        "colab": {
          "base_uri": "https://localhost:8080/",
          "height": 101
        }
      },
      "source": [
        "from sklearn.preprocessing import Normalizer\n",
        "normalizer = Normalizer()\n",
        "# normalizer.fit(X_train['price'].values)\n",
        "# this will rise an error Expected 2D array, got 1D array instead: \n",
        "# array=[105.22 215.96  96.01 ... 368.98  80.53 709.67].\n",
        "# Reshape your data either using \n",
        "# array.reshape(-1, 1) if your data has a single feature \n",
        "# array.reshape(1, -1)  if it contains a single sample.\n",
        "normalizer.fit(X_train['price'].values.reshape(-1,1))\n",
        "\n",
        "X_train_price_norm = normalizer.transform(X_train['price'].values.reshape(-1,1))\n",
        "X_cv_price_norm = normalizer.transform(X_cv['price'].values.reshape(-1,1))\n",
        "X_test_price_norm = normalizer.transform(X_test['price'].values.reshape(-1,1))\n",
        "\n",
        "\n",
        "\n",
        "print(\"After vectorizations\")\n",
        "print(X_train_price_norm.shape, y_train.shape)\n",
        "print(X_cv_price_norm.shape, y_cv.shape)\n",
        "print(X_test_price_norm.shape, y_test.shape)\n",
        "print(\"=\"*100)"
      ],
      "execution_count": 23,
      "outputs": [
        {
          "output_type": "stream",
          "text": [
            "After vectorizations\n",
            "(26934, 1) (26934,)\n",
            "(13266, 1) (13266,)\n",
            "(19800, 1) (19800,)\n",
            "====================================================================================================\n"
          ],
          "name": "stdout"
        }
      ]
    },
    {
      "cell_type": "markdown",
      "metadata": {
        "id": "IXG12Qh6Yxyr",
        "colab_type": "text"
      },
      "source": [
        "**Note**"
      ]
    },
    {
      "cell_type": "code",
      "metadata": {
        "id": "nqrQ7wRTYMdB",
        "colab_type": "code",
        "outputId": "86e8b95f-9f4e-4fd5-ac7f-5de095f1e427",
        "colab": {
          "base_uri": "https://localhost:8080/",
          "height": 54
        }
      },
      "source": [
        "'''\n",
        "Note:\n",
        "We can apply standard scaler instead fo normaliser but stdscaler will give the negative values\n",
        "As Multinomial NB doesn't accept -ve values in training data we are considering the use of Normaliser here.\n",
        "\n",
        "if Negative values are passed in training data for MultinomialNB then it will throw the below error\n",
        "ValueError: Negative values in data passed to MultinomialNB (input X) site:stackoverflow.com\n",
        "'''"
      ],
      "execution_count": 24,
      "outputs": [
        {
          "output_type": "execute_result",
          "data": {
            "text/plain": [
              "\"\\nNote:\\nWe can apply standard scaler instead fo normaliser but stdscaler will give the negative values\\nAs Multinomial NB doesn't accept -ve values in training data we are considering the use of Normaliser here.\\n\\nif Negative values are passed in training data for MultinomialNB then it will throw the below error\\nValueError: Negative values in data passed to MultinomialNB (input X) site:stackoverflow.com\\n\""
            ]
          },
          "metadata": {
            "tags": []
          },
          "execution_count": 24
        }
      ]
    },
    {
      "cell_type": "markdown",
      "metadata": {
        "colab_type": "text",
        "id": "4swStUPVMHNZ"
      },
      "source": [
        "1.4.6.2 encoding numerical features: teacher_number_of_previously_posted_projects"
      ]
    },
    {
      "cell_type": "code",
      "metadata": {
        "id": "E59B4g_mWw-Q",
        "colab_type": "code",
        "outputId": "d6acbbab-7b66-4fa5-b179-db9cab8b8993",
        "colab": {
          "base_uri": "https://localhost:8080/",
          "height": 101
        }
      },
      "source": [
        "from sklearn.preprocessing import Normalizer\n",
        "normalizer = Normalizer()\n",
        "# normalizer.fit(X_train['price'].values)\n",
        "# this will rise an error Expected 2D array, got 1D array instead: \n",
        "# array=[105.22 215.96  96.01 ... 368.98  80.53 709.67].\n",
        "# Reshape your data either using \n",
        "# array.reshape(-1, 1) if your data has a single feature \n",
        "# array.reshape(1, -1)  if it contains a single sample.\n",
        "normalizer.fit(X_train['teacher_number_of_previously_posted_projects'].values.reshape(-1,1))\n",
        "\n",
        "X_train_prev_pjts_norm = normalizer.transform(X_train['teacher_number_of_previously_posted_projects'].values.reshape(-1,1))\n",
        "X_cv_prev_pjts_norm = normalizer.transform(X_cv['teacher_number_of_previously_posted_projects'].values.reshape(-1,1))\n",
        "X_test_prev_pjts_norm = normalizer.transform(X_test['teacher_number_of_previously_posted_projects'].values.reshape(-1,1))\n",
        "\n",
        "\n",
        "print(\"After vectorizations\")\n",
        "print(X_train_prev_pjts_norm.shape, y_train.shape)\n",
        "print(X_cv_prev_pjts_norm.shape, y_cv.shape)\n",
        "print(X_test_prev_pjts_norm.shape, y_test.shape)\n",
        "print(\"=\"*100)"
      ],
      "execution_count": 25,
      "outputs": [
        {
          "output_type": "stream",
          "text": [
            "After vectorizations\n",
            "(26934, 1) (26934,)\n",
            "(13266, 1) (13266,)\n",
            "(19800, 1) (19800,)\n",
            "====================================================================================================\n"
          ],
          "name": "stdout"
        }
      ]
    },
    {
      "cell_type": "markdown",
      "metadata": {
        "id": "9MnM3n8iOZyQ",
        "colab_type": "text"
      },
      "source": [
        "### Concatinating all the features (BoW for Essay)"
      ]
    },
    {
      "cell_type": "code",
      "metadata": {
        "id": "I80tcB-eX0Rc",
        "colab_type": "code",
        "outputId": "c1c1bda3-a395-4a8e-c074-730a958a07bf",
        "colab": {
          "base_uri": "https://localhost:8080/",
          "height": 101
        }
      },
      "source": [
        "# merge two sparse matrices: https://stackoverflow.com/a/19710648/4084039\n",
        "# concat(text_features,categorical_features, numerical_features)\n",
        "from scipy.sparse import hstack\n",
        "\n",
        "X_tr = hstack((X_train_essay_bow,X_train_title_bow,\n",
        "               X_train_state_ohe,X_train_teacher_ohe,X_train_grade_ohe,X_train_cat_ohe,X_train_subcat_ohe,\n",
        "               X_train_price_norm,X_train_prev_pjts_norm)).tocsr()\n",
        "\n",
        "X_cr = hstack((X_cv_essay_bow,X_cv_title_bow,\n",
        "               X_cv_state_ohe,X_cv_teacher_ohe,X_cv_grade_ohe,X_cv_cat_ohe,X_cv_subcat_ohe,\n",
        "               X_cv_price_norm,X_cv_prev_pjts_norm)).tocsr()\n",
        "\n",
        "X_te = hstack((X_test_essay_bow,X_test_title_bow,\n",
        "               X_test_state_ohe,X_test_teacher_ohe,X_test_grade_ohe,X_test_cat_ohe,X_test_subcat_ohe,\n",
        "               X_test_price_norm,X_test_prev_pjts_norm)).tocsr()\n",
        "\n",
        "print(\"Final Data matrix\")\n",
        "print(X_tr.shape, y_train.shape)\n",
        "print(X_cr.shape, y_cv.shape)\n",
        "print(X_te.shape, y_test.shape)\n",
        "print(\"=\"*100)"
      ],
      "execution_count": 26,
      "outputs": [
        {
          "output_type": "stream",
          "text": [
            "Final Data matrix\n",
            "(26934, 7079) (26934,)\n",
            "(13266, 7079) (13266,)\n",
            "(19800, 7079) (19800,)\n",
            "====================================================================================================\n"
          ],
          "name": "stdout"
        }
      ]
    },
    {
      "cell_type": "markdown",
      "metadata": {
        "id": "yYHPYadYb3dh",
        "colab_type": "text"
      },
      "source": [
        "<h2>1.5 Appling NB on different kind of featurization as mentioned in the instructions</h2>\n",
        "\n",
        "<br>Apply NB on different kind of featurization as mentioned in the instructions\n",
        "<br> For Every model that you work on make sure you do the step 2 and step 3 of instructions"
      ]
    },
    {
      "cell_type": "code",
      "metadata": {
        "id": "smI3hCRSNdHG",
        "colab_type": "code",
        "colab": {}
      },
      "source": [
        "#creating a batch_predict function which will extract the proba scores of the data batch wise \n",
        "\n",
        "def batch_predict(clf, data):\n",
        "  total = data.shape[0]\n",
        "  y_data_pred = []\n",
        "  tr_loop = total - total%1000\n",
        "\n",
        "  for i in range(0,tr_loop,1000):\n",
        "    y_data_pred.extend(clf.predict_proba(data[i:i+1000])[:,1])\n",
        "\n",
        "  if total%1000 != 0:\n",
        "    y_data_pred.extend(clf.predict_proba(data[tr_loop:])[:,1])\n",
        "    \n",
        "  return y_data_pred"
      ],
      "execution_count": 0,
      "outputs": []
    },
    {
      "cell_type": "markdown",
      "metadata": {
        "id": "mzizD2hp7lIW",
        "colab_type": "text"
      },
      "source": [
        " ##### **1.5.1.1.2 Method 2: Random search**"
      ]
    },
    {
      "cell_type": "code",
      "metadata": {
        "id": "vjeRJdfEPSey",
        "colab_type": "code",
        "colab": {}
      },
      "source": [
        "#Here Hyperparameter is alpha which will be like [0.001,0.01,0.1,1,10,100,1000] in Grid search CV\n",
        "#Alpha in Ramdomisedsearch CV should be provided using a distribution"
      ],
      "execution_count": 0,
      "outputs": []
    },
    {
      "cell_type": "code",
      "metadata": {
        "id": "rtJiBad6bXH6",
        "colab_type": "code",
        "outputId": "a6e96b53-b9e7-4d91-ee76-9c426b798d35",
        "colab": {
          "base_uri": "https://localhost:8080/",
          "height": 54
        }
      },
      "source": [
        "'''\n",
        "Refrences or Blogs for RandomizedSearchCV\n",
        "How to provide alpha values from a distribution for RandomSearch-CV:\n",
        "https://scikit-learn.org/stable/auto_examples/model_selection/plot_randomized_search.html\n",
        "https://towardsdatascience.com/hyperparameter-tuning-c5619e7e6624\n",
        "https://www.ritchieng.com/machine-learning-efficiently-search-tuning-param/\n",
        "https://machinelearningmastery.com/how-to-tune-algorithm-parameters-with-scikit-learn/\n",
        "'''"
      ],
      "execution_count": 29,
      "outputs": [
        {
          "output_type": "execute_result",
          "data": {
            "text/plain": [
              "'\\nRefrences or Blogs for RandomizedSearchCV\\nHow to provide alpha values from a distribution for RandomSearch-CV:\\nhttps://scikit-learn.org/stable/auto_examples/model_selection/plot_randomized_search.html\\nhttps://towardsdatascience.com/hyperparameter-tuning-c5619e7e6624\\nhttps://www.ritchieng.com/machine-learning-efficiently-search-tuning-param/\\nhttps://machinelearningmastery.com/how-to-tune-algorithm-parameters-with-scikit-learn/\\n'"
            ]
          },
          "metadata": {
            "tags": []
          },
          "execution_count": 29
        }
      ]
    },
    {
      "cell_type": "code",
      "metadata": {
        "id": "IBDiBL31aeAJ",
        "colab_type": "code",
        "outputId": "81f8dd95-0150-4d98-9722-f2ddd3cb5132",
        "colab": {
          "base_uri": "https://localhost:8080/",
          "height": 185
        }
      },
      "source": [
        "#If we want to check what are the sample alpha values or hyperparameters that \n",
        "# param_dist is providing as input in RandomSearch CV we can use make use of ParameterSampler\n",
        "# https://scikit-learn.org/stable/modules/generated/sklearn.model_selection.ParameterSampler.html\n",
        "\n",
        "from sklearn.model_selection import ParameterSampler\n",
        "from sklearn.utils.fixes import loguniform\n",
        "param_dist = {'alpha': loguniform(1e-4, 1e4)} #10power(-4)  to 10power(4)\n",
        "params = list(ParameterSampler({'alpha': loguniform(1e-4, 1e4)}, 10) )\n",
        "params"
      ],
      "execution_count": 30,
      "outputs": [
        {
          "output_type": "execute_result",
          "data": {
            "text/plain": [
              "[{'alpha': 0.06345615368135199},\n",
              " {'alpha': 0.03284255086280866},\n",
              " {'alpha': 0.0025722963676680236},\n",
              " {'alpha': 0.0017110620299073693},\n",
              " {'alpha': 0.050306556511317005},\n",
              " {'alpha': 422.21406486610977},\n",
              " {'alpha': 0.033844950818226756},\n",
              " {'alpha': 0.010104416228108155},\n",
              " {'alpha': 0.23977821427559506},\n",
              " {'alpha': 0.001914925160853294}]"
            ]
          },
          "metadata": {
            "tags": []
          },
          "execution_count": 30
        }
      ]
    },
    {
      "cell_type": "code",
      "metadata": {
        "id": "WwopLz-pVZTh",
        "colab_type": "code",
        "outputId": "cf460e51-0815-4623-afc2-33e7f5390a23",
        "colab": {
          "base_uri": "https://localhost:8080/",
          "height": 662
        }
      },
      "source": [
        "from sklearn.utils.fixes import loguniform\n",
        "from sklearn.model_selection import RandomizedSearchCV\n",
        "from sklearn.naive_bayes import MultinomialNB\n",
        "\n",
        "mnb = MultinomialNB()\n",
        "\n",
        "# specify parameters and distributions to sample from  #I did check the best_score_ using loguniform and uniform dist as loguniform is more effeicient I am using loguniform here\n",
        "param_dist = {'alpha': loguniform(1e-4, 1e4)}           #https://scikit-learn.org/stable/auto_examples/model_selection/plot_randomized_search.html\n",
        "\n",
        "clf = RandomizedSearchCV(estimator = mnb, param_distributions=param_dist, cv=3, scoring='roc_auc',return_train_score=True , n_iter=100)\n",
        "clf.fit(X_tr, y_train)\n",
        "\n",
        "results = pd.DataFrame.from_dict(clf.cv_results_)\n",
        "results = results.sort_values(['param_alpha'])\n",
        "results.head()\n",
        "\n",
        "train_auc= results['mean_train_score']\n",
        "train_auc_std= results['std_train_score']\n",
        "cv_auc = results['mean_test_score'] \n",
        "cv_auc_std= results['std_test_score']\n",
        "Alpha =  results['param_alpha']\n",
        "\n",
        "plt.plot(Alpha, train_auc, label='Train AUC')\n",
        "# this code is copied from here: https://stackoverflow.com/a/48803361/4084039\n",
        "# plt.gca().fill_between(K, train_auc - train_auc_std,train_auc + train_auc_std,alpha=0.2,color='darkblue')\n",
        "\n",
        "plt.plot(Alpha, cv_auc, label='CV AUC')\n",
        "# this code is copied from here: https://stackoverflow.com/a/48803361/4084039\n",
        "# plt.gca().fill_between(K, cv_auc - cv_auc_std,cv_auc + cv_auc_std,alpha=0.2,color='darkorange')\n",
        "\n",
        "plt.scatter(Alpha, train_auc, label='Train AUC points')\n",
        "plt.scatter(Alpha, cv_auc, label='CV AUC points')\n",
        "\n",
        "\n",
        "plt.legend()\n",
        "plt.xlabel(\"Alpha: hyperparameter\")\n",
        "plt.ylabel(\"AUC\")\n",
        "plt.title(\"Hyper parameter Vs AUC plot\")\n",
        "plt.grid()\n",
        "plt.show()\n",
        "\n",
        "print('\\n','='*100)\n",
        "best_alpha = clf.best_params_['alpha']\n",
        "print('Best hyperparameter (alpha): ',best_alpha)\n",
        "print('Best score: ',clf.best_score_)\n",
        "print('='*100)\n",
        "\n",
        "results.head()"
      ],
      "execution_count": 31,
      "outputs": [
        {
          "output_type": "display_data",
          "data": {
            "image/png": "[encoded data removed]",
            "text/plain": [
              "<Figure size 432x288 with 1 Axes>"
            ]
          },
          "metadata": {
            "tags": [],
            "needs_background": "light"
          }
        },
        {
          "output_type": "stream",
          "text": [
            "\n",
            " ====================================================================================================\n",
            "Best hyperparameter (alpha):  0.21037339402934904\n",
            "Best score:  0.6790828248713475\n",
            "====================================================================================================\n"
          ],
          "name": "stdout"
        },
        {
          "output_type": "execute_result",
          "data": {
            "text/html": [
              "<div>\n",
              "<style scoped>\n",
              "    .dataframe tbody tr th:only-of-type {\n",
              "        vertical-align: middle;\n",
              "    }\n",
              "\n",
              "    .dataframe tbody tr th {\n",
              "        vertical-align: top;\n",
              "    }\n",
              "\n",
              "    .dataframe thead th {\n",
              "        text-align: right;\n",
              "    }\n",
              "</style>\n",
              "<table border=\"1\" class=\"dataframe\">\n",
              "  <thead>\n",
              "    <tr style=\"text-align: right;\">\n",
              "      <th></th>\n",
              "      <th>mean_fit_time</th>\n",
              "      <th>std_fit_time</th>\n",
              "      <th>mean_score_time</th>\n",
              "      <th>std_score_time</th>\n",
              "      <th>param_alpha</th>\n",
              "      <th>params</th>\n",
              "      <th>split0_test_score</th>\n",
              "      <th>split1_test_score</th>\n",
              "      <th>split2_test_score</th>\n",
              "      <th>mean_test_score</th>\n",
              "      <th>std_test_score</th>\n",
              "      <th>rank_test_score</th>\n",
              "      <th>split0_train_score</th>\n",
              "      <th>split1_train_score</th>\n",
              "      <th>split2_train_score</th>\n",
              "      <th>mean_train_score</th>\n",
              "      <th>std_train_score</th>\n",
              "    </tr>\n",
              "  </thead>\n",
              "  <tbody>\n",
              "    <tr>\n",
              "      <th>6</th>\n",
              "      <td>0.036587</td>\n",
              "      <td>0.000913</td>\n",
              "      <td>0.011335</td>\n",
              "      <td>0.000107</td>\n",
              "      <td>0.000117888</td>\n",
              "      <td>{'alpha': 0.00011788804713256991}</td>\n",
              "      <td>0.673081</td>\n",
              "      <td>0.673870</td>\n",
              "      <td>0.662499</td>\n",
              "      <td>0.669817</td>\n",
              "      <td>0.005185</td>\n",
              "      <td>64</td>\n",
              "      <td>0.806322</td>\n",
              "      <td>0.799540</td>\n",
              "      <td>0.808503</td>\n",
              "      <td>0.804788</td>\n",
              "      <td>0.003816</td>\n",
              "    </tr>\n",
              "    <tr>\n",
              "      <th>92</th>\n",
              "      <td>0.035683</td>\n",
              "      <td>0.000025</td>\n",
              "      <td>0.011128</td>\n",
              "      <td>0.000023</td>\n",
              "      <td>0.000125788</td>\n",
              "      <td>{'alpha': 0.0001257876141340768}</td>\n",
              "      <td>0.673211</td>\n",
              "      <td>0.673951</td>\n",
              "      <td>0.662630</td>\n",
              "      <td>0.669931</td>\n",
              "      <td>0.005171</td>\n",
              "      <td>63</td>\n",
              "      <td>0.806249</td>\n",
              "      <td>0.799468</td>\n",
              "      <td>0.808421</td>\n",
              "      <td>0.804713</td>\n",
              "      <td>0.003813</td>\n",
              "    </tr>\n",
              "    <tr>\n",
              "      <th>37</th>\n",
              "      <td>0.036122</td>\n",
              "      <td>0.000106</td>\n",
              "      <td>0.011229</td>\n",
              "      <td>0.000101</td>\n",
              "      <td>0.000131125</td>\n",
              "      <td>{'alpha': 0.0001311251750964475}</td>\n",
              "      <td>0.673293</td>\n",
              "      <td>0.673992</td>\n",
              "      <td>0.662716</td>\n",
              "      <td>0.670000</td>\n",
              "      <td>0.005159</td>\n",
              "      <td>62</td>\n",
              "      <td>0.806201</td>\n",
              "      <td>0.799421</td>\n",
              "      <td>0.808366</td>\n",
              "      <td>0.804662</td>\n",
              "      <td>0.003810</td>\n",
              "    </tr>\n",
              "    <tr>\n",
              "      <th>9</th>\n",
              "      <td>0.036279</td>\n",
              "      <td>0.000210</td>\n",
              "      <td>0.011593</td>\n",
              "      <td>0.000348</td>\n",
              "      <td>0.000180556</td>\n",
              "      <td>{'alpha': 0.00018055603469416254}</td>\n",
              "      <td>0.673896</td>\n",
              "      <td>0.674333</td>\n",
              "      <td>0.663373</td>\n",
              "      <td>0.670534</td>\n",
              "      <td>0.005067</td>\n",
              "      <td>58</td>\n",
              "      <td>0.805812</td>\n",
              "      <td>0.799045</td>\n",
              "      <td>0.807946</td>\n",
              "      <td>0.804268</td>\n",
              "      <td>0.003794</td>\n",
              "    </tr>\n",
              "    <tr>\n",
              "      <th>7</th>\n",
              "      <td>0.035842</td>\n",
              "      <td>0.000211</td>\n",
              "      <td>0.011395</td>\n",
              "      <td>0.000069</td>\n",
              "      <td>0.000196778</td>\n",
              "      <td>{'alpha': 0.00019677778434223163}</td>\n",
              "      <td>0.674070</td>\n",
              "      <td>0.674414</td>\n",
              "      <td>0.663549</td>\n",
              "      <td>0.670678</td>\n",
              "      <td>0.005043</td>\n",
              "      <td>57</td>\n",
              "      <td>0.805708</td>\n",
              "      <td>0.798939</td>\n",
              "      <td>0.807831</td>\n",
              "      <td>0.804159</td>\n",
              "      <td>0.003792</td>\n",
              "    </tr>\n",
              "  </tbody>\n",
              "</table>\n",
              "</div>"
            ],
            "text/plain": [
              "    mean_fit_time  std_fit_time  ...  mean_train_score  std_train_score\n",
              "6        0.036587      0.000913  ...          0.804788         0.003816\n",
              "92       0.035683      0.000025  ...          0.804713         0.003813\n",
              "37       0.036122      0.000106  ...          0.804662         0.003810\n",
              "9        0.036279      0.000210  ...          0.804268         0.003794\n",
              "7        0.035842      0.000211  ...          0.804159         0.003792\n",
              "\n",
              "[5 rows x 17 columns]"
            ]
          },
          "metadata": {
            "tags": []
          },
          "execution_count": 31
        }
      ]
    },
    {
      "cell_type": "markdown",
      "metadata": {
        "id": "4EAA_LPNWtga",
        "colab_type": "text"
      },
      "source": [
        "#### 1.5.1.2 Testing the performance of the model on test data, plotting ROC Curves"
      ]
    },
    {
      "cell_type": "code",
      "metadata": {
        "id": "5PDJdlH5Loz4",
        "colab_type": "code",
        "colab": {}
      },
      "source": [
        "# from the error plot we choose K such that, we will have maximum AUC on cv data and gap between the train and cv is less\n",
        "# Note: based on the method you use you might get different hyperparameter values as best one\n",
        "# so, you choose according to the method you choose, you use gridsearch if you are having more computing power and note it will take more time\n",
        "# if you increase the cv values in the GridSearchCV you will get more rebust results.\n",
        "\n",
        "#here we are choosing the best_k based on forloop results\n",
        "#considering best_alpha"
      ],
      "execution_count": 0,
      "outputs": []
    },
    {
      "cell_type": "code",
      "metadata": {
        "id": "hBl58_AkLpZK",
        "colab_type": "code",
        "colab": {
          "base_uri": "https://localhost:8080/",
          "height": 362
        },
        "outputId": "86e5cd5c-a889-4451-9c0b-445a6b5f75f0"
      },
      "source": [
        "# https://scikit-learn.org/stable/modules/generated/sklearn.metrics.roc_curve.html#sklearn.metrics.roc_curve\n",
        "from sklearn.metrics import roc_curve, auc\n",
        "\n",
        "\n",
        "mnb = MultinomialNB(alpha = best_alpha)\n",
        "mnb.fit(X_tr, y_train)\n",
        "# roc_auc_score(y_true, y_score) the 2nd parameter should be probability estimates of the positive class\n",
        "# not the predicted outputs\n",
        "\n",
        "y_train_pred = batch_predict(mnb, X_tr)    \n",
        "y_test_pred = batch_predict(mnb, X_te)\n",
        "\n",
        "train_fpr, train_tpr, tr_thresholds = roc_curve(y_train, y_train_pred)\n",
        "test_fpr, test_tpr, te_thresholds = roc_curve(y_test, y_test_pred)\n",
        "\n",
        "plt.plot(train_fpr, train_tpr, label=\"train AUC =\"+str(auc(train_fpr, train_tpr)))\n",
        "plt.plot(test_fpr, test_tpr, label=\"test AUC =\"+str(auc(test_fpr, test_tpr)))\n",
        "plt.legend()\n",
        "plt.xlabel(\"FPR\")\n",
        "plt.ylabel(\"TPR\")\n",
        "plt.title(\"AUC PLOTS\")\n",
        "plt.grid()\n",
        "plt.show()\n",
        "\n",
        "print('\\n')\n",
        "print(\"train AUC = \"+str(auc(train_fpr, train_tpr)))\n",
        "print(\"test AUC = \"+str(auc(test_fpr, test_tpr)))"
      ],
      "execution_count": 33,
      "outputs": [
        {
          "output_type": "display_data",
          "data": {
            "image/png": "[encoded data removed]",
            "text/plain": [
              "<Figure size 432x288 with 1 Axes>"
            ]
          },
          "metadata": {
            "tags": [],
            "needs_background": "light"
          }
        },
        {
          "output_type": "stream",
          "text": [
            "\n",
            "\n",
            "train AUC = 0.7577000398743489\n",
            "test AUC = 0.685726610819333\n"
          ],
          "name": "stdout"
        }
      ]
    },
    {
      "cell_type": "code",
      "metadata": {
        "id": "f7CN-N9ELpXA",
        "colab_type": "code",
        "colab": {}
      },
      "source": [
        "# we are writing our own function for predict, with defined threshould\n",
        "# we will pick a threshold that will give the least fpr\n",
        "def find_best_threshold(threshould, fpr, tpr):\n",
        "    t = threshould[np.argmax(tpr*(1-fpr))]\n",
        "    # (tpr*(1-fpr)) will be maximum if your fpr is very low and tpr is very high\n",
        "    print(\"the maximum value of tpr*(1-fpr)\", max(tpr*(1-fpr)), \"for threshold\", np.round(t,3))\n",
        "    return t\n",
        "\n",
        "def predict_with_best_t(proba, threshould):\n",
        "    predictions = []\n",
        "    for i in proba:\n",
        "        if i>=threshould:\n",
        "            predictions.append(1)\n",
        "        else:\n",
        "            predictions.append(0)\n",
        "    return predictions"
      ],
      "execution_count": 0,
      "outputs": []
    },
    {
      "cell_type": "code",
      "metadata": {
        "id": "d9qvjJDlLpUC",
        "colab_type": "code",
        "colab": {
          "base_uri": "https://localhost:8080/",
          "height": 151
        },
        "outputId": "69e1f329-18e4-42c6-bbe1-e0c877aec15c"
      },
      "source": [
        "print(\"=\"*100)\n",
        "from sklearn.metrics import confusion_matrix\n",
        "best_t = find_best_threshold(tr_thresholds, train_fpr, train_tpr)\n",
        "print(\"Train confusion matrix\")\n",
        "print(confusion_matrix(y_train, predict_with_best_t(y_train_pred, best_t)))\n",
        "print(\"Test confusion matrix\")\n",
        "print(confusion_matrix(y_test, predict_with_best_t(y_test_pred, best_t)))"
      ],
      "execution_count": 35,
      "outputs": [
        {
          "output_type": "stream",
          "text": [
            "====================================================================================================\n",
            "the maximum value of tpr*(1-fpr) 0.48523995904981215 for threshold 0.864\n",
            "Train confusion matrix\n",
            "[[ 2914  1190]\n",
            " [ 7228 15602]]\n",
            "Test confusion matrix\n",
            "[[ 1896  1122]\n",
            " [ 5635 11147]]\n"
          ],
          "name": "stdout"
        }
      ]
    },
    {
      "cell_type": "markdown",
      "metadata": {
        "id": "NoG5jj4yohsk",
        "colab_type": "text"
      },
      "source": [
        "#### 1.5.1.3  Top 20 features "
      ]
    },
    {
      "cell_type": "code",
      "metadata": {
        "id": "CSEIL5ZHLoww",
        "colab_type": "code",
        "colab": {
          "base_uri": "https://localhost:8080/",
          "height": 34
        },
        "outputId": "756c77d2-c5dd-4130-f0d0-10c2a4965932"
      },
      "source": [
        "# https://datascience.stackexchange.com/questions/65219/find-the-top-n-features-from-feature-set-using-absolute-values-of-feature-log-p\n",
        "# https://stats.stackexchange.com/questions/266031/what-is-log-probability-of-feature-in-sklearn-multinomialnb\n",
        "\n",
        "#bulding the feature_names list \n",
        "features_list = list(essay_bow_features+title_bow_features\n",
        "                     +state_ohe_features+teacher_ohe_features+grade_ohe_features+cat_ohe_features+subcat_ohe_features\n",
        "                     +['price']+['teacher_number_of_previously_posted_projects'])\n",
        "\n",
        "print('Total_features: ',len(features_list))  #this shud match with len(X_tr)"
      ],
      "execution_count": 36,
      "outputs": [
        {
          "output_type": "stream",
          "text": [
            "Total_features:  7079\n"
          ],
          "name": "stdout"
        }
      ]
    },
    {
      "cell_type": "code",
      "metadata": {
        "id": "0zsw7nnUf4v4",
        "colab_type": "code",
        "colab": {
          "base_uri": "https://localhost:8080/",
          "height": 84
        },
        "outputId": "9e3d0088-b190-44b6-84f0-c360b9b29fb6"
      },
      "source": [
        "#Demo on how argsort works\n",
        "#find top 3 elements indices of an array\n",
        "\n",
        "l = np.array([0,50,20,10,80])\n",
        "print(l)\n",
        "print(l.argsort())\n",
        "top3_ele_indices = l.argsort()[-3:][::-1]\n",
        "print(top3_ele_indices)\n",
        "\n",
        "#selecting top ele of that array --> ans shud be [80,50,20]\n",
        "print([l[i] for i in top3_ele_indices])"
      ],
      "execution_count": 37,
      "outputs": [
        {
          "output_type": "stream",
          "text": [
            "[ 0 50 20 10 80]\n",
            "[0 3 2 1 4]\n",
            "[4 1 2]\n",
            "[80, 50, 20]\n"
          ],
          "name": "stdout"
        }
      ]
    },
    {
      "cell_type": "code",
      "metadata": {
        "id": "ILihIqZ7dRPE",
        "colab_type": "code",
        "colab": {}
      },
      "source": [
        "# Here .argsort() will give indexes of features sorted with their log-probabilities\n",
        "\n",
        "# For negative class\n",
        "top_20_indices_0 = mnb.feature_log_prob_[0, :].argsort()[-20:][::-1]\n",
        "\n",
        "# For positive class\n",
        "top_20_indices_1 = mnb.feature_log_prob_[1, :].argsort()[-20:][::-1]"
      ],
      "execution_count": 0,
      "outputs": []
    },
    {
      "cell_type": "code",
      "metadata": {
        "id": "tB3VmhQ5tHaN",
        "colab_type": "code",
        "colab": {}
      },
      "source": [
        "#extracting top 20 features for both classes with the feature imp in the increasing order\n",
        "# top_3_features = [f1,f2,f3] means order of importance f1>f2>f3. f1 is most imp\n",
        "\n",
        "top_20_features_0 = []\n",
        "top_20_features_1 = []\n",
        "\n",
        "for i in top_20_indices_0:\n",
        "  top_20_features_0.append(features_list[i])\n",
        "\n",
        "for i in top_20_indices_1:\n",
        "  top_20_features_1.append(features_list[i])"
      ],
      "execution_count": 0,
      "outputs": []
    },
    {
      "cell_type": "code",
      "metadata": {
        "id": "AkZfPYCitHYI",
        "colab_type": "code",
        "colab": {
          "base_uri": "https://localhost:8080/",
          "height": 87
        },
        "outputId": "3f3ab9cb-616a-4cda-d635-a97cc4934723"
      },
      "source": [
        "print(top_20_features_0)\n",
        "print('-'*100)\n",
        "print(top_20_features_1)"
      ],
      "execution_count": 40,
      "outputs": [
        {
          "output_type": "stream",
          "text": [
            "['students', 'school', 'learning', 'classroom', 'learn', 'not', 'help', 'price', 'nannan', 'many', 'need', 'work', 'come', 'teacher_number_of_previously_posted_projects', 'skills', 'love', 'materials', 'reading', 'able', 'day']\n",
            "----------------------------------------------------------------------------------------------------\n",
            "['students', 'school', 'learning', 'classroom', 'not', 'learn', 'help', 'price', 'many', 'nannan', 'reading', 'need', 'work', 'use', 'teacher_number_of_previously_posted_projects', 'love', 'day', 'able', 'come', 'class']\n"
          ],
          "name": "stdout"
        }
      ]
    },
    {
      "cell_type": "markdown",
      "metadata": {
        "colab_type": "text",
        "id": "F2hEVBywL4dk"
      },
      "source": [
        "### Concatinating all the features (TF-IDF for Essay)"
      ]
    },
    {
      "cell_type": "markdown",
      "metadata": {
        "id": "k0MpaHI7NFRC",
        "colab_type": "text"
      },
      "source": [
        "1.3.2 Encoding Essay using TFIDF"
      ]
    },
    {
      "cell_type": "code",
      "metadata": {
        "id": "4U0X0CLTMVM1",
        "colab_type": "code",
        "colab": {}
      },
      "source": [
        "#encoding essay using TFIDF vectorizer\n",
        "from sklearn.feature_extraction.text  import TfidfVectorizer"
      ],
      "execution_count": 0,
      "outputs": []
    },
    {
      "cell_type": "code",
      "metadata": {
        "id": "Egst2sZnmpiz",
        "colab_type": "code",
        "colab": {
          "base_uri": "https://localhost:8080/",
          "height": 168
        },
        "outputId": "b66fceea-2fd9-4eed-eb61-8dfb561c8848"
      },
      "source": [
        "print(X_train.shape, y_train.shape)\n",
        "print(X_cv.shape, y_cv.shape)\n",
        "print(X_test.shape, y_test.shape)\n",
        "\n",
        "print(\"=\"*100)\n",
        "\n",
        "vectorizer = TfidfVectorizer(min_df=10,ngram_range=(1,4), max_features=5000)\n",
        "vectorizer.fit(X_train['essay'].values) # fit has to happen only on train data\n",
        "\n",
        "# we use the fitted CountVectorizer to convert the text to vector\n",
        "X_train_essay_tfidf = vectorizer.transform(X_train['essay'].values)\n",
        "X_cv_essay_tfidf = vectorizer.transform(X_cv['essay'].values)\n",
        "X_test_essay_tfidf = vectorizer.transform(X_test['essay'].values)\n",
        "\n",
        "print(\"After vectorizations\")\n",
        "print(X_train_essay_tfidf.shape, y_train.shape)\n",
        "print(X_cv_essay_tfidf.shape, y_cv.shape)\n",
        "print(X_test_essay_tfidf.shape, y_test.shape)\n",
        "print(\"=\"*100)"
      ],
      "execution_count": 42,
      "outputs": [
        {
          "output_type": "stream",
          "text": [
            "(26934, 10) (26934,)\n",
            "(13266, 10) (13266,)\n",
            "(19800, 10) (19800,)\n",
            "====================================================================================================\n",
            "After vectorizations\n",
            "(26934, 5000) (26934,)\n",
            "(13266, 5000) (13266,)\n",
            "(19800, 5000) (19800,)\n",
            "====================================================================================================\n"
          ],
          "name": "stdout"
        }
      ]
    },
    {
      "cell_type": "code",
      "metadata": {
        "id": "-CTGoAP-MbJh",
        "colab_type": "code",
        "colab": {
          "base_uri": "https://localhost:8080/",
          "height": 34
        },
        "outputId": "1f997f2a-8d26-43a7-d59e-7b8111451407"
      },
      "source": [
        "#getting the features_list to calculate top 20 features using feature_log_probabilities\n",
        "essay_tfidf_features = vectorizer.get_feature_names()\n",
        "print(len(essay_bow_features))"
      ],
      "execution_count": 43,
      "outputs": [
        {
          "output_type": "stream",
          "text": [
            "5000\n"
          ],
          "name": "stdout"
        }
      ]
    },
    {
      "cell_type": "markdown",
      "metadata": {
        "colab_type": "text",
        "id": "wGJI-YSbM2G3"
      },
      "source": [
        "1.3.2 Encoding project title using TF-IDF"
      ]
    },
    {
      "cell_type": "code",
      "metadata": {
        "colab_type": "code",
        "outputId": "e60e2f7c-67c7-472a-ed91-76ae68f0397e",
        "id": "s5CPuFX_M2G_",
        "colab": {
          "base_uri": "https://localhost:8080/",
          "height": 50
        }
      },
      "source": [
        "# check if we have any nan values are there\n",
        "print(data['project_title'].isnull().values.any())\n",
        "print(\"number of nan values\",data['project_title'].isnull().values.sum())"
      ],
      "execution_count": 44,
      "outputs": [
        {
          "output_type": "stream",
          "text": [
            "True\n",
            "number of nan values 30\n"
          ],
          "name": "stdout"
        }
      ]
    },
    {
      "cell_type": "code",
      "metadata": {
        "colab_type": "code",
        "outputId": "db05ba30-d8f9-4b86-ebb4-6eee5c2901b0",
        "id": "J3PZamI0M2HR",
        "colab": {
          "base_uri": "https://localhost:8080/",
          "height": 168
        }
      },
      "source": [
        "#encoding project_tilte using TFIDF\n",
        "\n",
        "print(X_train.shape, y_train.shape)\n",
        "print(X_cv.shape, y_cv.shape)\n",
        "print(X_test.shape, y_test.shape)\n",
        "\n",
        "print(\"=\"*100)\n",
        "\n",
        "\n",
        "#As we have 2 null titles in project_title columns after preprocessing using astype('U') as susggested by the error traceback\n",
        "#check the link  https://stackoverflow.com/questions/39303912/tfidfvectorizer-in-scikit-learn-valueerror-np-nan-is-an-invalid-document\n",
        "\n",
        "vectorizer = TfidfVectorizer(min_df=10,ngram_range=(1,4), max_features=5000)\n",
        "vectorizer.fit(X_train['project_title'].values.astype('U')) # fit has to happen only on train data\n",
        "\n",
        "# we use the fitted CountVectorizer to convert the text to vector\n",
        "X_train_title_tfidf = vectorizer.transform(X_train['project_title'].values.astype('U'))\n",
        "X_cv_title_tfidf = vectorizer.transform(X_cv['project_title'].values.astype('U'))\n",
        "X_test_title_tfidf = vectorizer.transform(X_test['project_title'].values.astype('U'))\n",
        "\n",
        "print(\"After vectorizations\")\n",
        "print(X_train_title_tfidf.shape, y_train.shape)\n",
        "print(X_cv_title_tfidf.shape, y_cv.shape)\n",
        "print(X_test_title_tfidf.shape, y_test.shape)\n",
        "print(\"=\"*100)"
      ],
      "execution_count": 45,
      "outputs": [
        {
          "output_type": "stream",
          "text": [
            "(26934, 10) (26934,)\n",
            "(13266, 10) (13266,)\n",
            "(19800, 10) (19800,)\n",
            "====================================================================================================\n",
            "After vectorizations\n",
            "(26934, 1978) (26934,)\n",
            "(13266, 1978) (13266,)\n",
            "(19800, 1978) (19800,)\n",
            "====================================================================================================\n"
          ],
          "name": "stdout"
        }
      ]
    },
    {
      "cell_type": "code",
      "metadata": {
        "colab_type": "code",
        "outputId": "58f0fadd-361c-4e1a-84a4-ca7cb94ead19",
        "id": "2cqHOjBoM2He",
        "colab": {
          "base_uri": "https://localhost:8080/",
          "height": 34
        }
      },
      "source": [
        "#getting the features_list to calculate top 20 features using feature_log_probabilities\n",
        "title_tfidf_features = vectorizer.get_feature_names()\n",
        "print(len(title_bow_features))"
      ],
      "execution_count": 46,
      "outputs": [
        {
          "output_type": "stream",
          "text": [
            "1978\n"
          ],
          "name": "stdout"
        }
      ]
    },
    {
      "cell_type": "markdown",
      "metadata": {
        "id": "HH4UAwliM4qg",
        "colab_type": "text"
      },
      "source": [
        "### Concatinating "
      ]
    },
    {
      "cell_type": "code",
      "metadata": {
        "colab_type": "code",
        "outputId": "03a211b5-10cb-4984-ac72-29673dc4b4e8",
        "id": "TMD74_3rL4dp",
        "colab": {
          "base_uri": "https://localhost:8080/",
          "height": 101
        }
      },
      "source": [
        "# merge two sparse matrices: https://stackoverflow.com/a/19710648/4084039\n",
        "# concat(text_features,categorical_features, numerical_features)\n",
        "from scipy.sparse import hstack\n",
        "\n",
        "X_tr = hstack((X_train_essay_tfidf,X_train_title_tfidf,\n",
        "               X_train_state_ohe,X_train_teacher_ohe,X_train_grade_ohe,X_train_cat_ohe,X_train_subcat_ohe,\n",
        "               X_train_price_norm,X_train_prev_pjts_norm)).tocsr()\n",
        "\n",
        "X_cr = hstack((X_cv_essay_tfidf,X_cv_title_tfidf,\n",
        "               X_cv_state_ohe,X_cv_teacher_ohe,X_cv_grade_ohe,X_cv_cat_ohe,X_cv_subcat_ohe,\n",
        "               X_cv_price_norm,X_cv_prev_pjts_norm)).tocsr()\n",
        "\n",
        "X_te = hstack((X_test_essay_tfidf,X_test_title_tfidf,\n",
        "               X_test_state_ohe,X_test_teacher_ohe,X_test_grade_ohe,X_test_cat_ohe,X_test_subcat_ohe,\n",
        "               X_test_price_norm,X_test_prev_pjts_norm)).tocsr()\n",
        "\n",
        "print(\"Final Data matrix\")\n",
        "print(X_tr.shape, y_train.shape)\n",
        "print(X_cr.shape, y_cv.shape)\n",
        "print(X_te.shape, y_test.shape)\n",
        "print(\"=\"*100)"
      ],
      "execution_count": 47,
      "outputs": [
        {
          "output_type": "stream",
          "text": [
            "Final Data matrix\n",
            "(26934, 7079) (26934,)\n",
            "(13266, 7079) (13266,)\n",
            "(19800, 7079) (19800,)\n",
            "====================================================================================================\n"
          ],
          "name": "stdout"
        }
      ]
    },
    {
      "cell_type": "markdown",
      "metadata": {
        "colab_type": "text",
        "id": "6isI_x4hL4d8"
      },
      "source": [
        "<h2>1.5 Appling NB on different kind of featurization as mentioned in the instructions</h2>\n",
        "\n",
        "<br>Apply NB on different kind of featurization as mentioned in the instructions\n",
        "<br> For Every model that you work on make sure you do the step 2 and step 3 of instructions"
      ]
    },
    {
      "cell_type": "code",
      "metadata": {
        "colab_type": "code",
        "id": "dzwc4yrEL4d-",
        "colab": {}
      },
      "source": [
        "#creating a batch_predict function which will extract the proba scores of the data batch wise \n",
        "\n",
        "def batch_predict(clf, data):\n",
        "  total = data.shape[0]\n",
        "  y_data_pred = []\n",
        "  tr_loop = total - total%1000\n",
        "\n",
        "  for i in range(0,tr_loop,1000):\n",
        "    y_data_pred.extend(clf.predict_proba(data[i:i+1000])[:,1])\n",
        "\n",
        "  if total%1000 != 0:\n",
        "    y_data_pred.extend(clf.predict_proba(data[tr_loop:])[:,1])\n",
        "    \n",
        "  return y_data_pred"
      ],
      "execution_count": 0,
      "outputs": []
    },
    {
      "cell_type": "markdown",
      "metadata": {
        "colab_type": "text",
        "id": "1kIImx6yL4eF"
      },
      "source": [
        " ##### **1.5.1.1.2 Method 2: Random search**"
      ]
    },
    {
      "cell_type": "code",
      "metadata": {
        "colab_type": "code",
        "id": "IiOc7nsqL4eG",
        "colab": {}
      },
      "source": [
        "#Here Hyperparameter is alpha which will be like [0.001,0.01,0.1,1,10,100,1000] in Grid search CV\n",
        "#Alpha in Ramdomisedsearch CV should be provided using a distribution"
      ],
      "execution_count": 0,
      "outputs": []
    },
    {
      "cell_type": "code",
      "metadata": {
        "colab_type": "code",
        "outputId": "60f8635f-8684-4d86-bd40-021476e7c47d",
        "id": "xWdDaDxyL4eP",
        "colab": {
          "base_uri": "https://localhost:8080/",
          "height": 54
        }
      },
      "source": [
        "'''\n",
        "Refrences or Blogs for RandomizedSearchCV\n",
        "How to provide alpha values from a distribution for RandomSearch-CV:\n",
        "https://scikit-learn.org/stable/auto_examples/model_selection/plot_randomized_search.html\n",
        "https://towardsdatascience.com/hyperparameter-tuning-c5619e7e6624\n",
        "https://www.ritchieng.com/machine-learning-efficiently-search-tuning-param/\n",
        "https://machinelearningmastery.com/how-to-tune-algorithm-parameters-with-scikit-learn/\n",
        "'''"
      ],
      "execution_count": 50,
      "outputs": [
        {
          "output_type": "execute_result",
          "data": {
            "text/plain": [
              "'\\nRefrences or Blogs for RandomizedSearchCV\\nHow to provide alpha values from a distribution for RandomSearch-CV:\\nhttps://scikit-learn.org/stable/auto_examples/model_selection/plot_randomized_search.html\\nhttps://towardsdatascience.com/hyperparameter-tuning-c5619e7e6624\\nhttps://www.ritchieng.com/machine-learning-efficiently-search-tuning-param/\\nhttps://machinelearningmastery.com/how-to-tune-algorithm-parameters-with-scikit-learn/\\n'"
            ]
          },
          "metadata": {
            "tags": []
          },
          "execution_count": 50
        }
      ]
    },
    {
      "cell_type": "code",
      "metadata": {
        "colab_type": "code",
        "outputId": "9c26675c-1d01-4399-9132-8822b3229291",
        "id": "K7m5_3-UL4eV",
        "colab": {
          "base_uri": "https://localhost:8080/",
          "height": 185
        }
      },
      "source": [
        "#If we want to check what are the sample alpha values or hyperparameters that \n",
        "# param_dist is providing as input in RandomSearch CV we can use make use of ParameterSampler\n",
        "# https://scikit-learn.org/stable/modules/generated/sklearn.model_selection.ParameterSampler.html\n",
        "\n",
        "from sklearn.model_selection import ParameterSampler\n",
        "from sklearn.utils.fixes import loguniform\n",
        "param_dist = {'alpha': loguniform(1e-4, 1e4)} #10power(-4)  to 10power(4)\n",
        "params = list(ParameterSampler({'alpha': loguniform(1e-4, 1e4)}, 10) )\n",
        "params"
      ],
      "execution_count": 51,
      "outputs": [
        {
          "output_type": "execute_result",
          "data": {
            "text/plain": [
              "[{'alpha': 4.316905104454054},\n",
              " {'alpha': 11.603035953381415},\n",
              " {'alpha': 0.003035979623525679},\n",
              " {'alpha': 8.286966447782625},\n",
              " {'alpha': 0.5410327671030936},\n",
              " {'alpha': 943.2839048947219},\n",
              " {'alpha': 0.007421794845650225},\n",
              " {'alpha': 0.002768255645460582},\n",
              " {'alpha': 0.4649929133650643},\n",
              " {'alpha': 0.0002354853210597728}]"
            ]
          },
          "metadata": {
            "tags": []
          },
          "execution_count": 51
        }
      ]
    },
    {
      "cell_type": "code",
      "metadata": {
        "colab_type": "code",
        "outputId": "1cfd343c-2f6d-42f7-cbfb-ed5033976172",
        "id": "zSe4fUcpL4eb",
        "colab": {
          "base_uri": "https://localhost:8080/",
          "height": 662
        }
      },
      "source": [
        "from sklearn.utils.fixes import loguniform\n",
        "from sklearn.model_selection import RandomizedSearchCV\n",
        "from sklearn.naive_bayes import MultinomialNB\n",
        "\n",
        "mnb = MultinomialNB()\n",
        "\n",
        "# specify parameters and distributions to sample from  #I did check the best_score_ using loguniform and uniform dist as loguniform is more effeicient I am using loguniform here\n",
        "param_dist = {'alpha': loguniform(1e-4, 1e4)}           #https://scikit-learn.org/stable/auto_examples/model_selection/plot_randomized_search.html\n",
        "\n",
        "clf = RandomizedSearchCV(estimator = mnb, param_distributions=param_dist, cv=3, scoring='roc_auc',return_train_score=True , n_iter=100)\n",
        "clf.fit(X_tr, y_train)\n",
        "\n",
        "results = pd.DataFrame.from_dict(clf.cv_results_)\n",
        "results = results.sort_values(['param_alpha'])\n",
        "results.head()\n",
        "\n",
        "train_auc= results['mean_train_score']\n",
        "train_auc_std= results['std_train_score']\n",
        "cv_auc = results['mean_test_score'] \n",
        "cv_auc_std= results['std_test_score']\n",
        "Alpha =  results['param_alpha']\n",
        "\n",
        "plt.plot(Alpha, train_auc, label='Train AUC')\n",
        "# this code is copied from here: https://stackoverflow.com/a/48803361/4084039\n",
        "# plt.gca().fill_between(K, train_auc - train_auc_std,train_auc + train_auc_std,alpha=0.2,color='darkblue')\n",
        "\n",
        "plt.plot(Alpha, cv_auc, label='CV AUC')\n",
        "# this code is copied from here: https://stackoverflow.com/a/48803361/4084039\n",
        "# plt.gca().fill_between(K, cv_auc - cv_auc_std,cv_auc + cv_auc_std,alpha=0.2,color='darkorange')\n",
        "\n",
        "plt.scatter(Alpha, train_auc, label='Train AUC points')\n",
        "plt.scatter(Alpha, cv_auc, label='CV AUC points')\n",
        "\n",
        "\n",
        "plt.legend()\n",
        "plt.xlabel(\"Alpha: hyperparameter\")\n",
        "plt.ylabel(\"AUC\")\n",
        "plt.title(\"Hyper parameter Vs AUC plot\")\n",
        "plt.grid()\n",
        "plt.show()\n",
        "\n",
        "print('\\n','='*100)\n",
        "best_alpha = clf.best_params_['alpha']\n",
        "print('Best hyperparameter (alpha): ',best_alpha)\n",
        "print('Best score: ',clf.best_score_)\n",
        "print('='*100)\n",
        "\n",
        "results.head()"
      ],
      "execution_count": 52,
      "outputs": [
        {
          "output_type": "display_data",
          "data": {
            "image/png": "[encoded data removed]",
            "text/plain": [
              "<Figure size 432x288 with 1 Axes>"
            ]
          },
          "metadata": {
            "tags": [],
            "needs_background": "light"
          }
        },
        {
          "output_type": "stream",
          "text": [
            "\n",
            " ====================================================================================================\n",
            "Best hyperparameter (alpha):  0.35825347910663236\n",
            "Best score:  0.6454869195912837\n",
            "====================================================================================================\n"
          ],
          "name": "stdout"
        },
        {
          "output_type": "execute_result",
          "data": {
            "text/html": [
              "<div>\n",
              "<style scoped>\n",
              "    .dataframe tbody tr th:only-of-type {\n",
              "        vertical-align: middle;\n",
              "    }\n",
              "\n",
              "    .dataframe tbody tr th {\n",
              "        vertical-align: top;\n",
              "    }\n",
              "\n",
              "    .dataframe thead th {\n",
              "        text-align: right;\n",
              "    }\n",
              "</style>\n",
              "<table border=\"1\" class=\"dataframe\">\n",
              "  <thead>\n",
              "    <tr style=\"text-align: right;\">\n",
              "      <th></th>\n",
              "      <th>mean_fit_time</th>\n",
              "      <th>std_fit_time</th>\n",
              "      <th>mean_score_time</th>\n",
              "      <th>std_score_time</th>\n",
              "      <th>param_alpha</th>\n",
              "      <th>params</th>\n",
              "      <th>split0_test_score</th>\n",
              "      <th>split1_test_score</th>\n",
              "      <th>split2_test_score</th>\n",
              "      <th>mean_test_score</th>\n",
              "      <th>std_test_score</th>\n",
              "      <th>rank_test_score</th>\n",
              "      <th>split0_train_score</th>\n",
              "      <th>split1_train_score</th>\n",
              "      <th>split2_train_score</th>\n",
              "      <th>mean_train_score</th>\n",
              "      <th>std_train_score</th>\n",
              "    </tr>\n",
              "  </thead>\n",
              "  <tbody>\n",
              "    <tr>\n",
              "      <th>79</th>\n",
              "      <td>0.030111</td>\n",
              "      <td>0.000211</td>\n",
              "      <td>0.010642</td>\n",
              "      <td>0.000053</td>\n",
              "      <td>0.000141811</td>\n",
              "      <td>{'alpha': 0.00014181149708404497}</td>\n",
              "      <td>0.627602</td>\n",
              "      <td>0.640893</td>\n",
              "      <td>0.617960</td>\n",
              "      <td>0.628819</td>\n",
              "      <td>0.009402</td>\n",
              "      <td>52</td>\n",
              "      <td>0.819076</td>\n",
              "      <td>0.810817</td>\n",
              "      <td>0.814856</td>\n",
              "      <td>0.814917</td>\n",
              "      <td>0.003372</td>\n",
              "    </tr>\n",
              "    <tr>\n",
              "      <th>88</th>\n",
              "      <td>0.030248</td>\n",
              "      <td>0.000348</td>\n",
              "      <td>0.010691</td>\n",
              "      <td>0.000224</td>\n",
              "      <td>0.000160037</td>\n",
              "      <td>{'alpha': 0.000160037453080247}</td>\n",
              "      <td>0.627665</td>\n",
              "      <td>0.640933</td>\n",
              "      <td>0.618000</td>\n",
              "      <td>0.628866</td>\n",
              "      <td>0.009401</td>\n",
              "      <td>51</td>\n",
              "      <td>0.819074</td>\n",
              "      <td>0.810815</td>\n",
              "      <td>0.814853</td>\n",
              "      <td>0.814914</td>\n",
              "      <td>0.003372</td>\n",
              "    </tr>\n",
              "    <tr>\n",
              "      <th>19</th>\n",
              "      <td>0.031137</td>\n",
              "      <td>0.000295</td>\n",
              "      <td>0.010853</td>\n",
              "      <td>0.000131</td>\n",
              "      <td>0.00023994</td>\n",
              "      <td>{'alpha': 0.00023993956428498622}</td>\n",
              "      <td>0.627907</td>\n",
              "      <td>0.641056</td>\n",
              "      <td>0.618142</td>\n",
              "      <td>0.629035</td>\n",
              "      <td>0.009389</td>\n",
              "      <td>50</td>\n",
              "      <td>0.819061</td>\n",
              "      <td>0.810805</td>\n",
              "      <td>0.814838</td>\n",
              "      <td>0.814902</td>\n",
              "      <td>0.003371</td>\n",
              "    </tr>\n",
              "    <tr>\n",
              "      <th>81</th>\n",
              "      <td>0.029995</td>\n",
              "      <td>0.000389</td>\n",
              "      <td>0.010675</td>\n",
              "      <td>0.000055</td>\n",
              "      <td>0.000249393</td>\n",
              "      <td>{'alpha': 0.00024939318333821304}</td>\n",
              "      <td>0.627931</td>\n",
              "      <td>0.641069</td>\n",
              "      <td>0.618161</td>\n",
              "      <td>0.629054</td>\n",
              "      <td>0.009386</td>\n",
              "      <td>49</td>\n",
              "      <td>0.819060</td>\n",
              "      <td>0.810804</td>\n",
              "      <td>0.814836</td>\n",
              "      <td>0.814900</td>\n",
              "      <td>0.003371</td>\n",
              "    </tr>\n",
              "    <tr>\n",
              "      <th>80</th>\n",
              "      <td>0.030367</td>\n",
              "      <td>0.000195</td>\n",
              "      <td>0.010644</td>\n",
              "      <td>0.000214</td>\n",
              "      <td>0.000387544</td>\n",
              "      <td>{'alpha': 0.0003875438812465845}</td>\n",
              "      <td>0.628229</td>\n",
              "      <td>0.641230</td>\n",
              "      <td>0.618358</td>\n",
              "      <td>0.629272</td>\n",
              "      <td>0.009367</td>\n",
              "      <td>48</td>\n",
              "      <td>0.819041</td>\n",
              "      <td>0.810789</td>\n",
              "      <td>0.814813</td>\n",
              "      <td>0.814881</td>\n",
              "      <td>0.003369</td>\n",
              "    </tr>\n",
              "  </tbody>\n",
              "</table>\n",
              "</div>"
            ],
            "text/plain": [
              "    mean_fit_time  std_fit_time  ...  mean_train_score  std_train_score\n",
              "79       0.030111      0.000211  ...          0.814917         0.003372\n",
              "88       0.030248      0.000348  ...          0.814914         0.003372\n",
              "19       0.031137      0.000295  ...          0.814902         0.003371\n",
              "81       0.029995      0.000389  ...          0.814900         0.003371\n",
              "80       0.030367      0.000195  ...          0.814881         0.003369\n",
              "\n",
              "[5 rows x 17 columns]"
            ]
          },
          "metadata": {
            "tags": []
          },
          "execution_count": 52
        }
      ]
    },
    {
      "cell_type": "markdown",
      "metadata": {
        "colab_type": "text",
        "id": "wrXYiijdL4eh"
      },
      "source": [
        "#### 1.5.1.2 Testing the performance of the model on test data, plotting ROC Curves"
      ]
    },
    {
      "cell_type": "code",
      "metadata": {
        "colab_type": "code",
        "id": "Iq4FncJsL4ei",
        "colab": {}
      },
      "source": [
        "# from the error plot we choose K such that, we will have maximum AUC on cv data and gap between the train and cv is less\n",
        "# Note: based on the method you use you might get different hyperparameter values as best one\n",
        "# so, you choose according to the method you choose, you use gridsearch if you are having more computing power and note it will take more time\n",
        "# if you increase the cv values in the GridSearchCV you will get more rebust results.\n",
        "\n",
        "#here we are choosing the best_k based on forloop results\n",
        "# considering best_alpha"
      ],
      "execution_count": 0,
      "outputs": []
    },
    {
      "cell_type": "code",
      "metadata": {
        "colab_type": "code",
        "outputId": "a5c39df0-01ba-4865-e8ed-b841a85ebb6b",
        "id": "qfzeqJYOL4en",
        "colab": {
          "base_uri": "https://localhost:8080/",
          "height": 362
        }
      },
      "source": [
        "# https://scikit-learn.org/stable/modules/generated/sklearn.metrics.roc_curve.html#sklearn.metrics.roc_curve\n",
        "from sklearn.metrics import roc_curve, auc\n",
        "\n",
        "\n",
        "mnb = MultinomialNB(alpha = best_alpha)\n",
        "mnb.fit(X_tr, y_train)\n",
        "# roc_auc_score(y_true, y_score) the 2nd parameter should be probability estimates of the positive class\n",
        "# not the predicted outputs\n",
        "\n",
        "y_train_pred = batch_predict(mnb, X_tr)    \n",
        "y_test_pred = batch_predict(mnb, X_te)\n",
        "\n",
        "train_fpr, train_tpr, tr_thresholds = roc_curve(y_train, y_train_pred)\n",
        "test_fpr, test_tpr, te_thresholds = roc_curve(y_test, y_test_pred)\n",
        "\n",
        "plt.plot(train_fpr, train_tpr, label=\"train AUC =\"+str(auc(train_fpr, train_tpr)))\n",
        "plt.plot(test_fpr, test_tpr, label=\"test AUC =\"+str(auc(test_fpr, test_tpr)))\n",
        "plt.legend()\n",
        "plt.xlabel(\"FPR\")\n",
        "plt.ylabel(\"TPR\")\n",
        "plt.title(\"AUC PLOTS\")\n",
        "plt.grid()\n",
        "plt.show()\n",
        "\n",
        "print('\\n')\n",
        "print(\"train AUC = \"+str(auc(train_fpr, train_tpr)))\n",
        "print(\"test AUC = \"+str(auc(test_fpr, test_tpr)))"
      ],
      "execution_count": 54,
      "outputs": [
        {
          "output_type": "display_data",
          "data": {
            "image/png": "[encoded data removed]",
            "text/plain": [
              "<Figure size 432x288 with 1 Axes>"
            ]
          },
          "metadata": {
            "tags": [],
            "needs_background": "light"
          }
        },
        {
          "output_type": "stream",
          "text": [
            "\n",
            "\n",
            "train AUC = 0.7647917184307437\n",
            "test AUC = 0.6587065222378834\n"
          ],
          "name": "stdout"
        }
      ]
    },
    {
      "cell_type": "code",
      "metadata": {
        "colab_type": "code",
        "id": "mg-pmytUL4et",
        "colab": {}
      },
      "source": [
        "# we are writing our own function for predict, with defined threshould\n",
        "# we will pick a threshold that will give the least fpr\n",
        "def find_best_threshold(threshould, fpr, tpr):\n",
        "    t = threshould[np.argmax(tpr*(1-fpr))]\n",
        "    # (tpr*(1-fpr)) will be maximum if your fpr is very low and tpr is very high\n",
        "    print(\"the maximum value of tpr*(1-fpr)\", max(tpr*(1-fpr)), \"for threshold\", np.round(t,3))\n",
        "    return t\n",
        "\n",
        "def predict_with_best_t(proba, threshould):\n",
        "    predictions = []\n",
        "    for i in proba:\n",
        "        if i>=threshould:\n",
        "            predictions.append(1)\n",
        "        else:\n",
        "            predictions.append(0)\n",
        "    return predictions"
      ],
      "execution_count": 0,
      "outputs": []
    },
    {
      "cell_type": "code",
      "metadata": {
        "colab_type": "code",
        "outputId": "391f26eb-13e5-4817-fb4a-6e53dfe34ec6",
        "id": "89209kQ4L4e1",
        "colab": {
          "base_uri": "https://localhost:8080/",
          "height": 151
        }
      },
      "source": [
        "print(\"=\"*100)\n",
        "from sklearn.metrics import confusion_matrix\n",
        "best_t = find_best_threshold(tr_thresholds, train_fpr, train_tpr)\n",
        "print(\"Train confusion matrix\")\n",
        "print(confusion_matrix(y_train, predict_with_best_t(y_train_pred, best_t)))\n",
        "print(\"Test confusion matrix\")\n",
        "print(confusion_matrix(y_test, predict_with_best_t(y_test_pred, best_t)))"
      ],
      "execution_count": 56,
      "outputs": [
        {
          "output_type": "stream",
          "text": [
            "====================================================================================================\n",
            "the maximum value of tpr*(1-fpr) 0.48575297840893666 for threshold 0.855\n",
            "Train confusion matrix\n",
            "[[ 2985  1119]\n",
            " [ 7583 15247]]\n",
            "Test confusion matrix\n",
            "[[ 1773  1245]\n",
            " [ 6032 10750]]\n"
          ],
          "name": "stdout"
        }
      ]
    },
    {
      "cell_type": "markdown",
      "metadata": {
        "colab_type": "text",
        "id": "h16D2ihLL4e6"
      },
      "source": [
        "#### 1.5.1.3  Top 20 features "
      ]
    },
    {
      "cell_type": "code",
      "metadata": {
        "colab_type": "code",
        "outputId": "ea42e3b5-4dc0-4521-a990-18135d9af6e0",
        "id": "oINKbJfxL4e7",
        "colab": {
          "base_uri": "https://localhost:8080/",
          "height": 34
        }
      },
      "source": [
        "# https://datascience.stackexchange.com/questions/65219/find-the-top-n-features-from-feature-set-using-absolute-values-of-feature-log-p\n",
        "# https://stats.stackexchange.com/questions/266031/what-is-log-probability-of-feature-in-sklearn-multinomialnb\n",
        "\n",
        "#bulding the feature_names list \n",
        "features_list = list(essay_tfidf_features+title_tfidf_features\n",
        "                     +state_ohe_features+teacher_ohe_features+grade_ohe_features+cat_ohe_features+subcat_ohe_features\n",
        "                     +['price']+['teacher_number_of_previously_posted_projects'])\n",
        "\n",
        "print('Total_features: ',len(features_list))  #this shud match with len(X_tr)"
      ],
      "execution_count": 57,
      "outputs": [
        {
          "output_type": "stream",
          "text": [
            "Total_features:  7079\n"
          ],
          "name": "stdout"
        }
      ]
    },
    {
      "cell_type": "code",
      "metadata": {
        "colab_type": "code",
        "outputId": "f357f6bb-2ec7-4ac0-acb5-be796259642f",
        "id": "2rpnYithL4fC",
        "colab": {
          "base_uri": "https://localhost:8080/",
          "height": 84
        }
      },
      "source": [
        "#Demo on how argsort works\n",
        "#find top 3 elements indices of an array\n",
        "\n",
        "l = np.array([0,50,20,10,80])\n",
        "print(l)\n",
        "print(l.argsort())\n",
        "top3_ele_indices = l.argsort()[-3:][::-1]\n",
        "print(top3_ele_indices)\n",
        "\n",
        "#selecting top ele of that array --> ans shud be [80,50,20]\n",
        "print([l[i] for i in top3_ele_indices])"
      ],
      "execution_count": 58,
      "outputs": [
        {
          "output_type": "stream",
          "text": [
            "[ 0 50 20 10 80]\n",
            "[0 3 2 1 4]\n",
            "[4 1 2]\n",
            "[80, 50, 20]\n"
          ],
          "name": "stdout"
        }
      ]
    },
    {
      "cell_type": "code",
      "metadata": {
        "colab_type": "code",
        "id": "9JJkEE5EL4fH",
        "colab": {}
      },
      "source": [
        "# Here .argsort() will give indexes of features sorted with their log-probabilities\n",
        "\n",
        "# For negative class\n",
        "top_20_indices_0 = mnb.feature_log_prob_[0, :].argsort()[-20:][::-1]\n",
        "\n",
        "# For positive class\n",
        "top_20_indices_1 = mnb.feature_log_prob_[1, :].argsort()[-20:][::-1]"
      ],
      "execution_count": 0,
      "outputs": []
    },
    {
      "cell_type": "code",
      "metadata": {
        "colab_type": "code",
        "id": "48eLPD9GL4fM",
        "colab": {}
      },
      "source": [
        "#extracting top 20 features for both classes with the feature imp in the increasing order\n",
        "# top_3_features = [f1,f2,f3] means order of importance f1>f2>f3. f1 is most imp\n",
        "\n",
        "top_20_features_0 = []\n",
        "top_20_features_1 = []\n",
        "\n",
        "for i in top_20_indices_0:\n",
        "  top_20_features_0.append(features_list[i])\n",
        "\n",
        "for i in top_20_indices_1:\n",
        "  top_20_features_1.append(features_list[i])"
      ],
      "execution_count": 0,
      "outputs": []
    },
    {
      "cell_type": "code",
      "metadata": {
        "colab_type": "code",
        "outputId": "14863e75-fd24-463e-81a0-ee99a3efcd94",
        "id": "NBpZwUttL4fS",
        "colab": {
          "base_uri": "https://localhost:8080/",
          "height": 87
        }
      },
      "source": [
        "print(top_20_features_0)\n",
        "print('-'*100)\n",
        "print(top_20_features_1)"
      ],
      "execution_count": 61,
      "outputs": [
        {
          "output_type": "stream",
          "text": [
            "['price', 'teacher_number_of_previously_posted_projects', 'mrs', 'literacy_language', 'grades_prek_2', 'math_science', 'ms', 'grades_3_5', 'literacy', 'mathematics', 'literature_writing', 'grades_6_8', 'specialneeds', 'specialneeds', 'appliedlearning', 'health_sports', 'ca', 'students', 'appliedsciences', 'grades_9_12']\n",
            "----------------------------------------------------------------------------------------------------\n",
            "['price', 'teacher_number_of_previously_posted_projects', 'mrs', 'literacy_language', 'grades_prek_2', 'math_science', 'ms', 'grades_3_5', 'literacy', 'mathematics', 'literature_writing', 'grades_6_8', 'ca', 'health_sports', 'students', 'specialneeds', 'specialneeds', 'appliedlearning', 'grades_9_12', 'mr']\n"
          ],
          "name": "stdout"
        }
      ]
    },
    {
      "cell_type": "markdown",
      "metadata": {
        "id": "lS9hIHdib3dp",
        "colab_type": "text"
      },
      "source": [
        "###3. Summary"
      ]
    },
    {
      "cell_type": "code",
      "metadata": {
        "id": "lBYbauN5r63S",
        "colab_type": "code",
        "colab": {
          "base_uri": "https://localhost:8080/",
          "height": 134
        },
        "outputId": "3927e879-8632-4332-f518-2d735ee9dcdb"
      },
      "source": [
        "from texttable import Texttable\n",
        "t = Texttable()\n",
        "t.add_rows([['Vectorizer','Model', 'HyperParameter- Alpha','AUC'],\n",
        "            ['Bow','RandomSearch CV',0.21037339402934904 ,0.685726610819333],\n",
        "            ['TF-IDF','RandomSearch CV',0.35825347910663236 ,0.6587065222378834]])\n",
        "print(t.draw())"
      ],
      "execution_count": 66,
      "outputs": [
        {
          "output_type": "stream",
          "text": [
            "+------------+-----------------+-----------------------+-------+\n",
            "| Vectorizer |      Model      | HyperParameter- Alpha |  AUC  |\n",
            "+============+=================+=======================+=======+\n",
            "| Bow        | RandomSearch CV | 0.210                 | 0.686 |\n",
            "+------------+-----------------+-----------------------+-------+\n",
            "| TF-IDF     | RandomSearch CV | 0.358                 | 0.659 |\n",
            "+------------+-----------------+-----------------------+-------+\n"
          ],
          "name": "stdout"
        }
      ]
    },
    {
      "cell_type": "code",
      "metadata": {
        "id": "h2UQF56e6SQx",
        "colab_type": "code",
        "colab": {}
      },
      "source": [
        ""
      ],
      "execution_count": 0,
      "outputs": []
    }
  ]
}