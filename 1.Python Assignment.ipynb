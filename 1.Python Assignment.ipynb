{
 "cells": [
  {
   "cell_type": "markdown",
   "metadata": {
    "colab_type": "text",
    "id": "k2Lf0sxHLdbI"
   },
   "source": [
    "#Program 1"
   ]
  },
  {
   "cell_type": "markdown",
   "metadata": {
    "colab_type": "text",
    "id": "l0ZzOlyxB-kf"
   },
   "source": [
    "**Python: without numpy or sklearn**"
   ]
  },
  {
   "cell_type": "markdown",
   "metadata": {
    "colab_type": "text",
    "id": "C0xO8JV9B-ki"
   },
   "source": [
    "<h3> Q1: Given two matrices please print the product of those two matrices </h3>\n",
    "<pre>\n",
    "\n",
    "Ex 1: A   = [[1 3 4]\n",
    "             [2 5 7]\n",
    "             [5 9 6]]\n",
    "      B   = [[1 0 0]\n",
    "             [0 1 0]\n",
    "             [0 0 1]]\n",
    "      A*B = [[1 3 4]\n",
    "             [2 5 7]\n",
    "             [5 9 6]]\n",
    "\n",
    "     \n",
    "Ex 2: A   = [[1 2]\n",
    "             [3 4]]\n",
    "      B   = [[1 2 3 4 5]\n",
    "             [5 6 7 8 9]]\n",
    "      A*B = [[11 14 17 20 23]\n",
    "             [18 24 30 36 42]]\n",
    "             \n",
    "Ex 3: A   = [[1 2]\n",
    "             [3 4]]\n",
    "      B   = [[1 4]\n",
    "             [5 6]\n",
    "             [7 8]\n",
    "             [9 6]]\n",
    "      A*B =Not possible\n",
    "</pre>"
   ]
  },
  {
   "cell_type": "code",
   "execution_count": 0,
   "metadata": {
    "colab": {},
    "colab_type": "code",
    "id": "rnssAfpgB-kj"
   },
   "outputs": [],
   "source": [
    "# write your python code here\n",
    "# you can take the above example as sample input for your program to test\n",
    "# it should work for any general input try not to hard code for only given input examples\n",
    "\n",
    "\n",
    "# you can free to change all these codes/structure\n",
    "# here A and B are list of lists\n",
    "def matrix_mul(A, B):\n",
    "    # write your code\n",
    "    return('#multiplication_of_A_and_B')\n",
    "    \n",
    "#matrix_mul(A, B)"
   ]
  },
  {
   "cell_type": "code",
   "execution_count": 0,
   "metadata": {
    "colab": {},
    "colab_type": "code",
    "id": "YaWQzagCHjVF"
   },
   "outputs": [],
   "source": []
  },
  {
   "cell_type": "markdown",
   "metadata": {
    "colab_type": "text",
    "id": "bMm_BvDjH0Jt"
   },
   "source": [
    "Checking the possibilty of matrix multiplication\n",
    "\n",
    "**Columns in first matrix must be equal to rows in second matrix in order to multiply A and B**\n",
    "\n",
    "A_col = B_row  \n",
    "\n",
    "**Note:** Input of matrices shud be 2D lists so that we can check whether they are compatible for matrix multiplication or not\n",
    "\n",
    "\n",
    "```\n",
    "Ex: 1D list =  [1,2,3]\n",
    "Ex: 2D list =  [[1,2,3]]\n",
    "\n",
    "```\n",
    "\n"
   ]
  },
  {
   "cell_type": "code",
   "execution_count": 2,
   "metadata": {
    "colab": {
     "base_uri": "https://localhost:8080/",
     "height": 50
    },
    "colab_type": "code",
    "executionInfo": {
     "elapsed": 881,
     "status": "ok",
     "timestamp": 1586338017733,
     "user": {
      "displayName": "sai pranay",
      "photoUrl": "https://lh3.googleusercontent.com/a-/AOh14GjyB5JboSBGwlexnx3OL2bCYVbj8I1ql6iKg4_XtQ=s64",
      "userId": "17020403249068426867"
     },
     "user_tz": -330
    },
    "id": "lK7ImeqkHjSP",
    "outputId": "bb2bf719-adb1-43b0-f145-3cb763f2ec85"
   },
   "outputs": [
    {
     "name": "stdout",
     "output_type": "stream",
     "text": [
      "False\n",
      "True\n"
     ]
    }
   ],
   "source": [
    "#Function to check whether input list is 2D or not \n",
    "X = [1,2]\n",
    "Y = [[3,4]]\n",
    "\n",
    "def is2D_list(l):\n",
    "  return (type(l[0]) == list)\n",
    "\n",
    "print(is2D_list(X))\n",
    "print(is2D_list(Y))\n"
   ]
  },
  {
   "cell_type": "markdown",
   "metadata": {
    "colab_type": "text",
    "id": "AMinIdfEIexl"
   },
   "source": [
    "**Check whether A and B can be multiplied or not**"
   ]
  },
  {
   "cell_type": "code",
   "execution_count": 3,
   "metadata": {
    "colab": {
     "base_uri": "https://localhost:8080/",
     "height": 50
    },
    "colab_type": "code",
    "executionInfo": {
     "elapsed": 1078,
     "status": "ok",
     "timestamp": 1586338018468,
     "user": {
      "displayName": "sai pranay",
      "photoUrl": "https://lh3.googleusercontent.com/a-/AOh14GjyB5JboSBGwlexnx3OL2bCYVbj8I1ql6iKg4_XtQ=s64",
      "userId": "17020403249068426867"
     },
     "user_tz": -330
    },
    "id": "pb7Mf5pyHjPO",
    "outputId": "58f39cd2-2d03-4dd5-8368-c5e1ff91a03c"
   },
   "outputs": [
    {
     "name": "stdout",
     "output_type": "stream",
     "text": [
      "Mutliplying matrices A and B.....\n",
      "A*B = \n"
     ]
    }
   ],
   "source": [
    "#Check whether A and B can be multiplied or not\n",
    "\n",
    "def matrix_mul(A,B):\n",
    "\n",
    "  A_row  = len(A) \n",
    "  A_col  = len(A[0])\n",
    "\n",
    "  B_row = len(B)\n",
    "  B_col = len(B[0])\n",
    "\n",
    "  if (A_col == B_row and is2D_list(A) and is2D_list(B)):\n",
    "    \n",
    "    #------------------Matrix multiplication code shud be here -----------#\n",
    "    print('Mutliplying matrices A and B.....')\n",
    "    return 'A*B = '\n",
    "\n",
    "\n",
    "  else:\n",
    "    return 'A*B is Not Possible'\n",
    "\n",
    "#---------sample\n",
    "A = [[1,2]]\n",
    "B=[[2],[4]]\n",
    "\n",
    "print(matrix_mul(A,B))"
   ]
  },
  {
   "cell_type": "code",
   "execution_count": 0,
   "metadata": {
    "colab": {},
    "colab_type": "code",
    "id": "IdpVqaqVIIlZ"
   },
   "outputs": [],
   "source": []
  },
  {
   "cell_type": "code",
   "execution_count": 0,
   "metadata": {
    "colab": {},
    "colab_type": "code",
    "id": "FwiHpBQyIIg5"
   },
   "outputs": [],
   "source": [
    "#The process of multiplication is divided into three operations or steps:\n",
    "#Considering an example\n",
    "\n",
    "A = [[1,2,3,4],\n",
    "     [2,3,5,6],\n",
    "     [1,3,5,7]]\n",
    "\n",
    "A_row  = len(A) \n",
    "A_col  = len(A[0]) \n",
    "\n",
    "B = [[1,2],\n",
    "     [3,4],\n",
    "     [5,6],\n",
    "     [7,8]]  \n",
    "\n",
    "B_row = len(B)\n",
    "B_col = len(B[0])"
   ]
  },
  {
   "cell_type": "code",
   "execution_count": 5,
   "metadata": {
    "colab": {
     "base_uri": "https://localhost:8080/",
     "height": 34
    },
    "colab_type": "code",
    "executionInfo": {
     "elapsed": 1035,
     "status": "ok",
     "timestamp": 1586338019123,
     "user": {
      "displayName": "sai pranay",
      "photoUrl": "https://lh3.googleusercontent.com/a-/AOh14GjyB5JboSBGwlexnx3OL2bCYVbj8I1ql6iKg4_XtQ=s64",
      "userId": "17020403249068426867"
     },
     "user_tz": -330
    },
    "id": "EhjGHQL9K3i4",
    "outputId": "e4e2d03f-b6b4-4f62-992d-415bb2361b04"
   },
   "outputs": [
    {
     "name": "stdout",
     "output_type": "stream",
     "text": [
      "50\n"
     ]
    }
   ],
   "source": [
    "# Step1\n",
    "# Step1 is to mutliply first element in AB multiplied matrix.\n",
    "# Here it is 1*1 + 2*3 + 3*5 + 4*7\n",
    "# for this we have to iterate the loop 4 times that is nothing but A_col times (or) B_row times\n",
    "# since A_col = B_row for A and B matrix multiplication\n",
    "\n",
    "#for this step row_no from A is constant arow = 0 and bcol = 0\n",
    "#As we are gng to multiply first row of A  with first column of B\n",
    "\n",
    "arow = 0\n",
    "bcol = 0\n",
    "\n",
    "ele = 0  #varaible to hold the sum \n",
    "for i in range(A_col):\n",
    "  ele +=  A[arow][i]*B[i][bcol]\n",
    "\n",
    "print(ele)\n",
    "#so we got 1*1 + 2*3 + 3*5 + 4*7  =  1+6+15+28 = 50\n"
   ]
  },
  {
   "cell_type": "code",
   "execution_count": 6,
   "metadata": {
    "colab": {
     "base_uri": "https://localhost:8080/",
     "height": 34
    },
    "colab_type": "code",
    "executionInfo": {
     "elapsed": 2076,
     "status": "ok",
     "timestamp": 1586338020415,
     "user": {
      "displayName": "sai pranay",
      "photoUrl": "https://lh3.googleusercontent.com/a-/AOh14GjyB5JboSBGwlexnx3OL2bCYVbj8I1ql6iKg4_XtQ=s64",
      "userId": "17020403249068426867"
     },
     "user_tz": -330
    },
    "id": "LLk5cNMDK3gE",
    "outputId": "ad247a44-c7ac-4a15-9a62-f5c75737d25f"
   },
   "outputs": [
    {
     "name": "stdout",
     "output_type": "stream",
     "text": [
      "[50, 60]\n"
     ]
    }
   ],
   "source": [
    "#step 2 is to create a sublist for 1st row of matrix AB\n",
    "#To create a sublist we must iterate first row of A with each and every column of B\n",
    "\n",
    "arow = 0\n",
    "#bcol = 0 #we shud iterate bcol\n",
    "\n",
    "sub_list =[] #empty list\n",
    "\n",
    "for bcol in range(B_col):\n",
    "  ele = 0\n",
    "  for i in range(A_col):\n",
    "    ele +=  A[arow][i]*B[i][bcol]\n",
    "  sub_list.append(ele)\n",
    "print(sub_list)"
   ]
  },
  {
   "cell_type": "code",
   "execution_count": 7,
   "metadata": {
    "colab": {
     "base_uri": "https://localhost:8080/",
     "height": 34
    },
    "colab_type": "code",
    "executionInfo": {
     "elapsed": 1712,
     "status": "ok",
     "timestamp": 1586338020417,
     "user": {
      "displayName": "sai pranay",
      "photoUrl": "https://lh3.googleusercontent.com/a-/AOh14GjyB5JboSBGwlexnx3OL2bCYVbj8I1ql6iKg4_XtQ=s64",
      "userId": "17020403249068426867"
     },
     "user_tz": -330
    },
    "id": "V-p0qpleK3eb",
    "outputId": "addb8df2-d659-4b79-dc00-d2f1031cb14a"
   },
   "outputs": [
    {
     "name": "stdout",
     "output_type": "stream",
     "text": [
      "[[50, 60], [78, 94], [84, 100]]\n"
     ]
    }
   ],
   "source": [
    "#Step 3 is to create a list with all the sub_lists in it\n",
    "#or  #Create a list with all the row lists in it \n",
    "\n",
    "#arow = 0 #we shud iterate Rows of A\n",
    "#bcol = 0 #we shud iterate bcol for row/sub lists\n",
    "\n",
    "main_list =[]\n",
    "for arow in range(A_row):\n",
    "\n",
    "  sub_list =[] #empty list\n",
    "\n",
    "  for bcol in range(B_col):\n",
    "    ele = 0\n",
    "    for i in range(A_col):\n",
    "      ele +=  A[arow][i]*B[i][bcol]\n",
    "    sub_list.append(ele)\n",
    "  main_list.append(sub_list)\n",
    "print(main_list)\n",
    "\n"
   ]
  },
  {
   "cell_type": "code",
   "execution_count": 8,
   "metadata": {
    "colab": {
     "base_uri": "https://localhost:8080/",
     "height": 34
    },
    "colab_type": "code",
    "executionInfo": {
     "elapsed": 1607,
     "status": "ok",
     "timestamp": 1586338020418,
     "user": {
      "displayName": "sai pranay",
      "photoUrl": "https://lh3.googleusercontent.com/a-/AOh14GjyB5JboSBGwlexnx3OL2bCYVbj8I1ql6iKg4_XtQ=s64",
      "userId": "17020403249068426867"
     },
     "user_tz": -330
    },
    "id": "bgnRMbA6IIfn",
    "outputId": "61e949fe-08c1-4214-f37d-7afd955dbb72"
   },
   "outputs": [
    {
     "name": "stdout",
     "output_type": "stream",
     "text": [
      "[[50, 60], [78, 94], [84, 100]]\n"
     ]
    }
   ],
   "source": [
    "#Final pgm withsteps 1 , 2 and 3\n",
    "\n",
    "A = [[1,2,3,4],\n",
    "     [2,3,5,6],\n",
    "     [1,3,5,7]]\n",
    "A_row  = len(A) \n",
    "A_col  = len(A[0])\n",
    "\n",
    "B = [[1,2],\n",
    "     [3,4],\n",
    "     [5,6],\n",
    "     [7,8]]  \n",
    "\n",
    "B_row = len(B)\n",
    "B_col = len(B[0])\n",
    "\n",
    "\n",
    "#-------------------------------------#\n",
    "\n",
    "main_list =[]\n",
    "for arow in range(A_row):\n",
    "\n",
    "  sub_list =[] #empty list\n",
    "\n",
    "  for bcol in range(B_col):\n",
    "    ele = 0\n",
    "    for i in range(A_col):\n",
    "      ele +=  A[arow][i]*B[i][bcol]\n",
    "    sub_list.append(ele)\n",
    "  main_list.append(sub_list)\n",
    "print(main_list)\n"
   ]
  },
  {
   "cell_type": "code",
   "execution_count": 0,
   "metadata": {
    "colab": {},
    "colab_type": "code",
    "id": "s9vtlk9IIIcu"
   },
   "outputs": [],
   "source": []
  },
  {
   "cell_type": "markdown",
   "metadata": {
    "colab_type": "text",
    "id": "2QT7Gx_0IIaO"
   },
   "source": [
    "##Final solution 1 "
   ]
  },
  {
   "cell_type": "code",
   "execution_count": 0,
   "metadata": {
    "colab": {},
    "colab_type": "code",
    "id": "DoHkw3j0HjNe"
   },
   "outputs": [],
   "source": [
    "#Check whether A and B can be multiplied or not\n",
    "\n",
    "def matrix_mul(A,B):\n",
    "\n",
    "  A_row  = len(A) \n",
    "  A_col  = len(A[0])\n",
    "\n",
    "  B_row = len(B)\n",
    "  B_col = len(B[0])\n",
    "\n",
    "  if (A_col == B_row and is2D_list(A) and is2D_list(B)):\n",
    "    main_list =[]\n",
    "    for arow in range(A_row):\n",
    "\n",
    "      sub_list =[] #empty list\n",
    "\n",
    "      for bcol in range(B_col):\n",
    "        ele = 0\n",
    "        for i in range(A_col):\n",
    "          ele +=  A[arow][i]*B[i][bcol]\n",
    "        sub_list.append(ele)\n",
    "      main_list.append(sub_list)\n",
    "    #print(main_list)\n",
    "    AB = main_list\n",
    "\n",
    "    #------------------Matrix multiplication code shud be here -----------#\n",
    "\n",
    "    print('Mutliplying matrices A and B.....')\n",
    "    return AB\n",
    "\n",
    "  else:\n",
    "    return 'A*B is Not Possible'"
   ]
  },
  {
   "cell_type": "code",
   "execution_count": 0,
   "metadata": {
    "colab": {},
    "colab_type": "code",
    "id": "hWh7G9foQ_r0"
   },
   "outputs": [],
   "source": []
  },
  {
   "cell_type": "code",
   "execution_count": 10,
   "metadata": {
    "colab": {
     "base_uri": "https://localhost:8080/",
     "height": 50
    },
    "colab_type": "code",
    "executionInfo": {
     "elapsed": 1232,
     "status": "ok",
     "timestamp": 1586338021468,
     "user": {
      "displayName": "sai pranay",
      "photoUrl": "https://lh3.googleusercontent.com/a-/AOh14GjyB5JboSBGwlexnx3OL2bCYVbj8I1ql6iKg4_XtQ=s64",
      "userId": "17020403249068426867"
     },
     "user_tz": -330
    },
    "id": "q6aP10zfMeLd",
    "outputId": "0dcd3cfd-702b-44f9-8557-a6aca0112d61"
   },
   "outputs": [
    {
     "name": "stdout",
     "output_type": "stream",
     "text": [
      "Mutliplying matrices A and B.....\n",
      "[[10]]\n"
     ]
    }
   ],
   "source": [
    "#---------sample pblm 1 \n",
    "A = [[1,2]]\n",
    "B=[[2],[4]]\n",
    "\n",
    "print(matrix_mul(A,B))"
   ]
  },
  {
   "cell_type": "code",
   "execution_count": 0,
   "metadata": {
    "colab": {},
    "colab_type": "code",
    "id": "tVVaB6evRBtH"
   },
   "outputs": [],
   "source": []
  },
  {
   "cell_type": "code",
   "execution_count": 11,
   "metadata": {
    "colab": {
     "base_uri": "https://localhost:8080/",
     "height": 50
    },
    "colab_type": "code",
    "executionInfo": {
     "elapsed": 5614,
     "status": "ok",
     "timestamp": 1586338026285,
     "user": {
      "displayName": "sai pranay",
      "photoUrl": "https://lh3.googleusercontent.com/a-/AOh14GjyB5JboSBGwlexnx3OL2bCYVbj8I1ql6iKg4_XtQ=s64",
      "userId": "17020403249068426867"
     },
     "user_tz": -330
    },
    "id": "FQIx6i7gPCpy",
    "outputId": "056d36ed-1568-46cc-9255-985f367e3b88"
   },
   "outputs": [
    {
     "name": "stdout",
     "output_type": "stream",
     "text": [
      "Mutliplying matrices A and B.....\n",
      "[[11, 14, 17, 20, 23], [23, 30, 37, 44, 51]]\n"
     ]
    }
   ],
   "source": [
    "#---------sample pblm 2\n",
    "A = [[1,2],\n",
    "     [3,4]]\n",
    "\n",
    "B = [[1,2,3,4,5],\n",
    "     [5,6,7,8,9]]\n",
    "\n",
    "print(matrix_mul(A,B))"
   ]
  },
  {
   "cell_type": "code",
   "execution_count": 0,
   "metadata": {
    "colab": {},
    "colab_type": "code",
    "id": "70p2X7bKREaz"
   },
   "outputs": [],
   "source": []
  },
  {
   "cell_type": "code",
   "execution_count": 12,
   "metadata": {
    "colab": {
     "base_uri": "https://localhost:8080/",
     "height": 50
    },
    "colab_type": "code",
    "executionInfo": {
     "elapsed": 5166,
     "status": "ok",
     "timestamp": 1586338026286,
     "user": {
      "displayName": "sai pranay",
      "photoUrl": "https://lh3.googleusercontent.com/a-/AOh14GjyB5JboSBGwlexnx3OL2bCYVbj8I1ql6iKg4_XtQ=s64",
      "userId": "17020403249068426867"
     },
     "user_tz": -330
    },
    "id": "hxR3AuVbMeIm",
    "outputId": "16106b99-0e51-4662-a238-308b0f52664f"
   },
   "outputs": [
    {
     "name": "stdout",
     "output_type": "stream",
     "text": [
      "Mutliplying matrices A and B.....\n",
      "[[1, 3, 4], [2, 5, 7], [5, 9, 6]]\n"
     ]
    }
   ],
   "source": [
    "#---------sample pblm 3\n",
    "A   = [[1,3,4],[2,5,7],[5,9,6]]\n",
    "B   = [[1,0,0], [0,1,0],[0,0,1]]\n",
    "\n",
    "print(matrix_mul(A,B))"
   ]
  },
  {
   "cell_type": "code",
   "execution_count": 0,
   "metadata": {
    "colab": {},
    "colab_type": "code",
    "id": "_yPA1gL7RFLq"
   },
   "outputs": [],
   "source": []
  },
  {
   "cell_type": "code",
   "execution_count": 13,
   "metadata": {
    "colab": {
     "base_uri": "https://localhost:8080/",
     "height": 34
    },
    "colab_type": "code",
    "executionInfo": {
     "elapsed": 6246,
     "status": "ok",
     "timestamp": 1586338028096,
     "user": {
      "displayName": "sai pranay",
      "photoUrl": "https://lh3.googleusercontent.com/a-/AOh14GjyB5JboSBGwlexnx3OL2bCYVbj8I1ql6iKg4_XtQ=s64",
      "userId": "17020403249068426867"
     },
     "user_tz": -330
    },
    "id": "RKw-7c1pPXWv",
    "outputId": "ba9feb51-b78c-4d23-e8ef-4b06899a2884"
   },
   "outputs": [
    {
     "name": "stdout",
     "output_type": "stream",
     "text": [
      "A*B is Not Possible\n"
     ]
    }
   ],
   "source": [
    "#---------sample pblm 4\n",
    "A =[[1,200]]\n",
    "B = [[1],[2],[39]]\n",
    "\n",
    "print(matrix_mul(A,B))\n"
   ]
  },
  {
   "cell_type": "code",
   "execution_count": 0,
   "metadata": {
    "colab": {},
    "colab_type": "code",
    "id": "DOg_f8pVMeFx"
   },
   "outputs": [],
   "source": []
  },
  {
   "cell_type": "code",
   "execution_count": 0,
   "metadata": {
    "colab": {},
    "colab_type": "code",
    "id": "hV5u2Nw9MeDm"
   },
   "outputs": [],
   "source": []
  },
  {
   "cell_type": "markdown",
   "metadata": {
    "colab_type": "text",
    "id": "q_olM5NBLLtW"
   },
   "source": [
    "#Program 2"
   ]
  },
  {
   "cell_type": "markdown",
   "metadata": {
    "colab_type": "text",
    "id": "at4VwLggB-kn"
   },
   "source": [
    "<h3> Q2: Select a number randomly with probability proportional to its magnitude from the given array of n elements</h3>\n",
    "\n",
    "consider an experiment, selecting an element from the list A randomly with probability proportional to its magnitude.\n",
    "assume we are doing the same experiment for 100 times with replacement, in each experiment you will print a number that is selected randomly from A.\n",
    "\n",
    "<pre>\n",
    "Ex 1: A = [0 5 27 6 13 28 100 45 10 79]\n",
    "let f(x) denote the number of times x getting selected in 100 experiments.\n",
    "f(100) > f(79) > f(45) > f(28) > f(27) > f(13) > f(10) > f(6) > f(5) > f(0)\n",
    "</pre>"
   ]
  },
  {
   "cell_type": "markdown",
   "metadata": {
    "colab_type": "text",
    "id": "3C2HwTnBJxqf"
   },
   "source": [
    "Got this intution from :\n",
    "https://stackoverflow.com/questions/57892112/select-a-number-randomly-with-probability-proportional-to-its-magnitude-from-the\n",
    "\n",
    "Note: Changed the code as per my understanding"
   ]
  },
  {
   "cell_type": "code",
   "execution_count": 0,
   "metadata": {
    "colab": {},
    "colab_type": "code",
    "id": "H8BBoEC4Jxn2"
   },
   "outputs": [],
   "source": []
  },
  {
   "cell_type": "markdown",
   "metadata": {
    "colab_type": "text",
    "id": "DToS7KnYF4pb"
   },
   "source": [
    "##Final solution 2"
   ]
  },
  {
   "cell_type": "code",
   "execution_count": 0,
   "metadata": {
    "colab": {},
    "colab_type": "code",
    "id": "Uclhz8FXF8Un"
   },
   "outputs": [],
   "source": [
    "import  random  \n",
    "\n",
    "\n",
    "#***********************************************    PART-1    **************************************************#\n",
    "def pick_a_num(A):\n",
    "\n",
    "  sum_A = sum(A)\n",
    "  #calculating weights\n",
    "  weights = [x/sum_A for x in A]\n",
    "  \n",
    "\n",
    "  #calculating cumsum without numpy \n",
    "  cumsum_weights =[]\n",
    "  x=0\n",
    "  for ele in weights:\n",
    "    cumsum_weights.append(x+ ele )\n",
    "    x+=ele\n",
    "\n",
    "  #Generating a random number from uniform distribution of (0,1)\n",
    "  rand_num = random.uniform(0,1)\n",
    "\n",
    "  for i in range(len(A)):\n",
    "    if rand_num < cumsum_weights[i]:\n",
    "      return A[i]\n",
    "\n",
    "#***********************************************    PART- 2  **************************************************#\n",
    "#Part 2 generating the (100) N - samples\n",
    "def sampling_based_on_magnitude(A,N):\n",
    "  final_list = [pick_a_num(A) for x in range(N)]\n",
    "  return final_list\n",
    "\n",
    "\n",
    "#***********************************************    PART-3    **************************************************#\n",
    "#Checking the count of values that are picked randomly with replacement for N(100) samples\n",
    "\n",
    "#making list with element and its count as a tuple ex: [(100,41),(80,31), (45,15), (26,13)]\n",
    "def count_elements(final_list):\n",
    "\n",
    "  count_list = []\n",
    "\n",
    "  for ele in A:\n",
    "    cnt = final_list.count(ele)\n",
    "    count_list.append((ele,cnt))\n",
    "\n",
    "  #making dict\n",
    "  count_dict = dict(count_list)\n",
    "\n",
    "  #Sorting a dictionary\n",
    "  count_dict = dict(sorted(count_dict.items() ,key=lambda kv:kv[0] , reverse = True))\n",
    "  print(count_dict)\n"
   ]
  },
  {
   "cell_type": "code",
   "execution_count": 15,
   "metadata": {
    "colab": {
     "base_uri": "https://localhost:8080/",
     "height": 50
    },
    "colab_type": "code",
    "executionInfo": {
     "elapsed": 5150,
     "status": "ok",
     "timestamp": 1586338028099,
     "user": {
      "displayName": "sai pranay",
      "photoUrl": "https://lh3.googleusercontent.com/a-/AOh14GjyB5JboSBGwlexnx3OL2bCYVbj8I1ql6iKg4_XtQ=s64",
      "userId": "17020403249068426867"
     },
     "user_tz": -330
    },
    "id": "X42g7WMSI_3m",
    "outputId": "1d824e67-f31b-43d6-ddb0-eb0a4c422fb1"
   },
   "outputs": [
    {
     "name": "stdout",
     "output_type": "stream",
     "text": [
      "{100: 27, 79: 27, 45: 16, 28: 8, 27: 12, 13: 4, 10: 3, 6: 2, 5: 1, 0: 0}\n",
      "None\n"
     ]
    }
   ],
   "source": [
    "A = [0, 5, 27, 6, 13, 28, 100, 45, 10, 79]\n",
    "N = 100\n",
    "print(count_elements(sampling_based_on_magnitude(A,N)))"
   ]
  },
  {
   "cell_type": "code",
   "execution_count": 16,
   "metadata": {
    "colab": {
     "base_uri": "https://localhost:8080/",
     "height": 50
    },
    "colab_type": "code",
    "executionInfo": {
     "elapsed": 5013,
     "status": "ok",
     "timestamp": 1586338028100,
     "user": {
      "displayName": "sai pranay",
      "photoUrl": "https://lh3.googleusercontent.com/a-/AOh14GjyB5JboSBGwlexnx3OL2bCYVbj8I1ql6iKg4_XtQ=s64",
      "userId": "17020403249068426867"
     },
     "user_tz": -330
    },
    "id": "tY-mS3cgH_3d",
    "outputId": "7339a264-eddc-4091-cebb-65d48c3e9ae5"
   },
   "outputs": [
    {
     "name": "stdout",
     "output_type": "stream",
     "text": [
      "{100: 38, 80: 35, 45: 20, 26: 7}\n",
      "None\n"
     ]
    }
   ],
   "source": [
    "A  =[80 , 45, 26, 100]\n",
    "N =100\n",
    "print(count_elements(sampling_based_on_magnitude(A,N)))"
   ]
  },
  {
   "cell_type": "code",
   "execution_count": 17,
   "metadata": {
    "colab": {
     "base_uri": "https://localhost:8080/",
     "height": 50
    },
    "colab_type": "code",
    "executionInfo": {
     "elapsed": 4914,
     "status": "ok",
     "timestamp": 1586338028100,
     "user": {
      "displayName": "sai pranay",
      "photoUrl": "https://lh3.googleusercontent.com/a-/AOh14GjyB5JboSBGwlexnx3OL2bCYVbj8I1ql6iKg4_XtQ=s64",
      "userId": "17020403249068426867"
     },
     "user_tz": -330
    },
    "id": "DWL4CcqvIgcL",
    "outputId": "6762f5b9-21c2-4ca6-f971-affa0540f1ea"
   },
   "outputs": [
    {
     "name": "stdout",
     "output_type": "stream",
     "text": [
      "{80: 55, 56: 36, 23: 9}\n",
      "None\n"
     ]
    }
   ],
   "source": [
    "A  =[80 , 23, 56]\n",
    "N =100\n",
    "print(count_elements(sampling_based_on_magnitude(A,N)))"
   ]
  },
  {
   "cell_type": "code",
   "execution_count": 0,
   "metadata": {
    "colab": {},
    "colab_type": "code",
    "id": "HKkq6EYiJxkJ"
   },
   "outputs": [],
   "source": []
  },
  {
   "cell_type": "markdown",
   "metadata": {
    "colab_type": "text",
    "id": "qY2GogHtJxhu"
   },
   "source": [
    "**Decoding above code step by step**"
   ]
  },
  {
   "cell_type": "code",
   "execution_count": 0,
   "metadata": {
    "colab": {},
    "colab_type": "code",
    "id": "bboCbz5SDosX"
   },
   "outputs": [],
   "source": []
  },
  {
   "cell_type": "markdown",
   "metadata": {
    "colab_type": "text",
    "id": "7u828lhMqtsE"
   },
   "source": [
    "**Weights:**"
   ]
  },
  {
   "cell_type": "code",
   "execution_count": 18,
   "metadata": {
    "colab": {
     "base_uri": "https://localhost:8080/",
     "height": 34
    },
    "colab_type": "code",
    "executionInfo": {
     "elapsed": 4379,
     "status": "ok",
     "timestamp": 1586338028103,
     "user": {
      "displayName": "sai pranay",
      "photoUrl": "https://lh3.googleusercontent.com/a-/AOh14GjyB5JboSBGwlexnx3OL2bCYVbj8I1ql6iKg4_XtQ=s64",
      "userId": "17020403249068426867"
     },
     "user_tz": -330
    },
    "id": "m-mD-O1tqtwH",
    "outputId": "8320a8c9-d01c-4834-d439-cc3e713e5bc1"
   },
   "outputs": [
    {
     "name": "stdout",
     "output_type": "stream",
     "text": [
      "[0.04672897196261682, 0.1308411214953271, 0.35514018691588783, 0.4672897196261682]\n"
     ]
    }
   ],
   "source": [
    "#Consider a list A =[10,28,76,100]\n",
    "\n",
    "A =[10,28,76,100]\n",
    "\n",
    "#Explaining Weights:\n",
    "# the amount of weight(percentage) it contributes to Total (sum of elements of a list)\n",
    "\n",
    "sum_A =sum(A)\n",
    "#weights = [round(x/sum_A,4) for x in A]   #--> rounding it off to 4 digits \n",
    "weights = [x/sum_A for x in A]   #--> rounding it off to 4 digits \n",
    "print(weights)\n",
    "\n"
   ]
  },
  {
   "cell_type": "code",
   "execution_count": 19,
   "metadata": {
    "colab": {
     "base_uri": "https://localhost:8080/",
     "height": 84
    },
    "colab_type": "code",
    "executionInfo": {
     "elapsed": 4223,
     "status": "ok",
     "timestamp": 1586338028103,
     "user": {
      "displayName": "sai pranay",
      "photoUrl": "https://lh3.googleusercontent.com/a-/AOh14GjyB5JboSBGwlexnx3OL2bCYVbj8I1ql6iKg4_XtQ=s64",
      "userId": "17020403249068426867"
     },
     "user_tz": -330
    },
    "id": "igV6I5BRr9pG",
    "outputId": "8fbcb0d1-c8c2-4437-e11b-80adf9a11cde"
   },
   "outputs": [
    {
     "name": "stdout",
     "output_type": "stream",
     "text": [
      "1-element contributes 4.672897196261682 % to the total\n",
      "2-element contributes 13.084112149532709 % to the total\n",
      "3-element contributes 35.51401869158878 % to the total\n",
      "4-element contributes 46.728971962616825 % to the total\n"
     ]
    }
   ],
   "source": [
    "#explaination:\n",
    "i= 1\n",
    "for w in weights:\n",
    "  print('{}-element contributes {} % to the total'.format(i,w*100))\n",
    "  i+=1"
   ]
  },
  {
   "cell_type": "code",
   "execution_count": 20,
   "metadata": {
    "colab": {
     "base_uri": "https://localhost:8080/",
     "height": 34
    },
    "colab_type": "code",
    "executionInfo": {
     "elapsed": 4119,
     "status": "ok",
     "timestamp": 1586338028104,
     "user": {
      "displayName": "sai pranay",
      "photoUrl": "https://lh3.googleusercontent.com/a-/AOh14GjyB5JboSBGwlexnx3OL2bCYVbj8I1ql6iKg4_XtQ=s64",
      "userId": "17020403249068426867"
     },
     "user_tz": -330
    },
    "id": "9emxq-aMti50",
    "outputId": "65c5c462-26ef-49ee-8810-ee6b23dc32fd"
   },
   "outputs": [
    {
     "name": "stdout",
     "output_type": "stream",
     "text": [
      "100.0 %\n"
     ]
    }
   ],
   "source": [
    "#Note of all elements of weights list shud be Total percentage -- 100%\n",
    "print(sum(weights)*100,'%')"
   ]
  },
  {
   "cell_type": "markdown",
   "metadata": {
    "colab_type": "text",
    "id": "RR3SHKiNtCHd"
   },
   "source": [
    "**Cummulative sum of weights without Numpy:**"
   ]
  },
  {
   "cell_type": "code",
   "execution_count": 21,
   "metadata": {
    "colab": {
     "base_uri": "https://localhost:8080/",
     "height": 34
    },
    "colab_type": "code",
    "executionInfo": {
     "elapsed": 3906,
     "status": "ok",
     "timestamp": 1586338028104,
     "user": {
      "displayName": "sai pranay",
      "photoUrl": "https://lh3.googleusercontent.com/a-/AOh14GjyB5JboSBGwlexnx3OL2bCYVbj8I1ql6iKg4_XtQ=s64",
      "userId": "17020403249068426867"
     },
     "user_tz": -330
    },
    "id": "c-L0vl5StbZh",
    "outputId": "d007aee5-adeb-4fb5-ed75-f6afd2a8c19c"
   },
   "outputs": [
    {
     "name": "stdout",
     "output_type": "stream",
     "text": [
      "[0.04672897196261682, 0.17757009345794392, 0.5327102803738317, 1.0]\n"
     ]
    }
   ],
   "source": [
    "cumsum_weights = []\n",
    "x=0\n",
    "\n",
    "for ele in weights:\n",
    "  cumsum_weights.append(x+ ele)\n",
    "  x+=ele\n",
    "\n",
    "print(cumsum_weights)"
   ]
  },
  {
   "cell_type": "markdown",
   "metadata": {
    "colab_type": "text",
    "id": "WjszDJ7zuaYW"
   },
   "source": [
    "\n",
    "Logic to pick the random number:\n",
    "```\n",
    "while picking a random number from list A =[10,28,76,100] \n",
    "we shud give more weightage to a number with high magnitude here it is 100 \n",
    "\n",
    "-------------------> A =[10,28,76,100] \n",
    "cumsum_weights = [0.04672897196261682, 0.17757009345794392, 0.5327102803738317, 1.0]\n",
    "\n",
    "to do that I will calculate cumsum weights list which will be in the  range [0,1]\n",
    "\n",
    "Ex: will generate random number between [0,1]  using random.uniform\n",
    "lets say num = 0.789\n",
    "we will check in cumsum_weights\n",
    "cumsum_weights = [0.04672897196261682, 0.17757009345794392, 0.5327102803738317, 1.0]\n",
    "\n",
    "A =[10,28,76,100] \n",
    "\n",
    "as 0.789 lies in between element 3 and elemnet 4 will pick element 4 because that gap is more because of ele 4\n",
    "\n",
    "Ex: B =[80 , 45, 26, 100]\n",
    "rand_num = 0.7654\n",
    "cumsum_weights : [0.3187, 0.498, 0.6016, 1.0]\n",
    "it lies between ele3 and ele4 \n",
    "ele 3 = 26 and ele4 = 100 u cannot pick 26 here because the gap is created because of the right side element i.e., 100 here \n",
    "\n",
    "\n",
    "\n",
    "So the probabilty of picking a number increases when the gap between the values in cumsum_weights is high\n",
    "\n",
    "the gap wil be high if and only if the magnitude of the number is high\n",
    "\n",
    "\n",
    "```\n",
    "\n"
   ]
  },
  {
   "cell_type": "code",
   "execution_count": 22,
   "metadata": {
    "colab": {
     "base_uri": "https://localhost:8080/",
     "height": 34
    },
    "colab_type": "code",
    "executionInfo": {
     "elapsed": 3625,
     "status": "ok",
     "timestamp": 1586338028104,
     "user": {
      "displayName": "sai pranay",
      "photoUrl": "https://lh3.googleusercontent.com/a-/AOh14GjyB5JboSBGwlexnx3OL2bCYVbj8I1ql6iKg4_XtQ=s64",
      "userId": "17020403249068426867"
     },
     "user_tz": -330
    },
    "id": "_ZkiBCSjxqRi",
    "outputId": "5c3d9891-6b14-4d75-d40c-030b2f35875b"
   },
   "outputs": [
    {
     "name": "stdout",
     "output_type": "stream",
     "text": [
      "[0.1, 0.28, 0.76, 1.0]\n"
     ]
    }
   ],
   "source": [
    "# We can do this by dividing the all nums with max number also \n",
    "max_w = [x/max(A) for x in A]\n",
    "print(max_w)"
   ]
  },
  {
   "cell_type": "code",
   "execution_count": 23,
   "metadata": {
    "colab": {
     "base_uri": "https://localhost:8080/",
     "height": 50
    },
    "colab_type": "code",
    "executionInfo": {
     "elapsed": 3494,
     "status": "ok",
     "timestamp": 1586338028106,
     "user": {
      "displayName": "sai pranay",
      "photoUrl": "https://lh3.googleusercontent.com/a-/AOh14GjyB5JboSBGwlexnx3OL2bCYVbj8I1ql6iKg4_XtQ=s64",
      "userId": "17020403249068426867"
     },
     "user_tz": -330
    },
    "id": "g-W-7mRRzuWS",
    "outputId": "a3e97a08-4d09-4230-e78f-d6b853cbf649"
   },
   "outputs": [
    {
     "name": "stdout",
     "output_type": "stream",
     "text": [
      "cumsum_weights : [0.3187, 0.498, 0.6016, 1.0]\n",
      "max_w : [0.8, 0.45, 0.26, 1.0]\n"
     ]
    }
   ],
   "source": [
    "#But this max_w logic will create a pblm when 2 elements are close to each other in magnitude ex: 99,100 like that\n",
    "#see below example\n",
    "\n",
    "#A =[10,28,76,98,100] \n",
    "A  =[80 , 45, 26, 100]\n",
    "weights = [round(x/sum(A),4) for x in A]\n",
    "\n",
    "#cum_sum_weights\n",
    "\n",
    "cumsum_weights =[]\n",
    "x = 0\n",
    "\n",
    "for ele in weights:\n",
    "  cumsum_weights.append(x+ele)\n",
    "  x+=ele\n",
    "\n",
    "print('cumsum_weights :',cumsum_weights)\n",
    "\n",
    "#weights by max_division\n",
    "max_w = [x/max(A) for x in A]\n",
    "print('max_w :',max_w)\n"
   ]
  },
  {
   "cell_type": "markdown",
   "metadata": {
    "colab_type": "text",
    "id": "2DDtaEDtz1rz"
   },
   "source": [
    "*So if we generate a random number there is more chance to pick 98 and 100 from cumsum_weights than max_w*"
   ]
  },
  {
   "cell_type": "code",
   "execution_count": 0,
   "metadata": {
    "colab": {},
    "colab_type": "code",
    "id": "2HXyhqpd0X4l"
   },
   "outputs": [],
   "source": []
  },
  {
   "cell_type": "code",
   "execution_count": 0,
   "metadata": {
    "colab": {},
    "colab_type": "code",
    "id": "b-lVKqGe4rQJ"
   },
   "outputs": [],
   "source": []
  },
  {
   "cell_type": "code",
   "execution_count": 0,
   "metadata": {
    "colab": {},
    "colab_type": "code",
    "id": "PZZTJxY24rUs"
   },
   "outputs": [],
   "source": [
    "from  random  import uniform\n",
    "\n",
    "def pick_a_num(A):\n",
    "\n",
    "  sum_A = sum(A)\n",
    "  #calculating weights\n",
    "  weights = [x/sum_A for x in A]\n",
    "  \n",
    "\n",
    "  #calculating cumsum without numpy \n",
    "  cumsum_weights =[]\n",
    "  x=0\n",
    "  for ele in weights:\n",
    "    cumsum_weights.append(x+ ele )\n",
    "    x+=ele\n",
    "\n",
    "  #Generating a random number from uniform distribution of (0,1)\n",
    "  rand_num = random.uniform(0,1)\n",
    "\n",
    "  for i in range(len(A)):\n",
    "    if rand_num < cumsum_weights[i]:\n",
    "      return A[i]\n"
   ]
  },
  {
   "cell_type": "code",
   "execution_count": 25,
   "metadata": {
    "colab": {
     "base_uri": "https://localhost:8080/",
     "height": 34
    },
    "colab_type": "code",
    "executionInfo": {
     "elapsed": 2840,
     "status": "ok",
     "timestamp": 1586338028107,
     "user": {
      "displayName": "sai pranay",
      "photoUrl": "https://lh3.googleusercontent.com/a-/AOh14GjyB5JboSBGwlexnx3OL2bCYVbj8I1ql6iKg4_XtQ=s64",
      "userId": "17020403249068426867"
     },
     "user_tz": -330
    },
    "id": "zgnNEsFY6yKa",
    "outputId": "05dba8a7-f2f2-43a8-ea12-2d25bf2982a7"
   },
   "outputs": [
    {
     "data": {
      "text/plain": [
       "26"
      ]
     },
     "execution_count": 25,
     "metadata": {
      "tags": []
     },
     "output_type": "execute_result"
    }
   ],
   "source": [
    "A  =[80 , 45, 26, 100]\n",
    "pick_a_num(A)"
   ]
  },
  {
   "cell_type": "code",
   "execution_count": 0,
   "metadata": {
    "colab": {},
    "colab_type": "code",
    "id": "bTGFm9he66c7"
   },
   "outputs": [],
   "source": [
    "final_list = [pick_a_num(A) for x in range(100)]"
   ]
  },
  {
   "cell_type": "markdown",
   "metadata": {
    "colab_type": "text",
    "id": "4y5cVUzW9kyv"
   },
   "source": [
    "**Implementing counter dictionary without using collections module**\n"
   ]
  },
  {
   "cell_type": "code",
   "execution_count": 0,
   "metadata": {
    "colab": {},
    "colab_type": "code",
    "id": "LgabTmZj_fih"
   },
   "outputs": [],
   "source": [
    "#making list with element and its count as a tuple ex: [(100,41),(80,31), (45,15), (26,13)]\n",
    "def count_elements(final_list):\n",
    "\n",
    "  count_list = []\n",
    "\n",
    "  for ele in A:\n",
    "    cnt = final_list.count(ele)\n",
    "    count_list.append((ele,cnt))\n",
    "\n",
    "  #making dict\n",
    "  count_dict = dict(count_list)\n",
    "\n",
    "  #Sorting a dictionary\n",
    "  count_dict = dict(sorted(count_dict.items() ,key=lambda kv:kv[0] , reverse = True))\n",
    "  print(count_dict)\n"
   ]
  },
  {
   "cell_type": "code",
   "execution_count": 28,
   "metadata": {
    "colab": {
     "base_uri": "https://localhost:8080/",
     "height": 34
    },
    "colab_type": "code",
    "executionInfo": {
     "elapsed": 2317,
     "status": "ok",
     "timestamp": 1586338028108,
     "user": {
      "displayName": "sai pranay",
      "photoUrl": "https://lh3.googleusercontent.com/a-/AOh14GjyB5JboSBGwlexnx3OL2bCYVbj8I1ql6iKg4_XtQ=s64",
      "userId": "17020403249068426867"
     },
     "user_tz": -330
    },
    "id": "wT3Ue_gK9vpC",
    "outputId": "8f688502-7c53-4043-b4c8-1873eb97833b"
   },
   "outputs": [
    {
     "name": "stdout",
     "output_type": "stream",
     "text": [
      "{100: 37, 80: 31, 45: 20, 26: 12}\n"
     ]
    }
   ],
   "source": [
    "count_elements(final_list)"
   ]
  },
  {
   "cell_type": "code",
   "execution_count": 0,
   "metadata": {
    "colab": {},
    "colab_type": "code",
    "id": "QGT1_QdlKnNz"
   },
   "outputs": [],
   "source": []
  },
  {
   "cell_type": "code",
   "execution_count": 0,
   "metadata": {
    "colab": {},
    "colab_type": "code",
    "id": "GDdeR79AF4k0"
   },
   "outputs": [],
   "source": []
  },
  {
   "cell_type": "markdown",
   "metadata": {
    "colab_type": "text",
    "id": "CPwRIaPhWbyD"
   },
   "source": [
    "#Program 3"
   ]
  },
  {
   "cell_type": "markdown",
   "metadata": {
    "colab_type": "text",
    "id": "7161XX5Mu40o"
   },
   "source": [
    "##Final solution 3"
   ]
  },
  {
   "cell_type": "markdown",
   "metadata": {
    "colab_type": "text",
    "id": "D1xQy2WWB-kq"
   },
   "source": [
    "<h3> Q3: Replace the digits in the string with #</h3>\n",
    "\n",
    "consider a string that will have digits in that, we need to remove all the not digits and replace the digits with #\n",
    "<pre>\n",
    "Ex 1: A = 234                Output: ###\n",
    "Ex 2: A = a2b3c4             Output: ###\n",
    "Ex 3: A = abc                Output:   (empty string)\n",
    "Ex 5: A = #2a$#b%c%561#      Output: ####\n",
    "</pre>"
   ]
  },
  {
   "cell_type": "code",
   "execution_count": 0,
   "metadata": {
    "colab": {},
    "colab_type": "code",
    "id": "fxczi2jzB-kr"
   },
   "outputs": [],
   "source": [
    "import re\n",
    "# write your python code here\n",
    "# you can take the above example as sample input for your program to test\n",
    "# it should work for any general input try not to hard code for only given input examples\n",
    "\n",
    "# you can free to change all these codes/structure\n",
    "# String: it will be the input to your program\n",
    "\n",
    "def replace_digits(text):\n",
    "  #Replacing the non-digit characters with empty string\n",
    "  text = re.sub('[^0-9]', '',text)\n",
    "\n",
    "  #replacing the digits with '#'\n",
    "  text = re.sub('[0-9]','#',text)\n",
    "  return text"
   ]
  },
  {
   "cell_type": "code",
   "execution_count": 30,
   "metadata": {
    "colab": {
     "base_uri": "https://localhost:8080/",
     "height": 84
    },
    "colab_type": "code",
    "executionInfo": {
     "elapsed": 922,
     "status": "ok",
     "timestamp": 1586338031878,
     "user": {
      "displayName": "sai pranay",
      "photoUrl": "https://lh3.googleusercontent.com/a-/AOh14GjyB5JboSBGwlexnx3OL2bCYVbj8I1ql6iKg4_XtQ=s64",
      "userId": "17020403249068426867"
     },
     "user_tz": -330
    },
    "id": "2O23GKM2a55e",
    "outputId": "16578605-0de6-4dcc-c460-721937a51229"
   },
   "outputs": [
    {
     "name": "stdout",
     "output_type": "stream",
     "text": [
      "###\n",
      "###\n",
      "\n",
      "####\n"
     ]
    }
   ],
   "source": [
    "print(replace_digits('234'))\n",
    "print(replace_digits('a2b3c4'))\n",
    "print(replace_digits('abc'))\n",
    "print(replace_digits('#2a$#b%c%561#'))"
   ]
  },
  {
   "cell_type": "markdown",
   "metadata": {
    "colab_type": "text",
    "id": "5cWDItuUa6Gf"
   },
   "source": [
    "**solution 3 -- without using RE**"
   ]
  },
  {
   "cell_type": "code",
   "execution_count": 0,
   "metadata": {
    "colab": {},
    "colab_type": "code",
    "id": "y6Um9opDbK0Z"
   },
   "outputs": [],
   "source": [
    "def replace_digits2(string):\n",
    "  l = list(string)\n",
    "  list(map(lambda x: x.isdigit(),l))\n",
    "  num = sum( list(map(lambda x: x.isdigit(),l)) )\n",
    "  return '#'*num\n"
   ]
  },
  {
   "cell_type": "code",
   "execution_count": 32,
   "metadata": {
    "colab": {
     "base_uri": "https://localhost:8080/",
     "height": 84
    },
    "colab_type": "code",
    "executionInfo": {
     "elapsed": 1275,
     "status": "ok",
     "timestamp": 1586338034790,
     "user": {
      "displayName": "sai pranay",
      "photoUrl": "https://lh3.googleusercontent.com/a-/AOh14GjyB5JboSBGwlexnx3OL2bCYVbj8I1ql6iKg4_XtQ=s64",
      "userId": "17020403249068426867"
     },
     "user_tz": -330
    },
    "id": "zwEfiBqkbbTW",
    "outputId": "8626a4c4-f124-4cb2-958d-ad689b4c8118"
   },
   "outputs": [
    {
     "name": "stdout",
     "output_type": "stream",
     "text": [
      "###\n",
      "###\n",
      "\n",
      "####\n"
     ]
    }
   ],
   "source": [
    "\n",
    "print(replace_digits2('234'))\n",
    "print(replace_digits2('a2b3c4'))\n",
    "print(replace_digits2('abc'))\n",
    "print(replace_digits2('#2a$#b%c%561#'))"
   ]
  },
  {
   "cell_type": "code",
   "execution_count": 0,
   "metadata": {
    "colab": {},
    "colab_type": "code",
    "id": "qnDrXYNZbKxj"
   },
   "outputs": [],
   "source": []
  },
  {
   "cell_type": "markdown",
   "metadata": {
    "colab_type": "text",
    "id": "HlpNY_2hWjkk"
   },
   "source": [
    "#Program 4"
   ]
  },
  {
   "cell_type": "markdown",
   "metadata": {
    "colab_type": "text",
    "id": "j7h0Ywg7B-kw"
   },
   "source": [
    "<h3> Q4: Students marks dashboard</h3>\n",
    "\n",
    "consider the marks list of class students given two lists <br>\n",
    "Students = ['student1','student2','student3','student4','student5','student6','student7','student8','student9','student10'] <br>\n",
    "Marks = [45, 78, 12, 14, 48, 43, 45, 98, 35, 80] <br>\n",
    "from the above two lists the Student[0] got Marks[0],  Student[1] got Marks[1] and so on <br><br>\n",
    "your task is to print the name of students\n",
    "<strong>a. Who got top 5 ranks, in the descending order of marks</strong> <br>\n",
    "<strong>b. Who got least 5 ranks, in the increasing order of marks</strong><br>\n",
    "<strong>c. Who got marks between  &gt;25th percentile &lt;75th percentile, in the increasing order of marks</strong>\n",
    "\n",
    "<pre>\n",
    "Ex 1: \n",
    "Students=['student1','student2','student3','student4','student5','student6','student7','student8','student9','student10'] \n",
    "Marks = [45, 78, 12, 14, 48, 43, 47, 98, 35, 80]\n",
    "a. \n",
    "student8  98\n",
    "student10 80\n",
    "student2  78\n",
    "student5  48\n",
    "student7  47\n",
    "b.\n",
    "student3 12\n",
    "student4 14\n",
    "student9 35\n",
    "student6 43\n",
    "student1 45\n",
    "c.\n",
    "student9 35\n",
    "student6 43\n",
    "student1 45\n",
    "student7 47\n",
    "student5 48\n",
    "</pre>"
   ]
  },
  {
   "cell_type": "markdown",
   "metadata": {
    "colab_type": "text",
    "id": "F14OxXx-faeI"
   },
   "source": [
    "Understnding percentile calcuation \n",
    "\n",
    "https://www.dummies.com/education/math/statistics/how-to-calculate-percentiles-in-statistics/\n",
    "\n",
    "**Creating percentile function to use in the next code**"
   ]
  },
  {
   "cell_type": "code",
   "execution_count": 33,
   "metadata": {
    "colab": {
     "base_uri": "https://localhost:8080/",
     "height": 34
    },
    "colab_type": "code",
    "executionInfo": {
     "elapsed": 1322,
     "status": "ok",
     "timestamp": 1586338042746,
     "user": {
      "displayName": "sai pranay",
      "photoUrl": "https://lh3.googleusercontent.com/a-/AOh14GjyB5JboSBGwlexnx3OL2bCYVbj8I1ql6iKg4_XtQ=s64",
      "userId": "17020403249068426867"
     },
     "user_tz": -330
    },
    "id": "IyFfdm-gfYT1",
    "outputId": "3161a787-f10e-4fe5-e95d-8a19708722da"
   },
   "outputs": [
    {
     "data": {
      "text/plain": [
       "96"
      ]
     },
     "execution_count": 33,
     "metadata": {
      "tags": []
     },
     "output_type": "execute_result"
    }
   ],
   "source": [
    "#function to calculate the percentile from a list of numbers\n",
    "\n",
    "def my_percentile(marks , p):\n",
    "\n",
    "  #p = percentile to be calculated\n",
    "  #N = no of points in the list\n",
    "\n",
    "  marks = sorted(marks)  #sorting is must to calculate the percentile\n",
    "  N = len(marks)\n",
    "  index = (p/100)*N\n",
    "  #Rounding index to nearest integer\n",
    "  index = round(index)\n",
    "  return marks[index-1]  #because lets say you want 23rd ele then it shud be marks[22]\n",
    "\n",
    "#Example to calculate 90th percentile\n",
    "values = [43, 54, 56, 61, 62, 66, 68, 69, 69, 70, 71, 72, 77, 78, 79, 85, 87, 88, 89, 93, 95, 96, 98, 99, 99]\n",
    "p =90\n",
    "my_percentile(values,p)"
   ]
  },
  {
   "cell_type": "markdown",
   "metadata": {
    "colab_type": "text",
    "id": "thNjAJsHBq3t"
   },
   "source": [
    "**To understand the solution clearly please go through the below code step by step**"
   ]
  },
  {
   "cell_type": "markdown",
   "metadata": {
    "colab_type": "text",
    "id": "cFgt4SU5bB1X"
   },
   "source": [
    "## Final solution 4"
   ]
  },
  {
   "cell_type": "code",
   "execution_count": 0,
   "metadata": {
    "colab": {},
    "colab_type": "code",
    "id": "cxPJgItsB-kx"
   },
   "outputs": [],
   "source": [
    "# write your python code here\n",
    "# you can take the above example as sample input for your program to test\n",
    "# it should work for any general input try not to hard code for only given input examples\n",
    "\n",
    "# you can free to change all these codes/structure\n",
    "def display_dash_board(students, marks):\n",
    "\n",
    "  students_marks = list(zip(students,marks))\n",
    "\n",
    "  #a sorting students_marks based on marks in DESC order of marks\n",
    "  students_marks = sorted(students_marks,key= lambda x:x[1] , reverse = True)\n",
    "  top_5_students = students_marks[0:5]\n",
    "\n",
    "  #b sorting students_marks based on marks in ASC order of marks\n",
    "  students_marks = sorted(students_marks,key= lambda x:x[1] , reverse = False)\n",
    "  least_5_students = students_marks[0:5]\n",
    "\n",
    "  #c. Who got marks between >25th percentile <75th percentile, in the increasing order of marks\n",
    "  #using percentile func created -- p25 --> 25th percentile value\n",
    "  p25 = my_percentile(marks,25)  \n",
    "  p75 = my_percentile(marks,75)\n",
    "\n",
    "  p25_75_list = list(filter( lambda x:(x[1]>p25 and x[1]<p75) ,students_marks))\n",
    "  students_within_25_and_75 = p25_75_list\n",
    "  \n",
    "\n",
    "  return top_5_students, least_5_students, students_within_25_and_75\n",
    "\n"
   ]
  },
  {
   "cell_type": "code",
   "execution_count": 35,
   "metadata": {
    "colab": {
     "base_uri": "https://localhost:8080/",
     "height": 319
    },
    "colab_type": "code",
    "executionInfo": {
     "elapsed": 773,
     "status": "ok",
     "timestamp": 1586338046647,
     "user": {
      "displayName": "sai pranay",
      "photoUrl": "https://lh3.googleusercontent.com/a-/AOh14GjyB5JboSBGwlexnx3OL2bCYVbj8I1ql6iKg4_XtQ=s64",
      "userId": "17020403249068426867"
     },
     "user_tz": -330
    },
    "id": "oAQVsAIXdwqL",
    "outputId": "daaf2b72-b1e6-498d-faff-cf51c2c54763"
   },
   "outputs": [
    {
     "name": "stdout",
     "output_type": "stream",
     "text": [
      "a.\n",
      "student8     98\n",
      "student10    80\n",
      "student2     78\n",
      "student5     48\n",
      "student7     47\n",
      "b.\n",
      "student3     12\n",
      "student4     14\n",
      "student9     35\n",
      "student6     43\n",
      "student1     45\n",
      "c\n",
      "student9     35\n",
      "student6     43\n",
      "student1     45\n",
      "student7     47\n",
      "student5     48\n"
     ]
    }
   ],
   "source": [
    "students=['student1','student2','student3','student4','student5','student6','student7','student8','student9','student10'] \n",
    "marks = [45, 78, 12, 14, 48, 43, 47, 98, 35, 80]\n",
    "top_5_students, least_5_students, students_within_25_and_75 = display_dash_board(students, marks)\n",
    "\n",
    "#printing results\n",
    "\n",
    "print('a.')\n",
    "for stud,mark in top_5_students:\n",
    "  print('{a:12} {b:2}'.format(a=stud,b=mark))\n",
    "  #print(stud,' ',mark)\n",
    "\n",
    "print('b.')\n",
    "for stud,mark in least_5_students:\n",
    "  print('{a:12} {b:2}'.format(a=stud,b=mark))\n",
    "  #print(stud,' ',mark)\n",
    "\n",
    "print('c')\n",
    "for stud,mark in students_within_25_and_75:\n",
    "  print('{a:12} {b:2}'.format(a=stud,b=mark))\n",
    "  #print(stud,' ',mark)"
   ]
  },
  {
   "cell_type": "markdown",
   "metadata": {
    "colab_type": "text",
    "id": "JhvExdzUgQYB"
   },
   "source": [
    "**How to use filter function**"
   ]
  },
  {
   "cell_type": "code",
   "execution_count": 36,
   "metadata": {
    "colab": {
     "base_uri": "https://localhost:8080/",
     "height": 34
    },
    "colab_type": "code",
    "executionInfo": {
     "elapsed": 1336,
     "status": "ok",
     "timestamp": 1586338050437,
     "user": {
      "displayName": "sai pranay",
      "photoUrl": "https://lh3.googleusercontent.com/a-/AOh14GjyB5JboSBGwlexnx3OL2bCYVbj8I1ql6iKg4_XtQ=s64",
      "userId": "17020403249068426867"
     },
     "user_tz": -330
    },
    "id": "W6KVJ9wAYXrd",
    "outputId": "1268647c-e05b-447e-f347-2484a15a28bc"
   },
   "outputs": [
    {
     "name": "stdout",
     "output_type": "stream",
     "text": [
      "[6, 7, 8]\n"
     ]
    }
   ],
   "source": [
    "#How to use FILTER\n",
    "#filter the values between 5 and 9 from [0, 1, 2, 3, 4, 5, 6, 7, 8, 9]\n",
    "l = [x for x in range(10)]\n",
    "print(list(filter(lambda x: (x>5and x<9),l )))"
   ]
  },
  {
   "cell_type": "code",
   "execution_count": 0,
   "metadata": {
    "colab": {},
    "colab_type": "code",
    "id": "rGjiDX9PRBJO"
   },
   "outputs": [],
   "source": []
  },
  {
   "cell_type": "markdown",
   "metadata": {
    "colab_type": "text",
    "id": "na6jv2viDtmx"
   },
   "source": [
    "***Decoding above code Step by Step***"
   ]
  },
  {
   "cell_type": "code",
   "execution_count": 0,
   "metadata": {
    "colab": {},
    "colab_type": "code",
    "id": "AcdF9NL0DkBM"
   },
   "outputs": [],
   "source": [
    "students=['student1','student2','student3','student4','student5','student6','student7','student8','student9','student10'] \n",
    "marks = [45, 78, 12, 14, 48, 43, 47, 98, 35, 80]"
   ]
  },
  {
   "cell_type": "code",
   "execution_count": 39,
   "metadata": {
    "colab": {
     "base_uri": "https://localhost:8080/",
     "height": 185
    },
    "colab_type": "code",
    "executionInfo": {
     "elapsed": 1083,
     "status": "ok",
     "timestamp": 1586338081408,
     "user": {
      "displayName": "sai pranay",
      "photoUrl": "https://lh3.googleusercontent.com/a-/AOh14GjyB5JboSBGwlexnx3OL2bCYVbj8I1ql6iKg4_XtQ=s64",
      "userId": "17020403249068426867"
     },
     "user_tz": -330
    },
    "id": "p6JO_eHsMEG4",
    "outputId": "74c1f747-c9f2-442e-c1bd-843e3d999ea9"
   },
   "outputs": [
    {
     "data": {
      "text/plain": [
       "[('student1', 45),\n",
       " ('student2', 78),\n",
       " ('student3', 12),\n",
       " ('student4', 14),\n",
       " ('student5', 48),\n",
       " ('student6', 43),\n",
       " ('student7', 47),\n",
       " ('student8', 98),\n",
       " ('student9', 35),\n",
       " ('student10', 80)]"
      ]
     },
     "execution_count": 39,
     "metadata": {
      "tags": []
     },
     "output_type": "execute_result"
    }
   ],
   "source": [
    "\n",
    "#a #top 5 ranks in desc order of marks\n",
    "#first lets zip then and then sort\n",
    "\n",
    "students_marks = list(zip(students,marks))\n",
    "students_marks"
   ]
  },
  {
   "cell_type": "code",
   "execution_count": 0,
   "metadata": {
    "colab": {},
    "colab_type": "code",
    "id": "isaTxi0LMpNl"
   },
   "outputs": [],
   "source": [
    "#sorting students_marks based on marks in desc order of marks\n",
    "students_marks = sorted(students_marks,key= lambda x:x[1] , reverse = True)"
   ]
  },
  {
   "cell_type": "code",
   "execution_count": 41,
   "metadata": {
    "colab": {
     "base_uri": "https://localhost:8080/",
     "height": 118
    },
    "colab_type": "code",
    "executionInfo": {
     "elapsed": 1331,
     "status": "ok",
     "timestamp": 1586338083559,
     "user": {
      "displayName": "sai pranay",
      "photoUrl": "https://lh3.googleusercontent.com/a-/AOh14GjyB5JboSBGwlexnx3OL2bCYVbj8I1ql6iKg4_XtQ=s64",
      "userId": "17020403249068426867"
     },
     "user_tz": -330
    },
    "id": "yecEli7-NenO",
    "outputId": "920eb8d8-fb0b-4462-9312-add9806b2c58"
   },
   "outputs": [
    {
     "name": "stdout",
     "output_type": "stream",
     "text": [
      "a\n",
      "student8     98\n",
      "student10    80\n",
      "student2     78\n",
      "student5     48\n",
      "student7     47\n"
     ]
    }
   ],
   "source": [
    "print('a')\n",
    "for stud,mark in students_marks[0:5]:\n",
    "  print('{a:12} {b:2}'.format(a=stud,b=mark))\n",
    "  #print(stud,' ',mark)"
   ]
  },
  {
   "cell_type": "code",
   "execution_count": 0,
   "metadata": {
    "colab": {},
    "colab_type": "code",
    "id": "GAmoYJSqN5on"
   },
   "outputs": [],
   "source": [
    "#sorting students_marks based on marks in ASC order of marks\n",
    "students_marks = sorted(students_marks,key= lambda x:x[1] , reverse = False)"
   ]
  },
  {
   "cell_type": "code",
   "execution_count": 43,
   "metadata": {
    "colab": {
     "base_uri": "https://localhost:8080/",
     "height": 118
    },
    "colab_type": "code",
    "executionInfo": {
     "elapsed": 1126,
     "status": "ok",
     "timestamp": 1586338084569,
     "user": {
      "displayName": "sai pranay",
      "photoUrl": "https://lh3.googleusercontent.com/a-/AOh14GjyB5JboSBGwlexnx3OL2bCYVbj8I1ql6iKg4_XtQ=s64",
      "userId": "17020403249068426867"
     },
     "user_tz": -330
    },
    "id": "JIoBSNQyOVXP",
    "outputId": "dc16290f-d70a-4a87-a584-682bd886697d"
   },
   "outputs": [
    {
     "name": "stdout",
     "output_type": "stream",
     "text": [
      "b\n",
      "student3   12\n",
      "student4   14\n",
      "student9   35\n",
      "student6   43\n",
      "student1   45\n"
     ]
    }
   ],
   "source": [
    "print('b')\n",
    "for stud,mark in students_marks[0:5]:\n",
    "  print(stud,' ',mark)"
   ]
  },
  {
   "cell_type": "code",
   "execution_count": 44,
   "metadata": {
    "colab": {
     "base_uri": "https://localhost:8080/",
     "height": 34
    },
    "colab_type": "code",
    "executionInfo": {
     "elapsed": 736,
     "status": "ok",
     "timestamp": 1586338085517,
     "user": {
      "displayName": "sai pranay",
      "photoUrl": "https://lh3.googleusercontent.com/a-/AOh14GjyB5JboSBGwlexnx3OL2bCYVbj8I1ql6iKg4_XtQ=s64",
      "userId": "17020403249068426867"
     },
     "user_tz": -330
    },
    "id": "gleNuIq6OaIZ",
    "outputId": "458738f4-56f6-4107-f287-6071a5d43f8c"
   },
   "outputs": [
    {
     "name": "stdout",
     "output_type": "stream",
     "text": [
      "14 78\n"
     ]
    }
   ],
   "source": [
    "#c. Who got marks between >25th percentile <75th percentile, in the increasing order of marks\n",
    "#using percentile func created -- p25 --> 25th percentile value\n",
    "p25 = my_percentile(marks,25)  \n",
    "p75 = my_percentile(marks,75)\n",
    "print(p25 , p75)"
   ]
  },
  {
   "cell_type": "code",
   "execution_count": 45,
   "metadata": {
    "colab": {
     "base_uri": "https://localhost:8080/",
     "height": 34
    },
    "colab_type": "code",
    "executionInfo": {
     "elapsed": 1203,
     "status": "ok",
     "timestamp": 1586338086925,
     "user": {
      "displayName": "sai pranay",
      "photoUrl": "https://lh3.googleusercontent.com/a-/AOh14GjyB5JboSBGwlexnx3OL2bCYVbj8I1ql6iKg4_XtQ=s64",
      "userId": "17020403249068426867"
     },
     "user_tz": -330
    },
    "id": "_FfkpcF7QRNA",
    "outputId": "50bdc8a8-40a1-40cd-82fe-3dd73c4cc1a0"
   },
   "outputs": [
    {
     "name": "stdout",
     "output_type": "stream",
     "text": [
      "[6, 7, 8]\n"
     ]
    }
   ],
   "source": [
    "#How to use FILTER\n",
    "#filter the values between 5 and 9 from [0, 1, 2, 3, 4, 5, 6, 7, 8, 9]\n",
    "l = [x for x in range(10)]\n",
    "print(list(filter(lambda x: (x>5and x<9),l )))"
   ]
  },
  {
   "cell_type": "markdown",
   "metadata": {
    "colab_type": "text",
    "id": "eyxdHmeXWxv4"
   },
   "source": [
    "#Program 5"
   ]
  },
  {
   "cell_type": "markdown",
   "metadata": {
    "colab_type": "text",
    "id": "qha0OhQHB-k1"
   },
   "source": [
    "<h3> Q5: Find the closest points</h3>\n",
    "\n",
    "consider you have given n data points in the form of list of tuples like S=[(x1,y1),(x2,y2),(x3,y3),(x4,y4),(x5,y5),..,(xn,yn)] and a point P=(p,q) <br> your task is to find 5 closest points(based on cosine distance) in S from P\n",
    "<br>cosine distance between two points (x,y) and (p,q) is defind as $cos^{-1}(\\frac{(x\\cdot p+y\\cdot q)}{\\sqrt(x^2+y^2)\\cdot\\sqrt(p^2+q^2)})$\n",
    "<pre>\n",
    "Ex:\n",
    "\n",
    "S= [(1,2),(3,4),(-1,1),(6,-7),(0, 6),(-5,-8),(-1,-1),(6,0),(1,-1)]\n",
    "P= (3,-4)\n",
    "<img src='https://i.imgur.com/vIFPOcG.jpg', width=300>\n",
    "Output:\n",
    "(6,-7)\n",
    "(1,-1)\n",
    "(6,0)\n",
    "(-5,-8)\n",
    "(-1,-1)\n",
    "</pre>"
   ]
  },
  {
   "cell_type": "code",
   "execution_count": 46,
   "metadata": {
    "colab": {
     "base_uri": "https://localhost:8080/",
     "height": 34
    },
    "colab_type": "code",
    "executionInfo": {
     "elapsed": 1051,
     "status": "ok",
     "timestamp": 1586338090786,
     "user": {
      "displayName": "sai pranay",
      "photoUrl": "https://lh3.googleusercontent.com/a-/AOh14GjyB5JboSBGwlexnx3OL2bCYVbj8I1ql6iKg4_XtQ=s64",
      "userId": "17020403249068426867"
     },
     "user_tz": -330
    },
    "id": "EWzKhEmTV_oE",
    "outputId": "3faf3fe9-1f90-4cfc-abd2-541153056972"
   },
   "outputs": [
    {
     "name": "stdout",
     "output_type": "stream",
     "text": [
      "0.0\n"
     ]
    }
   ],
   "source": [
    "#Func to calc Cosine dist btw points P and Q\n",
    "import math\n",
    "\n",
    "def cosine_dist(P,Q):\n",
    "  x,y = P\n",
    "  p,q = Q \n",
    "\n",
    "  dist = math.acos( (x*p+y*q)/\n",
    "                   (math.sqrt(x**2+y**2) * math.sqrt(p**2+q**2))  )\n",
    "  return dist\n",
    "\n",
    "P = 1,0\n",
    "Q = 2,0\n",
    "print(cosine_dist(P,Q)) #Angle between P and Q is 0 so cosine dist is 0\n"
   ]
  },
  {
   "cell_type": "code",
   "execution_count": 47,
   "metadata": {
    "colab": {
     "base_uri": "https://localhost:8080/",
     "height": 34
    },
    "colab_type": "code",
    "executionInfo": {
     "elapsed": 917,
     "status": "ok",
     "timestamp": 1586338092032,
     "user": {
      "displayName": "sai pranay",
      "photoUrl": "https://lh3.googleusercontent.com/a-/AOh14GjyB5JboSBGwlexnx3OL2bCYVbj8I1ql6iKg4_XtQ=s64",
      "userId": "17020403249068426867"
     },
     "user_tz": -330
    },
    "id": "4x2SVDEGXV8F",
    "outputId": "0a47a371-6d4c-4a07-a8f1-c4151d6ca1c3"
   },
   "outputs": [
    {
     "name": "stdout",
     "output_type": "stream",
     "text": [
      "0.19739555984988044\n"
     ]
    }
   ],
   "source": [
    "P = 1,0\n",
    "Q = 5,1\n",
    "print(cosine_dist(P,Q))"
   ]
  },
  {
   "cell_type": "code",
   "execution_count": 48,
   "metadata": {
    "colab": {
     "base_uri": "https://localhost:8080/",
     "height": 34
    },
    "colab_type": "code",
    "executionInfo": {
     "elapsed": 761,
     "status": "ok",
     "timestamp": 1586338093384,
     "user": {
      "displayName": "sai pranay",
      "photoUrl": "https://lh3.googleusercontent.com/a-/AOh14GjyB5JboSBGwlexnx3OL2bCYVbj8I1ql6iKg4_XtQ=s64",
      "userId": "17020403249068426867"
     },
     "user_tz": -330
    },
    "id": "truAeBtRXYwq",
    "outputId": "dde46bc4-ccd1-4cb2-b2ef-57febf667b0c"
   },
   "outputs": [
    {
     "name": "stdout",
     "output_type": "stream",
     "text": [
      "0.19739555984988044\n"
     ]
    }
   ],
   "source": [
    "P = 1,0\n",
    "R = 5,1\n",
    "print(cosine_dist(P,R))"
   ]
  },
  {
   "cell_type": "markdown",
   "metadata": {
    "colab_type": "text",
    "id": "xw7dzrvlVSmA"
   },
   "source": [
    "\n",
    "```\n",
    "Explaination of Cosine dist or Angular similarity:\n",
    "let us consider 3 points P (1,0) , Q (2,1) , R (5,1)\n",
    "using Cosine distance function from above: \n",
    "\n",
    "PQ = 0.46364760900080615  \n",
    "PR = 0.19739555984988044\n",
    "\n",
    "Angular distance btw P and Q is more when compared to P and R\n",
    "Angular distance or seperation: PQ > PR\n",
    "\n",
    "conclusion:\n",
    "P and R are more simlar that P and Q\n",
    " ```\n",
    "\n"
   ]
  },
  {
   "cell_type": "markdown",
   "metadata": {
    "colab_type": "text",
    "id": "2IVdaDtYYki2"
   },
   "source": [
    "**Task**\n",
    "\n",
    "To find the 5 angularly closer points to Q from given points list\n",
    "\n",
    "Find the 5 points wih least cosine dist"
   ]
  },
  {
   "cell_type": "markdown",
   "metadata": {
    "colab_type": "text",
    "id": "g0gYj7jDhCxh"
   },
   "source": [
    "##Final solution 5"
   ]
  },
  {
   "cell_type": "code",
   "execution_count": 0,
   "metadata": {
    "colab": {},
    "colab_type": "code",
    "id": "wA5I1g-2B-k2"
   },
   "outputs": [],
   "source": [
    "import math\n",
    "\n",
    "Q #Query point\n",
    "\n",
    "def closest_points_to_Q(points, Q):\n",
    "  \n",
    "  #calc cosine dist between Q and each point in points_list\n",
    "  # https://stackoverflow.com/questions/10212445/python-map-list-item-to-function-with-arguments\n",
    "\n",
    "  #list(map(lambda p:cosine_dist(q,p),points))\n",
    "  distances = [cosine_dist(P,Q) for P in points]\n",
    "\n",
    "  points_distances = list(zip(points,distances))\n",
    "\n",
    "  #sorting points_distances based on the distance from query point q in ASC order\n",
    "  sorted_points_distances = sorted(points_distances , key = lambda p:p[1])\n",
    "\n",
    "  sorted_points = [point for point,dist in sorted_points_distances]\n",
    "\n",
    "  return sorted_points[0:5] #returning only 5 points\n"
   ]
  },
  {
   "cell_type": "code",
   "execution_count": 50,
   "metadata": {
    "colab": {
     "base_uri": "https://localhost:8080/",
     "height": 118
    },
    "colab_type": "code",
    "executionInfo": {
     "elapsed": 863,
     "status": "ok",
     "timestamp": 1586338100093,
     "user": {
      "displayName": "sai pranay",
      "photoUrl": "https://lh3.googleusercontent.com/a-/AOh14GjyB5JboSBGwlexnx3OL2bCYVbj8I1ql6iKg4_XtQ=s64",
      "userId": "17020403249068426867"
     },
     "user_tz": -330
    },
    "id": "8-5S4cMrbpL9",
    "outputId": "7536af8d-cb70-4559-b101-36df28fa74e0"
   },
   "outputs": [
    {
     "name": "stdout",
     "output_type": "stream",
     "text": [
      "5 nearest points to Q are :\n",
      "(6, -7)\n",
      "(1, -1)\n",
      "(6, 0)\n",
      "(-5, -8)\n",
      "(-1, -1)\n"
     ]
    }
   ],
   "source": [
    "#printing the sample results\n",
    "\n",
    "points= [(1,2),(3,4),(-1,1),(6,-7),(0, 6),(-5,-8),(-1,-1),(6,0),(1,-1)]\n",
    "Q= (3,-4)\n",
    "points_5 = closest_points_to_Q(points,Q)\n",
    "print('5 nearest points to Q are :')\n",
    "for point in points_5:\n",
    "  print(point) #print the returned values"
   ]
  },
  {
   "cell_type": "markdown",
   "metadata": {
    "colab_type": "text",
    "id": "IN4g1kHScGoZ"
   },
   "source": [
    "**Decoding the above code step by step**"
   ]
  },
  {
   "cell_type": "code",
   "execution_count": 51,
   "metadata": {
    "colab": {
     "base_uri": "https://localhost:8080/",
     "height": 54
    },
    "colab_type": "code",
    "executionInfo": {
     "elapsed": 735,
     "status": "ok",
     "timestamp": 1586338101453,
     "user": {
      "displayName": "sai pranay",
      "photoUrl": "https://lh3.googleusercontent.com/a-/AOh14GjyB5JboSBGwlexnx3OL2bCYVbj8I1ql6iKg4_XtQ=s64",
      "userId": "17020403249068426867"
     },
     "user_tz": -330
    },
    "id": "gA-e-02PcLzM",
    "outputId": "05e35dec-31bc-4db4-bef8-0a6c1dd25a16"
   },
   "outputs": [
    {
     "name": "stdout",
     "output_type": "stream",
     "text": [
      "[2.0344439357957027, 1.8545904360032246, 2.9996955989856287, 0.06512516333438509, 2.498091544796509, 1.2021004241368467, 1.4288992721907328, 0.9272952180016123, 0.14189705460416438]\n"
     ]
    }
   ],
   "source": [
    "#calc cosine dist between Q and each point in points_list\n",
    "# https://stackoverflow.com/questions/10212445/python-map-list-item-to-function-with-arguments\n",
    "points =  [(1,2),(3,4),(-1,1),(6,-7),(0, 6),(-5,-8),(-1,-1),(6,0),(1,-1)]\n",
    "Q = (3,-4) #query point\n",
    "\n",
    "#list(map(lambda p:cosine_dist(q,p),points))\n",
    "distances = [cosine_dist(P,Q) for P in points]\n",
    "print(distances)\n"
   ]
  },
  {
   "cell_type": "code",
   "execution_count": 52,
   "metadata": {
    "colab": {
     "base_uri": "https://localhost:8080/",
     "height": 54
    },
    "colab_type": "code",
    "executionInfo": {
     "elapsed": 973,
     "status": "ok",
     "timestamp": 1586338102215,
     "user": {
      "displayName": "sai pranay",
      "photoUrl": "https://lh3.googleusercontent.com/a-/AOh14GjyB5JboSBGwlexnx3OL2bCYVbj8I1ql6iKg4_XtQ=s64",
      "userId": "17020403249068426867"
     },
     "user_tz": -330
    },
    "id": "bZq2F9BWhm5F",
    "outputId": "0159246d-d739-433d-92b4-c42f0c404ff4"
   },
   "outputs": [
    {
     "name": "stdout",
     "output_type": "stream",
     "text": [
      "[((1, 2), 2.0344439357957027), ((3, 4), 1.8545904360032246), ((-1, 1), 2.9996955989856287), ((6, -7), 0.06512516333438509), ((0, 6), 2.498091544796509), ((-5, -8), 1.2021004241368467), ((-1, -1), 1.4288992721907328), ((6, 0), 0.9272952180016123), ((1, -1), 0.14189705460416438)]\n"
     ]
    }
   ],
   "source": [
    "\n",
    "points_distances = list(zip(points,distances))\n",
    "print(points_distances)"
   ]
  },
  {
   "cell_type": "code",
   "execution_count": 53,
   "metadata": {
    "colab": {
     "base_uri": "https://localhost:8080/",
     "height": 54
    },
    "colab_type": "code",
    "executionInfo": {
     "elapsed": 778,
     "status": "ok",
     "timestamp": 1586338102896,
     "user": {
      "displayName": "sai pranay",
      "photoUrl": "https://lh3.googleusercontent.com/a-/AOh14GjyB5JboSBGwlexnx3OL2bCYVbj8I1ql6iKg4_XtQ=s64",
      "userId": "17020403249068426867"
     },
     "user_tz": -330
    },
    "id": "G8DukkBsS2hc",
    "outputId": "a9dd7337-53b4-4908-941f-4ddf9ec178d6"
   },
   "outputs": [
    {
     "name": "stdout",
     "output_type": "stream",
     "text": [
      "[((6, -7), 0.06512516333438509), ((1, -1), 0.14189705460416438), ((6, 0), 0.9272952180016123), ((-5, -8), 1.2021004241368467), ((-1, -1), 1.4288992721907328), ((3, 4), 1.8545904360032246), ((1, 2), 2.0344439357957027), ((0, 6), 2.498091544796509), ((-1, 1), 2.9996955989856287)]\n"
     ]
    }
   ],
   "source": [
    "#sorting points_distances based on the distance from query point q in ASC order\n",
    "sorted_points_distances = sorted(points_distances , key = lambda p:p[1])\n",
    "print(sorted_points_distances)"
   ]
  },
  {
   "cell_type": "code",
   "execution_count": 54,
   "metadata": {
    "colab": {
     "base_uri": "https://localhost:8080/",
     "height": 34
    },
    "colab_type": "code",
    "executionInfo": {
     "elapsed": 1444,
     "status": "ok",
     "timestamp": 1586338104218,
     "user": {
      "displayName": "sai pranay",
      "photoUrl": "https://lh3.googleusercontent.com/a-/AOh14GjyB5JboSBGwlexnx3OL2bCYVbj8I1ql6iKg4_XtQ=s64",
      "userId": "17020403249068426867"
     },
     "user_tz": -330
    },
    "id": "sikgDB6VainI",
    "outputId": "e2a7bdf6-9a14-4ec4-85cb-c92b7c6b1b63"
   },
   "outputs": [
    {
     "data": {
      "text/plain": [
       "[(6, -7), (1, -1), (6, 0), (-5, -8), (-1, -1), (3, 4), (1, 2), (0, 6), (-1, 1)]"
      ]
     },
     "execution_count": 54,
     "metadata": {
      "tags": []
     },
     "output_type": "execute_result"
    }
   ],
   "source": [
    "sorted_points = [point for point,dist in sorted_points_distances]\n",
    "sorted_points"
   ]
  },
  {
   "cell_type": "code",
   "execution_count": 55,
   "metadata": {
    "colab": {
     "base_uri": "https://localhost:8080/",
     "height": 118
    },
    "colab_type": "code",
    "executionInfo": {
     "elapsed": 716,
     "status": "ok",
     "timestamp": 1586338104219,
     "user": {
      "displayName": "sai pranay",
      "photoUrl": "https://lh3.googleusercontent.com/a-/AOh14GjyB5JboSBGwlexnx3OL2bCYVbj8I1ql6iKg4_XtQ=s64",
      "userId": "17020403249068426867"
     },
     "user_tz": -330
    },
    "id": "4e7Qn61fS2hk",
    "outputId": "2c4217e6-b894-4b8b-fa20-bc85938aa166"
   },
   "outputs": [
    {
     "name": "stdout",
     "output_type": "stream",
     "text": [
      "5 nearest points to Q are :\n",
      "(6, -7)\n",
      "(1, -1)\n",
      "(6, 0)\n",
      "(-5, -8)\n",
      "(-1, -1)\n"
     ]
    }
   ],
   "source": [
    "print('5 nearest points to Q are :')\n",
    "for point in sorted_points[0:5]:\n",
    "  print(point)"
   ]
  },
  {
   "cell_type": "code",
   "execution_count": 0,
   "metadata": {
    "colab": {},
    "colab_type": "code",
    "id": "c4hgDjLDSrrV"
   },
   "outputs": [],
   "source": [
    "#code"
   ]
  },
  {
   "cell_type": "markdown",
   "metadata": {
    "colab_type": "text",
    "id": "7lmFo4DsW1qG"
   },
   "source": [
    "#Program 6"
   ]
  },
  {
   "cell_type": "markdown",
   "metadata": {
    "colab_type": "text",
    "id": "-g11jeAiB-k5"
   },
   "source": [
    "<h3> Q6: Find Which line separates oranges and apples</h3>\n",
    "consider you have given two set of data points in the form of list of tuples like \n",
    "<pre>\n",
    "Red =[(R11,R12),(R21,R22),(R31,R32),(R41,R42),(R51,R52),..,(Rn1,Rn2)]\n",
    "Blue=[(B11,B12),(B21,B22),(B31,B32),(B41,B42),(B51,B52),..,(Bm1,Bm2)]\n",
    "</pre>\n",
    "and set of line equations(in the string formate, i.e list of strings)\n",
    "<pre>\n",
    "Lines = [a1x+b1y+c1,a2x+b2y+c2,a3x+b3y+c3,a4x+b4y+c4,..,K lines]\n",
    "Note: you need to string parsing here and get the coefficients of x,y and intercept\n",
    "</pre>\n",
    "your task is to for each line that is given print \"YES\"/\"NO\", you will print yes, if all the red points are one side of the line and blue points are other side of the line, otherwise no\n",
    "<pre>\n",
    "Ex:\n",
    "Red= [(1,1),(2,1),(4,2),(2,4), (-1,4)]\n",
    "Blue= [(-2,-1),(-1,-2),(-3,-2),(-3,-1),(1,-3)]\n",
    "Lines=[\"1x+1y+0\",\"1x-1y+0\",\"1x+0y-3\",\"0x+1y-0.5\"]\n",
    "<img src='https://i.imgur.com/DoQf7mE.jpg' width=400>\n",
    "Output:\n",
    "YES\n",
    "NO\n",
    "NO\n",
    "YES\n",
    "</pre>"
   ]
  },
  {
   "cell_type": "code",
   "execution_count": 0,
   "metadata": {
    "colab": {},
    "colab_type": "code",
    "id": "Ua_0eS7NXkWR"
   },
   "outputs": [],
   "source": []
  },
  {
   "cell_type": "markdown",
   "metadata": {
    "colab_type": "text",
    "id": "_D-08nPI4r7O"
   },
   "source": [
    "**Important Note** \n",
    "\n",
    "\n",
    "\n",
    "```\n",
    "Line eqn must be in the form ax+by+c\n",
    "for line y = -2x+3\n",
    "it shud be 2x+1y-3  not 2x+y-3\n",
    "```\n"
   ]
  },
  {
   "cell_type": "markdown",
   "metadata": {
    "colab_type": "text",
    "id": "_VPkFeLZ6hVC"
   },
   "source": [
    "***My intution to solve this pblm:***\n",
    "\n",
    "\n",
    "\n",
    "```\n",
    "\n",
    "When a line ax+by+c clearly seperates all red points and blue points if and only if any one of the below scenrios is true\n",
    "\n",
    "When we subsitue all red points and blue points in the line equation --> ax+by+c\n",
    "\n",
    "Scenario 1:\n",
    "All red point values --> positive (+) magnitude\n",
    "All blue point values --> negative (-) \n",
    "\n",
    "Scenario 2:\n",
    "All red point values --> negative (-) \n",
    "All blue point values --> positive (+) \n",
    "\n",
    "Else we can say that the line is not seperating all thge RED and BLUE points\n",
    "\n",
    "```\n",
    "\n",
    "\n"
   ]
  },
  {
   "cell_type": "markdown",
   "metadata": {
    "colab_type": "text",
    "id": "-L6fk4bA3skT"
   },
   "source": [
    "\n",
    "\n",
    "```\n",
    "Simple Example:\n",
    "\n",
    "Line1 = L1 = 1x+1y+0\n",
    "Red points --> R1 = (1,1) , R2 = (2,3)\n",
    "Blue points --> B1 = (-2,-3) , B2 = (-5,-1)\n",
    "\n",
    "substituting R1,R2 in L1 \n",
    "we get R1 in L1 = 2 (+ ve)\n",
    "       R2 in L2 = 5 (+ve)\n",
    "\n",
    "substituting B1,B2 in L1 \n",
    "we get B1 in L1 = -5 (- ve)\n",
    "       B2 in L2 = -6 (+ve)\n",
    "\n",
    "As per above scenario 1 , L1 clear seperates Red and Blue points\n",
    "```\n",
    "\n"
   ]
  },
  {
   "cell_type": "markdown",
   "metadata": {
    "colab_type": "text",
    "id": "Mp3nQv6b94fA"
   },
   "source": [
    "**Using eval function and will see how it works**\n",
    "\n",
    "Here I am using eval function to substitue a point in the line eqn as line eqn is provided in strings\n",
    "\n",
    "We can use regular expression also for this one but I am chosing eval over RegEx\n"
   ]
  },
  {
   "cell_type": "code",
   "execution_count": 57,
   "metadata": {
    "colab": {
     "base_uri": "https://localhost:8080/",
     "height": 34
    },
    "colab_type": "code",
    "executionInfo": {
     "elapsed": 1112,
     "status": "ok",
     "timestamp": 1586338109515,
     "user": {
      "displayName": "sai pranay",
      "photoUrl": "https://lh3.googleusercontent.com/a-/AOh14GjyB5JboSBGwlexnx3OL2bCYVbj8I1ql6iKg4_XtQ=s64",
      "userId": "17020403249068426867"
     },
     "user_tz": -330
    },
    "id": "2_mjfn28_K_R",
    "outputId": "d152e84b-7668-47ce-af90-59437fba7040"
   },
   "outputs": [
    {
     "data": {
      "text/plain": [
       "12"
      ]
     },
     "execution_count": 57,
     "metadata": {
      "tags": []
     },
     "output_type": "execute_result"
    }
   ],
   "source": [
    "#Use of eval function\n",
    "x = 2\n",
    "eval('x+10')"
   ]
  },
  {
   "cell_type": "markdown",
   "metadata": {
    "colab_type": "text",
    "id": "IK_-Un81ASQI"
   },
   "source": [
    "**Failure case of eval**\n",
    "\n",
    "```\n",
    "x=2\n",
    "print(eval('3x+5'))\n",
    "\n",
    "It fails with the below error:\n",
    "\n",
    "File \"<string>\", line 1\n",
    "    3x+5\n",
    "     ^\n",
    "SyntaxError: invalid syntax\n",
    "```"
   ]
  },
  {
   "cell_type": "code",
   "execution_count": 58,
   "metadata": {
    "colab": {
     "base_uri": "https://localhost:8080/",
     "height": 34
    },
    "colab_type": "code",
    "executionInfo": {
     "elapsed": 676,
     "status": "ok",
     "timestamp": 1586338110061,
     "user": {
      "displayName": "sai pranay",
      "photoUrl": "https://lh3.googleusercontent.com/a-/AOh14GjyB5JboSBGwlexnx3OL2bCYVbj8I1ql6iKg4_XtQ=s64",
      "userId": "17020403249068426867"
     },
     "user_tz": -330
    },
    "id": "qBtsAPzz_udM",
    "outputId": "e002ac85-ea4c-4458-e6b0-2be341fd9fbe"
   },
   "outputs": [
    {
     "data": {
      "text/plain": [
       "11"
      ]
     },
     "execution_count": 58,
     "metadata": {
      "tags": []
     },
     "output_type": "execute_result"
    }
   ],
   "source": [
    "#Overcoming failure case\n",
    "x =2\n",
    "eval('3*x+5')  #This can be done by replacing x the line Eqn *x  \n",
    "##This can be done by replacing y the line Eqn *y"
   ]
  },
  {
   "cell_type": "code",
   "execution_count": 59,
   "metadata": {
    "colab": {
     "base_uri": "https://localhost:8080/",
     "height": 34
    },
    "colab_type": "code",
    "executionInfo": {
     "elapsed": 833,
     "status": "ok",
     "timestamp": 1586338110664,
     "user": {
      "displayName": "sai pranay",
      "photoUrl": "https://lh3.googleusercontent.com/a-/AOh14GjyB5JboSBGwlexnx3OL2bCYVbj8I1ql6iKg4_XtQ=s64",
      "userId": "17020403249068426867"
     },
     "user_tz": -330
    },
    "id": "tmc_Xu-uScvn",
    "outputId": "c89d1313-f1ae-490b-879a-a934b5d830d6"
   },
   "outputs": [
    {
     "data": {
      "text/plain": [
       "2"
      ]
     },
     "execution_count": 59,
     "metadata": {
      "tags": []
     },
     "output_type": "execute_result"
    }
   ],
   "source": [
    "#Function which to calculate the value when a point p is substituted in line L\n",
    "\n",
    "def sub_p_line(line,point):\n",
    "\n",
    "  x,y = point\n",
    "  line = line.replace('x','*x')\n",
    "  line = line.replace('y','*y')\n",
    "  \n",
    "  return eval(line)\n",
    "\n",
    "#sample\n",
    "L = '2x+3y-6'\n",
    "p = (1,2)\n",
    "sub_p_line(L,p)"
   ]
  },
  {
   "cell_type": "markdown",
   "metadata": {
    "colab_type": "text",
    "id": "5drpbtPpSfP1"
   },
   "source": [
    "##Final solution 6"
   ]
  },
  {
   "cell_type": "code",
   "execution_count": 0,
   "metadata": {
    "colab": {},
    "colab_type": "code",
    "id": "eRxExaTRB-k6"
   },
   "outputs": [],
   "source": [
    "import math\n",
    "# write your python code here\n",
    "# you can take the above example as sample input for your program to test\n",
    "# it should work for any general input try not to hard code for only given input strings\n",
    "\n",
    "\n",
    "# you can free to change all these codes/structure\n",
    "def i_am_the_one(red,blue,line):\n",
    "  \n",
    "  L =line\n",
    "\n",
    "  red_pts_line = [sub_p_line(L,p) for p in red]\n",
    "  blue_pts_line = [sub_p_line(L,p) for p in blue]\n",
    "\n",
    "  #Logic for red_bool and blue_bool\n",
    "  red_bool = [True if x>=0 else False for x in red_pts_line ]\n",
    "\n",
    "  blue_bool = [True if x>=0 else False for x in blue_pts_line ]\n",
    "\n",
    "  # logic to check whether a list has all True or all false\n",
    "  # https://thispointer.com/python-check-if-all-elements-in-a-list-are-same-or-matches-a-condition/\n",
    "\n",
    "  if all( x == red_bool[0] for x in red_bool) & all( x == blue_bool[0] for x in blue_bool) & (red_bool[0] != blue_bool[0]):\n",
    "    return 'Yes'\n",
    "  else:\n",
    "    return 'No'\n"
   ]
  },
  {
   "cell_type": "code",
   "execution_count": 61,
   "metadata": {
    "colab": {
     "base_uri": "https://localhost:8080/",
     "height": 84
    },
    "colab_type": "code",
    "executionInfo": {
     "elapsed": 868,
     "status": "ok",
     "timestamp": 1586338112223,
     "user": {
      "displayName": "sai pranay",
      "photoUrl": "https://lh3.googleusercontent.com/a-/AOh14GjyB5JboSBGwlexnx3OL2bCYVbj8I1ql6iKg4_XtQ=s64",
      "userId": "17020403249068426867"
     },
     "user_tz": -330
    },
    "id": "8p9LqSM9T87A",
    "outputId": "2da3e8ab-0337-4953-9c97-d3dc9e99c22b"
   },
   "outputs": [
    {
     "name": "stdout",
     "output_type": "stream",
     "text": [
      "Yes\n",
      "No\n",
      "No\n",
      "Yes\n"
     ]
    }
   ],
   "source": [
    "\n",
    "Red= [(1,1),(2,1),(4,2),(2,4), (-1,4)]\n",
    "Blue= [(-2,-1),(-1,-2),(-3,-2),(-3,-1),(1,-3)]\n",
    "Lines=[\"1x+1y+0\",\"1x-1y+0\",\"1x+0y-3\",\"0x+1y-0.5\"]\n",
    "\n",
    "for i in Lines:\n",
    "    yes_or_no = i_am_the_one(Red, Blue, i)\n",
    "    print(yes_or_no) # the returned value"
   ]
  },
  {
   "cell_type": "markdown",
   "metadata": {
    "colab_type": "text",
    "id": "ULl4Xjm8SG6o"
   },
   "source": [
    "**Decoding the above code Step by Step to understand the whole pgm clealrly**"
   ]
  },
  {
   "cell_type": "code",
   "execution_count": 0,
   "metadata": {
    "colab": {},
    "colab_type": "code",
    "id": "9Bqq7a8JPxKc"
   },
   "outputs": [],
   "source": [
    "\n",
    "Red= [(1,1),(2,1),(4,2),(2,4), (-1,4)]\n",
    "Blue= [(-2,-1),(-1,-2),(-3,-2),(-3,-1),(1,-3)]\n",
    "Lines=[\"1x+1y+0\",\"1x-1y+0\",\"1x+0y-3\",\"0x+1y-0.5\"]"
   ]
  },
  {
   "cell_type": "code",
   "execution_count": 63,
   "metadata": {
    "colab": {
     "base_uri": "https://localhost:8080/",
     "height": 34
    },
    "colab_type": "code",
    "executionInfo": {
     "elapsed": 748,
     "status": "ok",
     "timestamp": 1586338113887,
     "user": {
      "displayName": "sai pranay",
      "photoUrl": "https://lh3.googleusercontent.com/a-/AOh14GjyB5JboSBGwlexnx3OL2bCYVbj8I1ql6iKg4_XtQ=s64",
      "userId": "17020403249068426867"
     },
     "user_tz": -330
    },
    "id": "Yr-clxJFOygj",
    "outputId": "2646a2f3-f9e1-4148-b1a4-15f4df928ec1"
   },
   "outputs": [
    {
     "data": {
      "text/plain": [
       "2"
      ]
     },
     "execution_count": 63,
     "metadata": {
      "tags": []
     },
     "output_type": "execute_result"
    }
   ],
   "source": [
    "#Function which to calculate the value when a point p is substituted in line L\n",
    "\n",
    "def sub_p_line(line,point):\n",
    "\n",
    "  x,y = point\n",
    "  line = line.replace('x','*x')\n",
    "  line = line.replace('y','*y')\n",
    "  \n",
    "  return eval(line)\n",
    "\n",
    "#sample\n",
    "L = '2x+3y-6'\n",
    "p = (1,2)\n",
    "sub_p_line(L,p)"
   ]
  },
  {
   "cell_type": "code",
   "execution_count": 64,
   "metadata": {
    "colab": {
     "base_uri": "https://localhost:8080/",
     "height": 50
    },
    "colab_type": "code",
    "executionInfo": {
     "elapsed": 1215,
     "status": "ok",
     "timestamp": 1586338114927,
     "user": {
      "displayName": "sai pranay",
      "photoUrl": "https://lh3.googleusercontent.com/a-/AOh14GjyB5JboSBGwlexnx3OL2bCYVbj8I1ql6iKg4_XtQ=s64",
      "userId": "17020403249068426867"
     },
     "user_tz": -330
    },
    "id": "KFxRIkrAOyfb",
    "outputId": "ef8a93ac-f014-4429-c8c6-00706a122b95"
   },
   "outputs": [
    {
     "name": "stdout",
     "output_type": "stream",
     "text": [
      "[2, 3, 6, 6, 3]\n",
      "[-3, -3, -5, -4, -2]\n"
     ]
    }
   ],
   "source": [
    "#Considering one line L and all Red points , Blue points for our ease and calculating magnitudes\n",
    "\n",
    "red= [(1,1),(2,1),(4,2),(2,4), (-1,4)]\n",
    "blue= [(-2,-1),(-1,-2),(-3,-2),(-3,-1),(1,-3)]\n",
    "\n",
    "L = '1x+1y+0'\n",
    "\n",
    "red_pts_line = [sub_p_line(L,p) for p in red]\n",
    "blue_pts_line = [sub_p_line(L,p) for p in blue]\n",
    "\n",
    "print(red_pts_line)\n",
    "print(blue_pts_line)"
   ]
  },
  {
   "cell_type": "code",
   "execution_count": 65,
   "metadata": {
    "colab": {
     "base_uri": "https://localhost:8080/",
     "height": 50
    },
    "colab_type": "code",
    "executionInfo": {
     "elapsed": 1364,
     "status": "ok",
     "timestamp": 1586338115583,
     "user": {
      "displayName": "sai pranay",
      "photoUrl": "https://lh3.googleusercontent.com/a-/AOh14GjyB5JboSBGwlexnx3OL2bCYVbj8I1ql6iKg4_XtQ=s64",
      "userId": "17020403249068426867"
     },
     "user_tz": -330
    },
    "id": "DRHxmLeTOyas",
    "outputId": "28409d07-bedf-43a8-a588-c2ab15e0712f"
   },
   "outputs": [
    {
     "name": "stdout",
     "output_type": "stream",
     "text": [
      "[True, True, True, True, True]\n",
      "[False, False, False, False, False]\n"
     ]
    }
   ],
   "source": [
    "#Logic for red_bool and blue_bool\n",
    "red_bool = [True if x>=0 else False for x in red_pts_line ]\n",
    "print(red_bool)\n",
    "\n",
    "blue_bool = [True if x>=0 else False for x in blue_pts_line ]\n",
    "print(blue_bool)"
   ]
  },
  {
   "cell_type": "code",
   "execution_count": 66,
   "metadata": {
    "colab": {
     "base_uri": "https://localhost:8080/",
     "height": 34
    },
    "colab_type": "code",
    "executionInfo": {
     "elapsed": 1259,
     "status": "ok",
     "timestamp": 1586338116012,
     "user": {
      "displayName": "sai pranay",
      "photoUrl": "https://lh3.googleusercontent.com/a-/AOh14GjyB5JboSBGwlexnx3OL2bCYVbj8I1ql6iKg4_XtQ=s64",
      "userId": "17020403249068426867"
     },
     "user_tz": -330
    },
    "id": "k65paVPsOyYt",
    "outputId": "8badb879-9894-4fc3-991c-5af611478a25"
   },
   "outputs": [
    {
     "name": "stdout",
     "output_type": "stream",
     "text": [
      "Yes\n"
     ]
    }
   ],
   "source": [
    "#logic to check whether a list has all True or all false\n",
    "#  https://thispointer.com/python-check-if-all-elements-in-a-list-are-same-or-matches-a-condition/\n",
    "\n",
    "if all( x == red_bool[0] for x in red_bool) & all( x == blue_bool[0] for x in blue_bool) & (red_bool[0] != blue_bool[0]):\n",
    "  print('Yes')\n",
    "else:\n",
    "  print('No')"
   ]
  },
  {
   "cell_type": "code",
   "execution_count": 0,
   "metadata": {
    "colab": {},
    "colab_type": "code",
    "id": "vtNPXAvLSBLo"
   },
   "outputs": [],
   "source": []
  },
  {
   "cell_type": "code",
   "execution_count": 0,
   "metadata": {
    "colab": {},
    "colab_type": "code",
    "id": "LcIw_ARtSBHt"
   },
   "outputs": [],
   "source": []
  },
  {
   "cell_type": "markdown",
   "metadata": {
    "colab_type": "text",
    "id": "zf4BR4g9OyVY"
   },
   "source": [
    "**Yes or No  logic for all the scenarios:**"
   ]
  },
  {
   "cell_type": "code",
   "execution_count": 67,
   "metadata": {
    "colab": {
     "base_uri": "https://localhost:8080/",
     "height": 34
    },
    "colab_type": "code",
    "executionInfo": {
     "elapsed": 1183,
     "status": "ok",
     "timestamp": 1586338117858,
     "user": {
      "displayName": "sai pranay",
      "photoUrl": "https://lh3.googleusercontent.com/a-/AOh14GjyB5JboSBGwlexnx3OL2bCYVbj8I1ql6iKg4_XtQ=s64",
      "userId": "17020403249068426867"
     },
     "user_tz": -330
    },
    "id": "MBxv9Vn8EU-k",
    "outputId": "be9dc497-6524-4bd6-97bf-55e0a88855eb"
   },
   "outputs": [
    {
     "name": "stdout",
     "output_type": "stream",
     "text": [
      "Yes\n"
     ]
    }
   ],
   "source": [
    "#logic to check whether a list has all True or all false\n",
    "#  https://thispointer.com/python-check-if-all-elements-in-a-list-are-same-or-matches-a-condition/\n",
    "\n",
    "#scenario 1 --> Success , Yes line sepetares the 2 sets of points\n",
    "red_bool = [True,True,True]  \n",
    "blue_bool = [False,False,False]  \n",
    "\n",
    "if all( x == red_bool[0] for x in red_bool) & all( x == blue_bool[0] for x in blue_bool) & (red_bool[0] != blue_bool[0]):\n",
    "  print('Yes')\n",
    "else:\n",
    "  print('No')"
   ]
  },
  {
   "cell_type": "code",
   "execution_count": 68,
   "metadata": {
    "colab": {
     "base_uri": "https://localhost:8080/",
     "height": 34
    },
    "colab_type": "code",
    "executionInfo": {
     "elapsed": 1533,
     "status": "ok",
     "timestamp": 1586338118663,
     "user": {
      "displayName": "sai pranay",
      "photoUrl": "https://lh3.googleusercontent.com/a-/AOh14GjyB5JboSBGwlexnx3OL2bCYVbj8I1ql6iKg4_XtQ=s64",
      "userId": "17020403249068426867"
     },
     "user_tz": -330
    },
    "id": "pjhs1VvVEU5v",
    "outputId": "55ecbc4b-2c18-43ea-c89a-f262e7dc7f5b"
   },
   "outputs": [
    {
     "name": "stdout",
     "output_type": "stream",
     "text": [
      "Yes\n"
     ]
    }
   ],
   "source": [
    "\n",
    "#scenario 2 --> Success , Yes line sepetares the 2 sets of points\n",
    "red_bool = [False,False,False]  \n",
    "blue_bool = [True,True,True]  \n",
    "\n",
    "if all( x == red_bool[0] for x in red_bool) & all( x == blue_bool[0] for x in blue_bool) & (red_bool[0] != blue_bool[0]):\n",
    "  print('Yes')\n",
    "else:\n",
    "  print('No')"
   ]
  },
  {
   "cell_type": "code",
   "execution_count": 69,
   "metadata": {
    "colab": {
     "base_uri": "https://localhost:8080/",
     "height": 34
    },
    "colab_type": "code",
    "executionInfo": {
     "elapsed": 1379,
     "status": "ok",
     "timestamp": 1586338119126,
     "user": {
      "displayName": "sai pranay",
      "photoUrl": "https://lh3.googleusercontent.com/a-/AOh14GjyB5JboSBGwlexnx3OL2bCYVbj8I1ql6iKg4_XtQ=s64",
      "userId": "17020403249068426867"
     },
     "user_tz": -330
    },
    "id": "IBxCUqvGEU31",
    "outputId": "713bf862-742e-4dfa-db1e-c73f0be82f2a"
   },
   "outputs": [
    {
     "name": "stdout",
     "output_type": "stream",
     "text": [
      "No\n"
     ]
    }
   ],
   "source": [
    "#scenario 3 -- mixed case -- failure scenario --> No, line does not seperates the 2 sets of points\n",
    "\n",
    "red_bool = [False,False,True]  \n",
    "blue_bool = [True,False,True]  \n",
    "\n",
    "if all( x == red_bool[0] for x in red_bool) & all( x == blue_bool[0] for x in blue_bool) & (red_bool[0] != blue_bool[0]):\n",
    "  print('Yes')\n",
    "else:\n",
    "  print('No')"
   ]
  },
  {
   "cell_type": "code",
   "execution_count": 70,
   "metadata": {
    "colab": {
     "base_uri": "https://localhost:8080/",
     "height": 34
    },
    "colab_type": "code",
    "executionInfo": {
     "elapsed": 1309,
     "status": "ok",
     "timestamp": 1586338119485,
     "user": {
      "displayName": "sai pranay",
      "photoUrl": "https://lh3.googleusercontent.com/a-/AOh14GjyB5JboSBGwlexnx3OL2bCYVbj8I1ql6iKg4_XtQ=s64",
      "userId": "17020403249068426867"
     },
     "user_tz": -330
    },
    "id": "D3XpAxw1OVhw",
    "outputId": "b12a5c07-c6d8-4f2a-ec14-3cc06a8db8b3"
   },
   "outputs": [
    {
     "name": "stdout",
     "output_type": "stream",
     "text": [
      "No\n"
     ]
    }
   ],
   "source": [
    "#scenario 4 -- mixed case -- failure scenario --> No, line does not seperates the 2 sets of points\n",
    "\n",
    "red_bool = [False,False,False]  \n",
    "blue_bool = [False,False,False]  \n",
    "\n",
    "if all( x == red_bool[0] for x in red_bool) & all( x == blue_bool[0] for x in blue_bool) & (red_bool[0] != blue_bool[0]):\n",
    "  print('Yes')\n",
    "else:\n",
    "  print('No')"
   ]
  },
  {
   "cell_type": "code",
   "execution_count": 71,
   "metadata": {
    "colab": {
     "base_uri": "https://localhost:8080/",
     "height": 34
    },
    "colab_type": "code",
    "executionInfo": {
     "elapsed": 934,
     "status": "ok",
     "timestamp": 1586338119487,
     "user": {
      "displayName": "sai pranay",
      "photoUrl": "https://lh3.googleusercontent.com/a-/AOh14GjyB5JboSBGwlexnx3OL2bCYVbj8I1ql6iKg4_XtQ=s64",
      "userId": "17020403249068426867"
     },
     "user_tz": -330
    },
    "id": "ABi6nM7wOWAg",
    "outputId": "d00d1c07-589d-43c9-b22a-0035d891c325"
   },
   "outputs": [
    {
     "name": "stdout",
     "output_type": "stream",
     "text": [
      "No\n"
     ]
    }
   ],
   "source": [
    "#scenario 5 -- mixed case -- failure scenario --> No, line does not seperates the 2 sets of points\n",
    "\n",
    "red_bool = [True,True,True] \n",
    "blue_bool = [True,True,True]  \n",
    "\n",
    "if all( x == red_bool[0] for x in red_bool) & all( x == blue_bool[0] for x in blue_bool) & (red_bool[0] != blue_bool[0]):\n",
    "  print('Yes')\n",
    "else:\n",
    "  print('No')"
   ]
  },
  {
   "cell_type": "code",
   "execution_count": 0,
   "metadata": {
    "colab": {},
    "colab_type": "code",
    "id": "ZKKpwd8HR3_K"
   },
   "outputs": [],
   "source": []
  },
  {
   "cell_type": "markdown",
   "metadata": {
    "colab_type": "text",
    "id": "BP0srDI3W5YH"
   },
   "source": [
    "#Program 7\n"
   ]
  },
  {
   "cell_type": "markdown",
   "metadata": {
    "colab_type": "text",
    "id": "9OBpURbNB-k9"
   },
   "source": [
    "<h3> Q7: Filling the missing values in the specified formate</h3>\n",
    "You will be given a string with digits and '\\_'(missing value) symbols you have to replace the '\\_' symbols as explained \n",
    "<pre>\n",
    "Ex 1: _, _, _, 24 ==> 24/4, 24/4, 24/4, 24/4 i.e we. have distributed the 24 equally to all 4 places <br>\n",
    "Ex 2: 40, _, _, _, 60 ==> (60+40)/5,(60+40)/5,(60+40)/5,(60+40)/5,(60+40)/5 ==> 20, 20, 20, 20, 20 i.e. the sum of (60+40) is distributed qually to all 5 places<br>\n",
    "Ex 3: 80, _, _, _, _  ==> 80/5,80/5,80/5,80/5,80/5 ==> 16, 16, 16, 16, 16 i.e. the 80 is distributed qually to all 5 missing values that are right to it<br>\n",
    "Ex 4: _, _, 30, _, _, _, 50, _, _  \n",
    "==> we will fill the missing values from left to right \n",
    "    a. first we will distribute the 30 to left two missing values (10, 10, 10, _, _, _, 50, _, _)\n",
    "    b. now distribute the sum (10+50) missing values in between (10, 10, 12, 12, 12, 12, 12, _, _) \n",
    "    c. now we will distribute 12 to right side missing values (10, 10, 12, 12, 12, 12, 4, 4, 4)\n",
    "</pre>\n",
    "for a given string with comma seprate values, which will have both missing values numbers like ex: \"_, _, x, _, _, _\"\n",
    "you need fill the missing values\n",
    "\n",
    "Q: your program reads a string like ex: \"_, _, x, _, _, _\" and returns the filled sequence\n",
    "\n",
    "Ex: \n",
    "<pre>\n",
    "Input1: \"_,_,_,24\"\n",
    "Output1: 6,6,6,6\n",
    "\n",
    "Input2: \"40,_,_,_,60\"\n",
    "Output2: 20,20,20,20,20\n",
    "\n",
    "Input3: \"80,_,_,_,_\"\n",
    "Output3: 16,16,16,16,16\n",
    "\n",
    "Input4: \"_,_,30,_,_,_,50,_,_\"\n",
    "Output4: 10,10,12,12,12,12,4,4,4\n",
    "</pre>\n",
    "\n"
   ]
  },
  {
   "cell_type": "code",
   "execution_count": 0,
   "metadata": {
    "colab": {},
    "colab_type": "code",
    "id": "nZmpzHs_B-k-"
   },
   "outputs": [],
   "source": []
  },
  {
   "cell_type": "markdown",
   "metadata": {
    "colab_type": "text",
    "id": "9GhTHrWdwKOU"
   },
   "source": [
    "\n",
    "**My intution:**\n",
    "\n",
    "```\n",
    "Task is to extract the sub_list from a given list\n",
    "like mentioned in the examples below:\n",
    "\n",
    "Ex1: _, _, 60, _,10 extract first _ _ 60\n",
    "apply function 1 --> [20 20 20 _ 10]\n",
    "\n",
    "Now extract [20 _ 10] from [20 20 20 _ 10]\n",
    "Apply function2 for this [20 _ 10] --> [10 10 10] \n",
    "appemd it to old list\n",
    "\n",
    "we will get [20 20 10 10 10]\n",
    "```"
   ]
  },
  {
   "cell_type": "code",
   "execution_count": 0,
   "metadata": {
    "colab": {},
    "colab_type": "code",
    "id": "FOYysOS_FVTG"
   },
   "outputs": [],
   "source": []
  },
  {
   "cell_type": "code",
   "execution_count": 0,
   "metadata": {
    "colab": {},
    "colab_type": "code",
    "id": "4eyAWG3_FVt9"
   },
   "outputs": [],
   "source": [
    "  #Function 1 for string = '60, _, _'     AND  for '_, _, 60'\n",
    "\n",
    "\n",
    "def num_and_dash(sub_list):\n",
    "\n",
    "  num_list = sub_list\n",
    "\n",
    "  num_list_bool = [ x[0].isdigit() for x in num_list]   #time taken 0.74021376099995 for n loops\n",
    "  #num_list_bool = list(map(lambda x: x[0].isdigit() , num_list))   #time taken 1.0631488999999874 for n loops\n",
    "\n",
    "  true_idx = num_list_bool.index(True)  #idx --> index\n",
    "\n",
    "  num = float(num_list[true_idx])\n",
    "\n",
    "  for idx in range(len(num_list)):\n",
    "    num_list[idx]  = num/len(num_list) #shud be sublist\n",
    "\n",
    "  return num_list"
   ]
  },
  {
   "cell_type": "code",
   "execution_count": 73,
   "metadata": {
    "colab": {
     "base_uri": "https://localhost:8080/",
     "height": 34
    },
    "colab_type": "code",
    "executionInfo": {
     "elapsed": 1373,
     "status": "ok",
     "timestamp": 1586338123186,
     "user": {
      "displayName": "sai pranay",
      "photoUrl": "https://lh3.googleusercontent.com/a-/AOh14GjyB5JboSBGwlexnx3OL2bCYVbj8I1ql6iKg4_XtQ=s64",
      "userId": "17020403249068426867"
     },
     "user_tz": -330
    },
    "id": "1rKkLjWsFVuR",
    "outputId": "26499e62-3f20-46e6-d1fa-15f645198bc6"
   },
   "outputs": [
    {
     "name": "stdout",
     "output_type": "stream",
     "text": [
      "[20.0, 20.0, 20.0]\n"
     ]
    }
   ],
   "source": [
    "#Example\n",
    "print(num_and_dash(['_', '_', '60']))"
   ]
  },
  {
   "cell_type": "code",
   "execution_count": 74,
   "metadata": {
    "colab": {
     "base_uri": "https://localhost:8080/",
     "height": 34
    },
    "colab_type": "code",
    "executionInfo": {
     "elapsed": 992,
     "status": "ok",
     "timestamp": 1586338123187,
     "user": {
      "displayName": "sai pranay",
      "photoUrl": "https://lh3.googleusercontent.com/a-/AOh14GjyB5JboSBGwlexnx3OL2bCYVbj8I1ql6iKg4_XtQ=s64",
      "userId": "17020403249068426867"
     },
     "user_tz": -330
    },
    "id": "R51AV3eDFVuZ",
    "outputId": "16796bff-6dbc-4ae1-bc7d-66e202ee18f6"
   },
   "outputs": [
    {
     "name": "stdout",
     "output_type": "stream",
     "text": [
      "[3.3333333333333335, 3.3333333333333335, 3.3333333333333335]\n"
     ]
    }
   ],
   "source": [
    "#Example\n",
    "print(num_and_dash(['_', '_', '10']))"
   ]
  },
  {
   "cell_type": "code",
   "execution_count": 0,
   "metadata": {
    "colab": {},
    "colab_type": "code",
    "id": "HhRmSDmQFVue"
   },
   "outputs": [],
   "source": []
  },
  {
   "cell_type": "code",
   "execution_count": 0,
   "metadata": {
    "colab": {},
    "colab_type": "code",
    "id": "Z3qgItC4FVui"
   },
   "outputs": [],
   "source": [
    "#  Function of string of below type list\n",
    "# [num _ _ _ num] like ['20' , _ ,_ ,'40']\n",
    "\n",
    "def num_dash_num(sub_list):\n",
    "\n",
    "  num_list = sub_list\n",
    "\n",
    "  num_list_bool = [ x[0].isdigit() for x in num_list]   \n",
    "\n",
    "  #print(num_list_bool)  #of type [True ...False ...True]\n",
    "\n",
    "\n",
    "  num1 = float(num_list[0])  #1st True element in [T F .. T]\n",
    "  num2 = float(num_list[-1])  #last True ele\n",
    "\n",
    "  #print(num1,num2)\n",
    "  for idx in range(len(num_list)):\n",
    "    num_list[idx]  = (num1+num2)/len(num_list) #shud be sublist\n",
    "\n",
    "  #print(num_list)\n",
    "  return num_list "
   ]
  },
  {
   "cell_type": "code",
   "execution_count": 76,
   "metadata": {
    "colab": {
     "base_uri": "https://localhost:8080/",
     "height": 34
    },
    "colab_type": "code",
    "executionInfo": {
     "elapsed": 938,
     "status": "ok",
     "timestamp": 1586338124373,
     "user": {
      "displayName": "sai pranay",
      "photoUrl": "https://lh3.googleusercontent.com/a-/AOh14GjyB5JboSBGwlexnx3OL2bCYVbj8I1ql6iKg4_XtQ=s64",
      "userId": "17020403249068426867"
     },
     "user_tz": -330
    },
    "id": "5mixthqFFVum",
    "outputId": "ed991013-22bf-4cbf-9d42-7ee582dfa51c"
   },
   "outputs": [
    {
     "data": {
      "text/plain": [
       "[30.0, 30.0, 30.0]"
      ]
     },
     "execution_count": 76,
     "metadata": {
      "tags": []
     },
     "output_type": "execute_result"
    }
   ],
   "source": [
    "num_dash_num(['60', '_', '30'])"
   ]
  },
  {
   "cell_type": "code",
   "execution_count": 77,
   "metadata": {
    "colab": {
     "base_uri": "https://localhost:8080/",
     "height": 34
    },
    "colab_type": "code",
    "executionInfo": {
     "elapsed": 1125,
     "status": "ok",
     "timestamp": 1586338124980,
     "user": {
      "displayName": "sai pranay",
      "photoUrl": "https://lh3.googleusercontent.com/a-/AOh14GjyB5JboSBGwlexnx3OL2bCYVbj8I1ql6iKg4_XtQ=s64",
      "userId": "17020403249068426867"
     },
     "user_tz": -330
    },
    "id": "3mRMd3osFVur",
    "outputId": "718e58fa-3021-41c7-bb17-0ef3b6ef6450"
   },
   "outputs": [
    {
     "data": {
      "text/plain": [
       "[3.0, 3.0, 3.0]"
      ]
     },
     "execution_count": 77,
     "metadata": {
      "tags": []
     },
     "output_type": "execute_result"
    }
   ],
   "source": [
    "num_dash_num(['6.5', '_', '2.5'])"
   ]
  },
  {
   "cell_type": "markdown",
   "metadata": {
    "colab_type": "text",
    "id": "tAv1Pq7CJ4uY"
   },
   "source": [
    "**Note**\n",
    "\n",
    "To use these functions the all the elements of the input list must be strint format only.\n",
    "\n",
    "correct case:  num_dash_num( ['20', '_' , '30])\n",
    "\n",
    "failure case:  num_dash_num( [20, '_' , '30]) wrong as 20 is int"
   ]
  },
  {
   "cell_type": "markdown",
   "metadata": {
    "colab_type": "text",
    "id": "yyxFlHH5ziAN"
   },
   "source": [
    "##Final solution 7"
   ]
  },
  {
   "cell_type": "code",
   "execution_count": 0,
   "metadata": {
    "colab": {},
    "colab_type": "code",
    "id": "0gwxXdOH0vhm"
   },
   "outputs": [],
   "source": [
    "def curve_smoothing(stringgg):\n",
    "\n",
    "  \n",
    "\n",
    "  string = stringgg\n",
    "  string = string.replace(',' , ' ')\n",
    "  num_list = string.split( )\n",
    "\n",
    "  num_bool_list = [x.isdigit()  for x in num_list]\n",
    "\n",
    "\n",
    "  while '_' in num_list:\n",
    "\n",
    "    if num_list[0] =='_':\n",
    "      \n",
    "      true_idx = num_bool_list.index(True)\n",
    "      sub_list = num_list[:true_idx+1]\n",
    "\n",
    "      #Code of function 1 to pass sublist into it to transform it\n",
    "      sub_list = num_and_dash(sub_list)\n",
    "\n",
    "      #Changing main list with transformed elements\n",
    "      num_list[:true_idx+1] = sub_list\n",
    "\n",
    "      #Changing boolean list also\n",
    "      num_bool_list[:true_idx+1] = [True for x in range(len(sub_list))]\n",
    "\n",
    "\n",
    "    else:\n",
    "      #Now I will find first false index in the list   [True, True, True, False, True] like [20.0, 20.0, 20.0, '_', '10']\n",
    "      #But here we have 2 scenarois based on whether True is present or not after the first False\n",
    "      #scenario 1:  [True, True, True, False, True] like [20.0, 20.0, 20.0, '_', '10']\n",
    "      #scenario 2: [True, True, True, False, False] like [20.0, 20.0, 20.0, '_', _]\n",
    "\n",
    "      first_false_idx = num_bool_list.index(False)\n",
    "\n",
    "      #scenario 1 code:\n",
    "        \n",
    "      #scenario 1 code:  # [20.0, 20.0, 20.0, '_', '10'] like  [True, True, True, False, True]\n",
    "      #here we have to extract last three ele  [True,False,True] to transform them.   \n",
    "      #So I am gng to take False index and take true before that false \n",
    "      #and a True after that False\n",
    "\n",
    "      if True in num_bool_list[first_false_idx:]:  #scenario 1  like  [20.0, 20.0, 20.0, '_', '10']  \n",
    "\n",
    "        nxt_true_idx = num_bool_list.index(True ,first_false_idx )\n",
    "        sub_list = num_list[first_false_idx -1 : nxt_true_idx+1]\n",
    "\n",
    "        sub_list = list(map(str, sub_list))\n",
    "        #converting all the sublist elements to string to pass this sub_list into function\n",
    "\n",
    "        #Now transform the sub_list using num_dash_num [num, _,_..., num]\n",
    "        sub_list = num_dash_num(sub_list)\n",
    "\n",
    "        #Changing main list with transformed elements\n",
    "        num_list[first_false_idx -1 : nxt_true_idx+1]  = sub_list \n",
    "\n",
    "        #Changing boolean list also\n",
    "        num_bool_list[first_false_idx -1 : nxt_true_idx+1] = [True for x in range(len(sub_list))]\n",
    "\n",
    "\n",
    "      else:              #--------->  scenario 2 like [20.0, 20.0, 20.0, '_', '_']  \n",
    "\n",
    "        sub_list = num_list[first_false_idx -1 : ]\n",
    "\n",
    "        sub_list = list(map(str, sub_list))\n",
    "        #converting all the sublist elements to string to pass this sub_list into function\n",
    "\n",
    "\n",
    "        #Now transform the sub_list using function \n",
    "        sub_list = num_and_dash(sub_list)\n",
    "\n",
    "        #Changing main list with transformed elements\n",
    "        num_list[first_false_idx -1 : ]  = sub_list \n",
    "\n",
    "        #Changing boolean list also\n",
    "        num_bool_list[first_false_idx -1 : ] = [True for x in range(len(sub_list))]\n",
    "\n",
    "\n",
    "  return num_list\n",
    "\n"
   ]
  },
  {
   "cell_type": "code",
   "execution_count": 79,
   "metadata": {
    "colab": {
     "base_uri": "https://localhost:8080/",
     "height": 34
    },
    "colab_type": "code",
    "executionInfo": {
     "elapsed": 1130,
     "status": "ok",
     "timestamp": 1586338126682,
     "user": {
      "displayName": "sai pranay",
      "photoUrl": "https://lh3.googleusercontent.com/a-/AOh14GjyB5JboSBGwlexnx3OL2bCYVbj8I1ql6iKg4_XtQ=s64",
      "userId": "17020403249068426867"
     },
     "user_tz": -330
    },
    "id": "FeFsGl99vZlJ",
    "outputId": "2e2da4e1-95b1-426f-ff74-5e6bd80bee81"
   },
   "outputs": [
    {
     "name": "stdout",
     "output_type": "stream",
     "text": [
      "10.0, 10.0, 12.0, 12.0, 12.0, 12.0, 4.0, 4.0, 4.0\n"
     ]
    }
   ],
   "source": [
    "S=  \"_,_,30,_,_,_,50,_,_\"\n",
    "smoothed_values= curve_smoothing(S)\n",
    "\n",
    "print( ', '.join(list(map(str,smoothed_values))) )"
   ]
  },
  {
   "cell_type": "code",
   "execution_count": 0,
   "metadata": {
    "colab": {},
    "colab_type": "code",
    "id": "oAU2h38Y677L"
   },
   "outputs": [],
   "source": []
  },
  {
   "cell_type": "code",
   "execution_count": 80,
   "metadata": {
    "colab": {
     "base_uri": "https://localhost:8080/",
     "height": 134
    },
    "colab_type": "code",
    "executionInfo": {
     "elapsed": 1442,
     "status": "ok",
     "timestamp": 1586338127803,
     "user": {
      "displayName": "sai pranay",
      "photoUrl": "https://lh3.googleusercontent.com/a-/AOh14GjyB5JboSBGwlexnx3OL2bCYVbj8I1ql6iKg4_XtQ=s64",
      "userId": "17020403249068426867"
     },
     "user_tz": -330
    },
    "id": "xisXaKzq673_",
    "outputId": "76e822e5-cf7c-410c-d7c8-96364d3a924d"
   },
   "outputs": [
    {
     "name": "stdout",
     "output_type": "stream",
     "text": [
      "[30.0, 30.0, 20.0, 20.0, 9.0, 9.0, 9.0]\n",
      "[30.0, 30.0, 20.0, 20.0, 20.0]\n",
      "[10.0, 10.0, 10.0, 10.0]\n",
      "[6.0, 6.0, 6.0, 6.0]\n",
      "[20.0, 20.0, 20.0, 20.0, 20.0]\n",
      "[16.0, 16.0, 16.0, 16.0, 16.0]\n",
      "[10.0, 10.0, 12.0, 12.0, 12.0, 12.0, 4.0, 4.0, 4.0]\n"
     ]
    }
   ],
   "source": [
    "#Sample strings to check the various outputs\n",
    "\n",
    "print( curve_smoothing('_, _, 90, _, 30, _, 7') )\n",
    "print( curve_smoothing('_, _, 90, _, 30') )\n",
    "print(curve_smoothing('30,_,_,10') )\n",
    "print(curve_smoothing('_, _, _, 24'))\n",
    "print(curve_smoothing('40, _, _, _, 60 '))\n",
    "print(curve_smoothing('80, _, _, _, _'))\n",
    "print(curve_smoothing(' _, _, 30, _, _, _, 50, _, _ '))\n"
   ]
  },
  {
   "cell_type": "code",
   "execution_count": 0,
   "metadata": {
    "colab": {},
    "colab_type": "code",
    "id": "f26PL44BvZid"
   },
   "outputs": [],
   "source": []
  },
  {
   "cell_type": "code",
   "execution_count": 0,
   "metadata": {
    "colab": {},
    "colab_type": "code",
    "id": "OH8UUZWgwWuo"
   },
   "outputs": [],
   "source": []
  },
  {
   "cell_type": "markdown",
   "metadata": {
    "colab_type": "text",
    "id": "U3dZjTwFzh9o"
   },
   "source": [
    "**Step by step decoding of above code**"
   ]
  },
  {
   "cell_type": "code",
   "execution_count": 81,
   "metadata": {
    "colab": {
     "base_uri": "https://localhost:8080/",
     "height": 50
    },
    "colab_type": "code",
    "executionInfo": {
     "elapsed": 782,
     "status": "ok",
     "timestamp": 1586338129574,
     "user": {
      "displayName": "sai pranay",
      "photoUrl": "https://lh3.googleusercontent.com/a-/AOh14GjyB5JboSBGwlexnx3OL2bCYVbj8I1ql6iKg4_XtQ=s64",
      "userId": "17020403249068426867"
     },
     "user_tz": -330
    },
    "id": "5mjqeyRO1EQh",
    "outputId": "55f07905-7319-4fc8-96dd-c96ed8e33215"
   },
   "outputs": [
    {
     "name": "stdout",
     "output_type": "stream",
     "text": [
      "['_', '_', '60', '_', '10']\n",
      "[False, False, True, False, True]\n"
     ]
    }
   ],
   "source": [
    "string = '_, _, 60, _, 10'\n",
    "\n",
    "string = string.replace(',','')\n",
    "num_list = string.split()\n",
    "print(num_list)\n",
    "\n",
    "num_bool_list = [x.isdigit()  for x in num_list]\n",
    "print(num_bool_list)"
   ]
  },
  {
   "cell_type": "code",
   "execution_count": 82,
   "metadata": {
    "colab": {
     "base_uri": "https://localhost:8080/",
     "height": 168
    },
    "colab_type": "code",
    "executionInfo": {
     "elapsed": 850,
     "status": "ok",
     "timestamp": 1586338130159,
     "user": {
      "displayName": "sai pranay",
      "photoUrl": "https://lh3.googleusercontent.com/a-/AOh14GjyB5JboSBGwlexnx3OL2bCYVbj8I1ql6iKg4_XtQ=s64",
      "userId": "17020403249068426867"
     },
     "user_tz": -330
    },
    "id": "hPcEgT471IYO",
    "outputId": "8b049096-6a77-435e-af93-4d7ee766cce9"
   },
   "outputs": [
    {
     "name": "stdout",
     "output_type": "stream",
     "text": [
      "['_', '_', '60']\n",
      "[20.0, 20.0, 20.0]\n",
      "[False, False, True, False, True]\n",
      "[True, True, True, False, True]\n",
      "3\n",
      "[20.0, '_', '10']\n",
      "[10.0, 10.0, 10.0]\n",
      "[True, True, True, False, True]\n",
      "[True, True, True, True, True]\n"
     ]
    }
   ],
   "source": [
    "while '_' in num_list:\n",
    "\n",
    "  if num_list[0] =='_':\n",
    "    \n",
    "    true_idx = num_bool_list.index(True)\n",
    "    sub_list = num_list[:true_idx+1]\n",
    "    print(sub_list)\n",
    "\n",
    "    #Code of function 1 to pass sublist into it to transform it\n",
    "    sub_list = num_and_dash(sub_list)\n",
    "    print(sub_list)\n",
    "\n",
    "    #Changing main list with transformed elements\n",
    "    num_list[:true_idx+1] = sub_list\n",
    "\n",
    "    #Changing boolean list also\n",
    "    print(num_bool_list)\n",
    "    num_bool_list[:true_idx+1] = [True for x in range(len(sub_list))]\n",
    "    print(num_bool_list)\n",
    "\n",
    "\n",
    "  else:\n",
    "    #Now I will find first false index in the list   [True, True, True, False, True] like [20.0, 20.0, 20.0, '_', '10']\n",
    "    #But here we have 2 scenarois based on whether True is present or not after the first False\n",
    "    #scenario 1:  [True, True, True, False, True] like [20.0, 20.0, 20.0, '_', '10']\n",
    "    #scenario 2: [True, True, True, False, False] like [20.0, 20.0, 20.0, '_', _]\n",
    "\n",
    "    first_false_idx = num_bool_list.index(False)\n",
    "    print(first_false_idx)\n",
    "\n",
    "\n",
    "    #scenario 1 code:\n",
    "      \n",
    "    #scenario 1 code:  # [20.0, 20.0, 20.0, '_', '10'] like  [True, True, True, False, True]\n",
    "    #here we have to extract last three ele  [True,False,True] to transform them.   \n",
    "    #So I am gng to take False index and take true before that false \n",
    "    #and a True after that False\n",
    "\n",
    "    if True in num_bool_list[first_false_idx:]:  #scenario 1  like  [20.0, 20.0, 20.0, '_', '10']  \n",
    "\n",
    "      nxt_true_idx = num_bool_list.index(True ,first_false_idx )\n",
    "      sub_list = num_list[first_false_idx -1 : nxt_true_idx+1]\n",
    "      print(sub_list)\n",
    "\n",
    "      sub_list = list(map(str, sub_list))\n",
    "      #converting all the sublist elements to string to pass this sub_list into function\n",
    "\n",
    "      #Now transform the sub_list using num_dash_num [num, _,_..., num]\n",
    "      sub_list = num_dash_num(sub_list)\n",
    "      print(sub_list)\n",
    "\n",
    "      #Changing main list with transformed elements\n",
    "      num_list[first_false_idx -1 : nxt_true_idx+1]  = sub_list \n",
    "\n",
    "      #Changing boolean list also\n",
    "      print(num_bool_list)\n",
    "      num_bool_list[first_false_idx -1 : nxt_true_idx+1] = [True for x in range(len(sub_list))]\n",
    "      print(num_bool_list)\n",
    "\n",
    "\n",
    "\n",
    "    else:              #--------->  scenario 2 like [20.0, 20.0, 20.0, '_', '_']  \n",
    "\n",
    "      sub_list = num_list[first_false_idx -1 : ]\n",
    "      print(sub_list)\n",
    "\n",
    "      sub_list = list(map(str, sub_list))\n",
    "      print(sub_list)\n",
    "      #converting all the sublist elements to string to pass this sub_list into function\n",
    "\n",
    "\n",
    "      #Now transform the sub_list using function \n",
    "      sub_list = num_and_dash(sub_list)\n",
    "      print(sub_list)\n",
    "\n",
    "      #Changing main list with transformed elements\n",
    "      num_list[first_false_idx -1 : ]  = sub_list \n",
    "\n",
    "      #Changing boolean list also\n",
    "      print(num_bool_list)\n",
    "      num_bool_list[first_false_idx -1 : ] = [True for x in range(len(sub_list))]\n",
    "      print(num_bool_list)\n",
    "\n",
    "\n",
    "      "
   ]
  },
  {
   "cell_type": "code",
   "execution_count": 83,
   "metadata": {
    "colab": {
     "base_uri": "https://localhost:8080/",
     "height": 34
    },
    "colab_type": "code",
    "executionInfo": {
     "elapsed": 934,
     "status": "ok",
     "timestamp": 1586338130671,
     "user": {
      "displayName": "sai pranay",
      "photoUrl": "https://lh3.googleusercontent.com/a-/AOh14GjyB5JboSBGwlexnx3OL2bCYVbj8I1ql6iKg4_XtQ=s64",
      "userId": "17020403249068426867"
     },
     "user_tz": -330
    },
    "id": "CETuIDkq8yMd",
    "outputId": "39891bee-e4f9-4093-8a3e-6108bfaef5ed"
   },
   "outputs": [
    {
     "name": "stdout",
     "output_type": "stream",
     "text": [
      "final output: [20.0, 20.0, 10.0, 10.0, 10.0]\n"
     ]
    }
   ],
   "source": [
    "\n",
    "print('final output:' , num_list)"
   ]
  },
  {
   "cell_type": "code",
   "execution_count": 0,
   "metadata": {
    "colab": {},
    "colab_type": "code",
    "id": "s_1i6FPf3H6U"
   },
   "outputs": [],
   "source": []
  },
  {
   "cell_type": "markdown",
   "metadata": {
    "colab_type": "text",
    "id": "GTMfEXbVW_44"
   },
   "source": [
    "#Program 8"
   ]
  },
  {
   "cell_type": "markdown",
   "metadata": {
    "colab_type": "text",
    "id": "RBz4pzlfB-lB"
   },
   "source": [
    "<h3> Q8: Filling the missing values in the specified formate</h3>\n",
    "You will be given a list of lists, each sublist will be of length 2 i.e. [[x,y],[p,q],[l,m]..[r,s]]\n",
    "consider its like a martrix of n rows and two columns\n",
    "1. the first column F will contain only 5 uniques values (F1, F2, F3, F4, F5)\n",
    "2. the second column S will contain only 3 uniques values (S1, S2, S3)\n",
    "<pre>\n",
    "your task is to find\n",
    "a. Probability of P(F=F1|S==S1), P(F=F1|S==S2), P(F=F1|S==S3)\n",
    "b. Probability of P(F=F2|S==S1), P(F=F2|S==S2), P(F=F2|S==S3)\n",
    "c. Probability of P(F=F3|S==S1), P(F=F3|S==S2), P(F=F3|S==S3)\n",
    "d. Probability of P(F=F4|S==S1), P(F=F4|S==S2), P(F=F4|S==S3)\n",
    "e. Probability of P(F=F5|S==S1), P(F=F5|S==S2), P(F=F5|S==S3)\n",
    "</pre>\n",
    "Ex:\n",
    "\n",
    "<pre>\n",
    "[[F1,S1],[F2,S2],[F3,S3],[F1,S2],[F2,S3],[F3,S2],[F2,S1],[F4,S1],[F4,S3],[F5,S1]]\n",
    "\n",
    "a. P(F=F1|S==S1)=1/2, P(F=F1|S==S2)=1/2, P(F=F1|S==S3)=0/2\n",
    "b. P(F=F2|S==S1)=1/3, P(F=F2|S==S2)=1/3, P(F=F2|S==S3)=1/3\n",
    "c. P(F=F3|S==S1)=0/3, P(F=F3|S==S2)=1/2, P(F=F3|S==S3)=1/2\n",
    "d. P(F=F4|S==S1)=1/2, P(F=F4|S==S2)=0/2, P(F=F4|S==S3)=1/2\n",
    "e. P(F=F5|S==S1)=1/1, P(F=F5|S==S2)=0/1, P(F=F5|S==S3)=0/1\n",
    "</pre>\n",
    "\n"
   ]
  },
  {
   "cell_type": "code",
   "execution_count": 0,
   "metadata": {
    "colab": {},
    "colab_type": "code",
    "id": "ui_4p7BLfpWK"
   },
   "outputs": [],
   "source": []
  },
  {
   "cell_type": "markdown",
   "metadata": {
    "colab_type": "text",
    "id": "E3NDczndLQDN"
   },
   "source": [
    "Conditional probability explaination:\n",
    "\n",
    "https://www.youtube.com/watch?v=6xPkG2pA-TU&list=PLU5aQXLWR3_x1bjE2rbvRn8sse81AUYZk&index=23    <-- Khan Academy\n",
    "\n",
    "https://www.youtube.com/watch?time_continue=1746&v=UXKXA-pzv94&feature=emb_logo   <-- AAIC explaination\n",
    "\n",
    "\n",
    "> P(A and B) = P(B|A).P(A) = P(A|B).P(B)"
   ]
  },
  {
   "cell_type": "code",
   "execution_count": 0,
   "metadata": {
    "colab": {},
    "colab_type": "code",
    "id": "wZB5RESsLQAp"
   },
   "outputs": [],
   "source": []
  },
  {
   "cell_type": "markdown",
   "metadata": {
    "colab_type": "text",
    "id": "nNftHqj1Pd6K"
   },
   "source": [
    "Therefore  P(A|B) = P(A and B)/P(B)\n",
    "\n",
    "P(F==F1|S==S1) = P(F==F1 and S==S1) / P(S==S1) <-- watch AAIC video "
   ]
  },
  {
   "cell_type": "code",
   "execution_count": 0,
   "metadata": {
    "colab": {},
    "colab_type": "code",
    "id": "EOwibICNf0v8"
   },
   "outputs": [],
   "source": [
    "#  In a required format\n",
    "\n",
    "# Function to calculate conditional prob of P(A|B)  or P(F|S)\n",
    "# P(A|B) = P(A and B)/P(B)\n",
    "#numerator : num = P(A and B)\n",
    "#Denominator: den = P(B)\n",
    "\n",
    "def con_prob(F,S):\n",
    "\n",
    "  #Denominator\n",
    "  den = len([ [f,s]  for f,s in FS  if s==S])\n",
    "  num = len([[f,s] for f,s in FS if (f==F)and(s==S)])\n",
    "\n",
    "  return num,den\n",
    "\n"
   ]
  },
  {
   "cell_type": "markdown",
   "metadata": {
    "colab_type": "text",
    "id": "oxvwQARff9bV"
   },
   "source": [
    "##Final solution 8"
   ]
  },
  {
   "cell_type": "code",
   "execution_count": 0,
   "metadata": {
    "colab": {},
    "colab_type": "code",
    "id": "e-1giz1MB-lC"
   },
   "outputs": [],
   "source": [
    "\n",
    "# you can free to change all these codes/structure\n",
    "def compute_conditional_probabilites(FS):\n",
    "\n",
    "  F_list = list(sorted(set([x[0] for x in FS])))\n",
    "  #or F_list = 'F1 F2 F3 F4 F5'.split()\n",
    "\n",
    "  S_list = list(sorted(set([x[1] for x in FS])))\n",
    "  \n",
    "  for f in F_list:\n",
    "    for s in S_list:\n",
    "      num,den = con_prob(f,s)\n",
    "      print('P(F=={}|S=={}) = {}/{}'.format(f,s, num,den) ,end=' , ')\n",
    "    print('')"
   ]
  },
  {
   "cell_type": "code",
   "execution_count": 86,
   "metadata": {
    "colab": {
     "base_uri": "https://localhost:8080/",
     "height": 101
    },
    "colab_type": "code",
    "executionInfo": {
     "elapsed": 1029,
     "status": "ok",
     "timestamp": 1586338135041,
     "user": {
      "displayName": "sai pranay",
      "photoUrl": "https://lh3.googleusercontent.com/a-/AOh14GjyB5JboSBGwlexnx3OL2bCYVbj8I1ql6iKg4_XtQ=s64",
      "userId": "17020403249068426867"
     },
     "user_tz": -330
    },
    "id": "2h0M-8wKixc6",
    "outputId": "7a8b0f94-484d-4016-84cc-b03505110831"
   },
   "outputs": [
    {
     "name": "stdout",
     "output_type": "stream",
     "text": [
      "P(F==F1|S==S1) = 1/4 , P(F==F1|S==S2) = 1/3 , P(F==F1|S==S3) = 0/3 , \n",
      "P(F==F2|S==S1) = 1/4 , P(F==F2|S==S2) = 1/3 , P(F==F2|S==S3) = 1/3 , \n",
      "P(F==F3|S==S1) = 0/4 , P(F==F3|S==S2) = 1/3 , P(F==F3|S==S3) = 1/3 , \n",
      "P(F==F4|S==S1) = 1/4 , P(F==F4|S==S2) = 0/3 , P(F==F4|S==S3) = 1/3 , \n",
      "P(F==F5|S==S1) = 1/4 , P(F==F5|S==S2) = 0/3 , P(F==F5|S==S3) = 0/3 , \n"
     ]
    }
   ],
   "source": [
    "FS = [['F1','S1'],['F2','S2'],['F3','S3'],['F1','S2'],['F2','S3'],['F3','S2'],['F2','S1'],['F4','S1'],['F4','S3'],['F5','S1']]\n",
    "\n",
    "compute_conditional_probabilites(FS)   # --> to get the output run the above function first"
   ]
  },
  {
   "cell_type": "markdown",
   "metadata": {
    "colab_type": "text",
    "id": "jPZFq1syg3CT"
   },
   "source": [
    "**Decoding above code step by step**"
   ]
  },
  {
   "cell_type": "code",
   "execution_count": 87,
   "metadata": {
    "colab": {
     "base_uri": "https://localhost:8080/",
     "height": 50
    },
    "colab_type": "code",
    "executionInfo": {
     "elapsed": 1177,
     "status": "ok",
     "timestamp": 1586338136005,
     "user": {
      "displayName": "sai pranay",
      "photoUrl": "https://lh3.googleusercontent.com/a-/AOh14GjyB5JboSBGwlexnx3OL2bCYVbj8I1ql6iKg4_XtQ=s64",
      "userId": "17020403249068426867"
     },
     "user_tz": -330
    },
    "id": "YiUnvPN0f9Vr",
    "outputId": "4cde90e1-422e-4609-ad36-d509ae8fef62"
   },
   "outputs": [
    {
     "name": "stdout",
     "output_type": "stream",
     "text": [
      "['F1', 'F2', 'F3', 'F4', 'F5']\n",
      "['S1', 'S2', 'S3']\n"
     ]
    }
   ],
   "source": [
    "FS = [['F1','S1'],['F2','S2'],['F3','S3'],['F1','S2'],['F2','S3'],['F3','S2'],['F2','S1'],['F4','S1'],['F4','S3'],['F5','S1']]\n",
    "\n",
    "F_list = list(sorted(set([x[0] for x in FS])))\n",
    "#or F_list = 'F1 F2 F3 F4 F5'.split()\n",
    "print(F_list)\n",
    "\n",
    "S_list = list(sorted(set([x[1] for x in FS])))\n",
    "print(S_list)\n"
   ]
  },
  {
   "cell_type": "code",
   "execution_count": 88,
   "metadata": {
    "colab": {
     "base_uri": "https://localhost:8080/",
     "height": 101
    },
    "colab_type": "code",
    "executionInfo": {
     "elapsed": 1273,
     "status": "ok",
     "timestamp": 1586338136544,
     "user": {
      "displayName": "sai pranay",
      "photoUrl": "https://lh3.googleusercontent.com/a-/AOh14GjyB5JboSBGwlexnx3OL2bCYVbj8I1ql6iKg4_XtQ=s64",
      "userId": "17020403249068426867"
     },
     "user_tz": -330
    },
    "id": "qjpp4Z45f9ZF",
    "outputId": "5dc8472d-8c8c-4304-f6da-4e31c9286c63"
   },
   "outputs": [
    {
     "name": "stdout",
     "output_type": "stream",
     "text": [
      "P(F==F1|S==S1) = 1/4 , P(F==F1|S==S2) = 1/3 , P(F==F1|S==S3) = 0/3 , \n",
      "P(F==F2|S==S1) = 1/4 , P(F==F2|S==S2) = 1/3 , P(F==F2|S==S3) = 1/3 , \n",
      "P(F==F3|S==S1) = 0/4 , P(F==F3|S==S2) = 1/3 , P(F==F3|S==S3) = 1/3 , \n",
      "P(F==F4|S==S1) = 1/4 , P(F==F4|S==S2) = 0/3 , P(F==F4|S==S3) = 1/3 , \n",
      "P(F==F5|S==S1) = 1/4 , P(F==F5|S==S2) = 0/3 , P(F==F5|S==S3) = 0/3 , \n"
     ]
    }
   ],
   "source": [
    "for f in F_list:\n",
    "  for s in S_list:\n",
    "    num,den = con_prob(f,s)\n",
    "    print('P(F=={}|S=={}) = {}/{}'.format(f,s, num,den) ,end=' , ')\n",
    "  print('')"
   ]
  },
  {
   "cell_type": "markdown",
   "metadata": {
    "colab_type": "text",
    "id": "xgiSUvzbiCWn"
   },
   "source": [
    "**function returning the probability value**"
   ]
  },
  {
   "cell_type": "code",
   "execution_count": 0,
   "metadata": {
    "colab": {},
    "colab_type": "code",
    "id": "6aYr-qaiiGtC"
   },
   "outputs": [],
   "source": [
    "# Function to calculate conditional prob of P(A|B)  or P(F|S)\n",
    "# P(A|B) = P(A and B)/P(B)\n",
    "#numerator : num = P(A and B)\n",
    "#Denominator: den = P(B)\n",
    "\n",
    "def con_prob(F,S):\n",
    "\n",
    "  #Denominator\n",
    "  den = len([ [f,s]  for f,s in FS  if s==S])\n",
    "  num = len([[f,s] for f,s in FS if (f==F)and(s==S)])\n",
    "\n",
    "  return num/den\n",
    "\n"
   ]
  },
  {
   "cell_type": "code",
   "execution_count": 90,
   "metadata": {
    "colab": {
     "base_uri": "https://localhost:8080/",
     "height": 50
    },
    "colab_type": "code",
    "executionInfo": {
     "elapsed": 763,
     "status": "ok",
     "timestamp": 1586338137969,
     "user": {
      "displayName": "sai pranay",
      "photoUrl": "https://lh3.googleusercontent.com/a-/AOh14GjyB5JboSBGwlexnx3OL2bCYVbj8I1ql6iKg4_XtQ=s64",
      "userId": "17020403249068426867"
     },
     "user_tz": -330
    },
    "id": "4aTDwjkRiPcb",
    "outputId": "acd96c52-c299-4acf-c44f-4c53d7d7aca6"
   },
   "outputs": [
    {
     "name": "stdout",
     "output_type": "stream",
     "text": [
      "['F1', 'F2', 'F3', 'F4', 'F5']\n",
      "['S1', 'S2', 'S3']\n"
     ]
    }
   ],
   "source": [
    "FS = [['F1','S1'],['F2','S2'],['F3','S3'],['F1','S2'],['F2','S3'],['F3','S2'],['F2','S1'],['F4','S1'],['F4','S3'],['F5','S1']]\n",
    "\n",
    "F_list = list(sorted(set([x[0] for x in FS])))\n",
    "#or F_list = 'F1 F2 F3 F4 F5'.split()\n",
    "print(F_list)\n",
    "\n",
    "S_list = list(sorted(set([x[1] for x in FS])))\n",
    "print(S_list)\n"
   ]
  },
  {
   "cell_type": "code",
   "execution_count": 91,
   "metadata": {
    "colab": {
     "base_uri": "https://localhost:8080/",
     "height": 353
    },
    "colab_type": "code",
    "executionInfo": {
     "elapsed": 720,
     "status": "ok",
     "timestamp": 1586338138426,
     "user": {
      "displayName": "sai pranay",
      "photoUrl": "https://lh3.googleusercontent.com/a-/AOh14GjyB5JboSBGwlexnx3OL2bCYVbj8I1ql6iKg4_XtQ=s64",
      "userId": "17020403249068426867"
     },
     "user_tz": -330
    },
    "id": "0_svqHkHiHRQ",
    "outputId": "3fa4709e-43ed-4dbd-c302-9e3e717ffb81"
   },
   "outputs": [
    {
     "name": "stdout",
     "output_type": "stream",
     "text": [
      "P(F==F1|S==S1) = 0.25\n",
      "P(F==F1|S==S2) = 0.3333333333333333\n",
      "P(F==F1|S==S3) = 0.0\n",
      "--------------------\n",
      "P(F==F2|S==S1) = 0.25\n",
      "P(F==F2|S==S2) = 0.3333333333333333\n",
      "P(F==F2|S==S3) = 0.3333333333333333\n",
      "--------------------\n",
      "P(F==F3|S==S1) = 0.0\n",
      "P(F==F3|S==S2) = 0.3333333333333333\n",
      "P(F==F3|S==S3) = 0.3333333333333333\n",
      "--------------------\n",
      "P(F==F4|S==S1) = 0.25\n",
      "P(F==F4|S==S2) = 0.0\n",
      "P(F==F4|S==S3) = 0.3333333333333333\n",
      "--------------------\n",
      "P(F==F5|S==S1) = 0.25\n",
      "P(F==F5|S==S2) = 0.0\n",
      "P(F==F5|S==S3) = 0.0\n",
      "--------------------\n"
     ]
    }
   ],
   "source": [
    "for f in F_list:\n",
    "  for s in S_list:\n",
    "    print('P(F=={}|S=={}) = {}'.format(f,s, con_prob(f,s)) )\n",
    "  print('-'*20)"
   ]
  },
  {
   "cell_type": "code",
   "execution_count": 0,
   "metadata": {
    "colab": {},
    "colab_type": "code",
    "id": "OmQGkrqMiHWX"
   },
   "outputs": [],
   "source": []
  },
  {
   "cell_type": "markdown",
   "metadata": {
    "colab_type": "text",
    "id": "Pjx3P4L3XB2I"
   },
   "source": [
    "#Program 9"
   ]
  },
  {
   "cell_type": "markdown",
   "metadata": {
    "colab_type": "text",
    "id": "HJ8HDLg3CXKf"
   },
   "source": [
    "##Final solution 9"
   ]
  },
  {
   "cell_type": "markdown",
   "metadata": {
    "colab_type": "text",
    "id": "n4HS87QmB-lF"
   },
   "source": [
    "<h3> Q9: Given two sentences S1, S2</h3>\n",
    "You will be given two sentences S1, S2 your task is to find \n",
    "<pre>\n",
    "a. Number of common words between S1, S2\n",
    "b. Words in S1 but not in S2\n",
    "c. Words in S2 but not in S1\n",
    "</pre>\n",
    "\n",
    "Ex: \n",
    "<pre>\n",
    "S1= \"the first column F will contain only 5 uniques values\"\n",
    "S2= \"the second column S will contain only 3 uniques values\"\n",
    "Output:\n",
    "a. 7\n",
    "b. ['first','F','5']\n",
    "c. ['second','S','3']\n",
    "</pre>"
   ]
  },
  {
   "cell_type": "code",
   "execution_count": 0,
   "metadata": {
    "colab": {},
    "colab_type": "code",
    "id": "Ez7hlHK0B-lG"
   },
   "outputs": [],
   "source": [
    "# write your python code here\n",
    "# you can take the above example as sample input for your program to test\n",
    "# it should work for any general input try not to hard code for only given input strings\n",
    "\n",
    "# you can free to change all these codes/structure\n",
    "def string_features(S1, S2):\n",
    "\n",
    "  S1 = list(set(S1.split()))\n",
    "  S2 = list(set(S2.split()))\n",
    "\n",
    "  all_words = []\n",
    "\n",
    "  all_words.extend(S1)\n",
    "  all_words.extend(S2)\n",
    "\n",
    "  common_words = []\n",
    "  for word in all_words:\n",
    "    if (all_words.count(word) > 1) and (word not in common_words):\n",
    "      common_words.append(word)\n",
    "\n",
    "  common_words_count = len(common_words)\n",
    "\n",
    "  only_in_S1 = []\n",
    "  for word in S1:\n",
    "    if word not in common_words:\n",
    "      only_in_S1.append(word)\n",
    "\n",
    "  only_in_S2 = []\n",
    "  for word in S2:\n",
    "    if word not in common_words:\n",
    "      only_in_S2.append(word)\n",
    "\n",
    "  return common_words_count,sorted(only_in_S1),sorted(only_in_S2)\n",
    "\n",
    "#just sorting to print the output properly"
   ]
  },
  {
   "cell_type": "code",
   "execution_count": 93,
   "metadata": {
    "colab": {
     "base_uri": "https://localhost:8080/",
     "height": 67
    },
    "colab_type": "code",
    "executionInfo": {
     "elapsed": 900,
     "status": "ok",
     "timestamp": 1586338140843,
     "user": {
      "displayName": "sai pranay",
      "photoUrl": "https://lh3.googleusercontent.com/a-/AOh14GjyB5JboSBGwlexnx3OL2bCYVbj8I1ql6iKg4_XtQ=s64",
      "userId": "17020403249068426867"
     },
     "user_tz": -330
    },
    "id": "5WsisN_2ByAY",
    "outputId": "7ba06ebd-81d7-4c1b-b41d-b90906124fbd"
   },
   "outputs": [
    {
     "name": "stdout",
     "output_type": "stream",
     "text": [
      "a.  7\n",
      "b.  ['5', 'F', 'first']\n",
      "c.  ['3', 'S', 'second']\n"
     ]
    }
   ],
   "source": [
    "#sample 1\n",
    "S1= \"the first column F will contain only 5 uniques values\"\n",
    "S2= \"the second column S will contain only 3 uniques values\"\n",
    "a,b,c = string_features(S1, S2)\n",
    "print('a. ',a)\n",
    "print('b. ',b)\n",
    "print('c. ',c)"
   ]
  },
  {
   "cell_type": "code",
   "execution_count": 94,
   "metadata": {
    "colab": {
     "base_uri": "https://localhost:8080/",
     "height": 67
    },
    "colab_type": "code",
    "executionInfo": {
     "elapsed": 1365,
     "status": "ok",
     "timestamp": 1586338141636,
     "user": {
      "displayName": "sai pranay",
      "photoUrl": "https://lh3.googleusercontent.com/a-/AOh14GjyB5JboSBGwlexnx3OL2bCYVbj8I1ql6iKg4_XtQ=s64",
      "userId": "17020403249068426867"
     },
     "user_tz": -330
    },
    "id": "N4SxKhHgH24K",
    "outputId": "1bcaab33-0bdb-482b-bf44-ba8330387585"
   },
   "outputs": [
    {
     "name": "stdout",
     "output_type": "stream",
     "text": [
      "a.  3\n",
      "b.  ['today']\n",
      "c.  ['not', 'yesterday']\n"
     ]
    }
   ],
   "source": [
    "#sample 2\n",
    "S1= \"I am here today\"\n",
    "S2= \"I am not here yesterday\"\n",
    "a,b,c = string_features(S1, S2)\n",
    "print('a. ',a)\n",
    "print('b. ',b)\n",
    "print('c. ',c)"
   ]
  },
  {
   "cell_type": "markdown",
   "metadata": {
    "colab_type": "text",
    "id": "QRePzYdVXDna"
   },
   "source": [
    "#Program 10"
   ]
  },
  {
   "cell_type": "markdown",
   "metadata": {
    "colab_type": "text",
    "id": "XefXVEjCB-lI"
   },
   "source": [
    "<h3> Q10: Given two sentances S1, S2</h3>\n",
    "You will be given a list of lists, each sublist will be of length 2 i.e. [[x,y],[p,q],[l,m]..[r,s]]\n",
    "consider its like a martrix of n rows and two columns\n",
    "\n",
    "a. the first column Y will contain interger values <br>\n",
    "b. the second column $Y_{score}$ will be having float values <br>\n",
    "Your task is to find the value of $f(Y,Y_{score}) = -1*\\frac{1}{n}\\Sigma_{for each Y,Y_{score} pair}(Ylog10(Y_{score})+(1-Y)log10(1-Y_{score}))$ here n is the number of rows in the matrix\n",
    "<pre>\n",
    "Ex:\n",
    "[[1, 0.4], [0, 0.5], [0, 0.9], [0, 0.3], [0, 0.6], [1, 0.1], [1, 0.9], [1, 0.8]]\n",
    "output:\n",
    "0.4243099\n",
    "</pre>\n",
    "$\\frac{-1}{8}\\cdot((1\\cdot log_{10}(0.4)+0\\cdot log_{10}(0.6))+(0\\cdot log_{10}(0.5)+1\\cdot log_{10}(0.5)) + ... + (1\\cdot log_{10}(0.8)+0\\cdot log_{10}(0.2)) )$"
   ]
  },
  {
   "cell_type": "markdown",
   "metadata": {
    "colab_type": "text",
    "id": "cTf1zBgiur9g"
   },
   "source": [
    "##Final solution 10"
   ]
  },
  {
   "cell_type": "code",
   "execution_count": 0,
   "metadata": {
    "colab": {},
    "colab_type": "code",
    "id": "Ob7wuMTEue8A"
   },
   "outputs": [],
   "source": [
    "# write your python code here\n",
    "# you can take the above example as sample input for your program to test\n",
    "# it should work for any general input try not to hard code for only given input strings\n",
    "\n",
    "# you can free to change all these codes/structure\n",
    "\n",
    "from math import log10\n",
    "\n",
    "def compute_log_loss(A):\n",
    "\n",
    "  n = len(A)\n",
    "  sum_value = 0\n",
    "\n",
    "  for y,y_score in A:\n",
    "    value = y*log10(y_score) + (1-y)*log10(1-y_score)\n",
    "    sum_value+= value\n",
    "    loss = (-1/n)*sum_value\n",
    "\n",
    "  return loss\n"
   ]
  },
  {
   "cell_type": "code",
   "execution_count": 96,
   "metadata": {
    "colab": {
     "base_uri": "https://localhost:8080/",
     "height": 34
    },
    "colab_type": "code",
    "executionInfo": {
     "elapsed": 906,
     "status": "ok",
     "timestamp": 1586338143907,
     "user": {
      "displayName": "sai pranay",
      "photoUrl": "https://lh3.googleusercontent.com/a-/AOh14GjyB5JboSBGwlexnx3OL2bCYVbj8I1ql6iKg4_XtQ=s64",
      "userId": "17020403249068426867"
     },
     "user_tz": -330
    },
    "id": "rK-uUDpuuiol",
    "outputId": "0a4c5125-4273-40a6-e51b-75289ae59ee2"
   },
   "outputs": [
    {
     "name": "stdout",
     "output_type": "stream",
     "text": [
      "0.42430993457031635\n"
     ]
    }
   ],
   "source": [
    " #samle input and output\n",
    "A = [[1, 0.4], [0, 0.5], [0, 0.9], [0, 0.3], [0, 0.6], [1, 0.1], [1, 0.9], [1, 0.8]]\n",
    "loss = compute_log_loss(A)\n",
    "print(loss)"
   ]
  },
  {
   "cell_type": "code",
   "execution_count": 97,
   "metadata": {
    "colab": {
     "base_uri": "https://localhost:8080/",
     "height": 34
    },
    "colab_type": "code",
    "executionInfo": {
     "elapsed": 1321,
     "status": "ok",
     "timestamp": 1586338145478,
     "user": {
      "displayName": "sai pranay",
      "photoUrl": "https://lh3.googleusercontent.com/a-/AOh14GjyB5JboSBGwlexnx3OL2bCYVbj8I1ql6iKg4_XtQ=s64",
      "userId": "17020403249068426867"
     },
     "user_tz": -330
    },
    "id": "CVbPDTKDt_Oo",
    "outputId": "1113b8f4-46c7-4968-ab3a-282867ad42a0"
   },
   "outputs": [
    {
     "name": "stdout",
     "output_type": "stream",
     "text": [
      "*******END********\n"
     ]
    }
   ],
   "source": [
    "print('*******END********')"
   ]
  },
  {
   "cell_type": "code",
   "execution_count": 0,
   "metadata": {
    "colab": {},
    "colab_type": "code",
    "id": "lPnQUJBRPA25"
   },
   "outputs": [],
   "source": []
  }
 ],
 "metadata": {
  "colab": {
   "collapsed_sections": [],
   "name": "1.Python Assignment.ipynb",
   "provenance": [],
   "toc_visible": true
  },
  "kernelspec": {
   "display_name": "Python 3",
   "language": "python",
   "name": "python3"
  },
  "language_info": {
   "codemirror_mode": {
    "name": "ipython",
    "version": 3
   },
   "file_extension": ".py",
   "mimetype": "text/x-python",
   "name": "python",
   "nbconvert_exporter": "python",
   "pygments_lexer": "ipython3",
   "version": "3.7.4"
  }
 },
 "nbformat": 4,
 "nbformat_minor": 1
}
